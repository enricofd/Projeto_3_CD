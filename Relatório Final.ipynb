{
 "cells": [
  {
   "cell_type": "markdown",
   "metadata": {},
   "source": [
    "# Projeto 3 - Prevendo o Valor da Ação do PETR4"
   ]
  },
  {
   "cell_type": "markdown",
   "metadata": {},
   "source": [
    "**Grupo:** Enrico Damiani, Antonio Saporiti, João Pedro Ribeiro"
   ]
  },
  {
   "cell_type": "markdown",
   "metadata": {},
   "source": [
    "**Sala:** Engenharia 2B"
   ]
  },
  {
   "cell_type": "markdown",
   "metadata": {},
   "source": [
    "# Introdução:\n",
    "\n",
    "Esse trabalho possui como objetivo prever o valor da ação PETR4. Para tanto, serão utilizados dados do valor do barril de oleo, do dolar perante o real, da ação RDSA e do Ouro dos ultimos 5 anos. Os modelos utilizarão de tecnicas de regressão para alcançar o objetivo do trabalho."
   ]
  },
  {
   "cell_type": "markdown",
   "metadata": {},
   "source": [
    "# Desenvolvimento:"
   ]
  },
  {
   "cell_type": "markdown",
   "metadata": {},
   "source": [
    "* Importando as Bibliotecas Necessárias"
   ]
  },
  {
   "cell_type": "code",
   "execution_count": 1,
   "metadata": {},
   "outputs": [],
   "source": [
    "import pandas as pd\n",
    "import numpy as np\n",
    "import re\n",
    "import string\n",
    "import statsmodels.api as sm\n",
    "import matplotlib.pyplot as plt\n",
    "import seaborn as sns\n",
    "from scipy import stats\n",
    "from scipy.stats import norm, probplot\n",
    "from mpl_toolkits.mplot3d import Axes3D\n",
    "from IPython.display import display\n",
    "from sklearn.model_selection import train_test_split\n",
    "from sklearn.preprocessing import StandardScaler\n",
    "from sklearn.ensemble import RandomForestRegressor\n",
    "from sklearn.model_selection import RandomizedSearchCV\n",
    "from sklearn.neural_network import MLPRegressor\n",
    "import random"
   ]
  },
  {
   "cell_type": "markdown",
   "metadata": {},
   "source": [
    "* Importando os Dados do Excel"
   ]
  },
  {
   "cell_type": "code",
   "execution_count": 2,
   "metadata": {},
   "outputs": [],
   "source": [
    "PETR4_raw = pd.read_excel (r'PETR4.SA .xltx')\n",
    "\n",
    "GOLD_raw = pd.read_excel (r'Gold Futures Historical Data.xltx') \n",
    "RDS_raw = pd.read_excel (r'RDS-A.xltx') \n",
    "OIL_raw = pd.read_excel (r'Crude Oil WTI Futures Historical Data.xltx')\n",
    "CRD_raw = pd.read_excel (r'USD_BRL Dados Históricos.xltx')"
   ]
  },
  {
   "cell_type": "code",
   "execution_count": 3,
   "metadata": {},
   "outputs": [],
   "source": [
    "PETR4 = PETR4_raw[['Date', 'Adj Close']]\n",
    "\n",
    "GOLD = GOLD_raw[['Date', 'Price']]\n",
    "RDS = RDS_raw[['Date', 'Adj Close']]\n",
    "OIL = OIL_raw[['Date', 'Price']]\n",
    "CRD = CRD_raw[['Data', 'Último']]"
   ]
  },
  {
   "cell_type": "markdown",
   "metadata": {},
   "source": [
    "* Juntando o DataFrame"
   ]
  },
  {
   "cell_type": "markdown",
   "metadata": {},
   "source": [
    "Para PTR4:"
   ]
  },
  {
   "cell_type": "code",
   "execution_count": 4,
   "metadata": {},
   "outputs": [],
   "source": [
    "PETR4_RE = PETR4.rename(columns={\"Adj Close\": \"Valor_PETR4\"})\n",
    "PETR4_REDate = PETR4_RE.assign(Date = PETR4_RE.Date.values[::-1])\n",
    "PETR4_F = PETR4_REDate.assign(Valor_PETR4 = PETR4_REDate.Valor_PETR4.values[::-1])"
   ]
  },
  {
   "cell_type": "markdown",
   "metadata": {},
   "source": [
    "Para Gold:"
   ]
  },
  {
   "cell_type": "code",
   "execution_count": 5,
   "metadata": {},
   "outputs": [],
   "source": [
    "GOLD_F = GOLD.rename(columns={\"Price\": \"Valor_GOLD\"})"
   ]
  },
  {
   "cell_type": "markdown",
   "metadata": {},
   "source": [
    "Para RDS:"
   ]
  },
  {
   "cell_type": "code",
   "execution_count": 6,
   "metadata": {},
   "outputs": [],
   "source": [
    "RDS_RE = RDS.rename(columns={\"Adj Close\": \"Valor_RDS\"})\n",
    "RDS_REDate = RDS_RE.assign(Date = RDS_RE.Date.values[::-1])\n",
    "RDS_F = RDS_REDate.assign(Valor_RDS = RDS_REDate.Valor_RDS.values[::-1])"
   ]
  },
  {
   "cell_type": "markdown",
   "metadata": {},
   "source": [
    "Para OIL:"
   ]
  },
  {
   "cell_type": "code",
   "execution_count": 7,
   "metadata": {},
   "outputs": [],
   "source": [
    "OIL_F = OIL.rename(columns={\"Price\": \"Valor_OIL\"})"
   ]
  },
  {
   "cell_type": "markdown",
   "metadata": {},
   "source": [
    "Para CRD:"
   ]
  },
  {
   "cell_type": "code",
   "execution_count": 8,
   "metadata": {},
   "outputs": [],
   "source": [
    "CRD_RE = CRD.rename(columns={\"Data\": \"Date\",\"Último\": \"Valor_CRD\" })\n",
    "\n",
    "NOVO_VALOR = []\n",
    "for e in CRD_RE[\"Valor_CRD\"]:\n",
    "    NOVO_VALOR.append(e/10000)\n",
    "CRD_RE['Valor_CRD'] = NOVO_VALOR\n",
    "\n",
    "NOVA_DATA = []\n",
    "for e in CRD_RE['Date']:\n",
    "    Separado = e.split(\".\")\n",
    "    Correto = Separado[2] + \"-\" + Separado[1] + \"-\" + Separado[0]\n",
    "    NOVA_DATA.append(Correto)\n",
    "CRD_RE['Date'] = NOVA_DATA \n",
    "\n",
    "CRD_F = CRD_RE"
   ]
  },
  {
   "cell_type": "markdown",
   "metadata": {},
   "source": [
    "Selecionando intervalo a ser estudado e alterando o index:"
   ]
  },
  {
   "cell_type": "code",
   "execution_count": 9,
   "metadata": {},
   "outputs": [],
   "source": [
    "PETR4_F[\"Date\"] == \"2014-11-10\" #1240\n",
    "PETR4_F[\"Date\"] == \"2019-10-31\" #2\n",
    "PETR4_DATE = PETR4_F.loc[2: 1240].set_index('Date')\n",
    "\n",
    "GOLD_F[\"Date\"] == \"2014-11-10\" #1321\n",
    "GOLD_F[\"Date\"] == \"2019-10-31\" #5\n",
    "GOLD_DATE = GOLD_F.loc[5: 1321].set_index('Date')\n",
    "\n",
    "RDS_F[\"Date\"] == \"2014-11-10\" #1256\n",
    "RDS_F[\"Date\"] == \"2019-10-31\" #4\n",
    "RDS_DATE = RDS_F.loc[4: 1256].set_index('Date')\n",
    "\n",
    "OIL_F[\"Date\"] == \"2014-11-10\" #1318\n",
    "OIL_F[\"Date\"] == \"2019-10-31\" #5\n",
    "OIL_DATE = OIL_F.loc[5: 1318].set_index('Date')\n",
    "\n",
    "CRD_F[\"Date\"] == \"2014-11-10\" #1302\n",
    "CRD_F[\"Date\"] == \"2019-10-31\" #4\n",
    "CRD_DATE = CRD_F.loc[4: 1302].set_index('Date')"
   ]
  },
  {
   "cell_type": "code",
   "execution_count": 10,
   "metadata": {},
   "outputs": [],
   "source": [
    "U1 = GOLD_DATE.join(PETR4_DATE)\n",
    "U2 = RDS_DATE.join(U1)\n",
    "U3 = OIL_DATE.join(U2)\n",
    "U4 = CRD_DATE.join(U3)\n",
    "U5 = U4.interpolate()\n",
    "DADOS = U5.sort_index(ascending=True, axis=0)"
   ]
  },
  {
   "cell_type": "code",
   "execution_count": 11,
   "metadata": {
    "scrolled": true
   },
   "outputs": [
    {
     "data": {
      "text/html": [
       "<div>\n",
       "<style scoped>\n",
       "    .dataframe tbody tr th:only-of-type {\n",
       "        vertical-align: middle;\n",
       "    }\n",
       "\n",
       "    .dataframe tbody tr th {\n",
       "        vertical-align: top;\n",
       "    }\n",
       "\n",
       "    .dataframe thead th {\n",
       "        text-align: right;\n",
       "    }\n",
       "</style>\n",
       "<table border=\"1\" class=\"dataframe\">\n",
       "  <thead>\n",
       "    <tr style=\"text-align: right;\">\n",
       "      <th></th>\n",
       "      <th>Valor_CRD</th>\n",
       "      <th>Valor_OIL</th>\n",
       "      <th>Valor_RDS</th>\n",
       "      <th>Valor_GOLD</th>\n",
       "      <th>Valor_PETR4</th>\n",
       "    </tr>\n",
       "    <tr>\n",
       "      <th>Date</th>\n",
       "      <th></th>\n",
       "      <th></th>\n",
       "      <th></th>\n",
       "      <th></th>\n",
       "      <th></th>\n",
       "    </tr>\n",
       "  </thead>\n",
       "  <tbody>\n",
       "    <tr>\n",
       "      <th>2014-11-10</th>\n",
       "      <td>2.5528</td>\n",
       "      <td>77.40</td>\n",
       "      <td>51.181202</td>\n",
       "      <td>1251.3</td>\n",
       "      <td>13.237089</td>\n",
       "    </tr>\n",
       "    <tr>\n",
       "      <th>2014-11-11</th>\n",
       "      <td>2.5575</td>\n",
       "      <td>77.94</td>\n",
       "      <td>51.477970</td>\n",
       "      <td>1255.1</td>\n",
       "      <td>13.256026</td>\n",
       "    </tr>\n",
       "    <tr>\n",
       "      <th>2014-11-12</th>\n",
       "      <td>2.5665</td>\n",
       "      <td>77.18</td>\n",
       "      <td>50.531734</td>\n",
       "      <td>1250.4</td>\n",
       "      <td>13.360181</td>\n",
       "    </tr>\n",
       "    <tr>\n",
       "      <th>2014-11-13</th>\n",
       "      <td>2.5889</td>\n",
       "      <td>74.21</td>\n",
       "      <td>50.179653</td>\n",
       "      <td>1251.4</td>\n",
       "      <td>12.877283</td>\n",
       "    </tr>\n",
       "    <tr>\n",
       "      <th>2014-11-14</th>\n",
       "      <td>2.6018</td>\n",
       "      <td>75.82</td>\n",
       "      <td>50.891159</td>\n",
       "      <td>1275.6</td>\n",
       "      <td>12.498541</td>\n",
       "    </tr>\n",
       "  </tbody>\n",
       "</table>\n",
       "</div>"
      ],
      "text/plain": [
       "            Valor_CRD  Valor_OIL  Valor_RDS  Valor_GOLD  Valor_PETR4\n",
       "Date                                                                \n",
       "2014-11-10     2.5528      77.40  51.181202      1251.3    13.237089\n",
       "2014-11-11     2.5575      77.94  51.477970      1255.1    13.256026\n",
       "2014-11-12     2.5665      77.18  50.531734      1250.4    13.360181\n",
       "2014-11-13     2.5889      74.21  50.179653      1251.4    12.877283\n",
       "2014-11-14     2.6018      75.82  50.891159      1275.6    12.498541"
      ]
     },
     "execution_count": 11,
     "metadata": {},
     "output_type": "execute_result"
    }
   ],
   "source": [
    "DADOS.head()"
   ]
  },
  {
   "cell_type": "code",
   "execution_count": 12,
   "metadata": {},
   "outputs": [
    {
     "ename": "NameError",
     "evalue": "name 'df' is not defined",
     "output_type": "error",
     "traceback": [
      "\u001b[1;31m---------------------------------------------------------------------------\u001b[0m",
      "\u001b[1;31mNameError\u001b[0m                                 Traceback (most recent call last)",
      "\u001b[1;32m<ipython-input-12-276c29f475cb>\u001b[0m in \u001b[0;36m<module>\u001b[1;34m\u001b[0m\n\u001b[0;32m      1\u001b[0m \u001b[0mlista_var\u001b[0m \u001b[1;33m=\u001b[0m \u001b[1;33m[\u001b[0m\u001b[1;33m]\u001b[0m\u001b[1;33m\u001b[0m\u001b[1;33m\u001b[0m\u001b[0m\n\u001b[1;32m----> 2\u001b[1;33m \u001b[1;32mfor\u001b[0m \u001b[0me\u001b[0m \u001b[1;32min\u001b[0m \u001b[0mdf\u001b[0m\u001b[1;33m[\u001b[0m\u001b[1;34m'CALC_PETR4'\u001b[0m\u001b[1;33m]\u001b[0m\u001b[1;33m:\u001b[0m\u001b[1;33m\u001b[0m\u001b[1;33m\u001b[0m\u001b[0m\n\u001b[0m\u001b[0;32m      3\u001b[0m     \u001b[0mlista_var\u001b[0m\u001b[1;33m.\u001b[0m\u001b[0mappend\u001b[0m\u001b[1;33m(\u001b[0m\u001b[0me\u001b[0m\u001b[1;33m)\u001b[0m\u001b[1;33m\u001b[0m\u001b[1;33m\u001b[0m\u001b[0m\n\u001b[0;32m      4\u001b[0m \u001b[1;33m\u001b[0m\u001b[0m\n\u001b[0;32m      5\u001b[0m \u001b[0mi\u001b[0m \u001b[1;33m=\u001b[0m \u001b[1;36m0\u001b[0m\u001b[1;33m\u001b[0m\u001b[1;33m\u001b[0m\u001b[0m\n",
      "\u001b[1;31mNameError\u001b[0m: name 'df' is not defined"
     ]
    }
   ],
   "source": [
    "lista_var = []\n",
    "for e in df['CALC_PETR4']:\n",
    "    lista_var.append(e)\n",
    "    \n",
    "i = 0\n",
    "lista_pos = []\n",
    "while i < len(lista_var):\n",
    "    if lista_var[i] > 0:\n",
    "        lista_pos.append('UP')\n",
    "    else:\n",
    "        lista_pos.append('DOWN')\n",
    "    i+=1\n",
    "\n",
    "df['Posicao'] = lista_pos\n",
    "\n",
    "df.head()"
   ]
  },
  {
   "cell_type": "markdown",
   "metadata": {},
   "source": [
    "### Início da análise da taxa de variação absoluta do PETR4"
   ]
  },
  {
   "cell_type": "markdown",
   "metadata": {},
   "source": [
    "**Gráficos de dispersão dos valores absolutos**"
   ]
  },
  {
   "cell_type": "markdown",
   "metadata": {},
   "source": [
    "CRD"
   ]
  },
  {
   "cell_type": "code",
   "execution_count": 13,
   "metadata": {
    "scrolled": false
   },
   "outputs": [
    {
     "name": "stdout",
     "output_type": "stream",
     "text": [
      "Correlação entre valor dolar e preço PETR4: 0.4015137345426672\n"
     ]
    },
    {
     "data": {
      "image/png": "[encoded data removed]",
      "text/plain": [
       "<Figure size 432x288 with 1 Axes>"
      ]
     },
     "metadata": {
      "needs_background": "light"
     },
     "output_type": "display_data"
    }
   ],
   "source": [
    "plt.scatter(DADOS[\"Valor_CRD\"], DADOS[\"Valor_PETR4\"], alpha = 0.4)\n",
    "plt.title('Valor do Dolar perante Real VS PETR4')\n",
    "\n",
    "c = DADOS[\"Valor_CRD\"].corr(DADOS[\"Valor_PETR4\"])\n",
    "\n",
    "a = DADOS[\"Valor_CRD\"].cov(DADOS[\"Valor_PETR4\"]) / DADOS[\"Valor_CRD\"].var()\n",
    "b = DADOS[\"Valor_PETR4\"].mean() - a*DADOS[\"Valor_CRD\"].mean()\n",
    "\n",
    "plt.plot((DADOS[\"Valor_CRD\"].min(), DADOS[\"Valor_CRD\"].max()), (a*DADOS[\"Valor_CRD\"].min()+b, a*DADOS[\"Valor_CRD\"].max()+b), color='r')\n",
    "\n",
    "print('Correlação entre valor dolar e preço PETR4: {0}'.format(c))\n",
    "\n",
    "plt.xlabel('Preço dolar')\n",
    "plt.ylabel('preço PETR4')\n",
    "plt.plot()\n",
    "plt.show()\n"
   ]
  },
  {
   "cell_type": "markdown",
   "metadata": {},
   "source": [
    "Com base nos dados acima, pode-se dizer que há uma relação entre o preço das ações cotadas do dolar com o valor das ações da PETR4"
   ]
  },
  {
   "cell_type": "markdown",
   "metadata": {},
   "source": [
    "OIL"
   ]
  },
  {
   "cell_type": "code",
   "execution_count": 14,
   "metadata": {},
   "outputs": [
    {
     "name": "stdout",
     "output_type": "stream",
     "text": [
      "Correlação entre valor dolar e preço PETR4: 0.6042214966987647\n"
     ]
    },
    {
     "data": {
      "image/png": "[encoded data removed]",
      "text/plain": [
       "<Figure size 432x288 with 1 Axes>"
      ]
     },
     "metadata": {
      "needs_background": "light"
     },
     "output_type": "display_data"
    }
   ],
   "source": [
    "plt.scatter(DADOS[\"Valor_OIL\"], DADOS[\"Valor_PETR4\"], alpha = 0.4)\n",
    "plt.title('Oil price VS PETR4')\n",
    "\n",
    "c = DADOS[\"Valor_OIL\"].corr(DADOS[\"Valor_PETR4\"])\n",
    "\n",
    "a = DADOS[\"Valor_OIL\"].cov(DADOS[\"Valor_PETR4\"]) / DADOS[\"Valor_OIL\"].var()\n",
    "b = DADOS[\"Valor_PETR4\"].mean() - a*DADOS[\"Valor_OIL\"].mean()\n",
    "\n",
    "plt.plot((DADOS[\"Valor_OIL\"].min(), DADOS[\"Valor_OIL\"].max()), (a*DADOS[\"Valor_OIL\"].min()+b, a*DADOS[\"Valor_OIL\"].max()+b), color='r')\n",
    "\n",
    "print('Correlação entre valor dolar e preço PETR4: {0}'.format(c))\n",
    "\n",
    "plt.xlabel('Preço barril óleo')\n",
    "plt.ylabel('preço PETR4')\n",
    "\n",
    "plt.plot()\n",
    "plt.show()"
   ]
  },
  {
   "cell_type": "markdown",
   "metadata": {},
   "source": [
    "De acordo com os dados acima, percebe-se que existe uma considerável correlação entre o preço das ações da PETR4 e do valor do barril de óleo"
   ]
  },
  {
   "cell_type": "markdown",
   "metadata": {},
   "source": [
    "RDS"
   ]
  },
  {
   "cell_type": "code",
   "execution_count": 15,
   "metadata": {},
   "outputs": [
    {
     "name": "stdout",
     "output_type": "stream",
     "text": [
      "Correlação entre valor dolar e preço PETR4: 0.8354337046757684\n"
     ]
    },
    {
     "data": {
      "image/png": "[encoded data removed]",
      "text/plain": [
       "<Figure size 432x288 with 1 Axes>"
      ]
     },
     "metadata": {
      "needs_background": "light"
     },
     "output_type": "display_data"
    }
   ],
   "source": [
    "plt.scatter(DADOS[\"Valor_RDS\"], DADOS[\"Valor_PETR4\"], alpha = 0.4)\n",
    "plt.title('Sell stock VS PETR4')\n",
    "\n",
    "c = DADOS[\"Valor_RDS\"].corr(DADOS[\"Valor_PETR4\"])\n",
    "\n",
    "a = DADOS[\"Valor_RDS\"].cov(DADOS[\"Valor_PETR4\"]) / DADOS[\"Valor_RDS\"].var()\n",
    "b = DADOS[\"Valor_PETR4\"].mean() - a*DADOS[\"Valor_RDS\"].mean()\n",
    "\n",
    "plt.plot((DADOS[\"Valor_RDS\"].min(), DADOS[\"Valor_RDS\"].max()), (a*DADOS[\"Valor_RDS\"].min()+b, a*DADOS[\"Valor_RDS\"].max()+b), color='r')\n",
    "\n",
    "print('Correlação entre valor dolar e preço PETR4: {0}'.format(c))\n",
    "\n",
    "plt.xlabel('Preço ações Shell')\n",
    "plt.ylabel('preço PETR4')\n",
    "\n",
    "plt.plot()\n",
    "plt.show()"
   ]
  },
  {
   "cell_type": "markdown",
   "metadata": {},
   "source": [
    "Com base nos dados, é possível concluir que há uma forte relação entre o preço das ações da companhia Shell e o valor das ações da PETR4"
   ]
  },
  {
   "cell_type": "markdown",
   "metadata": {},
   "source": [
    "GOLD"
   ]
  },
  {
   "cell_type": "code",
   "execution_count": 16,
   "metadata": {
    "scrolled": true
   },
   "outputs": [
    {
     "name": "stdout",
     "output_type": "stream",
     "text": [
      "Correlação entre valor dolar e preço PETR4: 0.5843190099464479\n"
     ]
    },
    {
     "data": {
      "image/png": "[encoded data removed]",
      "text/plain": [
       "<Figure size 432x288 with 1 Axes>"
      ]
     },
     "metadata": {
      "needs_background": "light"
     },
     "output_type": "display_data"
    }
   ],
   "source": [
    "plt.scatter(DADOS[\"Valor_GOLD\"], DADOS[\"Valor_PETR4\"], alpha = 0.4)\n",
    "plt.title('Ouro VS PETR4')\n",
    "\n",
    "c = DADOS[\"Valor_GOLD\"].corr(DADOS[\"Valor_PETR4\"])\n",
    "\n",
    "a = DADOS[\"Valor_GOLD\"].cov(DADOS[\"Valor_PETR4\"]) / DADOS[\"Valor_GOLD\"].var()\n",
    "b = DADOS[\"Valor_PETR4\"].mean() - a*DADOS[\"Valor_GOLD\"].mean()\n",
    "\n",
    "plt.plot((DADOS[\"Valor_GOLD\"].min(), DADOS[\"Valor_GOLD\"].max()), (a*DADOS[\"Valor_GOLD\"].min()+b, a*DADOS[\"Valor_GOLD\"].max()+b), color='r')\n",
    "\n",
    "print('Correlação entre valor dolar e preço PETR4: {0}'.format(c))\n",
    "\n",
    "plt.xlabel('Valor ouro')\n",
    "plt.ylabel('preço PETR4')\n",
    "\n",
    "plt.plot()\n",
    "plt.show()"
   ]
  },
  {
   "cell_type": "markdown",
   "metadata": {},
   "source": [
    "Com base no gráfico acima, é possível visualizar a existência de uma correlação entre o valor do ouro e o preço do PETR4"
   ]
  },
  {
   "cell_type": "markdown",
   "metadata": {},
   "source": [
    "**Conclusão:**\n",
    "\n",
    "A partir dos gráficos plotados acima, podemos ratificar as hipóteses acerca de quais seriam os possíveis fatores que iriam influenciar o preço da ação da PETR4"
   ]
  },
  {
   "cell_type": "markdown",
   "metadata": {},
   "source": [
    "### Início da análise percentual da taxa de variação do PETR4"
   ]
  },
  {
   "cell_type": "markdown",
   "metadata": {},
   "source": [
    "Adicionando no DataFrame a variação percentual de cada coluna:"
   ]
  },
  {
   "cell_type": "code",
   "execution_count": 17,
   "metadata": {
    "scrolled": true
   },
   "outputs": [
    {
     "name": "stderr",
     "output_type": "stream",
     "text": [
      "C:\\Users\\jotah\\Anaconda3\\lib\\site-packages\\ipykernel_launcher.py:41: SettingWithCopyWarning: \n",
      "A value is trying to be set on a copy of a slice from a DataFrame.\n",
      "Try using .loc[row_indexer,col_indexer] = value instead\n",
      "\n",
      "See the caveats in the documentation: http://pandas.pydata.org/pandas-docs/stable/indexing.html#indexing-view-versus-copy\n",
      "C:\\Users\\jotah\\Anaconda3\\lib\\site-packages\\ipykernel_launcher.py:42: SettingWithCopyWarning: \n",
      "A value is trying to be set on a copy of a slice from a DataFrame.\n",
      "Try using .loc[row_indexer,col_indexer] = value instead\n",
      "\n",
      "See the caveats in the documentation: http://pandas.pydata.org/pandas-docs/stable/indexing.html#indexing-view-versus-copy\n",
      "C:\\Users\\jotah\\Anaconda3\\lib\\site-packages\\ipykernel_launcher.py:43: SettingWithCopyWarning: \n",
      "A value is trying to be set on a copy of a slice from a DataFrame.\n",
      "Try using .loc[row_indexer,col_indexer] = value instead\n",
      "\n",
      "See the caveats in the documentation: http://pandas.pydata.org/pandas-docs/stable/indexing.html#indexing-view-versus-copy\n",
      "C:\\Users\\jotah\\Anaconda3\\lib\\site-packages\\ipykernel_launcher.py:44: SettingWithCopyWarning: \n",
      "A value is trying to be set on a copy of a slice from a DataFrame.\n",
      "Try using .loc[row_indexer,col_indexer] = value instead\n",
      "\n",
      "See the caveats in the documentation: http://pandas.pydata.org/pandas-docs/stable/indexing.html#indexing-view-versus-copy\n",
      "C:\\Users\\jotah\\Anaconda3\\lib\\site-packages\\ipykernel_launcher.py:45: SettingWithCopyWarning: \n",
      "A value is trying to be set on a copy of a slice from a DataFrame.\n",
      "Try using .loc[row_indexer,col_indexer] = value instead\n",
      "\n",
      "See the caveats in the documentation: http://pandas.pydata.org/pandas-docs/stable/indexing.html#indexing-view-versus-copy\n"
     ]
    },
    {
     "data": {
      "text/html": [
       "<div>\n",
       "<style scoped>\n",
       "    .dataframe tbody tr th:only-of-type {\n",
       "        vertical-align: middle;\n",
       "    }\n",
       "\n",
       "    .dataframe tbody tr th {\n",
       "        vertical-align: top;\n",
       "    }\n",
       "\n",
       "    .dataframe thead th {\n",
       "        text-align: right;\n",
       "    }\n",
       "</style>\n",
       "<table border=\"1\" class=\"dataframe\">\n",
       "  <thead>\n",
       "    <tr style=\"text-align: right;\">\n",
       "      <th></th>\n",
       "      <th>Valor_CRD</th>\n",
       "      <th>Valor_OIL</th>\n",
       "      <th>Valor_RDS</th>\n",
       "      <th>Valor_GOLD</th>\n",
       "      <th>Valor_PETR4</th>\n",
       "      <th>CALC_GOLD</th>\n",
       "      <th>CALC_RDS</th>\n",
       "      <th>CALC_OIL</th>\n",
       "      <th>CALC_CRD</th>\n",
       "      <th>CALC_PETR4</th>\n",
       "    </tr>\n",
       "    <tr>\n",
       "      <th>Date</th>\n",
       "      <th></th>\n",
       "      <th></th>\n",
       "      <th></th>\n",
       "      <th></th>\n",
       "      <th></th>\n",
       "      <th></th>\n",
       "      <th></th>\n",
       "      <th></th>\n",
       "      <th></th>\n",
       "      <th></th>\n",
       "    </tr>\n",
       "  </thead>\n",
       "  <tbody>\n",
       "    <tr>\n",
       "      <th>2014-11-11</th>\n",
       "      <td>2.5575</td>\n",
       "      <td>77.94</td>\n",
       "      <td>51.477970</td>\n",
       "      <td>1255.1</td>\n",
       "      <td>13.256026</td>\n",
       "      <td>0.003037</td>\n",
       "      <td>0.005798</td>\n",
       "      <td>0.006977</td>\n",
       "      <td>0.001841</td>\n",
       "      <td>0.007857</td>\n",
       "    </tr>\n",
       "    <tr>\n",
       "      <th>2014-11-12</th>\n",
       "      <td>2.5665</td>\n",
       "      <td>77.18</td>\n",
       "      <td>50.531734</td>\n",
       "      <td>1250.4</td>\n",
       "      <td>13.360181</td>\n",
       "      <td>-0.003745</td>\n",
       "      <td>-0.018381</td>\n",
       "      <td>-0.009751</td>\n",
       "      <td>0.003519</td>\n",
       "      <td>-0.036145</td>\n",
       "    </tr>\n",
       "    <tr>\n",
       "      <th>2014-11-13</th>\n",
       "      <td>2.5889</td>\n",
       "      <td>74.21</td>\n",
       "      <td>50.179653</td>\n",
       "      <td>1251.4</td>\n",
       "      <td>12.877283</td>\n",
       "      <td>0.000800</td>\n",
       "      <td>-0.006968</td>\n",
       "      <td>-0.038481</td>\n",
       "      <td>0.008728</td>\n",
       "      <td>-0.029412</td>\n",
       "    </tr>\n",
       "    <tr>\n",
       "      <th>2014-11-14</th>\n",
       "      <td>2.6018</td>\n",
       "      <td>75.82</td>\n",
       "      <td>50.891159</td>\n",
       "      <td>1275.6</td>\n",
       "      <td>12.498541</td>\n",
       "      <td>0.019338</td>\n",
       "      <td>0.014179</td>\n",
       "      <td>0.021695</td>\n",
       "      <td>0.004983</td>\n",
       "      <td>-0.045455</td>\n",
       "    </tr>\n",
       "    <tr>\n",
       "      <th>2014-11-17</th>\n",
       "      <td>2.6081</td>\n",
       "      <td>75.64</td>\n",
       "      <td>50.795807</td>\n",
       "      <td>1273.7</td>\n",
       "      <td>11.930425</td>\n",
       "      <td>-0.001489</td>\n",
       "      <td>-0.001874</td>\n",
       "      <td>-0.002374</td>\n",
       "      <td>0.002421</td>\n",
       "      <td>-0.011905</td>\n",
       "    </tr>\n",
       "  </tbody>\n",
       "</table>\n",
       "</div>"
      ],
      "text/plain": [
       "            Valor_CRD  Valor_OIL  Valor_RDS  Valor_GOLD  Valor_PETR4  \\\n",
       "Date                                                                   \n",
       "2014-11-11     2.5575      77.94  51.477970      1255.1    13.256026   \n",
       "2014-11-12     2.5665      77.18  50.531734      1250.4    13.360181   \n",
       "2014-11-13     2.5889      74.21  50.179653      1251.4    12.877283   \n",
       "2014-11-14     2.6018      75.82  50.891159      1275.6    12.498541   \n",
       "2014-11-17     2.6081      75.64  50.795807      1273.7    11.930425   \n",
       "\n",
       "            CALC_GOLD  CALC_RDS  CALC_OIL  CALC_CRD  CALC_PETR4  \n",
       "Date                                                             \n",
       "2014-11-11   0.003037  0.005798  0.006977  0.001841    0.007857  \n",
       "2014-11-12  -0.003745 -0.018381 -0.009751  0.003519   -0.036145  \n",
       "2014-11-13   0.000800 -0.006968 -0.038481  0.008728   -0.029412  \n",
       "2014-11-14   0.019338  0.014179  0.021695  0.004983   -0.045455  \n",
       "2014-11-17  -0.001489 -0.001874 -0.002374  0.002421   -0.011905  "
      ]
     },
     "execution_count": 17,
     "metadata": {},
     "output_type": "execute_result"
    }
   ],
   "source": [
    "i = 0\n",
    "FAZER1 = []\n",
    "while i < 1298:\n",
    "    FAZER1.append((DADOS[\"Valor_GOLD\"][i] - DADOS[\"Valor_GOLD\"][i-1])/DADOS[\"Valor_GOLD\"][i-1])    \n",
    "    i+=1\n",
    "    \n",
    "i = 0\n",
    "FAZER2 = []\n",
    "while i < 1298:\n",
    "    FAZER2.append((DADOS[\"Valor_RDS\"][i] - DADOS[\"Valor_RDS\"][i-1])/DADOS[\"Valor_RDS\"][i-1])    \n",
    "    i+=1\n",
    "    \n",
    "i = 0\n",
    "FAZER3 = []\n",
    "while i < 1298:\n",
    "    FAZER3.append((DADOS[\"Valor_OIL\"][i] - DADOS[\"Valor_OIL\"][i-1])/DADOS[\"Valor_OIL\"][i-1])    \n",
    "    i+=1    \n",
    "\n",
    "i = 0\n",
    "FAZER4 = []\n",
    "while i < 1298:\n",
    "    FAZER4.append((DADOS[\"Valor_CRD\"][i] - DADOS[\"Valor_CRD\"][i-1])/DADOS[\"Valor_CRD\"][i-1])    \n",
    "    i+=1     \n",
    "    \n",
    "i = 0\n",
    "FAZER5 = []\n",
    "while i < 1298:\n",
    "    FAZER5.append((DADOS[\"Valor_PETR4\"][i+1] - DADOS[\"Valor_PETR4\"][i])/DADOS[\"Valor_PETR4\"][i])\n",
    "    i+=1\n",
    "    \n",
    "\n",
    "DADOS_OPT = DADOS.iloc[1:1298,:]\n",
    "\n",
    "del FAZER1[0]\n",
    "del FAZER2[0]\n",
    "del FAZER3[0]\n",
    "del FAZER4[0]\n",
    "del FAZER5[0]\n",
    "\n",
    "    \n",
    "DADOS_OPT['CALC_GOLD'] = FAZER1;\n",
    "DADOS_OPT['CALC_RDS'] = FAZER2;\n",
    "DADOS_OPT['CALC_OIL'] = FAZER3;\n",
    "DADOS_OPT['CALC_CRD'] = FAZER4;\n",
    "DADOS_OPT['CALC_PETR4'] = FAZER5;\n",
    "\n",
    "DADOS_OPT.head(5)"
   ]
  },
  {
   "cell_type": "markdown",
   "metadata": {},
   "source": [
    "**Gráficos de dispersão dos valores de variação percentual**"
   ]
  },
  {
   "cell_type": "markdown",
   "metadata": {
    "scrolled": true
   },
   "source": [
    "CRD"
   ]
  },
  {
   "cell_type": "code",
   "execution_count": 18,
   "metadata": {},
   "outputs": [
    {
     "name": "stdout",
     "output_type": "stream",
     "text": [
      "Ajuste linear entre CALC_CRD e CALC_PETR4:\n",
      "Correlação entre % de variação do preço do valor do dólar para real e % de variação do PETR4 é: -0.0214154984791198\n"
     ]
    },
    {
     "data": {
      "image/png": "[encoded data removed]",
      "text/plain": [
       "<Figure size 576x432 with 1 Axes>"
      ]
     },
     "metadata": {
      "needs_background": "light"
     },
     "output_type": "display_data"
    }
   ],
   "source": [
    "a = DADOS_OPT.CALC_CRD.cov(DADOS_OPT.CALC_PETR4) / DADOS_OPT.CALC_CRD.var()\n",
    "b = DADOS_OPT.CALC_PETR4.mean() - a*DADOS_OPT.CALC_CRD.mean()\n",
    "c = DADOS_OPT.CALC_CRD.corr(DADOS_OPT.CALC_PETR4)\n",
    "\n",
    "print('Ajuste linear entre CALC_CRD e CALC_PETR4:')\n",
    "\n",
    "fig = plt.figure(figsize=(8, 6))\n",
    "plt.scatter(DADOS_OPT.CALC_CRD, DADOS_OPT.CALC_PETR4, c='blue', alpha=0.4)\n",
    "plt.title('DOLAR_REAL VS PETR4')\n",
    "plt.xlabel('% da Variação do DOLAR')\n",
    "plt.ylabel('% da Variação do PETR4')\n",
    "\n",
    "plt.plot((DADOS_OPT.CALC_CRD.min(), DADOS_OPT.CALC_CRD.max()), (a*DADOS_OPT.CALC_CRD.min()+b, a*DADOS_OPT.CALC_CRD.max()+b), label=\"Reta Correlação\", color='red')\n",
    "\n",
    "print('Correlação entre % de variação do preço do valor do dólar para real e % de variação do PETR4 é: {0}'.format(c))\n",
    "\n",
    "plt.tight_layout()\n",
    "plt.legend()\n",
    "plt.show()"
   ]
  },
  {
   "cell_type": "markdown",
   "metadata": {},
   "source": [
    "Devido a grande dispersão entre os pontos, e da taxa de correlação ser extremamente baixa, de somente -0.021, podemos concluir que a taxa de variação do DOLAR não se correlaciona de forma expressível com a taxa de variação do PETR4."
   ]
  },
  {
   "cell_type": "markdown",
   "metadata": {},
   "source": [
    "OIL"
   ]
  },
  {
   "cell_type": "code",
   "execution_count": 19,
   "metadata": {},
   "outputs": [
    {
     "name": "stdout",
     "output_type": "stream",
     "text": [
      "Ajuste linear entre CALC_OIL e CALC_PETR4:\n",
      "Correlação entre % de variação do preço do barril de petroleo e % de variação do PETR4 é: -0.004595816532457675\n"
     ]
    },
    {
     "data": {
      "image/png": "[encoded data removed]",
      "text/plain": [
       "<Figure size 576x432 with 1 Axes>"
      ]
     },
     "metadata": {
      "needs_background": "light"
     },
     "output_type": "display_data"
    }
   ],
   "source": [
    "a = DADOS_OPT.CALC_OIL.cov(DADOS_OPT.CALC_PETR4) / DADOS_OPT.CALC_OIL.var()\n",
    "b = DADOS_OPT.CALC_PETR4.mean() - a*DADOS_OPT.CALC_OIL.mean()\n",
    "c = DADOS_OPT.CALC_OIL.corr(DADOS_OPT.CALC_PETR4)\n",
    "\n",
    "print('Ajuste linear entre CALC_OIL e CALC_PETR4:')\n",
    "\n",
    "fig = plt.figure(figsize=(8, 6))\n",
    "plt.scatter(DADOS_OPT.CALC_OIL, DADOS_OPT.CALC_PETR4, c='blue', alpha=0.4)\n",
    "plt.title('BARRIL DE PETROLEO VS PETR4')\n",
    "plt.xlabel('% da Variação do Barril de Petroleo')\n",
    "plt.ylabel('% da Variação do PETR4')\n",
    "\n",
    "plt.plot((DADOS_OPT.CALC_OIL.min(), DADOS_OPT.CALC_OIL.max()), (a*DADOS_OPT.CALC_OIL.min()+b, a*DADOS_OPT.CALC_OIL.max()+b), label=\"Reta Correlação\", color='red')\n",
    "\n",
    "print('Correlação entre % de variação do preço do barril de petroleo e % de variação do PETR4 é: {0}'.format(c))\n",
    "\n",
    "plt.tight_layout()\n",
    "plt.legend()\n",
    "plt.show()"
   ]
  },
  {
   "cell_type": "markdown",
   "metadata": {},
   "source": [
    "Devido a grande dispersão entre os pontos, e da taxa de correlação ser extremamente baixa, de somente -0.0045, podemos concluir que a taxa de variação do valor do petróleo não se correlaciona de forma expressível com a taxa de variação do PETR4."
   ]
  },
  {
   "cell_type": "markdown",
   "metadata": {},
   "source": [
    "RDS"
   ]
  },
  {
   "cell_type": "code",
   "execution_count": 20,
   "metadata": {},
   "outputs": [
    {
     "name": "stdout",
     "output_type": "stream",
     "text": [
      "Ajuste linear entre CALC_RDS e CALC_PETR4:\n",
      "Correlação entre % de variação das ações da Shell e % de variação do PETR4 é: 0.061792655912065036\n"
     ]
    },
    {
     "data": {
      "image/png": "[encoded data removed]",
      "text/plain": [
       "<Figure size 576x432 with 1 Axes>"
      ]
     },
     "metadata": {
      "needs_background": "light"
     },
     "output_type": "display_data"
    }
   ],
   "source": [
    "a = DADOS_OPT.CALC_RDS.cov(DADOS_OPT.CALC_PETR4) / DADOS_OPT.CALC_RDS.var()\n",
    "b = DADOS_OPT.CALC_PETR4.mean() - a*DADOS_OPT.CALC_RDS.mean()\n",
    "c = DADOS_OPT.CALC_RDS.corr(DADOS_OPT.CALC_PETR4)\n",
    "\n",
    "print('Ajuste linear entre CALC_RDS e CALC_PETR4:')\n",
    "\n",
    "fig = plt.figure(figsize=(8, 6))\n",
    "plt.scatter(DADOS_OPT.CALC_RDS, DADOS_OPT.CALC_PETR4, c='blue', alpha=0.4)\n",
    "plt.title('SHELL VS PETR4')\n",
    "plt.xlabel('% da Variação de Ações da Shell')\n",
    "plt.ylabel('% da Variação do PETR4')\n",
    "\n",
    "plt.plot((DADOS_OPT.CALC_RDS.min(), DADOS_OPT.CALC_RDS.max()), (a*DADOS_OPT.CALC_RDS.min()+b, a*DADOS_OPT.CALC_RDS.max()+b), label=\"Reta Correlação\", color='red')\n",
    "\n",
    "print('Correlação entre % de variação das ações da Shell e % de variação do PETR4 é: {0}'.format(c))\n",
    "\n",
    "plt.tight_layout()\n",
    "plt.legend()\n",
    "plt.show()"
   ]
  },
  {
   "cell_type": "markdown",
   "metadata": {},
   "source": [
    "Devido a grande dispersão entre os pontos, e da taxa de correlação ser extremamente baixa, de somente 0.061, podemos concluir que a taxa de variação das ações da Shell não se correlacionam de forma expressível com a taxa de variação do PETR4."
   ]
  },
  {
   "cell_type": "markdown",
   "metadata": {},
   "source": [
    "GOLD"
   ]
  },
  {
   "cell_type": "code",
   "execution_count": 21,
   "metadata": {},
   "outputs": [
    {
     "name": "stdout",
     "output_type": "stream",
     "text": [
      "Ajuste linear entre CALC_GOLD e CALC_PETR4:\n",
      "Correlação entre % de variação do ouro e % de variação do PETR4 é: -0.017677149966121828\n"
     ]
    },
    {
     "data": {
      "image/png": "[encoded data removed]",
      "text/plain": [
       "<Figure size 576x432 with 1 Axes>"
      ]
     },
     "metadata": {
      "needs_background": "light"
     },
     "output_type": "display_data"
    }
   ],
   "source": [
    "a = DADOS_OPT.CALC_GOLD.cov(DADOS_OPT.CALC_PETR4) / DADOS_OPT.CALC_GOLD.var()\n",
    "b = DADOS_OPT.CALC_PETR4.mean() - a*DADOS_OPT.CALC_GOLD.mean()\n",
    "c = DADOS_OPT.CALC_GOLD.corr(DADOS_OPT.CALC_PETR4)\n",
    "\n",
    "print('Ajuste linear entre CALC_GOLD e CALC_PETR4:')\n",
    "\n",
    "fig = plt.figure(figsize=(8, 6))\n",
    "plt.scatter(DADOS_OPT.CALC_GOLD, DADOS_OPT.CALC_PETR4, c='blue', alpha=0.4)\n",
    "plt.title('GOLD VS PETR4')\n",
    "plt.xlabel('% da Variação do Ouro')\n",
    "plt.ylabel('% da Variação do PETR4')\n",
    "\n",
    "plt.plot((DADOS_OPT.CALC_GOLD.min(), DADOS_OPT.CALC_GOLD.max()), (a*DADOS_OPT.CALC_GOLD.min()+b, a*DADOS_OPT.CALC_GOLD.max()+b), label=\"Reta Correlação\", color='red')\n",
    "\n",
    "print('Correlação entre % de variação do ouro e % de variação do PETR4 é: {0}'.format(c))\n",
    "\n",
    "plt.legend()\n",
    "plt.plot()\n",
    "plt.show()"
   ]
  },
  {
   "cell_type": "markdown",
   "metadata": {},
   "source": [
    "Devido a grande dispersão entre os pontos, e da taxa de correlação ser extremamente baixa, de somente -0.017, podemos concluir que a taxa de variação do valor do ouro não se correlaciona de forma expressível com a taxa de variação do PETR4."
   ]
  },
  {
   "cell_type": "markdown",
   "metadata": {},
   "source": [
    "**Conclusão:**\n",
    "\n",
    "A partir dos gráficos plotados acima, podemos (COMPLETAR)!!"
   ]
  },
  {
   "cell_type": "markdown",
   "metadata": {},
   "source": [
    "# Aplicando o modelo de regressão linear"
   ]
  },
  {
   "cell_type": "markdown",
   "metadata": {},
   "source": [
    "**Ajustando a Tabela para a Regressão**"
   ]
  },
  {
   "cell_type": "code",
   "execution_count": 22,
   "metadata": {},
   "outputs": [
    {
     "data": {
      "text/plain": [
       "Index(['Valor_CRD', 'Valor_OIL', 'Valor_RDS', 'Valor_GOLD', 'Valor_PETR4',\n",
       "       'CALC_GOLD', 'CALC_RDS', 'CALC_OIL', 'CALC_CRD', 'CALC_PETR4'],\n",
       "      dtype='object')"
      ]
     },
     "execution_count": 22,
     "metadata": {},
     "output_type": "execute_result"
    }
   ],
   "source": [
    "DADOS_OPT.columns"
   ]
  },
  {
   "cell_type": "markdown",
   "metadata": {},
   "source": [
    "Definindo nossas variáveis do nosso dataset"
   ]
  },
  {
   "cell_type": "code",
   "execution_count": 23,
   "metadata": {},
   "outputs": [],
   "source": [
    "df = DADOS_OPT[['Valor_CRD', 'Valor_OIL', 'Valor_RDS', 'Valor_GOLD', 'Valor_PETR4', 'CALC_GOLD', 'CALC_RDS', 'CALC_OIL', 'CALC_CRD', 'CALC_PETR4']]"
   ]
  },
  {
   "cell_type": "code",
   "execution_count": 24,
   "metadata": {},
   "outputs": [
    {
     "data": {
      "text/html": [
       "<div>\n",
       "<style scoped>\n",
       "    .dataframe tbody tr th:only-of-type {\n",
       "        vertical-align: middle;\n",
       "    }\n",
       "\n",
       "    .dataframe tbody tr th {\n",
       "        vertical-align: top;\n",
       "    }\n",
       "\n",
       "    .dataframe thead th {\n",
       "        text-align: right;\n",
       "    }\n",
       "</style>\n",
       "<table border=\"1\" class=\"dataframe\">\n",
       "  <thead>\n",
       "    <tr style=\"text-align: right;\">\n",
       "      <th></th>\n",
       "      <th>Valor_CRD</th>\n",
       "      <th>Valor_OIL</th>\n",
       "      <th>Valor_RDS</th>\n",
       "      <th>Valor_GOLD</th>\n",
       "      <th>Valor_PETR4</th>\n",
       "      <th>CALC_GOLD</th>\n",
       "      <th>CALC_RDS</th>\n",
       "      <th>CALC_OIL</th>\n",
       "      <th>CALC_CRD</th>\n",
       "      <th>CALC_PETR4</th>\n",
       "    </tr>\n",
       "  </thead>\n",
       "  <tbody>\n",
       "    <tr>\n",
       "      <th>count</th>\n",
       "      <td>1297.000000</td>\n",
       "      <td>1297.000000</td>\n",
       "      <td>1297.000000</td>\n",
       "      <td>1297.000000</td>\n",
       "      <td>1297.000000</td>\n",
       "      <td>1297.000000</td>\n",
       "      <td>1297.000000</td>\n",
       "      <td>1297.000000</td>\n",
       "      <td>1297.000000</td>\n",
       "      <td>1297.000000</td>\n",
       "    </tr>\n",
       "    <tr>\n",
       "      <th>mean</th>\n",
       "      <td>3.476241</td>\n",
       "      <td>53.151318</td>\n",
       "      <td>50.456716</td>\n",
       "      <td>1302.706052</td>\n",
       "      <td>15.464385</td>\n",
       "      <td>0.000168</td>\n",
       "      <td>0.000225</td>\n",
       "      <td>0.000020</td>\n",
       "      <td>0.000399</td>\n",
       "      <td>0.001091</td>\n",
       "    </tr>\n",
       "    <tr>\n",
       "      <th>std</th>\n",
       "      <td>0.392010</td>\n",
       "      <td>9.631621</td>\n",
       "      <td>9.139196</td>\n",
       "      <td>85.301049</td>\n",
       "      <td>6.710696</td>\n",
       "      <td>0.007697</td>\n",
       "      <td>0.014236</td>\n",
       "      <td>0.023822</td>\n",
       "      <td>0.010436</td>\n",
       "      <td>0.030073</td>\n",
       "    </tr>\n",
       "    <tr>\n",
       "      <th>min</th>\n",
       "      <td>2.501100</td>\n",
       "      <td>26.210000</td>\n",
       "      <td>28.818090</td>\n",
       "      <td>1090.500000</td>\n",
       "      <td>3.976808</td>\n",
       "      <td>-0.033435</td>\n",
       "      <td>-0.065352</td>\n",
       "      <td>-0.086711</td>\n",
       "      <td>-0.057731</td>\n",
       "      <td>-0.157591</td>\n",
       "    </tr>\n",
       "    <tr>\n",
       "      <th>25%</th>\n",
       "      <td>3.179500</td>\n",
       "      <td>46.700000</td>\n",
       "      <td>42.996601</td>\n",
       "      <td>1256.500000</td>\n",
       "      <td>9.809459</td>\n",
       "      <td>-0.003888</td>\n",
       "      <td>-0.007080</td>\n",
       "      <td>-0.013350</td>\n",
       "      <td>-0.005847</td>\n",
       "      <td>-0.015305</td>\n",
       "    </tr>\n",
       "    <tr>\n",
       "      <th>50%</th>\n",
       "      <td>3.392600</td>\n",
       "      <td>52.410000</td>\n",
       "      <td>48.118477</td>\n",
       "      <td>1302.400000</td>\n",
       "      <td>14.155543</td>\n",
       "      <td>0.000000</td>\n",
       "      <td>0.000480</td>\n",
       "      <td>0.000750</td>\n",
       "      <td>0.000032</td>\n",
       "      <td>0.000779</td>\n",
       "    </tr>\n",
       "    <tr>\n",
       "      <th>75%</th>\n",
       "      <td>3.827200</td>\n",
       "      <td>59.520000</td>\n",
       "      <td>58.919838</td>\n",
       "      <td>1350.100000</td>\n",
       "      <td>20.366940</td>\n",
       "      <td>0.004172</td>\n",
       "      <td>0.007564</td>\n",
       "      <td>0.012450</td>\n",
       "      <td>0.006593</td>\n",
       "      <td>0.015326</td>\n",
       "    </tr>\n",
       "    <tr>\n",
       "      <th>max</th>\n",
       "      <td>4.207700</td>\n",
       "      <td>77.940000</td>\n",
       "      <td>68.253716</td>\n",
       "      <td>1560.400000</td>\n",
       "      <td>30.080000</td>\n",
       "      <td>0.045232</td>\n",
       "      <td>0.064506</td>\n",
       "      <td>0.146764</td>\n",
       "      <td>0.074251</td>\n",
       "      <td>0.162832</td>\n",
       "    </tr>\n",
       "  </tbody>\n",
       "</table>\n",
       "</div>"
      ],
      "text/plain": [
       "         Valor_CRD    Valor_OIL    Valor_RDS   Valor_GOLD  Valor_PETR4  \\\n",
       "count  1297.000000  1297.000000  1297.000000  1297.000000  1297.000000   \n",
       "mean      3.476241    53.151318    50.456716  1302.706052    15.464385   \n",
       "std       0.392010     9.631621     9.139196    85.301049     6.710696   \n",
       "min       2.501100    26.210000    28.818090  1090.500000     3.976808   \n",
       "25%       3.179500    46.700000    42.996601  1256.500000     9.809459   \n",
       "50%       3.392600    52.410000    48.118477  1302.400000    14.155543   \n",
       "75%       3.827200    59.520000    58.919838  1350.100000    20.366940   \n",
       "max       4.207700    77.940000    68.253716  1560.400000    30.080000   \n",
       "\n",
       "         CALC_GOLD     CALC_RDS     CALC_OIL     CALC_CRD   CALC_PETR4  \n",
       "count  1297.000000  1297.000000  1297.000000  1297.000000  1297.000000  \n",
       "mean      0.000168     0.000225     0.000020     0.000399     0.001091  \n",
       "std       0.007697     0.014236     0.023822     0.010436     0.030073  \n",
       "min      -0.033435    -0.065352    -0.086711    -0.057731    -0.157591  \n",
       "25%      -0.003888    -0.007080    -0.013350    -0.005847    -0.015305  \n",
       "50%       0.000000     0.000480     0.000750     0.000032     0.000779  \n",
       "75%       0.004172     0.007564     0.012450     0.006593     0.015326  \n",
       "max       0.045232     0.064506     0.146764     0.074251     0.162832  "
      ]
     },
     "execution_count": 24,
     "metadata": {},
     "output_type": "execute_result"
    }
   ],
   "source": [
    "df.describe()"
   ]
  },
  {
   "cell_type": "markdown",
   "metadata": {},
   "source": [
    "Verificando os valores nulos"
   ]
  },
  {
   "cell_type": "code",
   "execution_count": 25,
   "metadata": {},
   "outputs": [],
   "source": [
    "np.sum(df.isnull());"
   ]
  },
  {
   "cell_type": "markdown",
   "metadata": {},
   "source": [
    "Definindo nossa variável de resposta"
   ]
  },
  {
   "cell_type": "code",
   "execution_count": 26,
   "metadata": {},
   "outputs": [],
   "source": [
    "Y = df['CALC_PETR4']"
   ]
  },
  {
   "cell_type": "markdown",
   "metadata": {},
   "source": [
    "Definindo os outros parâmetros. Valores brutos removidos; valores relativos mais relevantes na regressão"
   ]
  },
  {
   "cell_type": "code",
   "execution_count": 27,
   "metadata": {
    "scrolled": true
   },
   "outputs": [
    {
     "data": {
      "text/html": [
       "<div>\n",
       "<style scoped>\n",
       "    .dataframe tbody tr th:only-of-type {\n",
       "        vertical-align: middle;\n",
       "    }\n",
       "\n",
       "    .dataframe tbody tr th {\n",
       "        vertical-align: top;\n",
       "    }\n",
       "\n",
       "    .dataframe thead th {\n",
       "        text-align: right;\n",
       "    }\n",
       "</style>\n",
       "<table border=\"1\" class=\"dataframe\">\n",
       "  <thead>\n",
       "    <tr style=\"text-align: right;\">\n",
       "      <th></th>\n",
       "      <th>CALC_GOLD</th>\n",
       "      <th>CALC_RDS</th>\n",
       "      <th>CALC_OIL</th>\n",
       "      <th>CALC_CRD</th>\n",
       "    </tr>\n",
       "    <tr>\n",
       "      <th>Date</th>\n",
       "      <th></th>\n",
       "      <th></th>\n",
       "      <th></th>\n",
       "      <th></th>\n",
       "    </tr>\n",
       "  </thead>\n",
       "  <tbody>\n",
       "    <tr>\n",
       "      <th>2014-11-11</th>\n",
       "      <td>0.003037</td>\n",
       "      <td>0.005798</td>\n",
       "      <td>0.006977</td>\n",
       "      <td>0.001841</td>\n",
       "    </tr>\n",
       "    <tr>\n",
       "      <th>2014-11-12</th>\n",
       "      <td>-0.003745</td>\n",
       "      <td>-0.018381</td>\n",
       "      <td>-0.009751</td>\n",
       "      <td>0.003519</td>\n",
       "    </tr>\n",
       "    <tr>\n",
       "      <th>2014-11-13</th>\n",
       "      <td>0.000800</td>\n",
       "      <td>-0.006968</td>\n",
       "      <td>-0.038481</td>\n",
       "      <td>0.008728</td>\n",
       "    </tr>\n",
       "    <tr>\n",
       "      <th>2014-11-14</th>\n",
       "      <td>0.019338</td>\n",
       "      <td>0.014179</td>\n",
       "      <td>0.021695</td>\n",
       "      <td>0.004983</td>\n",
       "    </tr>\n",
       "    <tr>\n",
       "      <th>2014-11-17</th>\n",
       "      <td>-0.001489</td>\n",
       "      <td>-0.001874</td>\n",
       "      <td>-0.002374</td>\n",
       "      <td>0.002421</td>\n",
       "    </tr>\n",
       "  </tbody>\n",
       "</table>\n",
       "</div>"
      ],
      "text/plain": [
       "            CALC_GOLD  CALC_RDS  CALC_OIL  CALC_CRD\n",
       "Date                                               \n",
       "2014-11-11   0.003037  0.005798  0.006977  0.001841\n",
       "2014-11-12  -0.003745 -0.018381 -0.009751  0.003519\n",
       "2014-11-13   0.000800 -0.006968 -0.038481  0.008728\n",
       "2014-11-14   0.019338  0.014179  0.021695  0.004983\n",
       "2014-11-17  -0.001489 -0.001874 -0.002374  0.002421"
      ]
     },
     "execution_count": 27,
     "metadata": {},
     "output_type": "execute_result"
    }
   ],
   "source": [
    "X = df[['CALC_GOLD', 'CALC_RDS', 'CALC_OIL', 'CALC_CRD']]\n",
    "X.head()"
   ]
  },
  {
   "cell_type": "code",
   "execution_count": 28,
   "metadata": {},
   "outputs": [],
   "source": [
    "Y_valor = df['Valor_PETR4']\n",
    "\n",
    "X_valor = df[['Valor_CRD', 'Valor_OIL', 'Valor_RDS','Valor_GOLD']]"
   ]
  },
  {
   "cell_type": "markdown",
   "metadata": {},
   "source": [
    "**Separando os dados de treinamento e teste :**"
   ]
  },
  {
   "cell_type": "markdown",
   "metadata": {},
   "source": [
    "Definindo o RANDOM_SEED"
   ]
  },
  {
   "cell_type": "code",
   "execution_count": 29,
   "metadata": {},
   "outputs": [],
   "source": [
    "RANDOM_SEED = 42"
   ]
  },
  {
   "cell_type": "markdown",
   "metadata": {},
   "source": [
    "Criando nossas variáveis de teste e treinamento"
   ]
  },
  {
   "cell_type": "code",
   "execution_count": 30,
   "metadata": {},
   "outputs": [],
   "source": [
    "from sklearn.model_selection import train_test_split\n",
    "\n",
    "X_train, X_test, Y_train, Y_test = train_test_split(X, Y, test_size=0.2, random_state = RANDOM_SEED)"
   ]
  },
  {
   "cell_type": "code",
   "execution_count": 31,
   "metadata": {},
   "outputs": [],
   "source": [
    "X_train_valor, X_test_valor, Y_train_valor, Y_test_valor = train_test_split(X_valor, Y_valor, test_size=0.2, random_state=RANDOM_SEED)"
   ]
  },
  {
   "cell_type": "markdown",
   "metadata": {},
   "source": [
    "**Função da Regressão:**"
   ]
  },
  {
   "cell_type": "markdown",
   "metadata": {},
   "source": [
    "Função utilitária para fazer a regressão com constante adicionada"
   ]
  },
  {
   "cell_type": "code",
   "execution_count": 32,
   "metadata": {},
   "outputs": [],
   "source": [
    "def regress(X,Y):\n",
    "    X_cp = sm.add_constant(X)\n",
    "    model = sm.OLS(Y,X_cp)\n",
    "    results = model.fit()\n",
    "    return results"
   ]
  },
  {
   "cell_type": "markdown",
   "metadata": {},
   "source": [
    "### Início da Regressão com valores absolutos:"
   ]
  },
  {
   "cell_type": "code",
   "execution_count": 33,
   "metadata": {},
   "outputs": [
    {
     "data": {
      "text/html": [
       "<table class=\"simpletable\">\n",
       "<caption>OLS Regression Results</caption>\n",
       "<tr>\n",
       "  <th>Dep. Variable:</th>       <td>Valor_PETR4</td>   <th>  R-squared:         </th> <td>   0.782</td>\n",
       "</tr>\n",
       "<tr>\n",
       "  <th>Model:</th>                   <td>OLS</td>       <th>  Adj. R-squared:    </th> <td>   0.781</td>\n",
       "</tr>\n",
       "<tr>\n",
       "  <th>Method:</th>             <td>Least Squares</td>  <th>  F-statistic:       </th> <td>   923.4</td>\n",
       "</tr>\n",
       "<tr>\n",
       "  <th>Date:</th>             <td>Thu, 21 Nov 2019</td> <th>  Prob (F-statistic):</th>  <td>  0.00</td> \n",
       "</tr>\n",
       "<tr>\n",
       "  <th>Time:</th>                 <td>20:10:05</td>     <th>  Log-Likelihood:    </th> <td> -2659.5</td>\n",
       "</tr>\n",
       "<tr>\n",
       "  <th>No. Observations:</th>      <td>  1037</td>      <th>  AIC:               </th> <td>   5329.</td>\n",
       "</tr>\n",
       "<tr>\n",
       "  <th>Df Residuals:</th>          <td>  1032</td>      <th>  BIC:               </th> <td>   5354.</td>\n",
       "</tr>\n",
       "<tr>\n",
       "  <th>Df Model:</th>              <td>     4</td>      <th>                     </th>     <td> </td>   \n",
       "</tr>\n",
       "<tr>\n",
       "  <th>Covariance Type:</th>      <td>nonrobust</td>    <th>                     </th>     <td> </td>   \n",
       "</tr>\n",
       "</table>\n",
       "<table class=\"simpletable\">\n",
       "<tr>\n",
       "       <td></td>         <th>coef</th>     <th>std err</th>      <th>t</th>      <th>P>|t|</th>  <th>[0.025</th>    <th>0.975]</th>  \n",
       "</tr>\n",
       "<tr>\n",
       "  <th>const</th>      <td>  -48.0968</td> <td>    2.100</td> <td>  -22.899</td> <td> 0.000</td> <td>  -52.218</td> <td>  -43.975</td>\n",
       "</tr>\n",
       "<tr>\n",
       "  <th>Valor_CRD</th>  <td>    3.9517</td> <td>    0.291</td> <td>   13.600</td> <td> 0.000</td> <td>    3.381</td> <td>    4.522</td>\n",
       "</tr>\n",
       "<tr>\n",
       "  <th>Valor_OIL</th>  <td>   -0.0067</td> <td>    0.020</td> <td>   -0.336</td> <td> 0.737</td> <td>   -0.046</td> <td>    0.032</td>\n",
       "</tr>\n",
       "<tr>\n",
       "  <th>Valor_RDS</th>  <td>    0.4771</td> <td>    0.025</td> <td>   19.201</td> <td> 0.000</td> <td>    0.428</td> <td>    0.526</td>\n",
       "</tr>\n",
       "<tr>\n",
       "  <th>Valor_GOLD</th> <td>    0.0200</td> <td>    0.001</td> <td>   13.963</td> <td> 0.000</td> <td>    0.017</td> <td>    0.023</td>\n",
       "</tr>\n",
       "</table>\n",
       "<table class=\"simpletable\">\n",
       "<tr>\n",
       "  <th>Omnibus:</th>       <td>11.516</td> <th>  Durbin-Watson:     </th> <td>   1.925</td>\n",
       "</tr>\n",
       "<tr>\n",
       "  <th>Prob(Omnibus):</th> <td> 0.003</td> <th>  Jarque-Bera (JB):  </th> <td>  11.751</td>\n",
       "</tr>\n",
       "<tr>\n",
       "  <th>Skew:</th>          <td>-0.251</td> <th>  Prob(JB):          </th> <td> 0.00281</td>\n",
       "</tr>\n",
       "<tr>\n",
       "  <th>Kurtosis:</th>      <td> 2.862</td> <th>  Cond. No.          </th> <td>2.82e+04</td>\n",
       "</tr>\n",
       "</table><br/><br/>Warnings:<br/>[1] Standard Errors assume that the covariance matrix of the errors is correctly specified.<br/>[2] The condition number is large, 2.82e+04. This might indicate that there are<br/>strong multicollinearity or other numerical problems."
      ],
      "text/plain": [
       "<class 'statsmodels.iolib.summary.Summary'>\n",
       "\"\"\"\n",
       "                            OLS Regression Results                            \n",
       "==============================================================================\n",
       "Dep. Variable:            Valor_PETR4   R-squared:                       0.782\n",
       "Model:                            OLS   Adj. R-squared:                  0.781\n",
       "Method:                 Least Squares   F-statistic:                     923.4\n",
       "Date:                Thu, 21 Nov 2019   Prob (F-statistic):               0.00\n",
       "Time:                        20:10:05   Log-Likelihood:                -2659.5\n",
       "No. Observations:                1037   AIC:                             5329.\n",
       "Df Residuals:                    1032   BIC:                             5354.\n",
       "Df Model:                           4                                         \n",
       "Covariance Type:            nonrobust                                         \n",
       "==============================================================================\n",
       "                 coef    std err          t      P>|t|      [0.025      0.975]\n",
       "------------------------------------------------------------------------------\n",
       "const        -48.0968      2.100    -22.899      0.000     -52.218     -43.975\n",
       "Valor_CRD      3.9517      0.291     13.600      0.000       3.381       4.522\n",
       "Valor_OIL     -0.0067      0.020     -0.336      0.737      -0.046       0.032\n",
       "Valor_RDS      0.4771      0.025     19.201      0.000       0.428       0.526\n",
       "Valor_GOLD     0.0200      0.001     13.963      0.000       0.017       0.023\n",
       "==============================================================================\n",
       "Omnibus:                       11.516   Durbin-Watson:                   1.925\n",
       "Prob(Omnibus):                  0.003   Jarque-Bera (JB):               11.751\n",
       "Skew:                          -0.251   Prob(JB):                      0.00281\n",
       "Kurtosis:                       2.862   Cond. No.                     2.82e+04\n",
       "==============================================================================\n",
       "\n",
       "Warnings:\n",
       "[1] Standard Errors assume that the covariance matrix of the errors is correctly specified.\n",
       "[2] The condition number is large, 2.82e+04. This might indicate that there are\n",
       "strong multicollinearity or other numerical problems.\n",
       "\"\"\""
      ]
     },
     "execution_count": 33,
     "metadata": {},
     "output_type": "execute_result"
    }
   ],
   "source": [
    "results_valor = regress(X_train_valor, Y_train_valor)\n",
    "results_valor.summary()"
   ]
  },
  {
   "cell_type": "markdown",
   "metadata": {},
   "source": [
    "Adicionando uma coluna p equivaler a função regress"
   ]
  },
  {
   "cell_type": "code",
   "execution_count": 51,
   "metadata": {},
   "outputs": [],
   "source": [
    "X_test_valor_n = sm.add_constant(X_test_valor)"
   ]
  },
  {
   "cell_type": "markdown",
   "metadata": {},
   "source": [
    "Teste do modelo"
   ]
  },
  {
   "cell_type": "code",
   "execution_count": 35,
   "metadata": {},
   "outputs": [],
   "source": [
    "y_pred_valor = results_valor.predict(X_test_valor_n)"
   ]
  },
  {
   "cell_type": "markdown",
   "metadata": {},
   "source": [
    "**Avaliando o modelo**"
   ]
  },
  {
   "cell_type": "markdown",
   "metadata": {},
   "source": [
    "A partir de agora será utilizada a base de teste para avaliar a acurácia do algoritmo obtido."
   ]
  },
  {
   "cell_type": "code",
   "execution_count": 36,
   "metadata": {
    "scrolled": true
   },
   "outputs": [
    {
     "name": "stdout",
     "output_type": "stream",
     "text": [
      "15.0919881  -  13.6546559\n",
      "11.404597087810213\n",
      "7.555935450000001  -  6.836322549999999\n",
      "10.422795597396718\n",
      "15.0522183  -  13.618673699999999\n",
      "15.817071266014347\n",
      "26.495038500000003  -  23.971701499999998\n",
      "20.387918358809664\n",
      "28.542429825000003  -  25.824103175\n",
      "22.862681163136024\n",
      "18.32581695  -  16.58050105\n",
      "21.400887501774093\n",
      "13.43167035  -  12.15246365\n",
      "11.778226094972773\n",
      "14.61476835  -  13.22288565\n",
      "12.146604944634143\n",
      "21.27592215  -  19.24964385\n",
      "22.87652774637389\n",
      "9.34549875  -  8.45545125\n",
      "11.68921497768527\n",
      "14.932916250000002  -  13.51073375\n",
      "15.503239649110615\n",
      "29.143978500000003  -  26.3683615\n",
      "22.43970456651523\n",
      "13.26265605  -  11.999545949999998\n",
      "13.981898555954817\n",
      "12.80532225  -  11.585767749999999\n",
      "12.846187251256397\n",
      "19.1866269  -  17.359329099999997\n",
      "22.563695637768326\n",
      "8.7887457  -  7.951722299999999\n",
      "10.29743542487301\n",
      "8.858339700000002  -  8.0146883\n",
      "11.949112255614395\n",
      "13.372015650000002  -  12.098490349999999\n",
      "14.675621615996759\n",
      "12.775497  -  11.558783\n",
      "13.549909082045001\n",
      "8.31152805  -  7.51995395\n",
      "9.006395094756762\n",
      "9.1466571  -  8.2755469\n",
      "12.18149780195888\n",
      "20.262513600000002  -  18.3327504\n",
      "21.132231556086644\n",
      "25.551282225000005  -  23.117826775\n",
      "18.901582075201706\n",
      "10.20051165  -  9.22903435\n",
      "10.758577117937032\n",
      "13.8691182  -  12.548249799999999\n",
      "11.558901573750912\n",
      "7.715008350000001  -  6.98024565\n",
      "7.275541661891509\n",
      "28.399819349999998  -  25.69507465\n",
      "25.343877023372784\n",
      "7.615587  -  6.890293\n",
      "8.409310405993965\n",
      "19.87409655  -  17.981325449999996\n",
      "20.33018524982539\n",
      "6.5319072  -  5.909820799999999\n",
      "10.608809322336882\n",
      "27.573000000000004  -  24.947\n",
      "25.643237526459863\n",
      "10.19057025  -  9.220039749999998\n",
      "11.681413973113749\n",
      "16.4043348  -  14.8420172\n",
      "18.378870613643674\n",
      "19.85421375  -  17.963336249999998\n",
      "21.11011937031043\n",
      "14.2866822  -  12.926045799999999\n",
      "10.680714439163689\n",
      "9.067122750000001  -  8.20358725\n",
      "11.817268949268488\n",
      "15.640189950000002  -  14.15064805\n",
      "22.568257711689444\n",
      "15.88734735  -  14.374266650000001\n",
      "16.311083868759024\n",
      "11.3736714  -  10.2904646\n",
      "12.688074958417905\n",
      "17.58743385  -  15.912440149999998\n",
      "10.323547202750536\n",
      "9.4946292  -  8.590378799999998\n",
      "11.614246629241412\n",
      "22.8368196  -  20.661884399999998\n",
      "23.418861135609948\n",
      "4.886503125  -  4.421121875\n",
      "4.6641988394585505\n",
      "12.765554550000001  -  11.54978745\n",
      "13.396538918651098\n",
      "28.282231950000003  -  25.58868605\n",
      "22.350093483292724\n",
      "27.951253050000002  -  25.28922895\n",
      "21.791009271453547\n",
      "24.785897325  -  22.425335675\n",
      "19.34114521189721\n",
      "9.2460795  -  8.3655005\n",
      "9.570059585801806\n",
      "25.646156550000004  -  23.20366545\n",
      "19.131349045250552\n",
      "26.087862150000003  -  23.60330385\n",
      "25.23260171204552\n",
      "8.967702449999999  -  8.11363555\n",
      "8.851100729652345\n",
      "15.410130750000002  -  13.94249925\n",
      "11.191218811086635\n",
      "28.003111500000003  -  25.3361485\n",
      "22.802849840077826\n",
      "23.52261345  -  21.282364549999997\n",
      "19.7298141327398\n",
      "14.4358137  -  13.060974299999998\n",
      "10.064111490278547\n",
      "10.13091975  -  9.16607025\n",
      "9.936540429065\n",
      "19.274564400000003  -  17.438891599999998\n",
      "22.368751576618116\n",
      "29.043000000000003  -  26.276999999999997\n",
      "26.357532137199236\n",
      "12.88485765  -  11.65772835\n",
      "13.571880583254684\n",
      "9.84260025  -  8.905209750000001\n",
      "11.945292541771622\n",
      "14.3662197  -  12.9980083\n",
      "12.030564865429525\n",
      "9.454861500000002  -  8.5543985\n",
      "10.245849884895875\n",
      "9.763063800000001  -  8.8332482\n",
      "10.545253372273406\n",
      "27.846321300000003  -  25.1942907\n",
      "22.389413907686027\n",
      "15.15163755  -  13.708624449999999\n",
      "19.023520811829844\n",
      "9.444918000000001  -  8.545402\n",
      "7.5752858312607785\n",
      "16.931261550000002  -  15.31876045\n",
      "21.353506985988112\n",
      "15.13175475  -  13.690635249999998\n",
      "18.8038990541414\n",
      "7.655355750000001  -  6.92627425\n",
      "9.659625379749718\n",
      "13.88900205  -  12.566239949999998\n",
      "12.050015026088586\n",
      "16.80201285  -  15.201821149999999\n",
      "18.283737090464168\n",
      "27.660851400000002  -  25.0264846\n",
      "21.457289648275452\n",
      "7.6752396  -  6.944264399999999\n",
      "7.58120976334326\n",
      "15.2112912  -  13.762596799999999\n",
      "9.98242336875101\n",
      "19.475522325  -  17.620710674999998\n",
      "23.3854615327271\n",
      "15.97889475  -  14.45709525\n",
      "22.877977062274915\n",
      "26.022148950000002  -  23.54384905\n",
      "21.699798441419315\n",
      "25.7421192  -  23.290488800000002\n",
      "20.21417741166146\n",
      "13.5807987  -  12.2873893\n",
      "10.802552612747027\n",
      "20.321492100000004  -  18.3861119\n",
      "19.835715417984776\n",
      "19.6448742  -  17.7739338\n",
      "21.97238377429608\n",
      "9.782948700000002  -  8.8512393\n",
      "13.92240086923887\n",
      "19.9536687  -  18.0533193\n",
      "22.400616568566885\n",
      "19.81444815  -  17.927357849999996\n",
      "23.009443388770137\n",
      "10.45569105  -  9.45991095\n",
      "11.596015768701644\n",
      "13.053871950000001  -  11.810646049999999\n",
      "13.849745778379166\n",
      "28.885500000000004  -  26.1345\n",
      "25.67593747624718\n",
      "13.401841950000001  -  12.12547605\n",
      "11.41452134621378\n",
      "9.21625425  -  8.338515750000001\n",
      "11.09994661995363\n",
      "15.65868255  -  14.16737945\n",
      "19.643464352914\n",
      "12.2187429  -  11.0550531\n",
      "13.113747947668548\n",
      "27.743822400000003  -  25.1015536\n",
      "22.847153168150136\n",
      "15.748160400000002  -  14.248335599999999\n",
      "11.390393829981004\n",
      "8.2518765  -  7.465983499999999\n",
      "11.068512309866254\n",
      "7.24773315  -  6.55747285\n",
      "6.065074812671927\n",
      "7.72494975  -  6.98924025\n",
      "9.01246986792674\n",
      "20.4010233  -  18.4580687\n",
      "22.049340277507184\n",
      "7.973500500000001  -  7.2141195\n",
      "11.456465033108874\n",
      "9.36538365  -  8.473442350000001\n",
      "13.033062926247656\n",
      "8.048064675000001  -  7.281582325\n",
      "9.952367409143056\n",
      "12.959422875000001  -  11.725192125\n",
      "10.893799463958283\n",
      "18.964973999999998  -  17.158786\n",
      "20.87924170535239\n",
      "7.9039065  -  7.1511534999999995\n",
      "11.311345964704408\n",
      "11.4830352  -  10.389412799999999\n",
      "13.641643708121446\n",
      "7.19802195  -  6.51249605\n",
      "7.772429155254758\n",
      "21.7730247  -  19.6994033\n",
      "20.15895342110895\n",
      "14.59488765  -  13.20489835\n",
      "12.61623188307717\n",
      "8.848396200000002  -  8.0056918\n",
      "10.544695878609948\n",
      "10.2800502  -  9.3009978\n",
      "9.78701417075106\n",
      "8.57002125  -  7.753828749999999\n",
      "11.003608815220062\n",
      "8.082862200000001  -  7.3130657999999995\n",
      "10.982930055964141\n",
      "15.678567450000001  -  14.18537055\n",
      "11.46180788330543\n",
      "12.9743355  -  11.7386845\n",
      "14.017783747169803\n",
      "8.2518765  -  7.465983499999999\n",
      "10.469760837097216\n",
      "28.276500000000002  -  25.583499999999997\n",
      "24.82240040869294\n",
      "13.07375685  -  11.82863715\n",
      "13.977397829038074\n",
      "15.46978335  -  13.99647065\n",
      "11.37522226945616\n",
      "28.6335  -  25.906499999999998\n",
      "26.4624409530987\n",
      "13.083699300000001  -  11.837632699999999\n",
      "11.26835303983207\n",
      "18.9296058  -  17.1267862\n",
      "20.072923448116118\n",
      "14.20714785  -  12.854086149999999\n",
      "10.448312433297623\n",
      "18.685341150000003  -  16.90578485\n",
      "22.25040426047861\n",
      "9.3206442  -  8.4329638\n",
      "11.556754916227153\n",
      "12.775497  -  11.558783\n",
      "10.823720065122851\n",
      "12.4573491  -  11.270934899999999\n",
      "11.486119211740172\n",
      "14.575002750000001  -  13.186907249999999\n",
      "9.64520011895507\n",
      "8.689325400000001  -  7.8617706\n",
      "8.954386374174064\n",
      "25.41646065  -  22.99584535\n",
      "19.6464565279505\n",
      "13.34716215  -  12.076003850000001\n",
      "10.727806141810474\n",
      "7.9039065  -  7.1511534999999995\n",
      "12.222137873214963\n",
      "26.3851791  -  23.8723049\n",
      "18.942459511000003\n",
      "25.2370965  -  22.833563499999997\n",
      "19.64988201487426\n",
      "28.623  -  25.897000000000002\n",
      "25.210212172310825\n",
      "15.31071255  -  13.85254945\n",
      "16.23437041022803\n",
      "14.922974850000001  -  13.50173915\n",
      "18.70332773878086\n",
      "12.80532225  -  11.585767749999999\n",
      "12.61132884605658\n",
      "13.43167035  -  12.15246365\n",
      "11.140152861673743\n",
      "9.559253025  -  8.648847974999999\n",
      "11.413144135324206\n",
      "7.44657375  -  6.73737625\n",
      "7.67272020114232\n",
      "15.9271182  -  14.4102498\n",
      "18.078345936301666\n",
      "24.655549800000003  -  22.3074022\n",
      "19.38300941617974\n",
      "12.68601915  -  11.47782685\n",
      "12.33520760868361\n",
      "29.527723050000002  -  26.71555895\n",
      "22.60931389695093\n",
      "26.34366735  -  23.834746649999996\n",
      "20.51112712645355\n",
      "23.92842585  -  21.64952815\n",
      "22.13155304842954\n",
      "28.065339750000003  -  25.39245025\n",
      "21.980159185208556\n",
      "27.784048950000003  -  25.13794905\n",
      "22.90129869795924\n",
      "10.309875450000002  -  9.32798255\n",
      "11.159387253410808\n",
      "15.90723225  -  14.392257749999999\n",
      "11.561209173212857\n",
      "15.012450600000001  -  13.5826934\n",
      "10.486497969607809\n",
      "10.65121785  -  9.63681615\n",
      "11.286840739410838\n",
      "4.5435033  -  4.1107887\n",
      "6.511793198735\n",
      "7.93373175  -  7.17813825\n",
      "6.912403285662162\n",
      "7.99338435  -  7.232109649999999\n",
      "9.878204120406508\n",
      "7.6056456  -  6.8812983999999995\n",
      "8.360793834478663\n",
      "9.978473750000001  -  9.028142916666665\n",
      "11.927527909643507\n",
      "14.241944325  -  12.885568675\n",
      "10.31931827616378\n",
      "8.415919575  -  7.614403424999999\n",
      "10.797243985816861\n",
      "8.077890974999999  -  7.308568024999999\n",
      "9.76761592980296\n",
      "22.1408796  -  20.0322244\n",
      "23.38806963459863\n",
      "29.06657985  -  26.29833415\n",
      "25.65474004728312\n",
      "7.86413775  -  7.11517225\n",
      "8.293214865829931\n",
      "14.86332015  -  13.44776585\n",
      "18.583600749200205\n",
      "6.57167595  -  5.94580205\n",
      "10.129932114785063\n",
      "14.27673975  -  12.917050249999999\n",
      "10.751119892106733\n",
      "9.3852675  -  8.4914325\n",
      "11.21899992413288\n",
      "12.87491415  -  11.648731849999999\n",
      "11.011419409726729\n",
      "13.302422700000001  -  12.0355253\n",
      "9.767242850938286\n",
      "12.2783955  -  11.109024499999999\n",
      "11.931480357781261\n",
      "15.241116450000002  -  13.78958155\n",
      "18.538184228463205\n",
      "20.4109689  -  18.4670671\n",
      "22.052807864271383\n",
      "8.09280465  -  7.322061349999999\n",
      "9.066276777782603\n",
      "16.414276200000003  -  14.8510118\n",
      "17.003508416660576\n",
      "29.3265  -  26.5335\n",
      "25.27228543064538\n",
      "29.24368755  -  26.458574449999997\n",
      "25.497140732485864\n",
      "18.43566795  -  16.67989005\n",
      "19.692706791322312\n",
      "11.5128594  -  10.416396599999999\n",
      "9.800467062904126\n",
      "25.69026285  -  23.243571149999998\n",
      "19.857870059153967\n",
      "25.4264451  -  23.004878899999998\n",
      "19.45704820489001\n",
      "28.12288605  -  25.44451595\n",
      "20.06452933913516\n",
      "16.5367608  -  14.961831199999999\n",
      "23.35253273829457\n",
      "27.1704804  -  24.5828156\n",
      "24.89584904111675\n",
      "28.29563835  -  25.600815649999998\n",
      "23.960532989800857\n",
      "7.3272696  -  6.6294344\n",
      "10.970379560589313\n",
      "15.171523500000001  -  13.7266165\n",
      "17.87716046124864\n",
      "9.6934698  -  8.770282199999999\n",
      "11.112591147568548\n",
      "8.540196000000002  -  7.726844000000001\n",
      "8.626612384467057\n",
      "28.6602729  -  25.930723099999998\n",
      "26.231836093093346\n",
      "30.243360000000003  -  27.363039999999998\n",
      "23.1250640476606\n",
      "16.165724400000002  -  14.626131599999999\n",
      "10.333482369536664\n",
      "11.860830975  -  10.731228024999998\n",
      "9.052678743480856\n",
      "13.03398915  -  11.79265685\n",
      "11.142802631571397\n",
      "12.9743355  -  11.7386845\n",
      "13.570835242232887\n",
      "13.88900205  -  12.566239949999998\n",
      "11.319127364996849\n",
      "9.763063800000001  -  8.8332482\n",
      "13.637001131500314\n",
      "16.02653955  -  14.500202449999998\n",
      "17.01244642217861\n",
      "14.256855900000001  -  12.8990601\n",
      "10.426223176969145\n",
      "11.721640350000001  -  10.60529365\n",
      "8.97283239546021\n",
      "25.76599935  -  23.31209465\n",
      "19.795485485049877\n",
      "15.9569424  -  14.4372336\n",
      "20.00565168589297\n",
      "8.05303695  -  7.286081049999999\n",
      "11.106546031517732\n",
      "26.488871850000002  -  23.966122149999997\n",
      "19.525121748595094\n",
      "9.77300625  -  8.84224375\n",
      "12.029932768590033\n",
      "25.6384023  -  23.1966497\n",
      "20.24252357873937\n",
      "13.491320850000001  -  12.206433149999999\n",
      "11.499205241733586\n",
      "13.76969895  -  12.458299049999999\n",
      "14.902373356186247\n",
      "9.05718135  -  8.19459265\n",
      "11.213659703094727\n",
      "11.860830450000002  -  10.73122755\n",
      "11.890213410459296\n",
      "13.1334084  -  11.8826076\n",
      "10.136824632843078\n",
      "12.198860100000001  -  11.0370639\n",
      "10.30460596603602\n",
      "27.2954976  -  24.6959264\n",
      "22.945495690096802\n",
      "16.6230561  -  15.0399079\n",
      "18.14844671037245\n",
      "14.8036686  -  13.3937954\n",
      "11.483481323870889\n",
      "13.491320850000001  -  12.206433149999999\n",
      "11.664303996017006\n",
      "8.3910645  -  7.5919155\n",
      "9.888180206455322\n",
      "14.952800100000001  -  13.5287239\n",
      "15.767380124451712\n",
      "12.208801500000002  -  11.0460585\n",
      "13.479377346418385\n",
      "13.04393055  -  11.80165145\n",
      "10.515774345344528\n",
      "14.5650603  -  13.177911700000001\n",
      "12.540619563991527\n",
      "26.0947512  -  23.609536799999997\n",
      "20.308584144984188\n",
      "27.07950105  -  24.50050095\n",
      "24.60466516221517\n",
      "13.23282975  -  11.97256025\n",
      "14.066589459728654\n",
      "14.644594650000002  -  13.24987135\n",
      "12.159714979378643\n",
      "26.880000000000003  -  24.32\n",
      "25.56166488789057\n",
      "29.04026265  -  26.27452335\n",
      "22.26924441600729\n",
      "25.49400105  -  23.066000949999996\n",
      "24.935753267830435\n",
      "19.58510295  -  17.71985505\n",
      "22.78335471790528\n",
      "14.75395845  -  13.34881955\n",
      "10.670126298659063\n",
      "23.3621115  -  21.1371485\n",
      "19.329846562172573\n",
      "20.26183845  -  18.33213955\n",
      "20.72941436896888\n",
      "27.8789133  -  25.223778699999997\n",
      "24.322342316092136\n",
      "25.799542650000003  -  23.34244335\n",
      "25.470653938696593\n",
      "9.61393335  -  8.69832065\n",
      "11.119495480300506\n",
      "14.61476835  -  13.22288565\n",
      "11.43295721340792\n",
      "25.03154955  -  22.647592449999998\n",
      "19.70401356629552\n",
      "22.058645700000003  -  19.9578223\n",
      "18.750427209359955\n",
      "22.200532199999998  -  20.0861958\n",
      "19.680036754509\n",
      "11.7017586  -  10.5873054\n",
      "8.720893272251592\n",
      "27.231194549999998  -  24.63774745\n",
      "25.031295163716\n",
      "28.431074175  -  25.723352825\n",
      "25.373288009101188\n",
      "9.474744300000001  -  8.5723877\n",
      "12.267003382083493\n",
      "6.77383  -  6.128703333333332\n",
      "6.6494868522090815\n",
      "18.33580665  -  16.58953935\n",
      "20.435867222097357\n",
      "9.1367157  -  8.2665523\n",
      "9.057738841152442\n",
      "18.1143627  -  16.3891853\n",
      "22.076694811872144\n",
      "6.661153800000001  -  6.0267582\n",
      "6.567336759071718\n",
      "12.3181653  -  11.1450067\n",
      "10.554436985877127\n",
      "22.2601848  -  20.140167199999997\n",
      "19.74725456549433\n",
      "9.4349766  -  8.5364074\n",
      "10.652322840590111\n",
      "15.489668250000001  -  14.014461749999999\n",
      "10.561616961425875\n",
      "15.20466395  -  13.756600716666664\n",
      "11.475894078185338\n",
      "26.203651425  -  23.708065574999996\n",
      "20.194994522380625\n",
      "13.153291200000002  -  11.900596799999999\n",
      "12.43790573173486\n",
      "6.2336463  -  5.639965699999999\n",
      "5.3851757103984905\n",
      "9.096948000000001  -  8.230571999999999\n",
      "9.545291864850359\n",
      "15.777986700000001  -  14.2753213\n",
      "16.207189580057385\n",
      "16.45404285  -  14.88699115\n",
      "21.109542435259577\n",
      "7.406805  -  6.701395\n",
      "6.245576817151235\n",
      "14.06795985  -  12.72815415\n",
      "11.878244225852834\n",
      "12.6064827  -  11.405865299999999\n",
      "9.898408734291158\n"
     ]
    }
   ],
   "source": [
    "lista_pred = []\n",
    "lista_Y_valor = []\n",
    "acertos = 0\n",
    "\n",
    "\n",
    "for e in y_pred_valor:\n",
    "    lista_pred.append(e)\n",
    "    \n",
    "for e in Y_test_valor:\n",
    "    lista_Y_valor.append(e)\n",
    "\n",
    "# \n",
    "i = 0\n",
    "while i < len(lista_pred):\n",
    "    a = lista_Y_valor[i]*1.05\n",
    "    b = lista_Y_valor[i]*0.95\n",
    "    print(a, \" - \",b)\n",
    "    print(lista_pred[i])\n",
    "    if lista_pred[i] < a and lista_pred[i] > b:\n",
    "        acertos += 1\n",
    "    i += 1\n",
    "        \n",
    "acc = acertos/len(lista_Y_valor)\n"
   ]
  },
  {
   "cell_type": "markdown",
   "metadata": {},
   "source": [
    "Acertos Totais"
   ]
  },
  {
   "cell_type": "code",
   "execution_count": 37,
   "metadata": {},
   "outputs": [
    {
     "name": "stdout",
     "output_type": "stream",
     "text": [
      "Os acertos totais foram 28 de 260\n"
     ]
    }
   ],
   "source": [
    "print(f'Os acertos totais foram {acertos} de {len(lista_Y_valor)}')"
   ]
  },
  {
   "cell_type": "markdown",
   "metadata": {},
   "source": [
    "Acerto em %"
   ]
  },
  {
   "cell_type": "code",
   "execution_count": 56,
   "metadata": {},
   "outputs": [
    {
     "name": "stdout",
     "output_type": "stream",
     "text": [
      "O acerto em % foi de 10.76923076923077%\n"
     ]
    }
   ],
   "source": [
    "print(f'O acerto em % foi de {acc*100}%')"
   ]
  },
  {
   "cell_type": "markdown",
   "metadata": {},
   "source": [
    "Com base na regressão linear obtida e a base de teste selecionada, a acurácia do modelo de predição foi de 10,77%"
   ]
  },
  {
   "cell_type": "markdown",
   "metadata": {},
   "source": [
    "**Ajustando o coeficiente R-squared**"
   ]
  },
  {
   "cell_type": "markdown",
   "metadata": {},
   "source": [
    "Foi removido a variável com maior P>|t|, ou seja, foi removida a variável com menor influência na taxa de variação percentual do PETR4. Desse modo se obtêm um resultado mais preciso e adequado com a realidade, por mais que o R-squared diminua minimamente. Isso ocorre pois a variável retirada utilizava uma coeficiente não condizente com a realidade para se ajustar a regressão."
   ]
  },
  {
   "cell_type": "markdown",
   "metadata": {},
   "source": [
    "* Removendo o parâmetro do preço do barril de óleo (maior P>|t|)"
   ]
  },
  {
   "cell_type": "code",
   "execution_count": 39,
   "metadata": {},
   "outputs": [],
   "source": [
    "X_valor = df[['Valor_CRD', 'Valor_RDS','Valor_GOLD']]"
   ]
  },
  {
   "cell_type": "code",
   "execution_count": 40,
   "metadata": {},
   "outputs": [],
   "source": [
    "X_train_valor, X_test_valor, Y_train_valor, Y_test_valor = train_test_split(X_valor, Y_valor, test_size=0.2, random_state=RANDOM_SEED)"
   ]
  },
  {
   "cell_type": "code",
   "execution_count": 41,
   "metadata": {},
   "outputs": [
    {
     "data": {
      "text/html": [
       "<table class=\"simpletable\">\n",
       "<caption>OLS Regression Results</caption>\n",
       "<tr>\n",
       "  <th>Dep. Variable:</th>       <td>Valor_PETR4</td>   <th>  R-squared:         </th> <td>   0.782</td>\n",
       "</tr>\n",
       "<tr>\n",
       "  <th>Model:</th>                   <td>OLS</td>       <th>  Adj. R-squared:    </th> <td>   0.781</td>\n",
       "</tr>\n",
       "<tr>\n",
       "  <th>Method:</th>             <td>Least Squares</td>  <th>  F-statistic:       </th> <td>   1232.</td>\n",
       "</tr>\n",
       "<tr>\n",
       "  <th>Date:</th>             <td>Thu, 21 Nov 2019</td> <th>  Prob (F-statistic):</th>  <td>  0.00</td> \n",
       "</tr>\n",
       "<tr>\n",
       "  <th>Time:</th>                 <td>20:10:12</td>     <th>  Log-Likelihood:    </th> <td> -2659.6</td>\n",
       "</tr>\n",
       "<tr>\n",
       "  <th>No. Observations:</th>      <td>  1037</td>      <th>  AIC:               </th> <td>   5327.</td>\n",
       "</tr>\n",
       "<tr>\n",
       "  <th>Df Residuals:</th>          <td>  1033</td>      <th>  BIC:               </th> <td>   5347.</td>\n",
       "</tr>\n",
       "<tr>\n",
       "  <th>Df Model:</th>              <td>     3</td>      <th>                     </th>     <td> </td>   \n",
       "</tr>\n",
       "<tr>\n",
       "  <th>Covariance Type:</th>      <td>nonrobust</td>    <th>                     </th>     <td> </td>   \n",
       "</tr>\n",
       "</table>\n",
       "<table class=\"simpletable\">\n",
       "<tr>\n",
       "       <td></td>         <th>coef</th>     <th>std err</th>      <th>t</th>      <th>P>|t|</th>  <th>[0.025</th>    <th>0.975]</th>  \n",
       "</tr>\n",
       "<tr>\n",
       "  <th>const</th>      <td>  -48.4551</td> <td>    1.809</td> <td>  -26.792</td> <td> 0.000</td> <td>  -52.004</td> <td>  -44.906</td>\n",
       "</tr>\n",
       "<tr>\n",
       "  <th>Valor_CRD</th>  <td>    3.9956</td> <td>    0.259</td> <td>   15.408</td> <td> 0.000</td> <td>    3.487</td> <td>    4.504</td>\n",
       "</tr>\n",
       "<tr>\n",
       "  <th>Valor_RDS</th>  <td>    0.4700</td> <td>    0.013</td> <td>   36.084</td> <td> 0.000</td> <td>    0.444</td> <td>    0.496</td>\n",
       "</tr>\n",
       "<tr>\n",
       "  <th>Valor_GOLD</th> <td>    0.0202</td> <td>    0.001</td> <td>   14.912</td> <td> 0.000</td> <td>    0.018</td> <td>    0.023</td>\n",
       "</tr>\n",
       "</table>\n",
       "<table class=\"simpletable\">\n",
       "<tr>\n",
       "  <th>Omnibus:</th>       <td>11.548</td> <th>  Durbin-Watson:     </th> <td>   1.924</td>\n",
       "</tr>\n",
       "<tr>\n",
       "  <th>Prob(Omnibus):</th> <td> 0.003</td> <th>  Jarque-Bera (JB):  </th> <td>  11.803</td>\n",
       "</tr>\n",
       "<tr>\n",
       "  <th>Skew:</th>          <td>-0.253</td> <th>  Prob(JB):          </th> <td> 0.00274</td>\n",
       "</tr>\n",
       "<tr>\n",
       "  <th>Kurtosis:</th>      <td> 2.872</td> <th>  Cond. No.          </th> <td>2.42e+04</td>\n",
       "</tr>\n",
       "</table><br/><br/>Warnings:<br/>[1] Standard Errors assume that the covariance matrix of the errors is correctly specified.<br/>[2] The condition number is large, 2.42e+04. This might indicate that there are<br/>strong multicollinearity or other numerical problems."
      ],
      "text/plain": [
       "<class 'statsmodels.iolib.summary.Summary'>\n",
       "\"\"\"\n",
       "                            OLS Regression Results                            \n",
       "==============================================================================\n",
       "Dep. Variable:            Valor_PETR4   R-squared:                       0.782\n",
       "Model:                            OLS   Adj. R-squared:                  0.781\n",
       "Method:                 Least Squares   F-statistic:                     1232.\n",
       "Date:                Thu, 21 Nov 2019   Prob (F-statistic):               0.00\n",
       "Time:                        20:10:12   Log-Likelihood:                -2659.6\n",
       "No. Observations:                1037   AIC:                             5327.\n",
       "Df Residuals:                    1033   BIC:                             5347.\n",
       "Df Model:                           3                                         \n",
       "Covariance Type:            nonrobust                                         \n",
       "==============================================================================\n",
       "                 coef    std err          t      P>|t|      [0.025      0.975]\n",
       "------------------------------------------------------------------------------\n",
       "const        -48.4551      1.809    -26.792      0.000     -52.004     -44.906\n",
       "Valor_CRD      3.9956      0.259     15.408      0.000       3.487       4.504\n",
       "Valor_RDS      0.4700      0.013     36.084      0.000       0.444       0.496\n",
       "Valor_GOLD     0.0202      0.001     14.912      0.000       0.018       0.023\n",
       "==============================================================================\n",
       "Omnibus:                       11.548   Durbin-Watson:                   1.924\n",
       "Prob(Omnibus):                  0.003   Jarque-Bera (JB):               11.803\n",
       "Skew:                          -0.253   Prob(JB):                      0.00274\n",
       "Kurtosis:                       2.872   Cond. No.                     2.42e+04\n",
       "==============================================================================\n",
       "\n",
       "Warnings:\n",
       "[1] Standard Errors assume that the covariance matrix of the errors is correctly specified.\n",
       "[2] The condition number is large, 2.42e+04. This might indicate that there are\n",
       "strong multicollinearity or other numerical problems.\n",
       "\"\"\""
      ]
     },
     "execution_count": 41,
     "metadata": {},
     "output_type": "execute_result"
    }
   ],
   "source": [
    "results = regress(X_train_valor, Y_train_valor)\n",
    "results.summary()"
   ]
  },
  {
   "cell_type": "markdown",
   "metadata": {},
   "source": [
    "Adicionando uma coluna p equivaler a função regress"
   ]
  },
  {
   "cell_type": "code",
   "execution_count": null,
   "metadata": {},
   "outputs": [],
   "source": [
    "X_test_valor_n = sm.add_constant(X_test_valor)"
   ]
  },
  {
   "cell_type": "markdown",
   "metadata": {},
   "source": [
    "Teste do modelo"
   ]
  },
  {
   "cell_type": "code",
   "execution_count": 52,
   "metadata": {},
   "outputs": [
    {
     "ename": "ValueError",
     "evalue": "shapes (260,4) and (5,) not aligned: 4 (dim 1) != 5 (dim 0)",
     "output_type": "error",
     "traceback": [
      "\u001b[1;31m---------------------------------------------------------------------------\u001b[0m",
      "\u001b[1;31mValueError\u001b[0m                                Traceback (most recent call last)",
      "\u001b[1;32m<ipython-input-52-29b6785209af>\u001b[0m in \u001b[0;36m<module>\u001b[1;34m\u001b[0m\n\u001b[1;32m----> 1\u001b[1;33m \u001b[0my_pred_valor\u001b[0m \u001b[1;33m=\u001b[0m \u001b[0mresults_valor\u001b[0m\u001b[1;33m.\u001b[0m\u001b[0mpredict\u001b[0m\u001b[1;33m(\u001b[0m\u001b[0mX_test_valor_n\u001b[0m\u001b[1;33m)\u001b[0m\u001b[1;33m\u001b[0m\u001b[1;33m\u001b[0m\u001b[0m\n\u001b[0m",
      "\u001b[1;32m~\\Anaconda3\\lib\\site-packages\\statsmodels\\base\\model.py\u001b[0m in \u001b[0;36mpredict\u001b[1;34m(self, exog, transform, *args, **kwargs)\u001b[0m\n\u001b[0;32m    852\u001b[0m \u001b[1;33m\u001b[0m\u001b[0m\n\u001b[0;32m    853\u001b[0m         predict_results = self.model.predict(self.params, exog, *args,\n\u001b[1;32m--> 854\u001b[1;33m                                              **kwargs)\n\u001b[0m\u001b[0;32m    855\u001b[0m \u001b[1;33m\u001b[0m\u001b[0m\n\u001b[0;32m    856\u001b[0m         if exog_index is not None and not hasattr(predict_results,\n",
      "\u001b[1;32m~\\Anaconda3\\lib\\site-packages\\statsmodels\\regression\\linear_model.py\u001b[0m in \u001b[0;36mpredict\u001b[1;34m(self, params, exog)\u001b[0m\n\u001b[0;32m    343\u001b[0m             \u001b[0mexog\u001b[0m \u001b[1;33m=\u001b[0m \u001b[0mself\u001b[0m\u001b[1;33m.\u001b[0m\u001b[0mexog\u001b[0m\u001b[1;33m\u001b[0m\u001b[1;33m\u001b[0m\u001b[0m\n\u001b[0;32m    344\u001b[0m \u001b[1;33m\u001b[0m\u001b[0m\n\u001b[1;32m--> 345\u001b[1;33m         \u001b[1;32mreturn\u001b[0m \u001b[0mnp\u001b[0m\u001b[1;33m.\u001b[0m\u001b[0mdot\u001b[0m\u001b[1;33m(\u001b[0m\u001b[0mexog\u001b[0m\u001b[1;33m,\u001b[0m \u001b[0mparams\u001b[0m\u001b[1;33m)\u001b[0m\u001b[1;33m\u001b[0m\u001b[1;33m\u001b[0m\u001b[0m\n\u001b[0m\u001b[0;32m    346\u001b[0m \u001b[1;33m\u001b[0m\u001b[0m\n\u001b[0;32m    347\u001b[0m     \u001b[1;32mdef\u001b[0m \u001b[0mget_distribution\u001b[0m\u001b[1;33m(\u001b[0m\u001b[0mself\u001b[0m\u001b[1;33m,\u001b[0m \u001b[0mparams\u001b[0m\u001b[1;33m,\u001b[0m \u001b[0mscale\u001b[0m\u001b[1;33m,\u001b[0m \u001b[0mexog\u001b[0m\u001b[1;33m=\u001b[0m\u001b[1;32mNone\u001b[0m\u001b[1;33m,\u001b[0m \u001b[0mdist_class\u001b[0m\u001b[1;33m=\u001b[0m\u001b[1;32mNone\u001b[0m\u001b[1;33m)\u001b[0m\u001b[1;33m:\u001b[0m\u001b[1;33m\u001b[0m\u001b[1;33m\u001b[0m\u001b[0m\n",
      "\u001b[1;31mValueError\u001b[0m: shapes (260,4) and (5,) not aligned: 4 (dim 1) != 5 (dim 0)"
     ]
    }
   ],
   "source": [
    "y_pred_valor = results_valor.predict(X_test_valor_n)"
   ]
  },
  {
   "cell_type": "markdown",
   "metadata": {},
   "source": [
    "**Avaliando o modelo**"
   ]
  },
  {
   "cell_type": "markdown",
   "metadata": {},
   "source": [
    "A partir de agora será utilizada a base de teste para avaliar a acurácia do algoritmo obtido."
   ]
  },
  {
   "cell_type": "code",
   "execution_count": 54,
   "metadata": {
    "scrolled": true
   },
   "outputs": [
    {
     "name": "stdout",
     "output_type": "stream",
     "text": [
      "15.0919881  -  13.6546559\n",
      "11.404597087810213\n",
      "7.555935450000001  -  6.836322549999999\n",
      "10.422795597396718\n",
      "15.0522183  -  13.618673699999999\n",
      "15.817071266014347\n",
      "26.495038500000003  -  23.971701499999998\n",
      "20.387918358809664\n",
      "28.542429825000003  -  25.824103175\n",
      "22.862681163136024\n",
      "18.32581695  -  16.58050105\n",
      "21.400887501774093\n",
      "13.43167035  -  12.15246365\n",
      "11.778226094972773\n",
      "14.61476835  -  13.22288565\n",
      "12.146604944634143\n",
      "21.27592215  -  19.24964385\n",
      "22.87652774637389\n",
      "9.34549875  -  8.45545125\n",
      "11.68921497768527\n",
      "14.932916250000002  -  13.51073375\n",
      "15.503239649110615\n",
      "29.143978500000003  -  26.3683615\n",
      "22.43970456651523\n",
      "13.26265605  -  11.999545949999998\n",
      "13.981898555954817\n",
      "12.80532225  -  11.585767749999999\n",
      "12.846187251256397\n",
      "19.1866269  -  17.359329099999997\n",
      "22.563695637768326\n",
      "8.7887457  -  7.951722299999999\n",
      "10.29743542487301\n",
      "8.858339700000002  -  8.0146883\n",
      "11.949112255614395\n",
      "13.372015650000002  -  12.098490349999999\n",
      "14.675621615996759\n",
      "12.775497  -  11.558783\n",
      "13.549909082045001\n",
      "8.31152805  -  7.51995395\n",
      "9.006395094756762\n",
      "9.1466571  -  8.2755469\n",
      "12.18149780195888\n",
      "20.262513600000002  -  18.3327504\n",
      "21.132231556086644\n",
      "25.551282225000005  -  23.117826775\n",
      "18.901582075201706\n",
      "10.20051165  -  9.22903435\n",
      "10.758577117937032\n",
      "13.8691182  -  12.548249799999999\n",
      "11.558901573750912\n",
      "7.715008350000001  -  6.98024565\n",
      "7.275541661891509\n",
      "28.399819349999998  -  25.69507465\n",
      "25.343877023372784\n",
      "7.615587  -  6.890293\n",
      "8.409310405993965\n",
      "19.87409655  -  17.981325449999996\n",
      "20.33018524982539\n",
      "6.5319072  -  5.909820799999999\n",
      "10.608809322336882\n",
      "27.573000000000004  -  24.947\n",
      "25.643237526459863\n",
      "10.19057025  -  9.220039749999998\n",
      "11.681413973113749\n",
      "16.4043348  -  14.8420172\n",
      "18.378870613643674\n",
      "19.85421375  -  17.963336249999998\n",
      "21.11011937031043\n",
      "14.2866822  -  12.926045799999999\n",
      "10.680714439163689\n",
      "9.067122750000001  -  8.20358725\n",
      "11.817268949268488\n",
      "15.640189950000002  -  14.15064805\n",
      "22.568257711689444\n",
      "15.88734735  -  14.374266650000001\n",
      "16.311083868759024\n",
      "11.3736714  -  10.2904646\n",
      "12.688074958417905\n",
      "17.58743385  -  15.912440149999998\n",
      "10.323547202750536\n",
      "9.4946292  -  8.590378799999998\n",
      "11.614246629241412\n",
      "22.8368196  -  20.661884399999998\n",
      "23.418861135609948\n",
      "4.886503125  -  4.421121875\n",
      "4.6641988394585505\n",
      "12.765554550000001  -  11.54978745\n",
      "13.396538918651098\n",
      "28.282231950000003  -  25.58868605\n",
      "22.350093483292724\n",
      "27.951253050000002  -  25.28922895\n",
      "21.791009271453547\n",
      "24.785897325  -  22.425335675\n",
      "19.34114521189721\n",
      "9.2460795  -  8.3655005\n",
      "9.570059585801806\n",
      "25.646156550000004  -  23.20366545\n",
      "19.131349045250552\n",
      "26.087862150000003  -  23.60330385\n",
      "25.23260171204552\n",
      "8.967702449999999  -  8.11363555\n",
      "8.851100729652345\n",
      "15.410130750000002  -  13.94249925\n",
      "11.191218811086635\n",
      "28.003111500000003  -  25.3361485\n",
      "22.802849840077826\n",
      "23.52261345  -  21.282364549999997\n",
      "19.7298141327398\n",
      "14.4358137  -  13.060974299999998\n",
      "10.064111490278547\n",
      "10.13091975  -  9.16607025\n",
      "9.936540429065\n",
      "19.274564400000003  -  17.438891599999998\n",
      "22.368751576618116\n",
      "29.043000000000003  -  26.276999999999997\n",
      "26.357532137199236\n",
      "12.88485765  -  11.65772835\n",
      "13.571880583254684\n",
      "9.84260025  -  8.905209750000001\n",
      "11.945292541771622\n",
      "14.3662197  -  12.9980083\n",
      "12.030564865429525\n",
      "9.454861500000002  -  8.5543985\n",
      "10.245849884895875\n",
      "9.763063800000001  -  8.8332482\n",
      "10.545253372273406\n",
      "27.846321300000003  -  25.1942907\n",
      "22.389413907686027\n",
      "15.15163755  -  13.708624449999999\n",
      "19.023520811829844\n",
      "9.444918000000001  -  8.545402\n",
      "7.5752858312607785\n",
      "16.931261550000002  -  15.31876045\n",
      "21.353506985988112\n",
      "15.13175475  -  13.690635249999998\n",
      "18.8038990541414\n",
      "7.655355750000001  -  6.92627425\n",
      "9.659625379749718\n",
      "13.88900205  -  12.566239949999998\n",
      "12.050015026088586\n",
      "16.80201285  -  15.201821149999999\n",
      "18.283737090464168\n",
      "27.660851400000002  -  25.0264846\n",
      "21.457289648275452\n",
      "7.6752396  -  6.944264399999999\n",
      "7.58120976334326\n",
      "15.2112912  -  13.762596799999999\n",
      "9.98242336875101\n",
      "19.475522325  -  17.620710674999998\n",
      "23.3854615327271\n",
      "15.97889475  -  14.45709525\n",
      "22.877977062274915\n",
      "26.022148950000002  -  23.54384905\n",
      "21.699798441419315\n",
      "25.7421192  -  23.290488800000002\n",
      "20.21417741166146\n",
      "13.5807987  -  12.2873893\n",
      "10.802552612747027\n",
      "20.321492100000004  -  18.3861119\n",
      "19.835715417984776\n",
      "19.6448742  -  17.7739338\n",
      "21.97238377429608\n",
      "9.782948700000002  -  8.8512393\n",
      "13.92240086923887\n",
      "19.9536687  -  18.0533193\n",
      "22.400616568566885\n",
      "19.81444815  -  17.927357849999996\n",
      "23.009443388770137\n",
      "10.45569105  -  9.45991095\n",
      "11.596015768701644\n",
      "13.053871950000001  -  11.810646049999999\n",
      "13.849745778379166\n",
      "28.885500000000004  -  26.1345\n",
      "25.67593747624718\n",
      "13.401841950000001  -  12.12547605\n",
      "11.41452134621378\n",
      "9.21625425  -  8.338515750000001\n",
      "11.09994661995363\n",
      "15.65868255  -  14.16737945\n",
      "19.643464352914\n",
      "12.2187429  -  11.0550531\n",
      "13.113747947668548\n",
      "27.743822400000003  -  25.1015536\n",
      "22.847153168150136\n",
      "15.748160400000002  -  14.248335599999999\n",
      "11.390393829981004\n",
      "8.2518765  -  7.465983499999999\n",
      "11.068512309866254\n",
      "7.24773315  -  6.55747285\n",
      "6.065074812671927\n",
      "7.72494975  -  6.98924025\n",
      "9.01246986792674\n",
      "20.4010233  -  18.4580687\n",
      "22.049340277507184\n",
      "7.973500500000001  -  7.2141195\n",
      "11.456465033108874\n",
      "9.36538365  -  8.473442350000001\n",
      "13.033062926247656\n",
      "8.048064675000001  -  7.281582325\n",
      "9.952367409143056\n",
      "12.959422875000001  -  11.725192125\n",
      "10.893799463958283\n",
      "18.964973999999998  -  17.158786\n",
      "20.87924170535239\n",
      "7.9039065  -  7.1511534999999995\n",
      "11.311345964704408\n",
      "11.4830352  -  10.389412799999999\n",
      "13.641643708121446\n",
      "7.19802195  -  6.51249605\n",
      "7.772429155254758\n",
      "21.7730247  -  19.6994033\n",
      "20.15895342110895\n",
      "14.59488765  -  13.20489835\n",
      "12.61623188307717\n",
      "8.848396200000002  -  8.0056918\n",
      "10.544695878609948\n",
      "10.2800502  -  9.3009978\n",
      "9.78701417075106\n",
      "8.57002125  -  7.753828749999999\n",
      "11.003608815220062\n",
      "8.082862200000001  -  7.3130657999999995\n",
      "10.982930055964141\n",
      "15.678567450000001  -  14.18537055\n",
      "11.46180788330543\n",
      "12.9743355  -  11.7386845\n",
      "14.017783747169803\n",
      "8.2518765  -  7.465983499999999\n",
      "10.469760837097216\n",
      "28.276500000000002  -  25.583499999999997\n",
      "24.82240040869294\n",
      "13.07375685  -  11.82863715\n",
      "13.977397829038074\n",
      "15.46978335  -  13.99647065\n",
      "11.37522226945616\n",
      "28.6335  -  25.906499999999998\n",
      "26.4624409530987\n",
      "13.083699300000001  -  11.837632699999999\n",
      "11.26835303983207\n",
      "18.9296058  -  17.1267862\n",
      "20.072923448116118\n",
      "14.20714785  -  12.854086149999999\n",
      "10.448312433297623\n",
      "18.685341150000003  -  16.90578485\n",
      "22.25040426047861\n",
      "9.3206442  -  8.4329638\n",
      "11.556754916227153\n",
      "12.775497  -  11.558783\n",
      "10.823720065122851\n",
      "12.4573491  -  11.270934899999999\n",
      "11.486119211740172\n",
      "14.575002750000001  -  13.186907249999999\n",
      "9.64520011895507\n",
      "8.689325400000001  -  7.8617706\n",
      "8.954386374174064\n",
      "25.41646065  -  22.99584535\n",
      "19.6464565279505\n",
      "13.34716215  -  12.076003850000001\n",
      "10.727806141810474\n",
      "7.9039065  -  7.1511534999999995\n",
      "12.222137873214963\n",
      "26.3851791  -  23.8723049\n",
      "18.942459511000003\n",
      "25.2370965  -  22.833563499999997\n",
      "19.64988201487426\n",
      "28.623  -  25.897000000000002\n",
      "25.210212172310825\n",
      "15.31071255  -  13.85254945\n",
      "16.23437041022803\n",
      "14.922974850000001  -  13.50173915\n",
      "18.70332773878086\n",
      "12.80532225  -  11.585767749999999\n",
      "12.61132884605658\n",
      "13.43167035  -  12.15246365\n",
      "11.140152861673743\n",
      "9.559253025  -  8.648847974999999\n",
      "11.413144135324206\n",
      "7.44657375  -  6.73737625\n",
      "7.67272020114232\n",
      "15.9271182  -  14.4102498\n",
      "18.078345936301666\n",
      "24.655549800000003  -  22.3074022\n",
      "19.38300941617974\n",
      "12.68601915  -  11.47782685\n",
      "12.33520760868361\n",
      "29.527723050000002  -  26.71555895\n",
      "22.60931389695093\n",
      "26.34366735  -  23.834746649999996\n",
      "20.51112712645355\n",
      "23.92842585  -  21.64952815\n",
      "22.13155304842954\n",
      "28.065339750000003  -  25.39245025\n",
      "21.980159185208556\n",
      "27.784048950000003  -  25.13794905\n",
      "22.90129869795924\n",
      "10.309875450000002  -  9.32798255\n",
      "11.159387253410808\n",
      "15.90723225  -  14.392257749999999\n",
      "11.561209173212857\n",
      "15.012450600000001  -  13.5826934\n",
      "10.486497969607809\n",
      "10.65121785  -  9.63681615\n",
      "11.286840739410838\n",
      "4.5435033  -  4.1107887\n",
      "6.511793198735\n",
      "7.93373175  -  7.17813825\n",
      "6.912403285662162\n",
      "7.99338435  -  7.232109649999999\n",
      "9.878204120406508\n",
      "7.6056456  -  6.8812983999999995\n",
      "8.360793834478663\n",
      "9.978473750000001  -  9.028142916666665\n",
      "11.927527909643507\n",
      "14.241944325  -  12.885568675\n",
      "10.31931827616378\n",
      "8.415919575  -  7.614403424999999\n",
      "10.797243985816861\n",
      "8.077890974999999  -  7.308568024999999\n",
      "9.76761592980296\n",
      "22.1408796  -  20.0322244\n",
      "23.38806963459863\n",
      "29.06657985  -  26.29833415\n",
      "25.65474004728312\n",
      "7.86413775  -  7.11517225\n",
      "8.293214865829931\n",
      "14.86332015  -  13.44776585\n",
      "18.583600749200205\n",
      "6.57167595  -  5.94580205\n",
      "10.129932114785063\n",
      "14.27673975  -  12.917050249999999\n",
      "10.751119892106733\n",
      "9.3852675  -  8.4914325\n",
      "11.21899992413288\n",
      "12.87491415  -  11.648731849999999\n",
      "11.011419409726729\n",
      "13.302422700000001  -  12.0355253\n",
      "9.767242850938286\n",
      "12.2783955  -  11.109024499999999\n",
      "11.931480357781261\n",
      "15.241116450000002  -  13.78958155\n",
      "18.538184228463205\n",
      "20.4109689  -  18.4670671\n",
      "22.052807864271383\n",
      "8.09280465  -  7.322061349999999\n",
      "9.066276777782603\n",
      "16.414276200000003  -  14.8510118\n",
      "17.003508416660576\n",
      "29.3265  -  26.5335\n",
      "25.27228543064538\n",
      "29.24368755  -  26.458574449999997\n",
      "25.497140732485864\n",
      "18.43566795  -  16.67989005\n",
      "19.692706791322312\n",
      "11.5128594  -  10.416396599999999\n",
      "9.800467062904126\n",
      "25.69026285  -  23.243571149999998\n",
      "19.857870059153967\n",
      "25.4264451  -  23.004878899999998\n",
      "19.45704820489001\n",
      "28.12288605  -  25.44451595\n",
      "20.06452933913516\n",
      "16.5367608  -  14.961831199999999\n",
      "23.35253273829457\n",
      "27.1704804  -  24.5828156\n",
      "24.89584904111675\n",
      "28.29563835  -  25.600815649999998\n",
      "23.960532989800857\n",
      "7.3272696  -  6.6294344\n",
      "10.970379560589313\n",
      "15.171523500000001  -  13.7266165\n",
      "17.87716046124864\n",
      "9.6934698  -  8.770282199999999\n",
      "11.112591147568548\n",
      "8.540196000000002  -  7.726844000000001\n",
      "8.626612384467057\n",
      "28.6602729  -  25.930723099999998\n",
      "26.231836093093346\n",
      "30.243360000000003  -  27.363039999999998\n",
      "23.1250640476606\n",
      "16.165724400000002  -  14.626131599999999\n",
      "10.333482369536664\n",
      "11.860830975  -  10.731228024999998\n",
      "9.052678743480856\n",
      "13.03398915  -  11.79265685\n",
      "11.142802631571397\n",
      "12.9743355  -  11.7386845\n",
      "13.570835242232887\n",
      "13.88900205  -  12.566239949999998\n",
      "11.319127364996849\n",
      "9.763063800000001  -  8.8332482\n",
      "13.637001131500314\n",
      "16.02653955  -  14.500202449999998\n",
      "17.01244642217861\n",
      "14.256855900000001  -  12.8990601\n",
      "10.426223176969145\n",
      "11.721640350000001  -  10.60529365\n",
      "8.97283239546021\n",
      "25.76599935  -  23.31209465\n",
      "19.795485485049877\n",
      "15.9569424  -  14.4372336\n",
      "20.00565168589297\n",
      "8.05303695  -  7.286081049999999\n",
      "11.106546031517732\n",
      "26.488871850000002  -  23.966122149999997\n",
      "19.525121748595094\n",
      "9.77300625  -  8.84224375\n",
      "12.029932768590033\n",
      "25.6384023  -  23.1966497\n",
      "20.24252357873937\n",
      "13.491320850000001  -  12.206433149999999\n",
      "11.499205241733586\n",
      "13.76969895  -  12.458299049999999\n",
      "14.902373356186247\n",
      "9.05718135  -  8.19459265\n",
      "11.213659703094727\n",
      "11.860830450000002  -  10.73122755\n",
      "11.890213410459296\n",
      "13.1334084  -  11.8826076\n",
      "10.136824632843078\n",
      "12.198860100000001  -  11.0370639\n",
      "10.30460596603602\n",
      "27.2954976  -  24.6959264\n",
      "22.945495690096802\n",
      "16.6230561  -  15.0399079\n",
      "18.14844671037245\n",
      "14.8036686  -  13.3937954\n",
      "11.483481323870889\n",
      "13.491320850000001  -  12.206433149999999\n",
      "11.664303996017006\n",
      "8.3910645  -  7.5919155\n",
      "9.888180206455322\n",
      "14.952800100000001  -  13.5287239\n",
      "15.767380124451712\n",
      "12.208801500000002  -  11.0460585\n",
      "13.479377346418385\n",
      "13.04393055  -  11.80165145\n",
      "10.515774345344528\n",
      "14.5650603  -  13.177911700000001\n",
      "12.540619563991527\n",
      "26.0947512  -  23.609536799999997\n",
      "20.308584144984188\n",
      "27.07950105  -  24.50050095\n",
      "24.60466516221517\n",
      "13.23282975  -  11.97256025\n",
      "14.066589459728654\n",
      "14.644594650000002  -  13.24987135\n",
      "12.159714979378643\n",
      "26.880000000000003  -  24.32\n",
      "25.56166488789057\n",
      "29.04026265  -  26.27452335\n",
      "22.26924441600729\n",
      "25.49400105  -  23.066000949999996\n",
      "24.935753267830435\n",
      "19.58510295  -  17.71985505\n",
      "22.78335471790528\n",
      "14.75395845  -  13.34881955\n",
      "10.670126298659063\n",
      "23.3621115  -  21.1371485\n",
      "19.329846562172573\n",
      "20.26183845  -  18.33213955\n",
      "20.72941436896888\n",
      "27.8789133  -  25.223778699999997\n",
      "24.322342316092136\n",
      "25.799542650000003  -  23.34244335\n",
      "25.470653938696593\n",
      "9.61393335  -  8.69832065\n",
      "11.119495480300506\n",
      "14.61476835  -  13.22288565\n",
      "11.43295721340792\n",
      "25.03154955  -  22.647592449999998\n",
      "19.70401356629552\n",
      "22.058645700000003  -  19.9578223\n",
      "18.750427209359955\n",
      "22.200532199999998  -  20.0861958\n",
      "19.680036754509\n",
      "11.7017586  -  10.5873054\n",
      "8.720893272251592\n",
      "27.231194549999998  -  24.63774745\n",
      "25.031295163716\n",
      "28.431074175  -  25.723352825\n",
      "25.373288009101188\n",
      "9.474744300000001  -  8.5723877\n",
      "12.267003382083493\n",
      "6.77383  -  6.128703333333332\n",
      "6.6494868522090815\n",
      "18.33580665  -  16.58953935\n",
      "20.435867222097357\n",
      "9.1367157  -  8.2665523\n",
      "9.057738841152442\n",
      "18.1143627  -  16.3891853\n",
      "22.076694811872144\n",
      "6.661153800000001  -  6.0267582\n",
      "6.567336759071718\n",
      "12.3181653  -  11.1450067\n",
      "10.554436985877127\n",
      "22.2601848  -  20.140167199999997\n",
      "19.74725456549433\n",
      "9.4349766  -  8.5364074\n",
      "10.652322840590111\n",
      "15.489668250000001  -  14.014461749999999\n",
      "10.561616961425875\n",
      "15.20466395  -  13.756600716666664\n",
      "11.475894078185338\n",
      "26.203651425  -  23.708065574999996\n",
      "20.194994522380625\n",
      "13.153291200000002  -  11.900596799999999\n",
      "12.43790573173486\n",
      "6.2336463  -  5.639965699999999\n",
      "5.3851757103984905\n",
      "9.096948000000001  -  8.230571999999999\n",
      "9.545291864850359\n",
      "15.777986700000001  -  14.2753213\n",
      "16.207189580057385\n",
      "16.45404285  -  14.88699115\n",
      "21.109542435259577\n",
      "7.406805  -  6.701395\n",
      "6.245576817151235\n",
      "14.06795985  -  12.72815415\n",
      "11.878244225852834\n",
      "12.6064827  -  11.405865299999999\n",
      "9.898408734291158\n",
      "0.1076923076923077\n"
     ]
    },
    {
     "data": {
      "text/plain": [
       "28"
      ]
     },
     "execution_count": 54,
     "metadata": {},
     "output_type": "execute_result"
    }
   ],
   "source": [
    "lista_pred = []\n",
    "lista_Y_valor = []\n",
    "acertos = 0\n",
    "\n",
    "\n",
    "for e in y_pred_valor:\n",
    "    lista_pred.append(e)\n",
    "    \n",
    "for e in Y_test_valor:\n",
    "    lista_Y_valor.append(e)\n",
    "\n",
    "# \n",
    "i = 0\n",
    "while i < len(lista_pred):\n",
    "    a = lista_Y_valor[i]*1.05\n",
    "    b = lista_Y_valor[i]*0.95\n",
    "    print(a, \" - \",b)\n",
    "    print(lista_pred[i])\n",
    "    if lista_pred[i] < a and lista_pred[i] > b:\n",
    "        acertos += 1\n",
    "    i += 1\n",
    "        \n",
    "acc = acertos/len(lista_Y_valor)\n",
    "print(acc)\n",
    "acertos"
   ]
  },
  {
   "cell_type": "markdown",
   "metadata": {},
   "source": [
    "Acertos Totais"
   ]
  },
  {
   "cell_type": "code",
   "execution_count": 55,
   "metadata": {},
   "outputs": [
    {
     "name": "stdout",
     "output_type": "stream",
     "text": [
      "Os acertos totais foram 28 de 260\n"
     ]
    }
   ],
   "source": [
    "print(f'Os acertos totais foram {acertos} de {len(lista_Y_valor)}')"
   ]
  },
  {
   "cell_type": "markdown",
   "metadata": {},
   "source": [
    "Acertos em %"
   ]
  },
  {
   "cell_type": "code",
   "execution_count": 57,
   "metadata": {},
   "outputs": [
    {
     "name": "stdout",
     "output_type": "stream",
     "text": [
      "O acerto em % foi de 10.76923076923077%\n"
     ]
    }
   ],
   "source": [
    "print(f'O acerto em % foi de {acc*100}%')"
   ]
  },
  {
   "cell_type": "markdown",
   "metadata": {},
   "source": [
    "### Conclusão da regressão linear por valores absolutos"
   ]
  },
  {
   "cell_type": "markdown",
   "metadata": {},
   "source": [
    "# FAZER O QUE TA NA CELULA DE BAIXO SAPORI!!!!!!!!!!"
   ]
  },
  {
   "cell_type": "markdown",
   "metadata": {},
   "source": [
    "Explicar o por que não é recomendável usar valores absolutos para fazer predições, apesar de ter dado melhor que por variação percentual"
   ]
  },
  {
   "cell_type": "markdown",
   "metadata": {},
   "source": [
    "**Análise dos parâmetros individuais por meio da regressão**"
   ]
  },
  {
   "cell_type": "markdown",
   "metadata": {},
   "source": [
    "A regressão feita acima correlaciona o preço da ação da PETR4 com outros 4 parâmetros, gerando uma correlação pentadimensional. Os coeficientes obtidos com a regressão, ao serem analisados bidimensionalmente com o preço da PETR4, se assemelham á correlação feita na primeira parte do código."
   ]
  },
  {
   "cell_type": "markdown",
   "metadata": {},
   "source": [
    "### Início da Regressão percentual:"
   ]
  },
  {
   "cell_type": "markdown",
   "metadata": {},
   "source": [
    "Usando regressão para aplicar o ajuste"
   ]
  },
  {
   "cell_type": "code",
   "execution_count": 43,
   "metadata": {
    "scrolled": true
   },
   "outputs": [
    {
     "data": {
      "text/html": [
       "<table class=\"simpletable\">\n",
       "<caption>OLS Regression Results</caption>\n",
       "<tr>\n",
       "  <th>Dep. Variable:</th>       <td>CALC_PETR4</td>    <th>  R-squared:         </th> <td>   0.009</td>\n",
       "</tr>\n",
       "<tr>\n",
       "  <th>Model:</th>                   <td>OLS</td>       <th>  Adj. R-squared:    </th> <td>   0.006</td>\n",
       "</tr>\n",
       "<tr>\n",
       "  <th>Method:</th>             <td>Least Squares</td>  <th>  F-statistic:       </th> <td>   2.437</td>\n",
       "</tr>\n",
       "<tr>\n",
       "  <th>Date:</th>             <td>Thu, 21 Nov 2019</td> <th>  Prob (F-statistic):</th>  <td>0.0456</td> \n",
       "</tr>\n",
       "<tr>\n",
       "  <th>Time:</th>                 <td>20:10:16</td>     <th>  Log-Likelihood:    </th> <td>  2169.9</td>\n",
       "</tr>\n",
       "<tr>\n",
       "  <th>No. Observations:</th>      <td>  1037</td>      <th>  AIC:               </th> <td>  -4330.</td>\n",
       "</tr>\n",
       "<tr>\n",
       "  <th>Df Residuals:</th>          <td>  1032</td>      <th>  BIC:               </th> <td>  -4305.</td>\n",
       "</tr>\n",
       "<tr>\n",
       "  <th>Df Model:</th>              <td>     4</td>      <th>                     </th>     <td> </td>   \n",
       "</tr>\n",
       "<tr>\n",
       "  <th>Covariance Type:</th>      <td>nonrobust</td>    <th>                     </th>     <td> </td>   \n",
       "</tr>\n",
       "</table>\n",
       "<table class=\"simpletable\">\n",
       "<tr>\n",
       "      <td></td>         <th>coef</th>     <th>std err</th>      <th>t</th>      <th>P>|t|</th>  <th>[0.025</th>    <th>0.975]</th>  \n",
       "</tr>\n",
       "<tr>\n",
       "  <th>const</th>     <td>    0.0005</td> <td>    0.001</td> <td>    0.498</td> <td> 0.618</td> <td>   -0.001</td> <td>    0.002</td>\n",
       "</tr>\n",
       "<tr>\n",
       "  <th>CALC_GOLD</th> <td>   -0.1382</td> <td>    0.120</td> <td>   -1.154</td> <td> 0.249</td> <td>   -0.373</td> <td>    0.097</td>\n",
       "</tr>\n",
       "<tr>\n",
       "  <th>CALC_RDS</th>  <td>    0.2113</td> <td>    0.081</td> <td>    2.598</td> <td> 0.010</td> <td>    0.052</td> <td>    0.371</td>\n",
       "</tr>\n",
       "<tr>\n",
       "  <th>CALC_OIL</th>  <td>   -0.0946</td> <td>    0.049</td> <td>   -1.937</td> <td> 0.053</td> <td>   -0.190</td> <td>    0.001</td>\n",
       "</tr>\n",
       "<tr>\n",
       "  <th>CALC_CRD</th>  <td>   -0.0961</td> <td>    0.093</td> <td>   -1.032</td> <td> 0.302</td> <td>   -0.279</td> <td>    0.087</td>\n",
       "</tr>\n",
       "</table>\n",
       "<table class=\"simpletable\">\n",
       "<tr>\n",
       "  <th>Omnibus:</th>       <td>84.060</td> <th>  Durbin-Watson:     </th> <td>   2.000</td>\n",
       "</tr>\n",
       "<tr>\n",
       "  <th>Prob(Omnibus):</th> <td> 0.000</td> <th>  Jarque-Bera (JB):  </th> <td> 425.466</td>\n",
       "</tr>\n",
       "<tr>\n",
       "  <th>Skew:</th>          <td> 0.124</td> <th>  Prob(JB):          </th> <td>4.08e-93</td>\n",
       "</tr>\n",
       "<tr>\n",
       "  <th>Kurtosis:</th>      <td> 6.128</td> <th>  Cond. No.          </th> <td>    131.</td>\n",
       "</tr>\n",
       "</table><br/><br/>Warnings:<br/>[1] Standard Errors assume that the covariance matrix of the errors is correctly specified."
      ],
      "text/plain": [
       "<class 'statsmodels.iolib.summary.Summary'>\n",
       "\"\"\"\n",
       "                            OLS Regression Results                            \n",
       "==============================================================================\n",
       "Dep. Variable:             CALC_PETR4   R-squared:                       0.009\n",
       "Model:                            OLS   Adj. R-squared:                  0.006\n",
       "Method:                 Least Squares   F-statistic:                     2.437\n",
       "Date:                Thu, 21 Nov 2019   Prob (F-statistic):             0.0456\n",
       "Time:                        20:10:16   Log-Likelihood:                 2169.9\n",
       "No. Observations:                1037   AIC:                            -4330.\n",
       "Df Residuals:                    1032   BIC:                            -4305.\n",
       "Df Model:                           4                                         \n",
       "Covariance Type:            nonrobust                                         \n",
       "==============================================================================\n",
       "                 coef    std err          t      P>|t|      [0.025      0.975]\n",
       "------------------------------------------------------------------------------\n",
       "const          0.0005      0.001      0.498      0.618      -0.001       0.002\n",
       "CALC_GOLD     -0.1382      0.120     -1.154      0.249      -0.373       0.097\n",
       "CALC_RDS       0.2113      0.081      2.598      0.010       0.052       0.371\n",
       "CALC_OIL      -0.0946      0.049     -1.937      0.053      -0.190       0.001\n",
       "CALC_CRD      -0.0961      0.093     -1.032      0.302      -0.279       0.087\n",
       "==============================================================================\n",
       "Omnibus:                       84.060   Durbin-Watson:                   2.000\n",
       "Prob(Omnibus):                  0.000   Jarque-Bera (JB):              425.466\n",
       "Skew:                           0.124   Prob(JB):                     4.08e-93\n",
       "Kurtosis:                       6.128   Cond. No.                         131.\n",
       "==============================================================================\n",
       "\n",
       "Warnings:\n",
       "[1] Standard Errors assume that the covariance matrix of the errors is correctly specified.\n",
       "\"\"\""
      ]
     },
     "execution_count": 43,
     "metadata": {},
     "output_type": "execute_result"
    }
   ],
   "source": [
    "results = regress(X_train,Y_train)\n",
    "results.summary()"
   ]
  },
  {
   "cell_type": "markdown",
   "metadata": {},
   "source": [
    "**Ajustando R-squared Para as Variáveis que Mais Influenciam o CALC_PETR4**"
   ]
  },
  {
   "cell_type": "markdown",
   "metadata": {},
   "source": [
    "* Removendo a variável com maior P>|t|"
   ]
  },
  {
   "cell_type": "markdown",
   "metadata": {},
   "source": [
    "Removendo CALC_CRD"
   ]
  },
  {
   "cell_type": "code",
   "execution_count": 44,
   "metadata": {},
   "outputs": [],
   "source": [
    "X1 = X_train[['CALC_RDS', 'CALC_OIL', 'CALC_CRD']]"
   ]
  },
  {
   "cell_type": "markdown",
   "metadata": {},
   "source": [
    "Usando regressão para aplicar o ajuste"
   ]
  },
  {
   "cell_type": "code",
   "execution_count": 45,
   "metadata": {
    "scrolled": true
   },
   "outputs": [
    {
     "data": {
      "text/html": [
       "<table class=\"simpletable\">\n",
       "<caption>OLS Regression Results</caption>\n",
       "<tr>\n",
       "  <th>Dep. Variable:</th>       <td>CALC_PETR4</td>    <th>  R-squared:         </th> <td>   0.008</td>\n",
       "</tr>\n",
       "<tr>\n",
       "  <th>Model:</th>                   <td>OLS</td>       <th>  Adj. R-squared:    </th> <td>   0.005</td>\n",
       "</tr>\n",
       "<tr>\n",
       "  <th>Method:</th>             <td>Least Squares</td>  <th>  F-statistic:       </th> <td>   2.804</td>\n",
       "</tr>\n",
       "<tr>\n",
       "  <th>Date:</th>             <td>Thu, 21 Nov 2019</td> <th>  Prob (F-statistic):</th>  <td>0.0387</td> \n",
       "</tr>\n",
       "<tr>\n",
       "  <th>Time:</th>                 <td>20:10:18</td>     <th>  Log-Likelihood:    </th> <td>  2169.2</td>\n",
       "</tr>\n",
       "<tr>\n",
       "  <th>No. Observations:</th>      <td>  1037</td>      <th>  AIC:               </th> <td>  -4330.</td>\n",
       "</tr>\n",
       "<tr>\n",
       "  <th>Df Residuals:</th>          <td>  1033</td>      <th>  BIC:               </th> <td>  -4311.</td>\n",
       "</tr>\n",
       "<tr>\n",
       "  <th>Df Model:</th>              <td>     3</td>      <th>                     </th>     <td> </td>   \n",
       "</tr>\n",
       "<tr>\n",
       "  <th>Covariance Type:</th>      <td>nonrobust</td>    <th>                     </th>     <td> </td>   \n",
       "</tr>\n",
       "</table>\n",
       "<table class=\"simpletable\">\n",
       "<tr>\n",
       "      <td></td>        <th>coef</th>     <th>std err</th>      <th>t</th>      <th>P>|t|</th>  <th>[0.025</th>    <th>0.975]</th>  \n",
       "</tr>\n",
       "<tr>\n",
       "  <th>const</th>    <td>    0.0004</td> <td>    0.001</td> <td>    0.465</td> <td> 0.642</td> <td>   -0.001</td> <td>    0.002</td>\n",
       "</tr>\n",
       "<tr>\n",
       "  <th>CALC_RDS</th> <td>    0.2106</td> <td>    0.081</td> <td>    2.589</td> <td> 0.010</td> <td>    0.051</td> <td>    0.370</td>\n",
       "</tr>\n",
       "<tr>\n",
       "  <th>CALC_OIL</th> <td>   -0.0934</td> <td>    0.049</td> <td>   -1.913</td> <td> 0.056</td> <td>   -0.189</td> <td>    0.002</td>\n",
       "</tr>\n",
       "<tr>\n",
       "  <th>CALC_CRD</th> <td>   -0.0815</td> <td>    0.092</td> <td>   -0.884</td> <td> 0.377</td> <td>   -0.263</td> <td>    0.099</td>\n",
       "</tr>\n",
       "</table>\n",
       "<table class=\"simpletable\">\n",
       "<tr>\n",
       "  <th>Omnibus:</th>       <td>84.104</td> <th>  Durbin-Watson:     </th> <td>   1.996</td>\n",
       "</tr>\n",
       "<tr>\n",
       "  <th>Prob(Omnibus):</th> <td> 0.000</td> <th>  Jarque-Bera (JB):  </th> <td> 426.904</td>\n",
       "</tr>\n",
       "<tr>\n",
       "  <th>Skew:</th>          <td> 0.122</td> <th>  Prob(JB):          </th> <td>1.99e-93</td>\n",
       "</tr>\n",
       "<tr>\n",
       "  <th>Kurtosis:</th>      <td> 6.134</td> <th>  Cond. No.          </th> <td>    103.</td>\n",
       "</tr>\n",
       "</table><br/><br/>Warnings:<br/>[1] Standard Errors assume that the covariance matrix of the errors is correctly specified."
      ],
      "text/plain": [
       "<class 'statsmodels.iolib.summary.Summary'>\n",
       "\"\"\"\n",
       "                            OLS Regression Results                            \n",
       "==============================================================================\n",
       "Dep. Variable:             CALC_PETR4   R-squared:                       0.008\n",
       "Model:                            OLS   Adj. R-squared:                  0.005\n",
       "Method:                 Least Squares   F-statistic:                     2.804\n",
       "Date:                Thu, 21 Nov 2019   Prob (F-statistic):             0.0387\n",
       "Time:                        20:10:18   Log-Likelihood:                 2169.2\n",
       "No. Observations:                1037   AIC:                            -4330.\n",
       "Df Residuals:                    1033   BIC:                            -4311.\n",
       "Df Model:                           3                                         \n",
       "Covariance Type:            nonrobust                                         \n",
       "==============================================================================\n",
       "                 coef    std err          t      P>|t|      [0.025      0.975]\n",
       "------------------------------------------------------------------------------\n",
       "const          0.0004      0.001      0.465      0.642      -0.001       0.002\n",
       "CALC_RDS       0.2106      0.081      2.589      0.010       0.051       0.370\n",
       "CALC_OIL      -0.0934      0.049     -1.913      0.056      -0.189       0.002\n",
       "CALC_CRD      -0.0815      0.092     -0.884      0.377      -0.263       0.099\n",
       "==============================================================================\n",
       "Omnibus:                       84.104   Durbin-Watson:                   1.996\n",
       "Prob(Omnibus):                  0.000   Jarque-Bera (JB):              426.904\n",
       "Skew:                           0.122   Prob(JB):                     1.99e-93\n",
       "Kurtosis:                       6.134   Cond. No.                         103.\n",
       "==============================================================================\n",
       "\n",
       "Warnings:\n",
       "[1] Standard Errors assume that the covariance matrix of the errors is correctly specified.\n",
       "\"\"\""
      ]
     },
     "execution_count": 45,
     "metadata": {},
     "output_type": "execute_result"
    }
   ],
   "source": [
    "results1 = regress(X1, Y_train)\n",
    "results1.summary()"
   ]
  },
  {
   "cell_type": "markdown",
   "metadata": {},
   "source": [
    "Como se pode perceber pela análise da regressão acima, o R-squared diminuiu 0.001. Por mais que o resultado tenha dado minimamente mais baixo, o novo resultado é mais conveniente."
   ]
  },
  {
   "cell_type": "markdown",
   "metadata": {},
   "source": [
    "**Análise da Influência dos Valores**"
   ]
  },
  {
   "cell_type": "markdown",
   "metadata": {},
   "source": [
    "Para visualizar o acerto da regressão para uma variável específica é necessário criar uma regressão com uma única variável de entrada (a que se quer analisar), e não três (CALC_GOLD, CALC_RDS, CALC_OIL). Isso é necessário pois com múltiplas variáveis há influência de umas nas outras, prejudicando a visualização do acerto de uma variável específica (VER DO TINTIM)."
   ]
  },
  {
   "cell_type": "markdown",
   "metadata": {},
   "source": [
    "**Treinando o Modelo**"
   ]
  },
  {
   "cell_type": "markdown",
   "metadata": {},
   "source": [
    "Criando nossas variáveis preditivas"
   ]
  },
  {
   "cell_type": "code",
   "execution_count": 46,
   "metadata": {},
   "outputs": [
    {
     "data": {
      "text/plain": [
       "Date\n",
       "2017-02-24   -0.004122\n",
       "2016-03-09    0.003165\n",
       "2017-09-19    0.003740\n",
       "2018-10-22   -0.000452\n",
       "2019-04-19    0.000826\n",
       "dtype: float64"
      ]
     },
     "execution_count": 46,
     "metadata": {},
     "output_type": "execute_result"
    }
   ],
   "source": [
    "X_new = sm.add_constant(X_test)\n",
    "y_pred = results.predict(X_new)\n",
    "y_pred.head()"
   ]
  },
  {
   "cell_type": "markdown",
   "metadata": {},
   "source": [
    "**Avaliando o modelo**"
   ]
  },
  {
   "cell_type": "markdown",
   "metadata": {},
   "source": [
    "A partir de agora será utilizada a base de teste para avaliar a acurácia do algoritmo obtido."
   ]
  },
  {
   "cell_type": "code",
   "execution_count": 47,
   "metadata": {},
   "outputs": [
    {
     "name": "stdout",
     "output_type": "stream",
     "text": [
      "0.011198907253312684  -  0.003732969084437561\n",
      "-0.004121532590491916\n",
      "0.06907901456463598  -  0.023026338188211995\n",
      "0.0031648940005789463\n",
      "0.07232506055270287  -  0.024108353517567623\n",
      "0.0037396952266373546\n",
      "-0.01865814990229208  -  -0.006219383300764027\n",
      "-0.00045203859716233286\n",
      "-0.004360430708355202  -  -0.0014534769027850674\n",
      "0.0008262333658086121\n",
      "-0.03269777694685523  -  -0.010899258982285078\n",
      "0.001967366974411146\n",
      "0.04885258183841601  -  0.01628419394613867\n",
      "-0.003628503626346663\n",
      "0.024489886971078834  -  0.008163295657026278\n",
      "-0.0004187705141316781\n",
      "0.028037560289719304  -  0.009345853429906435\n",
      "0.0026373543936065356\n",
      "-0.02712782182973371  -  -0.009042607276577902\n",
      "-0.004334658555699904\n",
      "0.0  -  0.0\n",
      "0.0037682643060230918\n",
      "0.004804337197819379  -  0.0016014457326064596\n",
      "0.0025621468221369396\n",
      "0.05059962706338919  -  0.016866542354463065\n",
      "0.0003121804307283189\n",
      "-0.010481204407019006  -  -0.0034937348023396687\n",
      "-0.002131336327607404\n",
      "0.031152639706565722  -  0.010384213235521907\n",
      "0.0038081442057092806\n",
      "0.04242103625776761  -  0.01414034541925587\n",
      "-0.0025805784135725955\n",
      "0.02861970003250147  -  0.009539900010833824\n",
      "0.002199213727985743\n",
      "0.022304857233696164  -  0.007434952411232055\n",
      "0.001047500679757886\n",
      "0.005836581152185274  -  0.0019455270507284248\n",
      "0.0015200058365407519\n",
      "-0.14712892955946882  -  -0.04904297651982294\n",
      "0.003167088759783688\n",
      "0.04891309962849705  -  0.01630436654283235\n",
      "0.005832101501190562\n",
      "-0.055309765467597284  -  -0.018436588489199095\n",
      "-0.0017764229718449764\n",
      "-0.02433061801069758  -  -0.00811020600356586\n",
      "0.0005629784773583729\n",
      "0.06286544214671827  -  0.020955147382239424\n",
      "-0.004108870674516412\n",
      "-0.10107520930926947  -  -0.033691736436423154\n",
      "0.002027704946258311\n",
      "0.011597826073642495  -  0.0038659420245474984\n",
      "0.003666091395827789\n",
      "-0.024211286928485266  -  -0.008070428976161755\n",
      "0.0025265268697258494\n",
      "0.01174944229512443  -  0.003916480765041477\n",
      "0.0020657268576483633\n",
      "-0.041270362802982186  -  -0.013756787600994063\n",
      "0.007039210359440979\n",
      "0.14840173326406114  -  0.049467244421353716\n",
      "0.0033476736981585134\n",
      "0.007425685453160585  -  0.0024752284843868617\n",
      "5.183327335955286e-05\n",
      "-0.0029269559277114786  -  -0.0009756519759038262\n",
      "0.0015785766841759025\n",
      "0.04090893554549988  -  0.013636311848499961\n",
      "-0.002484944132736549\n",
      "-0.06985478964131712  -  -0.02328492988043904\n",
      "-0.006155302267791399\n",
      "-0.08141951075246837  -  -0.027139836917489456\n",
      "0.0009624926566982895\n",
      "0.04605253634621846  -  0.015350845448739488\n",
      "-0.0025865147142778893\n",
      "0.03248408117958949  -  0.010828027059863162\n",
      "-0.004667255292672078\n",
      "-0.030037360201607296  -  -0.010012453400535765\n",
      "0.0024793071823708537\n",
      "0.05638120070885814  -  0.01879373356961938\n",
      "-0.005476113201147138\n",
      "-0.07037883187262128  -  -0.023459610624207095\n",
      "0.004652898293659067\n",
      "-0.020418735783804806  -  -0.006806245261268269\n",
      "0.0010730060121924105\n",
      "-0.01208094613577464  -  -0.004026982045258213\n",
      "-0.0007153266002836109\n",
      "-0.07782312888626257  -  -0.02594104296208752\n",
      "-0.0033263485460584496\n",
      "0.0011682747460429654  -  0.0003894249153476551\n",
      "0.0012455524342614235\n",
      "0.0066055677759194326  -  0.0022018559253064777\n",
      "0.0010092382178948582\n",
      "-0.006122446449677223  -  -0.0020408154832257407\n",
      "0.00047503219200523687\n",
      "-0.021237837613773087  -  -0.007079279204591029\n",
      "-0.002957581334139725\n",
      "-0.024193740709237917  -  -0.00806458023641264\n",
      "-0.0006409957353938469\n",
      "0.037383084016150384  -  0.01246102800538346\n",
      "-0.006405112316177435\n",
      "0.031440457645932465  -  0.010480152548644156\n",
      "0.00018778285576877835\n",
      "0.02827032636436342  -  0.009423442121454474\n",
      "-0.004921728128976791\n",
      "0.0  -  0.0\n",
      "0.005079001282034323\n",
      "0.018888788483379725  -  0.0062962628277932415\n",
      "-0.005409458489952657\n",
      "0.030423293590279198  -  0.0101410978634264\n",
      "-0.000312171453237038\n",
      "0.10950417190546047  -  0.03650139063515349\n",
      "0.0007306256446139699\n",
      "-0.16633941355620752  -  -0.05544647118540251\n",
      "-0.0003386096713252816\n",
      "-0.038860111671317546  -  -0.012953370557105848\n",
      "0.0017482311326447128\n",
      "-0.005965347071583539  -  -0.0019884490238611797\n",
      "0.004376764259780219\n",
      "-0.01620354921034  -  -0.005401183070113334\n",
      "0.0025190728607242113\n",
      "0.04999975997196473  -  0.016666586657321576\n",
      "0.0013867061939807428\n",
      "0.0  -  0.0\n",
      "0.0006159966426958428\n",
      "-0.10567830105179235  -  -0.03522610035059745\n",
      "-0.0008057194373595265\n",
      "-0.0488800144888944  -  -0.0162933381629648\n",
      "-0.0004315878966487229\n",
      "-0.008386102332303497  -  -0.0027953674441011656\n",
      "0.0016823831604086317\n",
      "0.06102366638251597  -  0.02034122212750532\n",
      "-0.0007408145926070911\n",
      "0.0821054878401272  -  0.027368495946709065\n",
      "-0.0014802579012604732\n",
      "-0.020258683854541288  -  -0.006752894618180429\n",
      "-0.001850533470958742\n",
      "-0.007884391266650692  -  -0.002628130422216897\n",
      "0.0003883722947128383\n",
      "0.10909089038742567  -  0.03636363012914189\n",
      "-0.002954413999585364\n",
      "0.001073662452227808  -  0.00035788748407593595\n",
      "-3.094242881710657e-05\n",
      "0.003550262134218249  -  0.001183420711406083\n",
      "0.0039091981889496545\n",
      "0.06074233853842971  -  0.02024744617947657\n",
      "-0.002538939565949796\n",
      "-0.02720201725038  -  -0.00906733908346\n",
      "-0.0004447092751626989\n",
      "0.015686227543918258  -  0.005228742514639419\n",
      "0.003760613102825692\n",
      "-0.019181610704245778  -  -0.006393870234748592\n",
      "-0.001529757411650299\n",
      "0.04769317508646831  -  0.01589772502882277\n",
      "0.0004160164652870352\n",
      "0.002391417600428481  -  0.000797139200142827\n",
      "-0.0008945630705211674\n",
      "0.020547958615621514  -  0.006849319538540504\n",
      "-0.002329964035389091\n",
      "0.03733527837357611  -  0.012445092791192035\n",
      "0.0006946387780822234\n",
      "-0.013943384354144073  -  -0.004647794784714691\n",
      "0.0008113804300628667\n",
      "0.022058719775360097  -  0.007352906591786699\n",
      "0.0017946600173321253\n",
      "0.07926800996104572  -  0.026422669987015236\n",
      "0.0033560198392650893\n",
      "-0.008258270821144878  -  -0.0027527569403816257\n",
      "-0.00046746385900124843\n",
      "-0.0060211745034140125  -  -0.0020070581678046707\n",
      "0.0007042698805114579\n",
      "-0.028050771450443716  -  -0.009350257150147905\n",
      "-0.0001229672307860119\n",
      "-0.00913940901649492  -  -0.003046469672164973\n",
      "0.000979181650359414\n",
      "-0.04307529989094876  -  -0.014358433296982918\n",
      "-0.001990202071156703\n",
      "0.032270370118788055  -  0.010756790039596018\n",
      "-0.0009383976703082065\n",
      "-0.004854577986496218  -  -0.001618192662165406\n",
      "-0.0037955722807293925\n",
      "0.010476190252672303  -  0.0034920634175574345\n",
      "-0.0028064126996174854\n",
      "-0.052481640725904846  -  -0.017493880241968282\n",
      "0.0016961023520130412\n",
      "0.04766352689022403  -  0.015887842296741343\n",
      "0.0010568743217053065\n",
      "0.0018938211983159697  -  0.0006312737327719899\n",
      "-7.499461058907565e-05\n",
      "0.037951922208239675  -  0.012650640736079893\n",
      "-0.003368268360195969\n",
      "-0.018518666074233206  -  -0.006172888691411069\n",
      "0.0027190550624281344\n",
      "0.00965251909891058  -  0.0032175063663035268\n",
      "0.005211728786209005\n",
      "-0.040204567826752094  -  -0.013401522608917365\n",
      "-0.003336067480007504\n",
      "-0.005611214923734037  -  -0.0018704049745780125\n",
      "0.0022200359020593113\n",
      "0.0636941579003013  -  0.0212313859667671\n",
      "0.00812219000469065\n",
      "0.07134029244117614  -  0.023780097480392046\n",
      "0.006997131609008903\n",
      "-0.0040275491434645545  -  -0.0013425163811548516\n",
      "-0.00022008434429248542\n",
      "0.010663507896188099  -  0.0035545026320626992\n",
      "-0.0008058584487810117\n",
      "0.018867942073960572  -  0.006289314024653524\n",
      "-0.00041825549096663706\n",
      "0.029869633248185163  -  0.009956544416061721\n",
      "0.004490495553837514\n",
      "-0.04557989712715463  -  -0.015193299042384876\n",
      "0.00898013318791923\n",
      "-0.01575345431909599  -  -0.005251151439698663\n",
      "0.0015336166648154135\n",
      "-0.003065527195065418  -  -0.0010218423983551393\n",
      "-0.0012384665181837918\n",
      "-0.06741545433962386  -  -0.02247181811320795\n",
      "0.002545826789241867\n",
      "-0.09429408477013072  -  -0.031431361590043574\n",
      "0.0028097427271271277\n",
      "0.13399081711728544  -  0.04466360570576181\n",
      "0.008416961892113124\n",
      "-0.031365306462851766  -  -0.010455102154283923\n",
      "-0.005652510940602911\n",
      "0.021876820130017568  -  0.007292273376672522\n",
      "0.0008235178038138213\n",
      "0.0632184573152128  -  0.021072819105070938\n",
      "-0.0027876508830682835\n",
      "0.08855403979931095  -  0.029518013266436986\n",
      "-0.015426989478055438\n",
      "0.009468993687337637  -  0.0031563312291125454\n",
      "0.0003560067088192561\n",
      "-0.0022814673962672435  -  -0.0007604891320890811\n",
      "0.0016921598516472472\n",
      "-0.03663224378640051  -  -0.01221074792880017\n",
      "-0.0008497701235787606\n",
      "0.003850385038503866  -  0.0012834616795012886\n",
      "-0.00037541607242206216\n",
      "0.050151853841520246  -  0.016717284613840082\n",
      "0.0020456213505256208\n",
      "0.07484234695473668  -  0.024947448984912225\n",
      "-0.007481082742391639\n",
      "0.0241426906104873  -  0.008047563536829101\n",
      "0.0022712370213897634\n",
      "-0.02886146395031182  -  -0.009620487983437273\n",
      "0.0019160638332179284\n",
      "-0.010400026856512751  -  -0.003466675618837584\n",
      "0.0005283732872313681\n",
      "0.017509620173680893  -  0.005836540057893631\n",
      "0.0010724806311374806\n",
      "0.0023943577209376383  -  0.0007981192403125461\n",
      "-0.00022588919156346459\n",
      "0.13710764136905557  -  0.04570254712301852\n",
      "0.003551336633778877\n",
      "-0.04633868355304108  -  -0.015446227851013692\n",
      "-0.001203188041451081\n",
      "0.02062868064991572  -  0.00687622688330524\n",
      "0.0039039507064750037\n",
      "0.04078217480859777  -  0.01359405826953259\n",
      "0.002356078772884676\n",
      "0.0  -  0.0\n",
      "-0.002266588584269345\n",
      "0.08970490842717091  -  0.029901636142390303\n",
      "-0.0020839634939687026\n",
      "0.01728230900095824  -  0.00576076966698608\n",
      "-0.002243285203169773\n",
      "0.0027512289068231666  -  0.0009170763022743889\n",
      "0.0017290567545688543\n",
      "0.056493268825689086  -  0.01883108960856303\n",
      "0.003459919604662054\n",
      "-0.0059962608594761255  -  -0.0019987536198253753\n",
      "-0.003467175234755273\n",
      "0.0395963854013906  -  0.013198795133796865\n",
      "-0.0014061789948160246\n",
      "0.028867578632913816  -  0.009622526210971273\n",
      "0.008183237800899534\n",
      "0.02106076300872894  -  0.007020254336242981\n",
      "-0.0003308430727742625\n",
      "0.006008058404041267  -  0.0020026861346804222\n",
      "0.001976547128547294\n",
      "0.0  -  0.0\n",
      "-0.0022307947346769433\n",
      "0.010980101932263583  -  0.0036600339774211944\n",
      "0.00022503494509551513\n",
      "0.014106446465517054  -  0.004702148821839018\n",
      "0.0013754636807277864\n",
      "0.01633315068633442  -  0.005444383562111473\n",
      "0.0018942692815458054\n",
      "-0.007972462023211833  -  -0.002657487341070611\n",
      "0.001437039062484382\n",
      "0.1652753653663349  -  0.05509178845544496\n",
      "-0.0019369151784246078\n",
      "-0.01995553875309861  -  -0.00665184625103287\n",
      "-0.001086773018779377\n",
      "-0.023533805356328534  -  -0.007844601785442844\n",
      "-0.0016411384012742602\n",
      "0.07810994457745836  -  0.02603664819248612\n",
      "0.002494291238723641\n",
      "-0.0009374415212929359  -  -0.0003124805070976453\n",
      "0.0003090432540176993\n",
      "0.015894097263507413  -  0.005298032421169137\n",
      "-0.0008314938691987724\n",
      "-0.02753583713434233  -  -0.00917861237811411\n",
      "0.0020474583966855514\n",
      "0.009846559371927906  -  0.0032821864573093023\n",
      "-0.00014831875055647256\n",
      "-0.08646593704154412  -  -0.028821979013848042\n",
      "-0.003252000399919879\n",
      "0.026119349559364183  -  0.008706449853121394\n",
      "-0.0022016896451369783\n",
      "0.09607844138832876  -  0.03202614712944292\n",
      "0.00016471709685998817\n",
      "0.0004982475401111414  -  0.00016608251337038045\n",
      "0.001723492481876776\n",
      "0.008900465737496886  -  0.002966821912498962\n",
      "9.938976729590732e-05\n",
      "-0.05936202907452329  -  -0.019787343024841097\n",
      "0.0035693016020260904\n",
      "0.058153828635945516  -  0.019384609545315172\n",
      "0.000167399572217095\n",
      "0.025594938423313514  -  0.008531646141104505\n",
      "-0.0009097343309098368\n",
      "0.020430104885559908  -  0.006810034961853303\n",
      "-0.005775595514764416\n",
      "-0.05689007037039756  -  -0.01896335679013252\n",
      "-0.00035532718742309414\n",
      "0.027090306602862164  -  0.009030102200954055\n",
      "0.0018592857080684882\n",
      "0.14069575356952893  -  0.04689858452317631\n",
      "0.00013502392979451732\n",
      "-0.001044392855869018  -  -0.0003481309519563393\n",
      "-0.0002557604778947503\n",
      "-0.010328416318448014  -  -0.0034428054394826718\n",
      "0.0013367325127436025\n",
      "0.013899727634300349  -  0.004633242544766783\n",
      "-0.0008162497482086253\n",
      "-0.026905691021230277  -  -0.008968563673743426\n",
      "0.0027827132229207695\n",
      "0.03886640766702796  -  0.012955469222342654\n",
      "0.0015905879263301188\n",
      "0.004892476233261661  -  0.0016308254110872203\n",
      "0.0010992982440768773\n",
      "0.06356532516200135  -  0.021188441720667115\n",
      "-0.0010645557312432279\n",
      "-0.0515971400594724  -  -0.0171990466864908\n",
      "-0.00023512619071379724\n",
      "0.01907911419207127  -  0.006359704730690423\n",
      "0.0008526214638442342\n",
      "-0.014500537056928012  -  -0.004833512352309337\n",
      "-0.001386149370065678\n",
      "0.017634490319262085  -  0.005878163439754029\n",
      "-0.0011879348950106393\n",
      "-0.00812511650818716  -  -0.0027083721693957202\n",
      "0.0007697857980213871\n",
      "0.029792802820123164  -  0.009930934273374388\n",
      "-0.0010093278809070777\n",
      "0.03633418546357941  -  0.01211139515452647\n",
      "0.0011232669716798682\n",
      "-0.007658927515588802  -  -0.0025529758385296007\n",
      "0.004537577787233816\n",
      "-0.05166881156566083  -  -0.01722293718855361\n",
      "0.0037276042504642806\n",
      "0.053313525887125277  -  0.017771175295708427\n",
      "0.0006178219784261692\n",
      "0.009777580156440625  -  0.0032591933854802086\n",
      "-0.0035953377626086317\n",
      "-0.01712077384534412  -  -0.005706924615114707\n",
      "0.0017765251746199818\n",
      "0.0203525846790188  -  0.0067841948930062665\n",
      "-0.0035590329256928823\n",
      "0.008846624730865041  -  0.002948874910288347\n",
      "-0.0017160999761571115\n",
      "-0.03846173843756125  -  -0.012820579479187084\n",
      "0.003884302932924826\n",
      "0.04016286921283772  -  0.013387623070945905\n",
      "-0.004461983965390915\n",
      "0.008724076036275275  -  0.0029080253454250916\n",
      "-0.00036824084310549686\n",
      "-0.019547255166092653  -  -0.006515751722030884\n",
      "-0.0019894081956265902\n",
      "0.059040513829370915  -  0.01968017127645697\n",
      "0.0008512929656558625\n",
      "-0.052808002139158705  -  -0.017602667379719567\n",
      "-0.0006275756564182418\n",
      "0.04576663315697166  -  0.01525554438565722\n",
      "5.280171147714921e-05\n",
      "0.014942811522023619  -  0.004980937174007873\n",
      "-0.0009985984535876352\n",
      "0.005368652458367397  -  0.001789550819455799\n",
      "0.0024528328242221045\n",
      "-0.04047859059366178  -  -0.013492863531220593\n",
      "-0.0021606813453369416\n",
      "0.0009302663219024352  -  0.0003100887739674784\n",
      "-0.001194009084565767\n",
      "-0.03451877668203139  -  -0.011506258894010463\n",
      "0.0006850841776298127\n",
      "0.025445589618350514  -  0.008481863206116838\n",
      "0.0021711412290436193\n",
      "0.01162783542490468  -  0.0038759451416348935\n",
      "0.0019271249583860557\n",
      "0.004673000511676869  -  0.0015576668372256231\n",
      "-0.0005056149784511603\n",
      "0.0037034723900031406  -  0.0012344907966677135\n",
      "0.0004076318814638944\n",
      "-0.022611636818349573  -  -0.007537212272783191\n",
      "-0.00042002444821524917\n",
      "0.04730411893474436  -  0.015768039644914786\n",
      "0.006540839737365262\n",
      "0.023665235372330576  -  0.007888411790776859\n",
      "0.0054540903777604505\n",
      "0.044215225968775244  -  0.014738408656258415\n",
      "0.001953244689782655\n",
      "-0.04332156804343201  -  -0.014440522681144005\n",
      "0.000467258881504789\n",
      "-0.07244767987338585  -  -0.02414922662446195\n",
      "-0.003423896045870497\n",
      "0.006286811055460145  -  0.0020956036851533816\n",
      "0.0044918639502959205\n",
      "-0.04087797193605893  -  -0.013625990645352977\n",
      "0.000136244897068813\n",
      "0.02322735261141319  -  0.007742450870471064\n",
      "-0.0006049459135222109\n",
      "-0.01946565264302049  -  -0.00648855088100683\n",
      "0.0010802739308399536\n",
      "-0.007176965491922902  -  -0.0023923218306409672\n",
      "0.0004656103401123787\n",
      "0.04533248096353638  -  0.015110826987845459\n",
      "0.0011868844100118843\n",
      "-0.009948495888006323  -  -0.0033161652960021076\n",
      "-0.0005140899356995379\n",
      "-0.02310413952842329  -  -0.007701379842807763\n",
      "0.00692799599584054\n",
      "0.0  -  0.0\n",
      "0.0005772190264758495\n",
      "0.0012214221027346582  -  0.00040714070091155276\n",
      "0.0045025833889999764\n",
      "0.08346047196640428  -  0.02782015732213476\n",
      "0.002959328058671398\n",
      "-0.0583619159475777  -  -0.019453971982525898\n",
      "-0.00014102187955027093\n",
      "0.014308403331318163  -  0.004769467777106054\n",
      "0.0012273609025154322\n",
      "-0.05060106434272715  -  -0.01686702144757572\n",
      "-0.0011187145204435954\n",
      "0.010142711539079549  -  0.0033809038463598496\n",
      "0.0007211011627838816\n",
      "0.00916504370436767  -  0.003055014568122557\n",
      "0.0008427647662425425\n",
      "0.03867187500000001  -  0.012890625000000003\n",
      "0.0003292738734976802\n",
      "0.015535791822461446  -  0.005178597274153815\n",
      "0.0027279222079240662\n",
      "-0.019769480240136653  -  -0.006589826746712218\n",
      "-0.004220695528612608\n",
      "0.022889289943712157  -  0.007629763314570719\n",
      "0.0029178284032939307\n",
      "0.018194215532713578  -  0.006064738510904526\n",
      "-0.0034361649315780445\n",
      "0.0038627833361724617  -  0.0012875944453908206\n",
      "0.0040292138122202635\n",
      "0.056673168026369354  -  0.018891056008789785\n",
      "0.0021445341310933194\n",
      "-0.006165902097769273  -  -0.0020553006992564244\n",
      "0.0004781557816084656\n",
      "-0.017340874257707174  -  -0.005780291419235725\n",
      "0.002808637772377469\n",
      "0.08996893555539359  -  0.029989645185131197\n",
      "0.000529460388922197\n",
      "0.040816478285131394  -  0.013605492761710464\n",
      "-0.0009215814611390219\n",
      "-0.022531550588724858  -  -0.0075105168629082866\n",
      "-0.0017420542770606436\n",
      "0.01704553081425105  -  0.005681843604750351\n",
      "0.0043328213361926\n",
      "-0.014778466662163958  -  -0.004926155554054653\n",
      "0.0013482230937562154\n",
      "-0.03950717715198807  -  -0.013169059050662691\n",
      "0.0011120662473657244\n",
      "-0.07886094919769121  -  -0.02628698306589707\n",
      "-0.001188829663569081\n",
      "0.0060461815984130425  -  0.002015393866137681\n",
      "0.002865430744965862\n",
      "-0.0299055273713299  -  -0.009968509123776633\n",
      "0.007466050936101576\n",
      "0.012475534520352605  -  0.0041585115067842016\n",
      "-7.0818738599007645e-06\n",
      "-0.05228769959787945  -  -0.01742923319929315\n",
      "-0.0005763440730560196\n",
      "-0.09793229639398754  -  -0.032644098797995846\n",
      "-0.007391499735944668\n",
      "0.0032928787497448196  -  0.0010976262499149399\n",
      "0.0017416771943384202\n",
      "0.012686563399872269  -  0.00422885446662409\n",
      "-3.5443143177667557e-05\n",
      "0.01815930940624741  -  0.006053103135415803\n",
      "-0.00011973068026160142\n",
      "-0.0040196836101738555  -  -0.0013398945367246186\n",
      "-0.0021365941550298326\n",
      "-0.052160256550079886  -  -0.01738675218335996\n",
      "0.004479097185704565\n",
      "0.0019256287170643916  -  0.0006418762390214639\n",
      "0.0005222670740837862\n",
      "0.011115916507973956  -  0.0037053055026579854\n",
      "0.0010006627406420328\n",
      "-0.008015061874148514  -  -0.0026716872913828383\n",
      "-0.002923813278357917\n",
      "-0.014739029726643562  -  -0.004913009908881188\n",
      "-0.0005834906526611226\n",
      "-0.043062043799308974  -  -0.014354014599769658\n",
      "-0.006216097693454361\n",
      "-0.026229604698191113  -  -0.008743201566063704\n",
      "-1.3328199554098122e-05\n",
      "-0.01890360954607731  -  -0.00630120318202577\n",
      "0.0006940000140852266\n",
      "0.013595562928778893  -  0.004531854309592964\n",
      "0.003494388660207176\n",
      "-0.04026828369317143  -  -0.013422761231057144\n",
      "-0.002479979802396164\n",
      "0.0021200088938269253  -  0.0007066696312756418\n",
      "0.001767407916255148\n",
      "-0.013012679976152325  -  -0.004337559992050775\n",
      "0.0004094846906950649\n"
     ]
    }
   ],
   "source": [
    "lista_pred = []\n",
    "lista_Y_valor = []\n",
    "acertos = 0\n",
    "\n",
    "\n",
    "for e in y_pred:\n",
    "    lista_pred.append(e)\n",
    "    \n",
    "for e in Y_test:\n",
    "    lista_Y_valor.append(e)\n",
    "    \n",
    "i = 0\n",
    "while i < len(lista_pred):\n",
    "    a = lista_Y_valor[i]*1.5\n",
    "    b = lista_Y_valor[i]*0.5\n",
    "    print(a, \" - \",b)\n",
    "    print(lista_pred[i])\n",
    "    if lista_pred[i] < a and lista_pred[i] > b:\n",
    "        acertos += 1\n",
    "    i += 1\n",
    "        \n",
    "acc = acertos/len(lista_Y_valor);"
   ]
  },
  {
   "cell_type": "markdown",
   "metadata": {},
   "source": [
    "Acertos Totais"
   ]
  },
  {
   "cell_type": "code",
   "execution_count": 48,
   "metadata": {},
   "outputs": [
    {
     "name": "stdout",
     "output_type": "stream",
     "text": [
      "Os acertos totais foram 8 de 260\n"
     ]
    }
   ],
   "source": [
    "print(f'Os acertos totais foram {acertos} de {len(lista_Y_valor)}')"
   ]
  },
  {
   "cell_type": "markdown",
   "metadata": {},
   "source": [
    "Acerto em %"
   ]
  },
  {
   "cell_type": "code",
   "execution_count": 50,
   "metadata": {},
   "outputs": [
    {
     "name": "stdout",
     "output_type": "stream",
     "text": [
      "O acerto em % foi de 3.076923076923077%\n"
     ]
    }
   ],
   "source": [
    "print(f'O acerto em % foi de {acc*100}%')"
   ]
  },
  {
   "cell_type": "markdown",
   "metadata": {},
   "source": [
    "### Conclusão da regressão linear por variação percentual"
   ]
  },
  {
   "cell_type": "markdown",
   "metadata": {},
   "source": [
    "Como podemos observar pelos resultados acima, o acerto de 0,03% não é satisfatótio, sendo consideravelmente pior do que a regressão por valores absolutos. Desse modo se optou pela mudança de modelo, buscando uma melhora nos resultados, como evidenciado a seguir."
   ]
  },
  {
   "cell_type": "markdown",
   "metadata": {},
   "source": [
    "## Preparando os dados para a utilização de modelos do Scikit Learn:"
   ]
  },
  {
   "cell_type": "code",
   "execution_count": null,
   "metadata": {},
   "outputs": [],
   "source": [
    "X = DADOS_OPT.iloc[:,5:9]\n",
    "y = DADOS_OPT['CALC_PETR4']"
   ]
  },
  {
   "cell_type": "markdown",
   "metadata": {},
   "source": [
    "**Separando os dados em treinamento e teste, de forma aleatória:**"
   ]
  },
  {
   "cell_type": "code",
   "execution_count": null,
   "metadata": {},
   "outputs": [],
   "source": [
    "X_train, X_test, y_train, y_test = train_test_split(X, y, test_size = 0.20, random_state = 42)\n",
    "scaler = StandardScaler()\n",
    "scaler.fit(X_train)\n",
    "X_train = scaler.transform(X_train)\n",
    "X_test = scaler.transform(X_test)"
   ]
  },
  {
   "cell_type": "markdown",
   "metadata": {},
   "source": [
    "**Iniciando o Random Forest:**"
   ]
  },
  {
   "cell_type": "code",
   "execution_count": null,
   "metadata": {},
   "outputs": [],
   "source": [
    "rf = RandomForestRegressor(n_estimators = 1000, random_state = 42)\n",
    "rf.fit(X_train, y_train.values.ravel());"
   ]
  },
  {
   "cell_type": "markdown",
   "metadata": {},
   "source": [
    "**Aferindo a quantidade de acertos:**"
   ]
  },
  {
   "cell_type": "markdown",
   "metadata": {},
   "source": [
    "A métrica utilizada para conferir se os valores previstos estão próximas do real poderia ser importado do próprio Scikit Learn metrics. Entretanto, para uma análise financeira, considerou-se mlehor a determinação de um intervalo, previamente fixado, que seria considerado correto. Esse intervalo, no caso, é 1% do valor futuro da ação (em ambas as direções)."
   ]
  },
  {
   "cell_type": "code",
   "execution_count": null,
   "metadata": {},
   "outputs": [],
   "source": [
    "predictionsrf = rf.predict(X_test)\n",
    "b = []\n",
    "\n",
    "for e in predictionsrf:\n",
    "    b.append(e)\n",
    "    \n",
    "e =0\n",
    "i = 0\n",
    "while i < len(b):\n",
    "    if b[i] <= (y_test[i] + 0.01) and b[i] >= (y_test[i] -0.01):\n",
    "        e += 1\n",
    "    i += 1\n",
    "    \n",
    "print (f'O Acerto foi de {round((e/len(y_test))*100, 2)}%.')"
   ]
  },
  {
   "cell_type": "code",
   "execution_count": null,
   "metadata": {},
   "outputs": [],
   "source": [
    "plt.scatter(y_test,b, alpha= 0.5)\n",
    "plt.title('Real VS Previsto')\n",
    "plt.plot()\n",
    "plt.show()"
   ]
  },
  {
   "cell_type": "markdown",
   "metadata": {},
   "source": [
    "Como pode ser observado, a predição do modelo não consegue condizer de forma precisa com a realidade, para tanto, uma iteração pode auxiliar."
   ]
  },
  {
   "cell_type": "markdown",
   "metadata": {},
   "source": [
    "**Iterrando:**"
   ]
  },
  {
   "cell_type": "markdown",
   "metadata": {},
   "source": [
    "Utilizou-se os valores brutos, pois havendo uma suposta maior correlação entre os dados, imaginava-se que o resultado seria de um acerto maior. "
   ]
  },
  {
   "cell_type": "code",
   "execution_count": null,
   "metadata": {},
   "outputs": [],
   "source": [
    "X2 = DADOS.iloc[:,0:4]\n",
    "y2 = DADOS['Valor_PETR4']"
   ]
  },
  {
   "cell_type": "markdown",
   "metadata": {},
   "source": [
    "Separando os dados em treinamento e teste, de forma aleatória:"
   ]
  },
  {
   "cell_type": "code",
   "execution_count": null,
   "metadata": {},
   "outputs": [],
   "source": [
    "X_train2, X_test2, y_train2, y_test2 = train_test_split(X2, y2, test_size = 0.20)\n",
    "scaler = StandardScaler()\n",
    "scaler.fit(X_train)\n",
    "X_train2 = scaler.transform(X_train2)\n",
    "X_test2 = scaler.transform(X_test2)"
   ]
  },
  {
   "cell_type": "markdown",
   "metadata": {},
   "source": [
    "Segundo modelo:"
   ]
  },
  {
   "cell_type": "code",
   "execution_count": null,
   "metadata": {},
   "outputs": [],
   "source": [
    "rf2 = RandomForestRegressor(n_estimators = 1000, random_state = 42)\n",
    "rf2.fit(X_train2, y_train2.values.ravel());"
   ]
  },
  {
   "cell_type": "markdown",
   "metadata": {},
   "source": [
    "Aferindo a quantidade de acertos:"
   ]
  },
  {
   "cell_type": "code",
   "execution_count": null,
   "metadata": {},
   "outputs": [],
   "source": [
    "predictionsrf2 = rf2.predict(X_test2)\n",
    "b2 = []\n",
    "\n",
    "for e in predictionsrf2:\n",
    "    b2.append(e)\n",
    "\n",
    "e =0\n",
    "i2 = 0\n",
    "while i2 < len(b2):\n",
    "    if b2[i2] <= (y_test2[i2] + 0.01) and b2[i2] >= (y_test2[i2] - 0.01) :\n",
    "        e += 1\n",
    "    i2 += 1\n",
    "    \n",
    "print (f'O Acerto foi de {round((e/len(y_test2))*100, 2)}%.')"
   ]
  },
  {
   "cell_type": "code",
   "execution_count": null,
   "metadata": {},
   "outputs": [],
   "source": [
    "plt.scatter(y_test2,b2, alpha= 0.5)\n",
    "plt.title('Real VS Previsto')\n",
    "plt.plot()\n",
    "plt.show()"
   ]
  },
  {
   "cell_type": "markdown",
   "metadata": {},
   "source": [
    "Nessa segunda iteração, apesar do gráfico apresentar um suposto resultado melhor, o indice de acertos diminuiu significativamente indo para 3.85%.\n",
    "\n",
    "    "
   ]
  },
  {
   "cell_type": "markdown",
   "metadata": {},
   "source": [
    "## Implementando o modelo de Rede Neural"
   ]
  },
  {
   "cell_type": "markdown",
   "metadata": {},
   "source": [
    "Para garantir que o modelo não aprenda a interpolar os dados, será utilizado como treinamento os dados de 2014 até 2016, e o restante, como teste:"
   ]
  },
  {
   "cell_type": "code",
   "execution_count": null,
   "metadata": {},
   "outputs": [],
   "source": [
    "X3_train = DADOS_OPT.iloc[:800,5:9]\n",
    "y3_train = DADOS_OPT['CALC_PETR4'].iloc[:800,]\n",
    "X3_test = DADOS_OPT.iloc[800:,5:9]\n",
    "y3_test = DADOS_OPT['CALC_PETR4'].iloc[800:,]"
   ]
  },
  {
   "cell_type": "code",
   "execution_count": null,
   "metadata": {},
   "outputs": [],
   "source": [
    "scaler = StandardScaler()\n",
    "scaler.fit(X3_train)\n",
    "X3_train = scaler.transform(X3_train)\n",
    "X3_test = scaler.transform(X3_test)"
   ]
  },
  {
   "cell_type": "code",
   "execution_count": null,
   "metadata": {},
   "outputs": [],
   "source": [
    "mlp1 = MLPRegressor(hidden_layer_sizes = (440, 890, 36),alpha = 1e-6, max_iter = 1000, tol = 1e-6, random_state = 42, n_iter_no_change=40)\n",
    "mlp1.fit(X3_train, y3_train.values.ravel())"
   ]
  },
  {
   "cell_type": "markdown",
   "metadata": {},
   "source": [
    "Aferindo a quantidade de acertos:"
   ]
  },
  {
   "cell_type": "code",
   "execution_count": null,
   "metadata": {},
   "outputs": [],
   "source": [
    "predictionsmlp1 = mlp1.predict(X3_test)\n",
    "\n",
    "b3 = []\n",
    "for e in predictionsmlp1:\n",
    "    b3.append(e)\n",
    "\n",
    "e =0\n",
    "i3 = 0\n",
    "while i3 < len(b3):\n",
    "    if b3[i3] <= (y3_test[i3] + 0.01) and b3[i3] >= (y3_test[i3] - 0.01) :\n",
    "        e += 1\n",
    "    i3 += 1\n",
    "    \n",
    "print (f'O Acerto foi de {round((e/len(y3_test))*100, 2)}%.')"
   ]
  },
  {
   "cell_type": "markdown",
   "metadata": {},
   "source": [
    "É possível observar que a quantidade de acertos da rede neural é menor do que a da primeira iteração do Random Forest. Para tanto, a mudança de hyperparametros é adequada. Justamente para buscar os mehores, será implementada o RandomizedSearchCV."
   ]
  },
  {
   "cell_type": "markdown",
   "metadata": {},
   "source": [
    "Iterando:\n",
    "\n",
    "Para achar os Hyperparamtes que otimizam o modelo, será utilizado o RandomSearchcv do Scikit Learn:"
   ]
  },
  {
   "cell_type": "code",
   "execution_count": null,
   "metadata": {},
   "outputs": [],
   "source": [
    "mlp2 = MLPRegressor (max_iter=1000)\n",
    "\n",
    "param_distributions = {'hidden_layer_sizes': [(random.randint(1,1300), random.randint(1,1300), random.randint(1,1300), random.randint(1,1300), random.randint(1,1300))],\n",
    "    'activation': ['identity','logistic','tanh'],\n",
    "    'solver': ['lbfgs','sgd', 'adam'],\n",
    "    'alpha': [1e-5],\n",
    "    'learning_rate': ['constant','adaptive'],\n",
    "    'tol' : [1e-5],\n",
    "    'n_iter_no_change' : [30]    \n",
    "}\n",
    "\n",
    "g = RandomizedSearchCV(mlp2, param_distributions, n_iter=100, scoring= 'r2',cv = 10, n_jobs=None, verbose=2, random_state=42, error_score='raise-deprecating')\n",
    "g.fit(X3_train, y3_train)"
   ]
  },
  {
   "cell_type": "code",
   "execution_count": null,
   "metadata": {},
   "outputs": [],
   "source": [
    "# Best paramete set\n",
    "print('Best parameters found:\\n', g.best_params_)\n",
    "\n",
    "# All results\n",
    "means = g.cv_results_['mean_test_score']\n",
    "stds = g.cv_results_['std_test_score']\n",
    "for mean, std, params in zip(means, stds, g.cv_results_['params']):\n",
    "    print(\"%0.3f (+/-%0.03f) for %r\" % (mean, std * 2, params))"
   ]
  },
  {
   "cell_type": "code",
   "execution_count": null,
   "metadata": {},
   "outputs": [],
   "source": [
    "mlp3 = MLPRegressor(hidden_layer_sizes = (555, 394, 603, 256, 493),alpha = 1e-5, activation = 'logistic', solver = 'sgd', learning_rate = 'constant', max_iter = 1000, tol = 1e-5, random_state = 42, n_iter_no_change=20)\n",
    "mlp3.fit(X3_train, y3_train.values.ravel()) "
   ]
  },
  {
   "cell_type": "markdown",
   "metadata": {},
   "source": [
    "Aferindo a quantidade de acertos:"
   ]
  },
  {
   "cell_type": "code",
   "execution_count": null,
   "metadata": {},
   "outputs": [],
   "source": [
    "predictionsmlp3 = mlp3.predict(X3_test)\n",
    "\n",
    "b4 = []\n",
    "for e in predictionsmlp3:\n",
    "    b4.append(e)\n",
    "\n",
    "e =0\n",
    "i4 = 0\n",
    "while i4 < len(b4):\n",
    "    if b4[i4] <= (y3_test[i4] + 0.01) and b4[i4] >= (y3_test[i4] - 0.01) :\n",
    "        e += 1\n",
    "    i4 += 1\n",
    "print (f'O Acerto foi de {round((e/len(y3_test))*100, 2)}%.')  "
   ]
  },
  {
   "cell_type": "markdown",
   "metadata": {},
   "source": [
    "Análise:\n",
    "    \n",
    "    "
   ]
  },
  {
   "cell_type": "markdown",
   "metadata": {},
   "source": [
    "O modelo conseguiu prver o valor correto em 40% dos casos, um resultado considerável."
   ]
  },
  {
   "cell_type": "markdown",
   "metadata": {},
   "source": [
    "# Conclusão Final"
   ]
  },
  {
   "cell_type": "code",
   "execution_count": null,
   "metadata": {},
   "outputs": [],
   "source": []
  }
 ],
 "metadata": {
  "kernelspec": {
   "display_name": "Python 3",
   "language": "python",
   "name": "python3"
  },
  "language_info": {
   "codemirror_mode": {
    "name": "ipython",
    "version": 3
   },
   "file_extension": ".py",
   "mimetype": "text/x-python",
   "name": "python",
   "nbconvert_exporter": "python",
   "pygments_lexer": "ipython3",
   "version": "3.7.1"
  }
 },
 "nbformat": 4,
 "nbformat_minor": 2
}
