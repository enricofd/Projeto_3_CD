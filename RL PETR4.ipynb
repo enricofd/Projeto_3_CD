{
 "cells": [
  {
   "cell_type": "code",
   "execution_count": 1,
   "metadata": {},
   "outputs": [],
   "source": [
    "import pandas as pd\n",
    "import numpy as np\n",
    "import re\n",
    "import string\n",
    "from IPython.display import display\n",
    "from nltk.stem import PorterStemmer\n",
    "stemmer = PorterStemmer()\n",
    "\n",
    "import statsmodels.api as sm\n",
    "import matplotlib.pyplot as plt"
   ]
  },
  {
   "cell_type": "code",
   "execution_count": 2,
   "metadata": {},
   "outputs": [],
   "source": [
    "PETR4_raw = pd.read_excel (r'PETR4.SA .xltx')\n",
    "\n",
    "GOLD_raw = pd.read_excel (r'Gold Futures Historical Data.xltx') \n",
    "RDS_raw = pd.read_excel (r'RDS-A.xltx') \n",
    "OIL_raw = pd.read_excel (r'Crude Oil WTI Futures Historical Data.xltx')\n",
    "CRD_raw = pd.read_excel (r'USD_BRL Dados Históricos.xltx')"
   ]
  },
  {
   "cell_type": "code",
   "execution_count": 3,
   "metadata": {},
   "outputs": [],
   "source": [
    "from datetime import datetime\n",
    "str_date = '06.11.2019'\n",
    "def padronizaDia(str_date):\n",
    "    date = datetime.strptime(str_date, '%d.%m.%Y').date()\n",
    "    if len(str(date.day))==1:\n",
    "        dia = \"0\" + str(date.day)\n",
    "    else:\n",
    "        dia = str(date.day)\n",
    "        \n",
    "    if len(str(date.month))==1:\n",
    "        mes = \"0\" + str(date.month)\n",
    "    else:\n",
    "        mes = str(date.month)\n",
    "    return \"{0}-{1}-{2}\".format(date.year,mes, dia)"
   ]
  },
  {
   "cell_type": "code",
   "execution_count": 4,
   "metadata": {},
   "outputs": [],
   "source": [
    "PETR4_raw2 = PETR4_raw[['Date', 'Adj Close']]\n",
    "\n",
    "GOLD_raw2 = GOLD_raw[['Date', 'Price']]\n",
    "RDS_raw2 = RDS_raw[['Date', 'Adj Close']]\n",
    "OIL_raw2 = OIL_raw[['Date', 'Price']]\n",
    "CRD_raw2 = CRD_raw[['Data', 'Último']]\n"
   ]
  },
  {
   "cell_type": "code",
   "execution_count": 5,
   "metadata": {},
   "outputs": [
    {
     "name": "stderr",
     "output_type": "stream",
     "text": [
      "C:\\Users\\Tonera\\Anaconda3\\lib\\site-packages\\ipykernel_launcher.py:18: SettingWithCopyWarning: \n",
      "A value is trying to be set on a copy of a slice from a DataFrame.\n",
      "Try using .loc[row_indexer,col_indexer] = value instead\n",
      "\n",
      "See the caveats in the documentation: http://pandas.pydata.org/pandas-docs/stable/indexing.html#indexing-view-versus-copy\n",
      "C:\\Users\\Tonera\\Anaconda3\\lib\\site-packages\\ipykernel_launcher.py:19: SettingWithCopyWarning: \n",
      "A value is trying to be set on a copy of a slice from a DataFrame.\n",
      "Try using .loc[row_indexer,col_indexer] = value instead\n",
      "\n",
      "See the caveats in the documentation: http://pandas.pydata.org/pandas-docs/stable/indexing.html#indexing-view-versus-copy\n"
     ]
    },
    {
     "data": {
      "text/html": [
       "<div>\n",
       "<style scoped>\n",
       "    .dataframe tbody tr th:only-of-type {\n",
       "        vertical-align: middle;\n",
       "    }\n",
       "\n",
       "    .dataframe tbody tr th {\n",
       "        vertical-align: top;\n",
       "    }\n",
       "\n",
       "    .dataframe thead th {\n",
       "        text-align: right;\n",
       "    }\n",
       "</style>\n",
       "<table border=\"1\" class=\"dataframe\">\n",
       "  <thead>\n",
       "    <tr style=\"text-align: right;\">\n",
       "      <th></th>\n",
       "      <th>Date</th>\n",
       "      <th>Valor_PETR4</th>\n",
       "      <th>variacao_PETR4</th>\n",
       "      <th>variacao percentual_PETR4</th>\n",
       "    </tr>\n",
       "  </thead>\n",
       "  <tbody>\n",
       "    <tr>\n",
       "      <th>0</th>\n",
       "      <td>2014-11-05</td>\n",
       "      <td>13.634769</td>\n",
       "      <td>-0.321929</td>\n",
       "      <td>-2.361089</td>\n",
       "    </tr>\n",
       "    <tr>\n",
       "      <th>1</th>\n",
       "      <td>2014-11-06</td>\n",
       "      <td>13.312840</td>\n",
       "      <td>0.198840</td>\n",
       "      <td>1.493596</td>\n",
       "    </tr>\n",
       "    <tr>\n",
       "      <th>2</th>\n",
       "      <td>2014-11-07</td>\n",
       "      <td>13.511680</td>\n",
       "      <td>-0.274591</td>\n",
       "      <td>-2.032249</td>\n",
       "    </tr>\n",
       "    <tr>\n",
       "      <th>3</th>\n",
       "      <td>2014-11-10</td>\n",
       "      <td>13.237089</td>\n",
       "      <td>0.018937</td>\n",
       "      <td>0.143060</td>\n",
       "    </tr>\n",
       "    <tr>\n",
       "      <th>4</th>\n",
       "      <td>2014-11-11</td>\n",
       "      <td>13.256026</td>\n",
       "      <td>0.104155</td>\n",
       "      <td>0.785718</td>\n",
       "    </tr>\n",
       "  </tbody>\n",
       "</table>\n",
       "</div>"
      ],
      "text/plain": [
       "        Date  Valor_PETR4  variacao_PETR4  variacao percentual_PETR4\n",
       "0 2014-11-05    13.634769       -0.321929                  -2.361089\n",
       "1 2014-11-06    13.312840        0.198840                   1.493596\n",
       "2 2014-11-07    13.511680       -0.274591                  -2.032249\n",
       "3 2014-11-10    13.237089        0.018937                   0.143060\n",
       "4 2014-11-11    13.256026        0.104155                   0.785718"
      ]
     },
     "execution_count": 5,
     "metadata": {},
     "output_type": "execute_result"
    }
   ],
   "source": [
    "#Tabela da PTR4\n",
    "lista_TX = []\n",
    "for e in PETR4_raw2['Adj Close']:\n",
    "    lista_TX.append(e)\n",
    "    \n",
    "lista_tx = []\n",
    "lista_p = []\n",
    "i = 0\n",
    "while i < len(lista_TX)-1:\n",
    "    var = lista_TX[i+1] - lista_TX[i]\n",
    "    lista_tx.append(var)\n",
    "    p = var*100/lista_TX[i]\n",
    "    lista_p.append(p)\n",
    "    i+=1\n",
    "lista_tx\n",
    "\n",
    "PETR4_r =PETR4_raw2.iloc[0:1243:1] \n",
    "PETR4_r['variacao_PETR4'] = lista_tx\n",
    "PETR4_r['variacao percentual_PETR4'] = lista_p\n",
    "\n",
    "PETR4 = PETR4_r.rename(columns={\"Adj Close\": \"Valor_PETR4\"})\n",
    "\n",
    "PETR4.head()"
   ]
  },
  {
   "cell_type": "code",
   "execution_count": 6,
   "metadata": {},
   "outputs": [
    {
     "name": "stderr",
     "output_type": "stream",
     "text": [
      "C:\\Users\\Tonera\\Anaconda3\\lib\\site-packages\\ipykernel_launcher.py:16: SettingWithCopyWarning: \n",
      "A value is trying to be set on a copy of a slice from a DataFrame.\n",
      "Try using .loc[row_indexer,col_indexer] = value instead\n",
      "\n",
      "See the caveats in the documentation: http://pandas.pydata.org/pandas-docs/stable/indexing.html#indexing-view-versus-copy\n",
      "  app.launch_new_instance()\n",
      "C:\\Users\\Tonera\\Anaconda3\\lib\\site-packages\\ipykernel_launcher.py:17: SettingWithCopyWarning: \n",
      "A value is trying to be set on a copy of a slice from a DataFrame.\n",
      "Try using .loc[row_indexer,col_indexer] = value instead\n",
      "\n",
      "See the caveats in the documentation: http://pandas.pydata.org/pandas-docs/stable/indexing.html#indexing-view-versus-copy\n"
     ]
    },
    {
     "data": {
      "text/html": [
       "<div>\n",
       "<style scoped>\n",
       "    .dataframe tbody tr th:only-of-type {\n",
       "        vertical-align: middle;\n",
       "    }\n",
       "\n",
       "    .dataframe tbody tr th {\n",
       "        vertical-align: top;\n",
       "    }\n",
       "\n",
       "    .dataframe thead th {\n",
       "        text-align: right;\n",
       "    }\n",
       "</style>\n",
       "<table border=\"1\" class=\"dataframe\">\n",
       "  <thead>\n",
       "    <tr style=\"text-align: right;\">\n",
       "      <th></th>\n",
       "      <th>Date</th>\n",
       "      <th>Valor_OURO</th>\n",
       "      <th>variacao_OURO</th>\n",
       "      <th>variacao percentual_OURO</th>\n",
       "    </tr>\n",
       "  </thead>\n",
       "  <tbody>\n",
       "    <tr>\n",
       "      <th>0</th>\n",
       "      <td>2019-11-07</td>\n",
       "      <td>1485.45</td>\n",
       "      <td>7.65</td>\n",
       "      <td>0.514995</td>\n",
       "    </tr>\n",
       "    <tr>\n",
       "      <th>1</th>\n",
       "      <td>2019-11-06</td>\n",
       "      <td>1493.10</td>\n",
       "      <td>-9.40</td>\n",
       "      <td>-0.629563</td>\n",
       "    </tr>\n",
       "    <tr>\n",
       "      <th>2</th>\n",
       "      <td>2019-11-05</td>\n",
       "      <td>1483.70</td>\n",
       "      <td>27.40</td>\n",
       "      <td>1.846735</td>\n",
       "    </tr>\n",
       "    <tr>\n",
       "      <th>3</th>\n",
       "      <td>2019-11-04</td>\n",
       "      <td>1511.10</td>\n",
       "      <td>0.30</td>\n",
       "      <td>0.019853</td>\n",
       "    </tr>\n",
       "    <tr>\n",
       "      <th>4</th>\n",
       "      <td>2019-11-01</td>\n",
       "      <td>1511.40</td>\n",
       "      <td>3.40</td>\n",
       "      <td>0.224957</td>\n",
       "    </tr>\n",
       "  </tbody>\n",
       "</table>\n",
       "</div>"
      ],
      "text/plain": [
       "        Date  Valor_OURO  variacao_OURO  variacao percentual_OURO\n",
       "0 2019-11-07     1485.45           7.65                  0.514995\n",
       "1 2019-11-06     1493.10          -9.40                 -0.629563\n",
       "2 2019-11-05     1483.70          27.40                  1.846735\n",
       "3 2019-11-04     1511.10           0.30                  0.019853\n",
       "4 2019-11-01     1511.40           3.40                  0.224957"
      ]
     },
     "execution_count": 6,
     "metadata": {},
     "output_type": "execute_result"
    }
   ],
   "source": [
    "lista_TX = []\n",
    "for e in GOLD_raw2['Price']:\n",
    "    lista_TX.append(e)\n",
    "    \n",
    "lista_tx = []\n",
    "lista_p = []\n",
    "i = 0\n",
    "while i < len(lista_TX)-1:\n",
    "    var = lista_TX[i+1] - lista_TX[i]\n",
    "    lista_tx.append(var)\n",
    "    p = var*100/lista_TX[i]\n",
    "    lista_p.append(p)\n",
    "    i+=1\n",
    "    \n",
    "GOLD_r =GOLD_raw2.iloc[0:1345:1] \n",
    "GOLD_r['variacao_OURO'] = lista_tx\n",
    "GOLD_r['variacao percentual_OURO'] = lista_p\n",
    "\n",
    "GOLD = GOLD_r.rename(columns={\"Price\": \"Valor_OURO\"})\n",
    "\n",
    "GOLD.head()"
   ]
  },
  {
   "cell_type": "code",
   "execution_count": 7,
   "metadata": {},
   "outputs": [
    {
     "data": {
      "text/plain": [
       "<matplotlib.collections.PathCollection at 0x25b1ec366a0>"
      ]
     },
     "execution_count": 7,
     "metadata": {},
     "output_type": "execute_result"
    },
    {
     "data": {
      "image/png": "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\n",
      "text/plain": [
       "<Figure size 432x288 with 1 Axes>"
      ]
     },
     "metadata": {
      "needs_background": "light"
     },
     "output_type": "display_data"
    }
   ],
   "source": [
    "x = GOLD['variacao percentual_OURO'].iloc[0:1200:1]\n",
    "y = PETR4['variacao percentual_PETR4'].iloc[0:1200:1]\n",
    "plt.scatter(x,y)"
   ]
  },
  {
   "cell_type": "code",
   "execution_count": 8,
   "metadata": {},
   "outputs": [
    {
     "name": "stderr",
     "output_type": "stream",
     "text": [
      "C:\\Users\\Tonera\\Anaconda3\\lib\\site-packages\\ipykernel_launcher.py:16: SettingWithCopyWarning: \n",
      "A value is trying to be set on a copy of a slice from a DataFrame.\n",
      "Try using .loc[row_indexer,col_indexer] = value instead\n",
      "\n",
      "See the caveats in the documentation: http://pandas.pydata.org/pandas-docs/stable/indexing.html#indexing-view-versus-copy\n",
      "  app.launch_new_instance()\n",
      "C:\\Users\\Tonera\\Anaconda3\\lib\\site-packages\\ipykernel_launcher.py:17: SettingWithCopyWarning: \n",
      "A value is trying to be set on a copy of a slice from a DataFrame.\n",
      "Try using .loc[row_indexer,col_indexer] = value instead\n",
      "\n",
      "See the caveats in the documentation: http://pandas.pydata.org/pandas-docs/stable/indexing.html#indexing-view-versus-copy\n"
     ]
    },
    {
     "data": {
      "text/html": [
       "<div>\n",
       "<style scoped>\n",
       "    .dataframe tbody tr th:only-of-type {\n",
       "        vertical-align: middle;\n",
       "    }\n",
       "\n",
       "    .dataframe tbody tr th {\n",
       "        vertical-align: top;\n",
       "    }\n",
       "\n",
       "    .dataframe thead th {\n",
       "        text-align: right;\n",
       "    }\n",
       "</style>\n",
       "<table border=\"1\" class=\"dataframe\">\n",
       "  <thead>\n",
       "    <tr style=\"text-align: right;\">\n",
       "      <th></th>\n",
       "      <th>Date</th>\n",
       "      <th>Valor_RDS</th>\n",
       "      <th>variacao_RDS</th>\n",
       "      <th>variacao percentual_RDS</th>\n",
       "    </tr>\n",
       "  </thead>\n",
       "  <tbody>\n",
       "    <tr>\n",
       "      <th>0</th>\n",
       "      <td>2014-11-07</td>\n",
       "      <td>51.391106</td>\n",
       "      <td>-0.209904</td>\n",
       "      <td>-0.408444</td>\n",
       "    </tr>\n",
       "    <tr>\n",
       "      <th>1</th>\n",
       "      <td>2014-11-10</td>\n",
       "      <td>51.181202</td>\n",
       "      <td>0.296768</td>\n",
       "      <td>0.579838</td>\n",
       "    </tr>\n",
       "    <tr>\n",
       "      <th>2</th>\n",
       "      <td>2014-11-11</td>\n",
       "      <td>51.477970</td>\n",
       "      <td>-0.946236</td>\n",
       "      <td>-1.838138</td>\n",
       "    </tr>\n",
       "    <tr>\n",
       "      <th>3</th>\n",
       "      <td>2014-11-12</td>\n",
       "      <td>50.531734</td>\n",
       "      <td>-0.352081</td>\n",
       "      <td>-0.696752</td>\n",
       "    </tr>\n",
       "    <tr>\n",
       "      <th>4</th>\n",
       "      <td>2014-11-13</td>\n",
       "      <td>50.179653</td>\n",
       "      <td>0.711506</td>\n",
       "      <td>1.417917</td>\n",
       "    </tr>\n",
       "  </tbody>\n",
       "</table>\n",
       "</div>"
      ],
      "text/plain": [
       "        Date  Valor_RDS  variacao_RDS  variacao percentual_RDS\n",
       "0 2014-11-07  51.391106     -0.209904                -0.408444\n",
       "1 2014-11-10  51.181202      0.296768                 0.579838\n",
       "2 2014-11-11  51.477970     -0.946236                -1.838138\n",
       "3 2014-11-12  50.531734     -0.352081                -0.696752\n",
       "4 2014-11-13  50.179653      0.711506                 1.417917"
      ]
     },
     "execution_count": 8,
     "metadata": {},
     "output_type": "execute_result"
    }
   ],
   "source": [
    "lista_TX = []\n",
    "for e in RDS_raw2['Adj Close']:\n",
    "    lista_TX.append(e)\n",
    "    \n",
    "lista_tx = []\n",
    "lista_p = []\n",
    "i = 0\n",
    "while i < len(lista_TX)-1:\n",
    "    var = lista_TX[i+1] - lista_TX[i]\n",
    "    lista_tx.append(var)\n",
    "    p = var*100/lista_TX[i]\n",
    "    lista_p.append(p)\n",
    "    i+=1\n",
    "\n",
    "RDS_r =RDS_raw2.iloc[0:1257:1] \n",
    "RDS_r['variacao_RDS'] = lista_tx\n",
    "RDS_r['variacao percentual_RDS'] = lista_p\n",
    "\n",
    "RDS = RDS_r.rename(columns={\"Adj Close\": \"Valor_RDS\"})\n",
    "\n",
    "RDS.head()"
   ]
  },
  {
   "cell_type": "code",
   "execution_count": 9,
   "metadata": {},
   "outputs": [
    {
     "name": "stderr",
     "output_type": "stream",
     "text": [
<<<<<<< HEAD
      "C:\\Users\\jotah\\Anaconda3\\lib\\site-packages\\ipykernel_launcher.py:1: SettingWithCopyWarning: \n",
=======
      "C:\\Users\\Tonera\\Anaconda3\\lib\\site-packages\\ipykernel_launcher.py:16: SettingWithCopyWarning: \n",
>>>>>>> 3f8baff8e21990eb501ce796ab447f689e1a2035
      "A value is trying to be set on a copy of a slice from a DataFrame.\n",
      "Try using .loc[row_indexer,col_indexer] = value instead\n",
      "\n",
      "See the caveats in the documentation: http://pandas.pydata.org/pandas-docs/stable/indexing.html#indexing-view-versus-copy\n",
      "  app.launch_new_instance()\n",
      "C:\\Users\\Tonera\\Anaconda3\\lib\\site-packages\\ipykernel_launcher.py:17: SettingWithCopyWarning: \n",
      "A value is trying to be set on a copy of a slice from a DataFrame.\n",
      "Try using .loc[row_indexer,col_indexer] = value instead\n",
      "\n",
      "See the caveats in the documentation: http://pandas.pydata.org/pandas-docs/stable/indexing.html#indexing-view-versus-copy\n"
     ]
<<<<<<< HEAD
    }
   ],
   "source": [
    "CRD['Date'] = CRD.Data.apply(padronizaDia)\n",
    "CRD.set_index('Date', inplace = True)"
   ]
  },
  {
   "cell_type": "code",
   "execution_count": 11,
   "metadata": {},
   "outputs": [
=======
    },
>>>>>>> 3f8baff8e21990eb501ce796ab447f689e1a2035
    {
     "data": {
      "text/html": [
       "<div>\n",
       "<style scoped>\n",
       "    .dataframe tbody tr th:only-of-type {\n",
       "        vertical-align: middle;\n",
       "    }\n",
       "\n",
       "    .dataframe tbody tr th {\n",
       "        vertical-align: top;\n",
       "    }\n",
       "\n",
       "    .dataframe thead th {\n",
       "        text-align: right;\n",
       "    }\n",
       "</style>\n",
       "<table border=\"1\" class=\"dataframe\">\n",
       "  <thead>\n",
       "    <tr style=\"text-align: right;\">\n",
       "      <th></th>\n",
       "      <th>Date</th>\n",
       "      <th>Valor_OIL</th>\n",
       "      <th>variacao_OIL</th>\n",
       "      <th>variacao percentual_OIL</th>\n",
       "    </tr>\n",
       "  </thead>\n",
       "  <tbody>\n",
       "    <tr>\n",
       "      <th>0</th>\n",
       "      <td>2019-11-07</td>\n",
       "      <td>57.11</td>\n",
       "      <td>-0.76</td>\n",
       "      <td>-1.330765</td>\n",
       "    </tr>\n",
       "    <tr>\n",
       "      <th>1</th>\n",
       "      <td>2019-11-06</td>\n",
       "      <td>56.35</td>\n",
       "      <td>0.88</td>\n",
       "      <td>1.561668</td>\n",
       "    </tr>\n",
       "    <tr>\n",
       "      <th>2</th>\n",
       "      <td>2019-11-05</td>\n",
       "      <td>57.23</td>\n",
       "      <td>-0.69</td>\n",
       "      <td>-1.205661</td>\n",
       "    </tr>\n",
       "    <tr>\n",
       "      <th>3</th>\n",
       "      <td>2019-11-04</td>\n",
       "      <td>56.54</td>\n",
       "      <td>-0.34</td>\n",
       "      <td>-0.601344</td>\n",
       "    </tr>\n",
       "    <tr>\n",
       "      <th>4</th>\n",
       "      <td>2019-11-01</td>\n",
       "      <td>56.20</td>\n",
       "      <td>-2.02</td>\n",
       "      <td>-3.594306</td>\n",
       "    </tr>\n",
       "  </tbody>\n",
       "</table>\n",
       "</div>"
      ],
      "text/plain": [
       "        Date  Valor_OIL  variacao_OIL  variacao percentual_OIL\n",
       "0 2019-11-07      57.11         -0.76                -1.330765\n",
       "1 2019-11-06      56.35          0.88                 1.561668\n",
       "2 2019-11-05      57.23         -0.69                -1.205661\n",
       "3 2019-11-04      56.54         -0.34                -0.601344\n",
       "4 2019-11-01      56.20         -2.02                -3.594306"
      ]
     },
<<<<<<< HEAD
     "execution_count": 11,
=======
     "execution_count": 9,
>>>>>>> 3f8baff8e21990eb501ce796ab447f689e1a2035
     "metadata": {},
     "output_type": "execute_result"
    }
   ],
   "source": [
<<<<<<< HEAD
    "df = PETR4.join(CRD, how='inner', lsuffix='_PETR4', rsuffix='_CRD')\n",
    "df.head()"
   ]
  },
  {
   "cell_type": "code",
   "execution_count": 12,
   "metadata": {},
   "outputs": [],
   "source": [
    "df.drop(['Data'], axis=1, inplace = True)"
   ]
  },
  {
   "cell_type": "code",
   "execution_count": 13,
   "metadata": {},
   "outputs": [],
   "source": [
    "df = df.join(GOLD, how = 'inner', rsuffix='_GOLD')"
   ]
  },
  {
   "cell_type": "code",
   "execution_count": 14,
   "metadata": {},
   "outputs": [],
   "source": [
    "df = df.join(RDS, how = 'inner', rsuffix = '_RDS')"
=======
    "lista_TX = []\n",
    "for e in OIL_raw2['Price']:\n",
    "    lista_TX.append(e)\n",
    "    \n",
    "lista_tx = []\n",
    "lista_p = []\n",
    "i = 0\n",
    "while i < len(lista_TX)-1:\n",
    "    var = lista_TX[i+1] - lista_TX[i]\n",
    "    lista_tx.append(var)\n",
    "    p = var*100/lista_TX[i]\n",
    "    lista_p.append(p)\n",
    "    i+=1\n",
    "\n",
    "OIL_r =OIL_raw2.iloc[0:1342:1] \n",
    "OIL_r['variacao_OIL'] = lista_tx\n",
    "OIL_r['variacao percentual_OIL'] = lista_p\n",
    "\n",
    "OIL = OIL_r.rename(columns={\"Price\": \"Valor_OIL\"})\n",
    "\n",
    "OIL.head()"
>>>>>>> 3f8baff8e21990eb501ce796ab447f689e1a2035
   ]
  },
  {
   "cell_type": "code",
<<<<<<< HEAD
   "execution_count": 15,
=======
   "execution_count": 10,
>>>>>>> 3f8baff8e21990eb501ce796ab447f689e1a2035
   "metadata": {},
   "outputs": [
    {
     "name": "stderr",
     "output_type": "stream",
     "text": [
      "C:\\Users\\Tonera\\Anaconda3\\lib\\site-packages\\ipykernel_launcher.py:17: SettingWithCopyWarning: \n",
      "A value is trying to be set on a copy of a slice from a DataFrame.\n",
      "Try using .loc[row_indexer,col_indexer] = value instead\n",
      "\n",
      "See the caveats in the documentation: http://pandas.pydata.org/pandas-docs/stable/indexing.html#indexing-view-versus-copy\n",
      "C:\\Users\\Tonera\\Anaconda3\\lib\\site-packages\\ipykernel_launcher.py:18: SettingWithCopyWarning: \n",
      "A value is trying to be set on a copy of a slice from a DataFrame.\n",
      "Try using .loc[row_indexer,col_indexer] = value instead\n",
      "\n",
      "See the caveats in the documentation: http://pandas.pydata.org/pandas-docs/stable/indexing.html#indexing-view-versus-copy\n"
     ]
    },
    {
     "data": {
      "text/html": [
       "<div>\n",
       "<style scoped>\n",
       "    .dataframe tbody tr th:only-of-type {\n",
       "        vertical-align: middle;\n",
       "    }\n",
       "\n",
       "    .dataframe tbody tr th {\n",
       "        vertical-align: top;\n",
       "    }\n",
       "\n",
       "    .dataframe thead th {\n",
       "        text-align: right;\n",
       "    }\n",
       "</style>\n",
       "<table border=\"1\" class=\"dataframe\">\n",
       "  <thead>\n",
       "    <tr style=\"text-align: right;\">\n",
       "      <th></th>\n",
<<<<<<< HEAD
       "      <th>Adj Close</th>\n",
       "      <th>Último</th>\n",
       "      <th>Price</th>\n",
       "      <th>Adj Close_RDS</th>\n",
       "      <th>Price_OIL</th>\n",
       "    </tr>\n",
       "    <tr>\n",
       "      <th>Date</th>\n",
       "      <th></th>\n",
       "      <th></th>\n",
       "      <th></th>\n",
       "      <th></th>\n",
       "      <th></th>\n",
=======
       "      <th>Data</th>\n",
       "      <th>Valor_CRD</th>\n",
       "      <th>variacao_CRD</th>\n",
       "      <th>variacao percentual_CRD</th>\n",
>>>>>>> 3f8baff8e21990eb501ce796ab447f689e1a2035
       "    </tr>\n",
       "  </thead>\n",
       "  <tbody>\n",
       "    <tr>\n",
<<<<<<< HEAD
       "      <th>2014-11-07</th>\n",
       "      <td>13.511680</td>\n",
       "      <td>25587</td>\n",
       "      <td>1261.0</td>\n",
       "      <td>51.391106</td>\n",
       "      <td>78.65</td>\n",
       "    </tr>\n",
       "    <tr>\n",
       "      <th>2014-11-10</th>\n",
       "      <td>13.237089</td>\n",
       "      <td>25528</td>\n",
       "      <td>1251.3</td>\n",
       "      <td>51.181202</td>\n",
       "      <td>77.40</td>\n",
       "    </tr>\n",
       "    <tr>\n",
       "      <th>2014-11-11</th>\n",
       "      <td>13.256026</td>\n",
       "      <td>25575</td>\n",
       "      <td>1255.1</td>\n",
       "      <td>51.477970</td>\n",
       "      <td>77.94</td>\n",
=======
       "      <th>0</th>\n",
       "      <td>06.11.2019</td>\n",
       "      <td>4.0837</td>\n",
       "      <td>-0.0900</td>\n",
       "      <td>-2.203884</td>\n",
       "    </tr>\n",
       "    <tr>\n",
       "      <th>1</th>\n",
       "      <td>05.11.2019</td>\n",
       "      <td>3.9937</td>\n",
       "      <td>0.0219</td>\n",
       "      <td>0.548364</td>\n",
       "    </tr>\n",
       "    <tr>\n",
       "      <th>2</th>\n",
       "      <td>04.11.2019</td>\n",
       "      <td>4.0156</td>\n",
       "      <td>-0.0253</td>\n",
       "      <td>-0.630043</td>\n",
       "    </tr>\n",
       "    <tr>\n",
       "      <th>3</th>\n",
       "      <td>01.11.2019</td>\n",
       "      <td>3.9903</td>\n",
       "      <td>0.0281</td>\n",
       "      <td>0.704208</td>\n",
       "    </tr>\n",
       "    <tr>\n",
       "      <th>4</th>\n",
       "      <td>31.10.2019</td>\n",
       "      <td>4.0184</td>\n",
       "      <td>-0.0275</td>\n",
       "      <td>-0.684352</td>\n",
>>>>>>> 3f8baff8e21990eb501ce796ab447f689e1a2035
       "    </tr>\n",
       "    <tr>\n",
       "      <th>2014-11-12</th>\n",
       "      <td>13.360181</td>\n",
       "      <td>25665</td>\n",
       "      <td>1250.4</td>\n",
       "      <td>50.531734</td>\n",
       "      <td>77.18</td>\n",
       "    </tr>\n",
       "    <tr>\n",
       "      <th>2014-11-13</th>\n",
       "      <td>12.877283</td>\n",
       "      <td>25889</td>\n",
       "      <td>1251.4</td>\n",
       "      <td>50.179653</td>\n",
       "      <td>74.21</td>\n",
       "    </tr>\n",
       "  </tbody>\n",
       "</table>\n",
       "</div>"
      ],
      "text/plain": [
<<<<<<< HEAD
       "            Adj Close  Último   Price  Adj Close_RDS  Price_OIL\n",
       "Date                                                           \n",
       "2014-11-07  13.511680   25587  1261.0      51.391106      78.65\n",
       "2014-11-10  13.237089   25528  1251.3      51.181202      77.40\n",
       "2014-11-11  13.256026   25575  1255.1      51.477970      77.94\n",
       "2014-11-12  13.360181   25665  1250.4      50.531734      77.18\n",
       "2014-11-13  12.877283   25889  1251.4      50.179653      74.21"
      ]
     },
     "execution_count": 15,
=======
       "         Data  Valor_CRD  variacao_CRD  variacao percentual_CRD\n",
       "0  06.11.2019     4.0837       -0.0900                -2.203884\n",
       "1  05.11.2019     3.9937        0.0219                 0.548364\n",
       "2  04.11.2019     4.0156       -0.0253                -0.630043\n",
       "3  01.11.2019     3.9903        0.0281                 0.704208\n",
       "4  31.10.2019     4.0184       -0.0275                -0.684352"
      ]
     },
     "execution_count": 10,
>>>>>>> 3f8baff8e21990eb501ce796ab447f689e1a2035
     "metadata": {},
     "output_type": "execute_result"
    }
   ],
   "source": [
    "lista_TX = []\n",
    "for e in CRD_raw2['Último']:\n",
    "    i = e/10000\n",
    "    lista_TX.append(i)\n",
    "    \n",
    "lista_tx = []\n",
    "lista_p = []\n",
    "i = 0\n",
    "while i < len(lista_TX)-1:\n",
    "    var = lista_TX[i+1] - lista_TX[i]\n",
    "    lista_tx.append(var)\n",
    "    p = var*100/lista_TX[i]\n",
    "    lista_p.append(p)\n",
    "    i+=1\n",
    "\n",
    "CRD_r =CRD_raw2.iloc[0:1326:1] \n",
    "CRD_r['variacao_CRD'] = lista_tx\n",
    "CRD_r['variacao percentual_CRD'] = lista_p\n",
    "\n",
    "CRD = CRD_r.rename(columns={\"Último\": \"Valor_CRD\"})\n",
    "\n",
    "CRD['Valor_CRD'] = CRD['Valor_CRD']/10000\n",
    "\n",
    "CRD.head()"
   ]
  },
  {
   "cell_type": "code",
   "execution_count": 11,
   "metadata": {},
   "outputs": [],
   "source": [
    "PETR4.set_index('Date', inplace = True)\n",
    "GOLD.set_index('Date', inplace = True)\n",
    "RDS.set_index('Date', inplace = True)\n",
    "OIL.set_index('Date', inplace = True)\n"
   ]
  },
  {
   "cell_type": "code",
<<<<<<< HEAD
   "execution_count": 16,
=======
   "execution_count": 12,
>>>>>>> 3f8baff8e21990eb501ce796ab447f689e1a2035
   "metadata": {},
   "outputs": [],
   "source": [
    "from datetime import datetime\n",
    "str_date = '06.11.2019'\n",
    "def padronizaDia(str_date):\n",
    "    date = datetime.strptime(str_date, '%d.%m.%Y').date()\n",
    "    if len(str(date.day))==1:\n",
    "        dia = \"0\" + str(date.day)\n",
    "    else:\n",
    "        dia = str(date.day)\n",
    "    return \"{0}-{1}-{2}\".format(date.year,date.month, dia)\n",
    "    "
   ]
  },
  {
   "cell_type": "code",
<<<<<<< HEAD
   "execution_count": 17,
=======
   "execution_count": 13,
>>>>>>> 3f8baff8e21990eb501ce796ab447f689e1a2035
   "metadata": {},
   "outputs": [
    {
     "data": {
      "text/html": [
       "<div>\n",
       "<style scoped>\n",
       "    .dataframe tbody tr th:only-of-type {\n",
       "        vertical-align: middle;\n",
       "    }\n",
       "\n",
       "    .dataframe tbody tr th {\n",
       "        vertical-align: top;\n",
       "    }\n",
       "\n",
       "    .dataframe thead th {\n",
       "        text-align: right;\n",
       "    }\n",
       "</style>\n",
       "<table border=\"1\" class=\"dataframe\">\n",
       "  <thead>\n",
       "    <tr style=\"text-align: right;\">\n",
       "      <th></th>\n",
       "      <th>Data</th>\n",
       "      <th>Valor_CRD</th>\n",
       "      <th>variacao_CRD</th>\n",
       "      <th>variacao percentual_CRD</th>\n",
       "    </tr>\n",
       "  </thead>\n",
       "  <tbody>\n",
       "    <tr>\n",
       "      <th>0</th>\n",
       "      <td>06.11.2019</td>\n",
       "      <td>4.0837</td>\n",
       "      <td>-0.0900</td>\n",
       "      <td>-2.203884</td>\n",
       "    </tr>\n",
       "    <tr>\n",
       "      <th>1</th>\n",
       "      <td>05.11.2019</td>\n",
       "      <td>3.9937</td>\n",
       "      <td>0.0219</td>\n",
       "      <td>0.548364</td>\n",
       "    </tr>\n",
       "    <tr>\n",
       "      <th>2</th>\n",
       "      <td>04.11.2019</td>\n",
       "      <td>4.0156</td>\n",
       "      <td>-0.0253</td>\n",
       "      <td>-0.630043</td>\n",
       "    </tr>\n",
       "    <tr>\n",
       "      <th>3</th>\n",
       "      <td>01.11.2019</td>\n",
       "      <td>3.9903</td>\n",
       "      <td>0.0281</td>\n",
       "      <td>0.704208</td>\n",
       "    </tr>\n",
       "    <tr>\n",
       "      <th>4</th>\n",
       "      <td>31.10.2019</td>\n",
       "      <td>4.0184</td>\n",
       "      <td>-0.0275</td>\n",
       "      <td>-0.684352</td>\n",
       "    </tr>\n",
       "  </tbody>\n",
       "</table>\n",
       "</div>"
      ],
      "text/plain": [
       "         Data  Valor_CRD  variacao_CRD  variacao percentual_CRD\n",
       "0  06.11.2019     4.0837       -0.0900                -2.203884\n",
       "1  05.11.2019     3.9937        0.0219                 0.548364\n",
       "2  04.11.2019     4.0156       -0.0253                -0.630043\n",
       "3  01.11.2019     3.9903        0.0281                 0.704208\n",
       "4  31.10.2019     4.0184       -0.0275                -0.684352"
      ]
     },
<<<<<<< HEAD
     "execution_count": 17,
=======
     "execution_count": 13,
>>>>>>> 3f8baff8e21990eb501ce796ab447f689e1a2035
     "metadata": {},
     "output_type": "execute_result"
    }
   ],
   "source": [
    "CRD.head()"
   ]
  },
  {
   "cell_type": "code",
<<<<<<< HEAD
   "execution_count": 18,
=======
   "execution_count": 14,
>>>>>>> 3f8baff8e21990eb501ce796ab447f689e1a2035
   "metadata": {},
   "outputs": [],
   "source": [
    "CRD['Date'] = CRD.Data.apply(padronizaDia)\n",
    "CRD.set_index('Date', inplace = True)"
   ]
  },
  {
   "cell_type": "code",
<<<<<<< HEAD
   "execution_count": 19,
=======
   "execution_count": 15,
>>>>>>> 3f8baff8e21990eb501ce796ab447f689e1a2035
   "metadata": {},
   "outputs": [
    {
     "data": {
      "text/html": [
<<<<<<< HEAD
       "<table class=\"simpletable\">\n",
       "<caption>OLS Regression Results</caption>\n",
       "<tr>\n",
       "  <th>Dep. Variable:</th>        <td>Adj Close</td>    <th>  R-squared:         </th> <td>   0.787</td>\n",
       "</tr>\n",
       "<tr>\n",
       "  <th>Model:</th>                   <td>OLS</td>       <th>  Adj. R-squared:    </th> <td>   0.786</td>\n",
       "</tr>\n",
       "<tr>\n",
       "  <th>Method:</th>             <td>Least Squares</td>  <th>  F-statistic:       </th> <td>   1113.</td>\n",
       "</tr>\n",
       "<tr>\n",
       "  <th>Date:</th>             <td>Thu, 14 Nov 2019</td> <th>  Prob (F-statistic):</th>  <td>  0.00</td> \n",
       "</tr>\n",
       "<tr>\n",
       "  <th>Time:</th>                 <td>07:59:08</td>     <th>  Log-Likelihood:    </th> <td> -3089.0</td>\n",
       "</tr>\n",
       "<tr>\n",
       "  <th>No. Observations:</th>      <td>  1210</td>      <th>  AIC:               </th> <td>   6188.</td>\n",
       "</tr>\n",
       "<tr>\n",
       "  <th>Df Residuals:</th>          <td>  1205</td>      <th>  BIC:               </th> <td>   6213.</td>\n",
       "</tr>\n",
       "<tr>\n",
       "  <th>Df Model:</th>              <td>     4</td>      <th>                     </th>     <td> </td>   \n",
       "</tr>\n",
       "<tr>\n",
       "  <th>Covariance Type:</th>      <td>nonrobust</td>    <th>                     </th>     <td> </td>   \n",
       "</tr>\n",
       "</table>\n",
       "<table class=\"simpletable\">\n",
       "<tr>\n",
       "        <td></td>           <th>coef</th>     <th>std err</th>      <th>t</th>      <th>P>|t|</th>  <th>[0.025</th>    <th>0.975]</th>  \n",
       "</tr>\n",
       "<tr>\n",
       "  <th>const</th>         <td>  -49.7938</td> <td>    1.889</td> <td>  -26.366</td> <td> 0.000</td> <td>  -53.499</td> <td>  -46.088</td>\n",
       "</tr>\n",
       "<tr>\n",
       "  <th>Último</th>        <td>    0.0004</td> <td> 2.63e-05</td> <td>   16.138</td> <td> 0.000</td> <td>    0.000</td> <td>    0.000</td>\n",
       "</tr>\n",
       "<tr>\n",
       "  <th>Price</th>         <td>    0.0205</td> <td>    0.001</td> <td>   15.869</td> <td> 0.000</td> <td>    0.018</td> <td>    0.023</td>\n",
       "</tr>\n",
       "<tr>\n",
       "  <th>Adj Close_RDS</th> <td>    0.4680</td> <td>    0.023</td> <td>   20.759</td> <td> 0.000</td> <td>    0.424</td> <td>    0.512</td>\n",
       "</tr>\n",
       "<tr>\n",
       "  <th>Price_OIL</th>     <td>    0.0026</td> <td>    0.018</td> <td>    0.140</td> <td> 0.889</td> <td>   -0.033</td> <td>    0.039</td>\n",
       "</tr>\n",
=======
       "<div>\n",
       "<style scoped>\n",
       "    .dataframe tbody tr th:only-of-type {\n",
       "        vertical-align: middle;\n",
       "    }\n",
       "\n",
       "    .dataframe tbody tr th {\n",
       "        vertical-align: top;\n",
       "    }\n",
       "\n",
       "    .dataframe thead th {\n",
       "        text-align: right;\n",
       "    }\n",
       "</style>\n",
       "<table border=\"1\" class=\"dataframe\">\n",
       "  <thead>\n",
       "    <tr style=\"text-align: right;\">\n",
       "      <th></th>\n",
       "      <th>Valor_PETR4</th>\n",
       "      <th>variacao_PETR4</th>\n",
       "      <th>variacao percentual_PETR4</th>\n",
       "      <th>Data</th>\n",
       "      <th>Valor_CRD</th>\n",
       "      <th>variacao_CRD</th>\n",
       "      <th>variacao percentual_CRD</th>\n",
       "    </tr>\n",
       "    <tr>\n",
       "      <th>Date</th>\n",
       "      <th></th>\n",
       "      <th></th>\n",
       "      <th></th>\n",
       "      <th></th>\n",
       "      <th></th>\n",
       "      <th></th>\n",
       "      <th></th>\n",
       "    </tr>\n",
       "  </thead>\n",
       "  <tbody>\n",
       "    <tr>\n",
       "      <th>2014-11-05</th>\n",
       "      <td>13.634769</td>\n",
       "      <td>-0.321929</td>\n",
       "      <td>-2.361089</td>\n",
       "      <td>05.11.2014</td>\n",
       "      <td>2.5049</td>\n",
       "      <td>-0.0079</td>\n",
       "      <td>-0.315382</td>\n",
       "    </tr>\n",
       "    <tr>\n",
       "      <th>2014-11-06</th>\n",
       "      <td>13.312840</td>\n",
       "      <td>0.198840</td>\n",
       "      <td>1.493596</td>\n",
       "      <td>06.11.2014</td>\n",
       "      <td>2.5697</td>\n",
       "      <td>-0.0648</td>\n",
       "      <td>-2.521695</td>\n",
       "    </tr>\n",
       "    <tr>\n",
       "      <th>2014-11-07</th>\n",
       "      <td>13.511680</td>\n",
       "      <td>-0.274591</td>\n",
       "      <td>-2.032249</td>\n",
       "      <td>07.11.2014</td>\n",
       "      <td>2.5587</td>\n",
       "      <td>0.0110</td>\n",
       "      <td>0.429906</td>\n",
       "    </tr>\n",
       "    <tr>\n",
       "      <th>2014-11-10</th>\n",
       "      <td>13.237089</td>\n",
       "      <td>0.018937</td>\n",
       "      <td>0.143060</td>\n",
       "      <td>10.11.2014</td>\n",
       "      <td>2.5528</td>\n",
       "      <td>0.0059</td>\n",
       "      <td>0.231119</td>\n",
       "    </tr>\n",
       "    <tr>\n",
       "      <th>2014-11-11</th>\n",
       "      <td>13.256026</td>\n",
       "      <td>0.104155</td>\n",
       "      <td>0.785718</td>\n",
       "      <td>11.11.2014</td>\n",
       "      <td>2.5575</td>\n",
       "      <td>-0.0047</td>\n",
       "      <td>-0.183773</td>\n",
       "    </tr>\n",
       "  </tbody>\n",
>>>>>>> 3f8baff8e21990eb501ce796ab447f689e1a2035
       "</table>\n",
       "</div>"
      ],
      "text/plain": [
<<<<<<< HEAD
       "<class 'statsmodels.iolib.summary.Summary'>\n",
       "\"\"\"\n",
       "                            OLS Regression Results                            \n",
       "==============================================================================\n",
       "Dep. Variable:              Adj Close   R-squared:                       0.787\n",
       "Model:                            OLS   Adj. R-squared:                  0.786\n",
       "Method:                 Least Squares   F-statistic:                     1113.\n",
       "Date:                Thu, 14 Nov 2019   Prob (F-statistic):               0.00\n",
       "Time:                        07:59:08   Log-Likelihood:                -3089.0\n",
       "No. Observations:                1210   AIC:                             6188.\n",
       "Df Residuals:                    1205   BIC:                             6213.\n",
       "Df Model:                           4                                         \n",
       "Covariance Type:            nonrobust                                         \n",
       "=================================================================================\n",
       "                    coef    std err          t      P>|t|      [0.025      0.975]\n",
       "---------------------------------------------------------------------------------\n",
       "const           -49.7938      1.889    -26.366      0.000     -53.499     -46.088\n",
       "Último            0.0004   2.63e-05     16.138      0.000       0.000       0.000\n",
       "Price             0.0205      0.001     15.869      0.000       0.018       0.023\n",
       "Adj Close_RDS     0.4680      0.023     20.759      0.000       0.424       0.512\n",
       "Price_OIL         0.0026      0.018      0.140      0.889      -0.033       0.039\n",
       "==============================================================================\n",
       "Omnibus:                       10.465   Durbin-Watson:                   0.029\n",
       "Prob(Omnibus):                  0.005   Jarque-Bera (JB):               10.599\n",
       "Skew:                          -0.218   Prob(JB):                      0.00499\n",
       "Kurtosis:                       2.857   Cond. No.                     7.38e+05\n",
       "==============================================================================\n",
=======
       "            Valor_PETR4  variacao_PETR4  variacao percentual_PETR4  \\\n",
       "Date                                                                 \n",
       "2014-11-05    13.634769       -0.321929                  -2.361089   \n",
       "2014-11-06    13.312840        0.198840                   1.493596   \n",
       "2014-11-07    13.511680       -0.274591                  -2.032249   \n",
       "2014-11-10    13.237089        0.018937                   0.143060   \n",
       "2014-11-11    13.256026        0.104155                   0.785718   \n",
>>>>>>> 3f8baff8e21990eb501ce796ab447f689e1a2035
       "\n",
       "                  Data  Valor_CRD  variacao_CRD  variacao percentual_CRD  \n",
       "Date                                                                      \n",
       "2014-11-05  05.11.2014     2.5049       -0.0079                -0.315382  \n",
       "2014-11-06  06.11.2014     2.5697       -0.0648                -2.521695  \n",
       "2014-11-07  07.11.2014     2.5587        0.0110                 0.429906  \n",
       "2014-11-10  10.11.2014     2.5528        0.0059                 0.231119  \n",
       "2014-11-11  11.11.2014     2.5575       -0.0047                -0.183773  "
      ]
     },
<<<<<<< HEAD
     "execution_count": 19,
=======
     "execution_count": 15,
>>>>>>> 3f8baff8e21990eb501ce796ab447f689e1a2035
     "metadata": {},
     "output_type": "execute_result"
    }
   ],
   "source": [
    "df = PETR4.join(CRD, how='inner', lsuffix='_PETR4', rsuffix='_CRD')\n",
    "df.head()"
   ]
  },
  {
   "cell_type": "code",
   "execution_count": 16,
   "metadata": {},
   "outputs": [],
   "source": [
    "df.drop(['Data'], axis=1, inplace = True)"
   ]
  },
  {
   "cell_type": "code",
   "execution_count": 17,
   "metadata": {},
   "outputs": [],
   "source": [
    "df = df.join(GOLD, how = 'inner', rsuffix='_GOLD')"
   ]
  },
  {
   "cell_type": "code",
   "execution_count": 18,
   "metadata": {},
   "outputs": [],
   "source": [
    "df = df.join(RDS, how = 'inner', rsuffix = '_RDS')"
   ]
  },
  {
   "cell_type": "code",
   "execution_count": 19,
   "metadata": {},
   "outputs": [
    {
     "data": {
      "text/html": [
       "<div>\n",
       "<style scoped>\n",
       "    .dataframe tbody tr th:only-of-type {\n",
       "        vertical-align: middle;\n",
       "    }\n",
       "\n",
       "    .dataframe tbody tr th {\n",
       "        vertical-align: top;\n",
       "    }\n",
       "\n",
       "    .dataframe thead th {\n",
       "        text-align: right;\n",
       "    }\n",
       "</style>\n",
       "<table border=\"1\" class=\"dataframe\">\n",
       "  <thead>\n",
       "    <tr style=\"text-align: right;\">\n",
       "      <th></th>\n",
       "      <th>Valor_PETR4</th>\n",
       "      <th>variacao_PETR4</th>\n",
       "      <th>variacao percentual_PETR4</th>\n",
       "      <th>Valor_CRD</th>\n",
       "      <th>variacao_CRD</th>\n",
       "      <th>variacao percentual_CRD</th>\n",
       "      <th>Valor_OURO</th>\n",
       "      <th>variacao_OURO</th>\n",
       "      <th>variacao percentual_OURO</th>\n",
       "      <th>Valor_RDS</th>\n",
       "      <th>variacao_RDS</th>\n",
       "      <th>variacao percentual_RDS</th>\n",
       "      <th>Valor_OIL</th>\n",
       "      <th>variacao_OIL</th>\n",
       "      <th>variacao percentual_OIL</th>\n",
       "    </tr>\n",
       "    <tr>\n",
       "      <th>Date</th>\n",
       "      <th></th>\n",
       "      <th></th>\n",
       "      <th></th>\n",
       "      <th></th>\n",
       "      <th></th>\n",
       "      <th></th>\n",
       "      <th></th>\n",
       "      <th></th>\n",
       "      <th></th>\n",
       "      <th></th>\n",
       "      <th></th>\n",
       "      <th></th>\n",
       "      <th></th>\n",
       "      <th></th>\n",
       "      <th></th>\n",
       "    </tr>\n",
       "  </thead>\n",
       "  <tbody>\n",
       "    <tr>\n",
       "      <th>2014-11-07</th>\n",
       "      <td>13.511680</td>\n",
       "      <td>-0.274591</td>\n",
       "      <td>-2.032249</td>\n",
       "      <td>2.5587</td>\n",
       "      <td>0.0110</td>\n",
       "      <td>0.429906</td>\n",
       "      <td>1261.0</td>\n",
       "      <td>-26.6</td>\n",
       "      <td>-2.109437</td>\n",
       "      <td>51.391106</td>\n",
       "      <td>-0.209904</td>\n",
       "      <td>-0.408444</td>\n",
       "      <td>78.65</td>\n",
       "      <td>-0.74</td>\n",
       "      <td>-0.940877</td>\n",
       "    </tr>\n",
       "    <tr>\n",
       "      <th>2014-11-10</th>\n",
       "      <td>13.237089</td>\n",
       "      <td>0.018937</td>\n",
       "      <td>0.143060</td>\n",
       "      <td>2.5528</td>\n",
       "      <td>0.0059</td>\n",
       "      <td>0.231119</td>\n",
       "      <td>1251.3</td>\n",
       "      <td>9.7</td>\n",
       "      <td>0.775194</td>\n",
       "      <td>51.181202</td>\n",
       "      <td>0.296768</td>\n",
       "      <td>0.579838</td>\n",
       "      <td>77.40</td>\n",
       "      <td>1.25</td>\n",
       "      <td>1.614987</td>\n",
       "    </tr>\n",
       "    <tr>\n",
       "      <th>2014-11-11</th>\n",
       "      <td>13.256026</td>\n",
       "      <td>0.104155</td>\n",
       "      <td>0.785718</td>\n",
       "      <td>2.5575</td>\n",
       "      <td>-0.0047</td>\n",
       "      <td>-0.183773</td>\n",
       "      <td>1255.1</td>\n",
       "      <td>-3.8</td>\n",
       "      <td>-0.302765</td>\n",
       "      <td>51.477970</td>\n",
       "      <td>-0.946236</td>\n",
       "      <td>-1.838138</td>\n",
       "      <td>77.94</td>\n",
       "      <td>-0.54</td>\n",
       "      <td>-0.692841</td>\n",
       "    </tr>\n",
       "    <tr>\n",
       "      <th>2014-11-12</th>\n",
       "      <td>13.360181</td>\n",
       "      <td>-0.482898</td>\n",
       "      <td>-3.614457</td>\n",
       "      <td>2.5665</td>\n",
       "      <td>-0.0090</td>\n",
       "      <td>-0.350672</td>\n",
       "      <td>1250.4</td>\n",
       "      <td>4.7</td>\n",
       "      <td>0.375880</td>\n",
       "      <td>50.531734</td>\n",
       "      <td>-0.352081</td>\n",
       "      <td>-0.696752</td>\n",
       "      <td>77.18</td>\n",
       "      <td>0.76</td>\n",
       "      <td>0.984711</td>\n",
       "    </tr>\n",
       "    <tr>\n",
       "      <th>2014-11-13</th>\n",
       "      <td>12.877283</td>\n",
       "      <td>-0.378742</td>\n",
       "      <td>-2.941164</td>\n",
       "      <td>2.5889</td>\n",
       "      <td>-0.0224</td>\n",
       "      <td>-0.865232</td>\n",
       "      <td>1251.4</td>\n",
       "      <td>-1.0</td>\n",
       "      <td>-0.079911</td>\n",
       "      <td>50.179653</td>\n",
       "      <td>0.711506</td>\n",
       "      <td>1.417917</td>\n",
       "      <td>74.21</td>\n",
       "      <td>2.97</td>\n",
       "      <td>4.002156</td>\n",
       "    </tr>\n",
       "  </tbody>\n",
       "</table>\n",
       "</div>"
      ],
      "text/plain": [
       "            Valor_PETR4  variacao_PETR4  variacao percentual_PETR4  Valor_CRD  \\\n",
       "Date                                                                            \n",
       "2014-11-07    13.511680       -0.274591                  -2.032249     2.5587   \n",
       "2014-11-10    13.237089        0.018937                   0.143060     2.5528   \n",
       "2014-11-11    13.256026        0.104155                   0.785718     2.5575   \n",
       "2014-11-12    13.360181       -0.482898                  -3.614457     2.5665   \n",
       "2014-11-13    12.877283       -0.378742                  -2.941164     2.5889   \n",
       "\n",
       "            variacao_CRD  variacao percentual_CRD  Valor_OURO  variacao_OURO  \\\n",
       "Date                                                                           \n",
       "2014-11-07        0.0110                 0.429906      1261.0          -26.6   \n",
       "2014-11-10        0.0059                 0.231119      1251.3            9.7   \n",
       "2014-11-11       -0.0047                -0.183773      1255.1           -3.8   \n",
       "2014-11-12       -0.0090                -0.350672      1250.4            4.7   \n",
       "2014-11-13       -0.0224                -0.865232      1251.4           -1.0   \n",
       "\n",
       "            variacao percentual_OURO  Valor_RDS  variacao_RDS  \\\n",
       "Date                                                            \n",
       "2014-11-07                 -2.109437  51.391106     -0.209904   \n",
       "2014-11-10                  0.775194  51.181202      0.296768   \n",
       "2014-11-11                 -0.302765  51.477970     -0.946236   \n",
       "2014-11-12                  0.375880  50.531734     -0.352081   \n",
       "2014-11-13                 -0.079911  50.179653      0.711506   \n",
       "\n",
       "            variacao percentual_RDS  Valor_OIL  variacao_OIL  \\\n",
       "Date                                                           \n",
       "2014-11-07                -0.408444      78.65         -0.74   \n",
       "2014-11-10                 0.579838      77.40          1.25   \n",
       "2014-11-11                -1.838138      77.94         -0.54   \n",
       "2014-11-12                -0.696752      77.18          0.76   \n",
       "2014-11-13                 1.417917      74.21          2.97   \n",
       "\n",
       "            variacao percentual_OIL  \n",
       "Date                                 \n",
       "2014-11-07                -0.940877  \n",
       "2014-11-10                 1.614987  \n",
       "2014-11-11                -0.692841  \n",
       "2014-11-12                 0.984711  \n",
       "2014-11-13                 4.002156  "
      ]
     },
     "execution_count": 19,
     "metadata": {},
     "output_type": "execute_result"
    }
   ],
   "source": [
    "DataFrame = df.join(OIL, how = 'inner', rsuffix = '_OIL')\n",
    "DataFrame.head()"
   ]
  },
  {
   "cell_type": "markdown",
   "metadata": {},
   "source": [
    "## Início da Regressão\n",
    "\n",
    "Com os valores absolutos (valores de cada ação)"
   ]
  },
  {
   "cell_type": "code",
   "execution_count": 20,
   "metadata": {},
   "outputs": [],
   "source": [
    "\n",
    "def regress(X,Y):\n",
    "    X_cp = sm.add_constant(X)\n",
    "    model = sm.OLS(Y,X_cp)\n",
    "    results = model.fit()\n",
    "    return results"
   ]
  },
  {
   "cell_type": "code",
   "execution_count": 21,
   "metadata": {},
   "outputs": [
    {
     "data": {
      "text/plain": [
       "Valor_PETR4                  0\n",
       "variacao_PETR4               0\n",
       "variacao percentual_PETR4    0\n",
       "Valor_CRD                    0\n",
       "variacao_CRD                 0\n",
       "variacao percentual_CRD      0\n",
       "Valor_OURO                   0\n",
       "variacao_OURO                0\n",
       "variacao percentual_OURO     0\n",
       "Valor_RDS                    0\n",
       "variacao_RDS                 0\n",
       "variacao percentual_RDS      0\n",
       "Valor_OIL                    0\n",
       "variacao_OIL                 0\n",
       "variacao percentual_OIL      0\n",
       "dtype: int64"
      ]
     },
     "execution_count": 21,
     "metadata": {},
     "output_type": "execute_result"
    }
   ],
   "source": [
    "np.sum(DataFrame.isnull())"
   ]
  },
  {
   "cell_type": "code",
   "execution_count": 22,
   "metadata": {},
   "outputs": [],
   "source": [
    "Y = DataFrame['Valor_PETR4'].iloc[0:300:1]\n",
    "X = DataFrame[['Valor_CRD', 'Valor_OURO','Valor_RDS','Valor_OIL']].iloc[0:300:1]"
   ]
  },
  {
   "cell_type": "code",
   "execution_count": 23,
   "metadata": {},
   "outputs": [
    {
     "data": {
      "text/html": [
       "<table class=\"simpletable\">\n",
       "<caption>OLS Regression Results</caption>\n",
       "<tr>\n",
       "  <th>Dep. Variable:</th>       <td>Valor_PETR4</td>   <th>  R-squared:         </th> <td>   0.817</td> \n",
       "</tr>\n",
       "<tr>\n",
       "  <th>Model:</th>                   <td>OLS</td>       <th>  Adj. R-squared:    </th> <td>   0.815</td> \n",
       "</tr>\n",
       "<tr>\n",
       "  <th>Method:</th>             <td>Least Squares</td>  <th>  F-statistic:       </th> <td>   329.3</td> \n",
       "</tr>\n",
       "<tr>\n",
       "  <th>Date:</th>             <td>Tue, 12 Nov 2019</td> <th>  Prob (F-statistic):</th> <td>1.92e-107</td>\n",
       "</tr>\n",
       "<tr>\n",
       "  <th>Time:</th>                 <td>23:21:09</td>     <th>  Log-Likelihood:    </th> <td> -428.86</td> \n",
       "</tr>\n",
       "<tr>\n",
       "  <th>No. Observations:</th>      <td>   300</td>      <th>  AIC:               </th> <td>   867.7</td> \n",
       "</tr>\n",
       "<tr>\n",
       "  <th>Df Residuals:</th>          <td>   295</td>      <th>  BIC:               </th> <td>   886.2</td> \n",
       "</tr>\n",
       "<tr>\n",
       "  <th>Df Model:</th>              <td>     4</td>      <th>                     </th>     <td> </td>    \n",
       "</tr>\n",
       "<tr>\n",
       "  <th>Covariance Type:</th>      <td>nonrobust</td>    <th>                     </th>     <td> </td>    \n",
       "</tr>\n",
       "</table>\n",
       "<table class=\"simpletable\">\n",
       "<tr>\n",
       "       <td></td>         <th>coef</th>     <th>std err</th>      <th>t</th>      <th>P>|t|</th>  <th>[0.025</th>    <th>0.975]</th>  \n",
       "</tr>\n",
       "<tr>\n",
       "  <th>const</th>      <td>    6.9412</td> <td>    3.435</td> <td>    2.021</td> <td> 0.044</td> <td>    0.181</td> <td>   13.701</td>\n",
       "</tr>\n",
       "<tr>\n",
       "  <th>Valor_CRD</th>  <td>   -0.8405</td> <td>    0.341</td> <td>   -2.461</td> <td> 0.014</td> <td>   -1.512</td> <td>   -0.168</td>\n",
       "</tr>\n",
       "<tr>\n",
       "  <th>Valor_OURO</th> <td>   -0.0046</td> <td>    0.002</td> <td>   -2.379</td> <td> 0.018</td> <td>   -0.008</td> <td>   -0.001</td>\n",
       "</tr>\n",
       "<tr>\n",
       "  <th>Valor_RDS</th>  <td>    0.0353</td> <td>    0.033</td> <td>    1.083</td> <td> 0.280</td> <td>   -0.029</td> <td>    0.099</td>\n",
       "</tr>\n",
       "<tr>\n",
       "  <th>Valor_OIL</th>  <td>    0.1826</td> <td>    0.010</td> <td>   17.757</td> <td> 0.000</td> <td>    0.162</td> <td>    0.203</td>\n",
       "</tr>\n",
       "</table>\n",
       "<table class=\"simpletable\">\n",
       "<tr>\n",
       "  <th>Omnibus:</th>       <td>15.867</td> <th>  Durbin-Watson:     </th> <td>   0.100</td>\n",
       "</tr>\n",
       "<tr>\n",
       "  <th>Prob(Omnibus):</th> <td> 0.000</td> <th>  Jarque-Bera (JB):  </th> <td>   6.947</td>\n",
       "</tr>\n",
       "<tr>\n",
       "  <th>Skew:</th>          <td> 0.090</td> <th>  Prob(JB):          </th> <td>  0.0310</td>\n",
       "</tr>\n",
       "<tr>\n",
       "  <th>Kurtosis:</th>      <td> 2.276</td> <th>  Cond. No.          </th> <td>7.16e+04</td>\n",
       "</tr>\n",
       "</table><br/><br/>Warnings:<br/>[1] Standard Errors assume that the covariance matrix of the errors is correctly specified.<br/>[2] The condition number is large, 7.16e+04. This might indicate that there are<br/>strong multicollinearity or other numerical problems."
      ],
      "text/plain": [
       "<class 'statsmodels.iolib.summary.Summary'>\n",
       "\"\"\"\n",
       "                            OLS Regression Results                            \n",
       "==============================================================================\n",
       "Dep. Variable:            Valor_PETR4   R-squared:                       0.817\n",
       "Model:                            OLS   Adj. R-squared:                  0.815\n",
       "Method:                 Least Squares   F-statistic:                     329.3\n",
       "Date:                Tue, 12 Nov 2019   Prob (F-statistic):          1.92e-107\n",
       "Time:                        23:21:09   Log-Likelihood:                -428.86\n",
       "No. Observations:                 300   AIC:                             867.7\n",
       "Df Residuals:                     295   BIC:                             886.2\n",
       "Df Model:                           4                                         \n",
       "Covariance Type:            nonrobust                                         \n",
       "==============================================================================\n",
       "                 coef    std err          t      P>|t|      [0.025      0.975]\n",
       "------------------------------------------------------------------------------\n",
       "const          6.9412      3.435      2.021      0.044       0.181      13.701\n",
       "Valor_CRD     -0.8405      0.341     -2.461      0.014      -1.512      -0.168\n",
       "Valor_OURO    -0.0046      0.002     -2.379      0.018      -0.008      -0.001\n",
       "Valor_RDS      0.0353      0.033      1.083      0.280      -0.029       0.099\n",
       "Valor_OIL      0.1826      0.010     17.757      0.000       0.162       0.203\n",
       "==============================================================================\n",
       "Omnibus:                       15.867   Durbin-Watson:                   0.100\n",
       "Prob(Omnibus):                  0.000   Jarque-Bera (JB):                6.947\n",
       "Skew:                           0.090   Prob(JB):                       0.0310\n",
       "Kurtosis:                       2.276   Cond. No.                     7.16e+04\n",
       "==============================================================================\n",
       "\n",
       "Warnings:\n",
       "[1] Standard Errors assume that the covariance matrix of the errors is correctly specified.\n",
       "[2] The condition number is large, 7.16e+04. This might indicate that there are\n",
       "strong multicollinearity or other numerical problems.\n",
       "\"\"\""
      ]
     },
     "execution_count": 23,
     "metadata": {},
     "output_type": "execute_result"
    }
   ],
   "source": [
    "results = regress(X, Y)\n",
    "results.summary()"
   ]
  },
  {
   "cell_type": "markdown",
   "metadata": {},
   "source": [
    "Regressão com as taxas de variação"
   ]
  },
  {
   "cell_type": "code",
   "execution_count": null,
   "metadata": {},
   "outputs": [],
   "source": [
    "Y_var = DataFrame['variacao_PETR4'].iloc[0:300:1]\n",
    "X_var = DataFrame[['variacao_CRD', 'variacao_OURO','Valor_RDS','Valor_OIL']].iloc[0:300:1]"
   ]
  },
  {
   "cell_type": "code",
   "execution_count": null,
   "metadata": {},
   "outputs": [],
   "source": [
    "results = regress(X_var, Y_var)\n",
    "results.summary()"
   ]
  },
  {
   "cell_type": "markdown",
   "metadata": {},
   "source": [
    "### Análise da influência dos fatores"
   ]
  },
  {
   "cell_type": "code",
   "execution_count": 24,
   "metadata": {},
   "outputs": [
    {
     "data": {
      "text/plain": [
       "<matplotlib.collections.PathCollection at 0x25b1eb030f0>"
      ]
     },
     "execution_count": 24,
     "metadata": {},
     "output_type": "execute_result"
    },
    {
     "data": {
      "image/png": "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\n",
      "text/plain": [
       "<Figure size 432x288 with 1 Axes>"
      ]
     },
     "metadata": {
      "needs_background": "light"
     },
     "output_type": "display_data"
    }
   ],
   "source": [
    "k = results.params['const']\n",
    "PO = results.params['Valor_OIL']\n",
    "\n",
    "x = DataFrame['Valor_OIL'].iloc[0:300:1]\n",
    "\n",
    "x_v = np.linspace(x.min(), x.max(), 500)\n",
    "y_v = k + PO*x_v\n",
    "\n",
    "plt.plot(x_v,y_v, color=\"r\") \n",
    "plt.scatter(x, Y)"
   ]
  },
  {
   "cell_type": "code",
   "execution_count": 25,
   "metadata": {},
   "outputs": [
    {
     "data": {
      "text/plain": [
       "<matplotlib.collections.PathCollection at 0x25b1eb8a080>"
      ]
     },
     "execution_count": 25,
     "metadata": {},
     "output_type": "execute_result"
    },
    {
     "data": {
      "image/png": "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\n",
      "text/plain": [
       "<Figure size 432x288 with 1 Axes>"
      ]
     },
     "metadata": {
      "needs_background": "light"
     },
     "output_type": "display_data"
    }
   ],
   "source": [
    "#Influencia do Ouro (n mt boa...)\n",
    "\n",
    "PG = results.params['Valor_OURO']\n",
    "x2 = DataFrame['Valor_OURO'].iloc[0:300:1]\n",
    "\n",
    "x_v2 = np.linspace(x2.min(), x2.max(), 500)\n",
    "y_v2 = k + PG*x_v2\n",
    "\n",
    "plt.plot(x_v2,y_v2, color=\"r\") \n",
    "plt.scatter(x2, Y)"
   ]
  },
  {
   "cell_type": "code",
   "execution_count": 26,
   "metadata": {},
   "outputs": [
    {
     "data": {
      "text/plain": [
       "<matplotlib.collections.PathCollection at 0x25b1eae52b0>"
      ]
     },
     "execution_count": 26,
     "metadata": {},
     "output_type": "execute_result"
    },
    {
     "data": {
      "image/png": "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\n",
      "text/plain": [
       "<Figure size 432x288 with 1 Axes>"
      ]
     },
     "metadata": {
      "needs_background": "light"
     },
     "output_type": "display_data"
    }
   ],
   "source": [
    "# Interferencia do dollar\n",
    "\n",
    "PD = results.params['Valor_CRD']\n",
    "x3 = DataFrame['Valor_CRD'].iloc[0:300:1]\n",
    "\n",
    "x_v3 = np.linspace(x3.min(), x3.max(), 500)\n",
    "y_v3 = k + PD*x_v3\n",
    "\n",
    "plt.plot(x_v3,y_v3, color=\"r\") \n",
    "plt.scatter(x3, Y)"
   ]
  },
  {
   "cell_type": "markdown",
   "metadata": {},
   "source": [
    "## Plotagem dos Histogramas "
   ]
  },
  {
   "cell_type": "code",
   "execution_count": 36,
   "metadata": {},
   "outputs": [
    {
     "data": {
      "text/html": [
       "<div>\n",
       "<style scoped>\n",
       "    .dataframe tbody tr th:only-of-type {\n",
       "        vertical-align: middle;\n",
       "    }\n",
       "\n",
       "    .dataframe tbody tr th {\n",
       "        vertical-align: top;\n",
       "    }\n",
       "\n",
       "    .dataframe thead th {\n",
       "        text-align: right;\n",
       "    }\n",
       "</style>\n",
       "<table border=\"1\" class=\"dataframe\">\n",
       "  <thead>\n",
       "    <tr style=\"text-align: right;\">\n",
       "      <th></th>\n",
       "      <th>Valor_PETR4</th>\n",
       "      <th>variacao_PETR4</th>\n",
       "      <th>variacao percentual_PETR4</th>\n",
       "      <th>Valor_CRD</th>\n",
       "      <th>variacao_CRD</th>\n",
       "      <th>variacao percentual_CRD</th>\n",
       "      <th>Valor_OURO</th>\n",
       "      <th>variacao_OURO</th>\n",
       "      <th>variacao percentual_OURO</th>\n",
       "      <th>Valor_RDS</th>\n",
       "      <th>variacao_RDS</th>\n",
       "      <th>variacao percentual_RDS</th>\n",
       "      <th>Valor_OIL</th>\n",
       "      <th>variacao_OIL</th>\n",
       "      <th>variacao percentual_OIL</th>\n",
       "      <th>Posicao</th>\n",
       "    </tr>\n",
       "    <tr>\n",
       "      <th>Date</th>\n",
       "      <th></th>\n",
       "      <th></th>\n",
       "      <th></th>\n",
       "      <th></th>\n",
       "      <th></th>\n",
       "      <th></th>\n",
       "      <th></th>\n",
       "      <th></th>\n",
       "      <th></th>\n",
       "      <th></th>\n",
       "      <th></th>\n",
       "      <th></th>\n",
       "      <th></th>\n",
       "      <th></th>\n",
       "      <th></th>\n",
       "      <th></th>\n",
       "    </tr>\n",
       "  </thead>\n",
       "  <tbody>\n",
       "    <tr>\n",
       "      <th>2014-11-07</th>\n",
       "      <td>13.511680</td>\n",
       "      <td>-0.274591</td>\n",
       "      <td>-2.032249</td>\n",
       "      <td>2.5587</td>\n",
       "      <td>0.0110</td>\n",
       "      <td>0.429906</td>\n",
       "      <td>1261.0</td>\n",
       "      <td>-26.6</td>\n",
       "      <td>-2.109437</td>\n",
       "      <td>51.391106</td>\n",
       "      <td>-0.209904</td>\n",
       "      <td>-0.408444</td>\n",
       "      <td>78.65</td>\n",
       "      <td>-0.74</td>\n",
       "      <td>-0.940877</td>\n",
       "      <td>DOWN</td>\n",
       "    </tr>\n",
       "    <tr>\n",
       "      <th>2014-11-10</th>\n",
       "      <td>13.237089</td>\n",
       "      <td>0.018937</td>\n",
       "      <td>0.143060</td>\n",
       "      <td>2.5528</td>\n",
       "      <td>0.0059</td>\n",
       "      <td>0.231119</td>\n",
       "      <td>1251.3</td>\n",
       "      <td>9.7</td>\n",
       "      <td>0.775194</td>\n",
       "      <td>51.181202</td>\n",
       "      <td>0.296768</td>\n",
       "      <td>0.579838</td>\n",
       "      <td>77.40</td>\n",
       "      <td>1.25</td>\n",
       "      <td>1.614987</td>\n",
       "      <td>UP</td>\n",
       "    </tr>\n",
       "    <tr>\n",
       "      <th>2014-11-11</th>\n",
       "      <td>13.256026</td>\n",
       "      <td>0.104155</td>\n",
       "      <td>0.785718</td>\n",
       "      <td>2.5575</td>\n",
       "      <td>-0.0047</td>\n",
       "      <td>-0.183773</td>\n",
       "      <td>1255.1</td>\n",
       "      <td>-3.8</td>\n",
       "      <td>-0.302765</td>\n",
       "      <td>51.477970</td>\n",
       "      <td>-0.946236</td>\n",
       "      <td>-1.838138</td>\n",
       "      <td>77.94</td>\n",
       "      <td>-0.54</td>\n",
       "      <td>-0.692841</td>\n",
       "      <td>UP</td>\n",
       "    </tr>\n",
       "    <tr>\n",
       "      <th>2014-11-12</th>\n",
       "      <td>13.360181</td>\n",
       "      <td>-0.482898</td>\n",
       "      <td>-3.614457</td>\n",
       "      <td>2.5665</td>\n",
       "      <td>-0.0090</td>\n",
       "      <td>-0.350672</td>\n",
       "      <td>1250.4</td>\n",
       "      <td>4.7</td>\n",
       "      <td>0.375880</td>\n",
       "      <td>50.531734</td>\n",
       "      <td>-0.352081</td>\n",
       "      <td>-0.696752</td>\n",
       "      <td>77.18</td>\n",
       "      <td>0.76</td>\n",
       "      <td>0.984711</td>\n",
       "      <td>DOWN</td>\n",
       "    </tr>\n",
       "    <tr>\n",
       "      <th>2014-11-13</th>\n",
       "      <td>12.877283</td>\n",
       "      <td>-0.378742</td>\n",
       "      <td>-2.941164</td>\n",
       "      <td>2.5889</td>\n",
       "      <td>-0.0224</td>\n",
       "      <td>-0.865232</td>\n",
       "      <td>1251.4</td>\n",
       "      <td>-1.0</td>\n",
       "      <td>-0.079911</td>\n",
       "      <td>50.179653</td>\n",
       "      <td>0.711506</td>\n",
       "      <td>1.417917</td>\n",
       "      <td>74.21</td>\n",
       "      <td>2.97</td>\n",
       "      <td>4.002156</td>\n",
       "      <td>DOWN</td>\n",
       "    </tr>\n",
       "  </tbody>\n",
       "</table>\n",
       "</div>"
      ],
      "text/plain": [
       "            Valor_PETR4  variacao_PETR4  variacao percentual_PETR4  Valor_CRD  \\\n",
       "Date                                                                            \n",
       "2014-11-07    13.511680       -0.274591                  -2.032249     2.5587   \n",
       "2014-11-10    13.237089        0.018937                   0.143060     2.5528   \n",
       "2014-11-11    13.256026        0.104155                   0.785718     2.5575   \n",
       "2014-11-12    13.360181       -0.482898                  -3.614457     2.5665   \n",
       "2014-11-13    12.877283       -0.378742                  -2.941164     2.5889   \n",
       "\n",
       "            variacao_CRD  variacao percentual_CRD  Valor_OURO  variacao_OURO  \\\n",
       "Date                                                                           \n",
       "2014-11-07        0.0110                 0.429906      1261.0          -26.6   \n",
       "2014-11-10        0.0059                 0.231119      1251.3            9.7   \n",
       "2014-11-11       -0.0047                -0.183773      1255.1           -3.8   \n",
       "2014-11-12       -0.0090                -0.350672      1250.4            4.7   \n",
       "2014-11-13       -0.0224                -0.865232      1251.4           -1.0   \n",
       "\n",
       "            variacao percentual_OURO  Valor_RDS  variacao_RDS  \\\n",
       "Date                                                            \n",
       "2014-11-07                 -2.109437  51.391106     -0.209904   \n",
       "2014-11-10                  0.775194  51.181202      0.296768   \n",
       "2014-11-11                 -0.302765  51.477970     -0.946236   \n",
       "2014-11-12                  0.375880  50.531734     -0.352081   \n",
       "2014-11-13                 -0.079911  50.179653      0.711506   \n",
       "\n",
       "            variacao percentual_RDS  Valor_OIL  variacao_OIL  \\\n",
       "Date                                                           \n",
       "2014-11-07                -0.408444      78.65         -0.74   \n",
       "2014-11-10                 0.579838      77.40          1.25   \n",
       "2014-11-11                -1.838138      77.94         -0.54   \n",
       "2014-11-12                -0.696752      77.18          0.76   \n",
       "2014-11-13                 1.417917      74.21          2.97   \n",
       "\n",
       "            variacao percentual_OIL Posicao  \n",
       "Date                                         \n",
       "2014-11-07                -0.940877    DOWN  \n",
       "2014-11-10                 1.614987      UP  \n",
       "2014-11-11                -0.692841      UP  \n",
       "2014-11-12                 0.984711    DOWN  \n",
       "2014-11-13                 4.002156    DOWN  "
      ]
     },
     "execution_count": 36,
     "metadata": {},
     "output_type": "execute_result"
    }
   ],
   "source": [
    "lista_var = []\n",
    "for e in DataFrame['variacao_PETR4']:\n",
    "    lista_var.append(e)\n",
    "    \n",
    "i = 0\n",
    "lista_pos = []\n",
    "while i < len(lista_var):\n",
    "    if lista_var[i] > 0:\n",
    "        lista_pos.append('UP')\n",
    "    else:\n",
    "        lista_pos.append('DOWN')\n",
    "    i+=1\n",
    "\n",
    "DataFrame['Posicao'] = lista_pos\n",
    "\n",
    "DataFrame.head()"
   ]
  },
  {
   "cell_type": "code",
   "execution_count": 37,
   "metadata": {},
   "outputs": [
    {
     "data": {
      "text/plain": [
       "array([<matplotlib.axes._subplots.AxesSubplot object at 0x0000025B1EC4FE80>,\n",
       "       <matplotlib.axes._subplots.AxesSubplot object at 0x0000025B30BB3908>],\n",
       "      dtype=object)"
      ]
     },
     "execution_count": 37,
     "metadata": {},
     "output_type": "execute_result"
    },
    {
     "data": {
      "image/png": "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\n",
      "text/plain": [
       "<Figure size 432x288 with 2 Axes>"
      ]
     },
     "metadata": {
      "needs_background": "light"
     },
     "output_type": "display_data"
    }
   ],
   "source": [
    "h1 = DataFrame.hist(column = 'variacao_CRD', by = 'Posicao', bins = 15)\n",
    "h1"
   ]
  },
  {
   "cell_type": "code",
   "execution_count": 39,
   "metadata": {},
   "outputs": [
    {
     "data": {
      "image/png": "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\n",
      "text/plain": [
       "<Figure size 432x288 with 2 Axes>"
      ]
     },
     "metadata": {
      "needs_background": "light"
     },
     "output_type": "display_data"
    }
   ],
   "source": [
    "h2 = DataFrame.hist(column = 'variacao_OURO', by = 'Posicao', bins = 15)"
   ]
  },
  {
   "cell_type": "code",
   "execution_count": 40,
   "metadata": {},
   "outputs": [
    {
     "data": {
      "image/png": "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\n",
      "text/plain": [
       "<Figure size 432x288 with 2 Axes>"
      ]
     },
     "metadata": {
      "needs_background": "light"
     },
     "output_type": "display_data"
    }
   ],
   "source": [
    "h3 = DataFrame.hist(column = 'variacao_RDS', by = 'Posicao', bins = 15)"
   ]
  },
  {
   "cell_type": "code",
   "execution_count": 41,
   "metadata": {},
   "outputs": [
    {
     "data": {
      "image/png": "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\n",
      "text/plain": [
       "<Figure size 432x288 with 2 Axes>"
      ]
     },
     "metadata": {
      "needs_background": "light"
     },
     "output_type": "display_data"
    }
   ],
   "source": [
    "h4 = DataFrame.hist(column = 'variacao_OIL', by = 'Posicao', bins = 15)"
   ]
  },
  {
   "cell_type": "markdown",
   "metadata": {},
   "source": [
    "Análise em 3D"
   ]
  },
  {
   "cell_type": "code",
   "execution_count": 30,
   "metadata": {},
   "outputs": [],
   "source": [
    "def f(dolar, ouro):\n",
    "    return k + PD*dolar + PG*ouro"
   ]
  },
  {
   "cell_type": "code",
   "execution_count": 31,
   "metadata": {},
   "outputs": [
    {
     "ename": "NameError",
     "evalue": "name 'dolar' is not defined",
     "output_type": "error",
     "traceback": [
      "\u001b[1;31m---------------------------------------------------------------------------\u001b[0m",
      "\u001b[1;31mNameError\u001b[0m                                 Traceback (most recent call last)",
      "\u001b[1;32m<ipython-input-31-70420f8d2fe9>\u001b[0m in \u001b[0;36m<module>\u001b[1;34m\u001b[0m\n\u001b[1;32m----> 1\u001b[1;33m \u001b[0mdolar_xx\u001b[0m\u001b[1;33m,\u001b[0m \u001b[0mouro_yy\u001b[0m \u001b[1;33m=\u001b[0m \u001b[0mnp\u001b[0m\u001b[1;33m.\u001b[0m\u001b[0mmeshgrid\u001b[0m\u001b[1;33m(\u001b[0m\u001b[0mdolar\u001b[0m\u001b[1;33m,\u001b[0m \u001b[0mouro\u001b[0m\u001b[1;33m)\u001b[0m\u001b[1;33m\u001b[0m\u001b[1;33m\u001b[0m\u001b[0m\n\u001b[0m",
      "\u001b[1;31mNameError\u001b[0m: name 'dolar' is not defined"
     ]
    }
   ],
   "source": [
    "dolar_xx, ouro_yy = np.meshgrid(dolar, ouro)"
   ]
  },
  {
   "cell_type": "code",
   "execution_count": null,
   "metadata": {},
   "outputs": [],
   "source": [
    "#Influencia RDS (companhia externa)\n",
    "PR = results.params['Adj Close_RDS']\n",
    "PR"
   ]
  },
  {
   "cell_type": "code",
   "execution_count": null,
   "metadata": {},
   "outputs": [],
   "source": [
    "d = 4.18*10\n",
    "g\n",
    "y = k + PG*g + PD*d + PR*r"
   ]
  }
 ],
 "metadata": {
  "kernelspec": {
   "display_name": "Python 3",
   "language": "python",
   "name": "python3"
  },
  "language_info": {
   "codemirror_mode": {
    "name": "ipython",
    "version": 3
   },
   "file_extension": ".py",
   "mimetype": "text/x-python",
   "name": "python",
   "nbconvert_exporter": "python",
   "pygments_lexer": "ipython3",
   "version": "3.7.1"
  }
 },
 "nbformat": 4,
 "nbformat_minor": 2
}
