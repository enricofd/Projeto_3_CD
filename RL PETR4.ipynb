{
 "cells": [
  {
   "cell_type": "code",
   "execution_count": 23,
   "metadata": {},
   "outputs": [],
   "source": [
    "import pandas as pd\n",
    "import numpy as np\n",
    "import re\n",
    "import string\n",
    "from IPython.display import display\n",
    "from nltk.stem import PorterStemmer\n",
    "stemmer = PorterStemmer()\n",
    "\n",
    "import statsmodels.api as sm"
   ]
  },
  {
   "cell_type": "code",
   "execution_count": 2,
   "metadata": {},
   "outputs": [],
   "source": [
    "PETR4_raw = pd.read_excel (r'PETR4.SA .xltx')\n",
    "\n",
    "GOLD_raw = pd.read_excel (r'Gold Futures Historical Data.xltx') \n",
    "RDS_raw = pd.read_excel (r'RDS-A.xltx') \n",
    "OIL_raw = pd.read_excel (r'Crude Oil WTI Futures Historical Data.xltx')\n",
    "CRD_raw = pd.read_excel (r'USD_BRL Dados Históricos.xltx')"
   ]
  },
  {
   "cell_type": "code",
   "execution_count": 3,
   "metadata": {},
   "outputs": [],
   "source": [
    "from datetime import datetime\n",
    "str_date = '06.11.2019'\n",
    "def padronizaDia(str_date):\n",
    "    date = datetime.strptime(str_date, '%d.%m.%Y').date()\n",
    "    if len(str(date.day))==1:\n",
    "        dia = \"0\" + str(date.day)\n",
    "    else:\n",
    "        dia = str(date.day)\n",
    "        \n",
    "    if len(str(date.month))==1:\n",
    "        mes = \"0\" + str(date.month)\n",
    "    else:\n",
    "        mes = str(date.month)\n",
    "    return \"{0}-{1}-{2}\".format(date.year,mes, dia)"
   ]
  },
  {
   "cell_type": "code",
   "execution_count": 4,
   "metadata": {},
   "outputs": [],
   "source": [
    "PETR4 = PETR4_raw[['Date', 'Adj Close']]\n",
    "\n",
    "GOLD = GOLD_raw[['Date', 'Price']]\n",
    "RDS = RDS_raw[['Date', 'Adj Close']]\n",
    "OIL = OIL_raw[['Date', 'Price']]\n",
    "CRD = CRD_raw[['Data', 'Último']]\n"
   ]
  },
  {
   "cell_type": "code",
   "execution_count": 5,
   "metadata": {},
   "outputs": [
    {
     "data": {
      "text/html": [
       "<div>\n",
       "<style scoped>\n",
       "    .dataframe tbody tr th:only-of-type {\n",
       "        vertical-align: middle;\n",
       "    }\n",
       "\n",
       "    .dataframe tbody tr th {\n",
       "        vertical-align: top;\n",
       "    }\n",
       "\n",
       "    .dataframe thead th {\n",
       "        text-align: right;\n",
       "    }\n",
       "</style>\n",
       "<table border=\"1\" class=\"dataframe\">\n",
       "  <thead>\n",
       "    <tr style=\"text-align: right;\">\n",
       "      <th></th>\n",
       "      <th>Date</th>\n",
       "      <th>Adj Close</th>\n",
       "    </tr>\n",
       "  </thead>\n",
       "  <tbody>\n",
       "    <tr>\n",
       "      <th>0</th>\n",
       "      <td>2014-11-05</td>\n",
       "      <td>13.634769</td>\n",
       "    </tr>\n",
       "    <tr>\n",
       "      <th>1</th>\n",
       "      <td>2014-11-06</td>\n",
       "      <td>13.312840</td>\n",
       "    </tr>\n",
       "    <tr>\n",
       "      <th>2</th>\n",
       "      <td>2014-11-07</td>\n",
       "      <td>13.511680</td>\n",
       "    </tr>\n",
       "    <tr>\n",
       "      <th>3</th>\n",
       "      <td>2014-11-10</td>\n",
       "      <td>13.237089</td>\n",
       "    </tr>\n",
       "    <tr>\n",
       "      <th>4</th>\n",
       "      <td>2014-11-11</td>\n",
       "      <td>13.256026</td>\n",
       "    </tr>\n",
       "  </tbody>\n",
       "</table>\n",
       "</div>"
      ],
      "text/plain": [
       "        Date  Adj Close\n",
       "0 2014-11-05  13.634769\n",
       "1 2014-11-06  13.312840\n",
       "2 2014-11-07  13.511680\n",
       "3 2014-11-10  13.237089\n",
       "4 2014-11-11  13.256026"
      ]
     },
     "execution_count": 5,
     "metadata": {},
     "output_type": "execute_result"
    }
   ],
   "source": [
    "PETR4.head()"
   ]
  },
  {
   "cell_type": "code",
   "execution_count": 6,
   "metadata": {},
   "outputs": [],
   "source": [
    "PETR4.set_index('Date', inplace = True)\n",
    "GOLD.set_index('Date', inplace = True)\n",
    "RDS.set_index('Date', inplace = True)\n",
    "OIL.set_index('Date', inplace = True)\n"
   ]
  },
  {
   "cell_type": "code",
   "execution_count": 7,
   "metadata": {},
   "outputs": [
    {
     "data": {
      "text/html": [
       "<div>\n",
       "<style scoped>\n",
       "    .dataframe tbody tr th:only-of-type {\n",
       "        vertical-align: middle;\n",
       "    }\n",
       "\n",
       "    .dataframe tbody tr th {\n",
       "        vertical-align: top;\n",
       "    }\n",
       "\n",
       "    .dataframe thead th {\n",
       "        text-align: right;\n",
       "    }\n",
       "</style>\n",
       "<table border=\"1\" class=\"dataframe\">\n",
       "  <thead>\n",
       "    <tr style=\"text-align: right;\">\n",
       "      <th></th>\n",
       "      <th>Data</th>\n",
       "      <th>Último</th>\n",
       "    </tr>\n",
       "  </thead>\n",
       "  <tbody>\n",
       "    <tr>\n",
       "      <th>0</th>\n",
       "      <td>06.11.2019</td>\n",
       "      <td>40837</td>\n",
       "    </tr>\n",
       "    <tr>\n",
       "      <th>1</th>\n",
       "      <td>05.11.2019</td>\n",
       "      <td>39937</td>\n",
       "    </tr>\n",
       "    <tr>\n",
       "      <th>2</th>\n",
       "      <td>04.11.2019</td>\n",
       "      <td>40156</td>\n",
       "    </tr>\n",
       "    <tr>\n",
       "      <th>3</th>\n",
       "      <td>01.11.2019</td>\n",
       "      <td>39903</td>\n",
       "    </tr>\n",
       "    <tr>\n",
       "      <th>4</th>\n",
       "      <td>31.10.2019</td>\n",
       "      <td>40184</td>\n",
       "    </tr>\n",
       "  </tbody>\n",
       "</table>\n",
       "</div>"
      ],
      "text/plain": [
       "         Data  Último\n",
       "0  06.11.2019   40837\n",
       "1  05.11.2019   39937\n",
       "2  04.11.2019   40156\n",
       "3  01.11.2019   39903\n",
       "4  31.10.2019   40184"
      ]
     },
     "execution_count": 7,
     "metadata": {},
     "output_type": "execute_result"
    }
   ],
   "source": [
    "CRD.head()"
   ]
  },
  {
   "cell_type": "code",
   "execution_count": 8,
   "metadata": {},
   "outputs": [],
   "source": [
    "from datetime import datetime\n",
    "str_date = '06.11.2019'\n",
    "def padronizaDia(str_date):\n",
    "    date = datetime.strptime(str_date, '%d.%m.%Y').date()\n",
    "    if len(str(date.day))==1:\n",
    "        dia = \"0\" + str(date.day)\n",
    "    else:\n",
    "        dia = str(date.day)\n",
    "    return \"{0}-{1}-{2}\".format(date.year,date.month, dia)\n",
    "    "
   ]
  },
  {
   "cell_type": "code",
   "execution_count": 9,
   "metadata": {},
   "outputs": [
    {
     "data": {
      "text/html": [
       "<div>\n",
       "<style scoped>\n",
       "    .dataframe tbody tr th:only-of-type {\n",
       "        vertical-align: middle;\n",
       "    }\n",
       "\n",
       "    .dataframe tbody tr th {\n",
       "        vertical-align: top;\n",
       "    }\n",
       "\n",
       "    .dataframe thead th {\n",
       "        text-align: right;\n",
       "    }\n",
       "</style>\n",
       "<table border=\"1\" class=\"dataframe\">\n",
       "  <thead>\n",
       "    <tr style=\"text-align: right;\">\n",
       "      <th></th>\n",
       "      <th>Data</th>\n",
       "      <th>Último</th>\n",
       "    </tr>\n",
       "  </thead>\n",
       "  <tbody>\n",
       "    <tr>\n",
       "      <th>0</th>\n",
       "      <td>06.11.2019</td>\n",
       "      <td>40837</td>\n",
       "    </tr>\n",
       "    <tr>\n",
       "      <th>1</th>\n",
       "      <td>05.11.2019</td>\n",
       "      <td>39937</td>\n",
       "    </tr>\n",
       "    <tr>\n",
       "      <th>2</th>\n",
       "      <td>04.11.2019</td>\n",
       "      <td>40156</td>\n",
       "    </tr>\n",
       "    <tr>\n",
       "      <th>3</th>\n",
       "      <td>01.11.2019</td>\n",
       "      <td>39903</td>\n",
       "    </tr>\n",
       "    <tr>\n",
       "      <th>4</th>\n",
       "      <td>31.10.2019</td>\n",
       "      <td>40184</td>\n",
       "    </tr>\n",
       "  </tbody>\n",
       "</table>\n",
       "</div>"
      ],
      "text/plain": [
       "         Data  Último\n",
       "0  06.11.2019   40837\n",
       "1  05.11.2019   39937\n",
       "2  04.11.2019   40156\n",
       "3  01.11.2019   39903\n",
       "4  31.10.2019   40184"
      ]
     },
     "execution_count": 9,
     "metadata": {},
     "output_type": "execute_result"
    }
   ],
   "source": [
    "CRD.head()"
   ]
  },
  {
   "cell_type": "code",
   "execution_count": 10,
   "metadata": {},
   "outputs": [
    {
     "name": "stderr",
     "output_type": "stream",
     "text": [
      "C:\\Users\\Tonera\\Anaconda3\\lib\\site-packages\\ipykernel_launcher.py:1: SettingWithCopyWarning: \n",
      "A value is trying to be set on a copy of a slice from a DataFrame.\n",
      "Try using .loc[row_indexer,col_indexer] = value instead\n",
      "\n",
      "See the caveats in the documentation: http://pandas.pydata.org/pandas-docs/stable/indexing.html#indexing-view-versus-copy\n",
      "  \"\"\"Entry point for launching an IPython kernel.\n"
     ]
    }
   ],
   "source": [
    "CRD['Date'] = CRD.Data.apply(padronizaDia)\n",
    "CRD.set_index('Date', inplace = True)"
   ]
  },
  {
   "cell_type": "code",
   "execution_count": 30,
   "metadata": {},
   "outputs": [
    {
     "data": {
      "text/html": [
       "<div>\n",
       "<style scoped>\n",
       "    .dataframe tbody tr th:only-of-type {\n",
       "        vertical-align: middle;\n",
       "    }\n",
       "\n",
       "    .dataframe tbody tr th {\n",
       "        vertical-align: top;\n",
       "    }\n",
       "\n",
       "    .dataframe thead th {\n",
       "        text-align: right;\n",
       "    }\n",
       "</style>\n",
       "<table border=\"1\" class=\"dataframe\">\n",
       "  <thead>\n",
       "    <tr style=\"text-align: right;\">\n",
       "      <th></th>\n",
       "      <th>Adj Close</th>\n",
       "      <th>Data</th>\n",
       "      <th>Último</th>\n",
       "    </tr>\n",
       "    <tr>\n",
       "      <th>Date</th>\n",
       "      <th></th>\n",
       "      <th></th>\n",
       "      <th></th>\n",
       "    </tr>\n",
       "  </thead>\n",
       "  <tbody>\n",
       "    <tr>\n",
       "      <th>2014-11-05</th>\n",
       "      <td>13.634769</td>\n",
       "      <td>05.11.2014</td>\n",
       "      <td>25049</td>\n",
       "    </tr>\n",
       "    <tr>\n",
       "      <th>2014-11-06</th>\n",
       "      <td>13.312840</td>\n",
       "      <td>06.11.2014</td>\n",
       "      <td>25697</td>\n",
       "    </tr>\n",
       "    <tr>\n",
       "      <th>2014-11-07</th>\n",
       "      <td>13.511680</td>\n",
       "      <td>07.11.2014</td>\n",
       "      <td>25587</td>\n",
       "    </tr>\n",
       "    <tr>\n",
       "      <th>2014-11-10</th>\n",
       "      <td>13.237089</td>\n",
       "      <td>10.11.2014</td>\n",
       "      <td>25528</td>\n",
       "    </tr>\n",
       "    <tr>\n",
       "      <th>2014-11-11</th>\n",
       "      <td>13.256026</td>\n",
       "      <td>11.11.2014</td>\n",
       "      <td>25575</td>\n",
       "    </tr>\n",
       "  </tbody>\n",
       "</table>\n",
       "</div>"
      ],
      "text/plain": [
       "            Adj Close        Data  Último\n",
       "Date                                     \n",
       "2014-11-05  13.634769  05.11.2014   25049\n",
       "2014-11-06  13.312840  06.11.2014   25697\n",
       "2014-11-07  13.511680  07.11.2014   25587\n",
       "2014-11-10  13.237089  10.11.2014   25528\n",
       "2014-11-11  13.256026  11.11.2014   25575"
      ]
     },
     "execution_count": 30,
     "metadata": {},
     "output_type": "execute_result"
    }
   ],
   "source": [
    "df = PETR4.join(CRD, how='inner', lsuffix='_PETR4', rsuffix='_CRD')\n",
    "df.head()"
   ]
  },
  {
   "cell_type": "code",
   "execution_count": 14,
   "metadata": {},
   "outputs": [],
   "source": [
    "df.drop(['Data'], axis=1, inplace = True)"
   ]
  },
  {
   "cell_type": "code",
   "execution_count": 15,
   "metadata": {},
   "outputs": [],
   "source": [
    "df = df.join(GOLD, how = 'inner', rsuffix='_GOLD')"
   ]
  },
  {
   "cell_type": "code",
   "execution_count": 16,
   "metadata": {},
   "outputs": [],
   "source": [
    "df = df.join(RDS, how = 'inner', rsuffix = '_RDS')"
   ]
  },
  {
   "cell_type": "code",
   "execution_count": 31,
   "metadata": {},
   "outputs": [
    {
     "data": {
      "text/html": [
       "<div>\n",
       "<style scoped>\n",
       "    .dataframe tbody tr th:only-of-type {\n",
       "        vertical-align: middle;\n",
       "    }\n",
       "\n",
       "    .dataframe tbody tr th {\n",
       "        vertical-align: top;\n",
       "    }\n",
       "\n",
       "    .dataframe thead th {\n",
       "        text-align: right;\n",
       "    }\n",
       "</style>\n",
       "<table border=\"1\" class=\"dataframe\">\n",
       "  <thead>\n",
       "    <tr style=\"text-align: right;\">\n",
       "      <th></th>\n",
       "      <th>Adj Close</th>\n",
       "      <th>Data</th>\n",
       "      <th>Último</th>\n",
       "      <th>Price</th>\n",
       "    </tr>\n",
       "    <tr>\n",
       "      <th>Date</th>\n",
       "      <th></th>\n",
       "      <th></th>\n",
       "      <th></th>\n",
       "      <th></th>\n",
       "    </tr>\n",
       "  </thead>\n",
       "  <tbody>\n",
       "    <tr>\n",
       "      <th>2014-11-05</th>\n",
       "      <td>13.634769</td>\n",
       "      <td>05.11.2014</td>\n",
       "      <td>25049</td>\n",
       "      <td>78.68</td>\n",
       "    </tr>\n",
       "    <tr>\n",
       "      <th>2014-11-06</th>\n",
       "      <td>13.312840</td>\n",
       "      <td>06.11.2014</td>\n",
       "      <td>25697</td>\n",
       "      <td>77.91</td>\n",
       "    </tr>\n",
       "    <tr>\n",
       "      <th>2014-11-07</th>\n",
       "      <td>13.511680</td>\n",
       "      <td>07.11.2014</td>\n",
       "      <td>25587</td>\n",
       "      <td>78.65</td>\n",
       "    </tr>\n",
       "    <tr>\n",
       "      <th>2014-11-10</th>\n",
       "      <td>13.237089</td>\n",
       "      <td>10.11.2014</td>\n",
       "      <td>25528</td>\n",
       "      <td>77.40</td>\n",
       "    </tr>\n",
       "    <tr>\n",
       "      <th>2014-11-11</th>\n",
       "      <td>13.256026</td>\n",
       "      <td>11.11.2014</td>\n",
       "      <td>25575</td>\n",
       "      <td>77.94</td>\n",
       "    </tr>\n",
       "  </tbody>\n",
       "</table>\n",
       "</div>"
      ],
      "text/plain": [
       "            Adj Close        Data  Último  Price\n",
       "Date                                            \n",
       "2014-11-05  13.634769  05.11.2014   25049  78.68\n",
       "2014-11-06  13.312840  06.11.2014   25697  77.91\n",
       "2014-11-07  13.511680  07.11.2014   25587  78.65\n",
       "2014-11-10  13.237089  10.11.2014   25528  77.40\n",
       "2014-11-11  13.256026  11.11.2014   25575  77.94"
      ]
     },
     "execution_count": 31,
     "metadata": {},
     "output_type": "execute_result"
    }
   ],
   "source": [
    "DataFrame = df.join(OIL, how = 'inner', rsuffix = '_OIL')\n",
    "DataFrame.head()"
   ]
  },
  {
   "cell_type": "markdown",
   "metadata": {},
   "source": [
    "## Início da Regressão"
   ]
  },
  {
   "cell_type": "code",
   "execution_count": 18,
   "metadata": {},
   "outputs": [],
   "source": [
    "### Função utilitária para fazer a regressão com constante adicionada\n",
    "def regress(X,Y):\n",
    "    X_cp = sm.add_constant(X)\n",
    "    model = sm.OLS(Y,X_cp)\n",
    "    results = model.fit()\n",
    "    return results"
   ]
  },
  {
   "cell_type": "code",
   "execution_count": 19,
   "metadata": {},
   "outputs": [
    {
     "data": {
      "text/plain": [
       "Adj Close        0\n",
       "Último           0\n",
       "Price            0\n",
       "Adj Close_RDS    0\n",
       "Price_OIL        0\n",
       "dtype: int64"
      ]
     },
     "execution_count": 19,
     "metadata": {},
     "output_type": "execute_result"
    }
   ],
   "source": [
    "np.sum(DataFrame.isnull())"
   ]
  },
  {
   "cell_type": "code",
   "execution_count": 28,
   "metadata": {},
   "outputs": [],
   "source": [
    "Y = DataFrame['Adj Close']\n",
    "X = DataFrame[['Último', 'Price', 'Adj Close_RDS', 'Price_OIL']]"
   ]
  },
  {
   "cell_type": "code",
   "execution_count": 29,
   "metadata": {},
   "outputs": [
    {
     "data": {
      "text/html": [
       "<table class=\"simpletable\">\n",
       "<caption>OLS Regression Results</caption>\n",
       "<tr>\n",
       "  <th>Dep. Variable:</th>        <td>Adj Close</td>    <th>  R-squared:         </th> <td>   0.787</td>\n",
       "</tr>\n",
       "<tr>\n",
       "  <th>Model:</th>                   <td>OLS</td>       <th>  Adj. R-squared:    </th> <td>   0.786</td>\n",
       "</tr>\n",
       "<tr>\n",
       "  <th>Method:</th>             <td>Least Squares</td>  <th>  F-statistic:       </th> <td>   1113.</td>\n",
       "</tr>\n",
       "<tr>\n",
       "  <th>Date:</th>             <td>Mon, 11 Nov 2019</td> <th>  Prob (F-statistic):</th>  <td>  0.00</td> \n",
       "</tr>\n",
       "<tr>\n",
       "  <th>Time:</th>                 <td>18:11:57</td>     <th>  Log-Likelihood:    </th> <td> -3089.0</td>\n",
       "</tr>\n",
       "<tr>\n",
       "  <th>No. Observations:</th>      <td>  1210</td>      <th>  AIC:               </th> <td>   6188.</td>\n",
       "</tr>\n",
       "<tr>\n",
       "  <th>Df Residuals:</th>          <td>  1205</td>      <th>  BIC:               </th> <td>   6213.</td>\n",
       "</tr>\n",
       "<tr>\n",
       "  <th>Df Model:</th>              <td>     4</td>      <th>                     </th>     <td> </td>   \n",
       "</tr>\n",
       "<tr>\n",
       "  <th>Covariance Type:</th>      <td>nonrobust</td>    <th>                     </th>     <td> </td>   \n",
       "</tr>\n",
       "</table>\n",
       "<table class=\"simpletable\">\n",
       "<tr>\n",
       "        <td></td>           <th>coef</th>     <th>std err</th>      <th>t</th>      <th>P>|t|</th>  <th>[0.025</th>    <th>0.975]</th>  \n",
       "</tr>\n",
       "<tr>\n",
       "  <th>const</th>         <td>  -49.7938</td> <td>    1.889</td> <td>  -26.366</td> <td> 0.000</td> <td>  -53.499</td> <td>  -46.088</td>\n",
       "</tr>\n",
       "<tr>\n",
       "  <th>Último</th>        <td>    0.0004</td> <td> 2.63e-05</td> <td>   16.138</td> <td> 0.000</td> <td>    0.000</td> <td>    0.000</td>\n",
       "</tr>\n",
       "<tr>\n",
       "  <th>Price</th>         <td>    0.0205</td> <td>    0.001</td> <td>   15.869</td> <td> 0.000</td> <td>    0.018</td> <td>    0.023</td>\n",
       "</tr>\n",
       "<tr>\n",
       "  <th>Adj Close_RDS</th> <td>    0.4680</td> <td>    0.023</td> <td>   20.759</td> <td> 0.000</td> <td>    0.424</td> <td>    0.512</td>\n",
       "</tr>\n",
       "<tr>\n",
       "  <th>Price_OIL</th>     <td>    0.0026</td> <td>    0.018</td> <td>    0.140</td> <td> 0.889</td> <td>   -0.033</td> <td>    0.039</td>\n",
       "</tr>\n",
       "</table>\n",
       "<table class=\"simpletable\">\n",
       "<tr>\n",
       "  <th>Omnibus:</th>       <td>10.465</td> <th>  Durbin-Watson:     </th> <td>   0.029</td>\n",
       "</tr>\n",
       "<tr>\n",
       "  <th>Prob(Omnibus):</th> <td> 0.005</td> <th>  Jarque-Bera (JB):  </th> <td>  10.599</td>\n",
       "</tr>\n",
       "<tr>\n",
       "  <th>Skew:</th>          <td>-0.218</td> <th>  Prob(JB):          </th> <td> 0.00499</td>\n",
       "</tr>\n",
       "<tr>\n",
       "  <th>Kurtosis:</th>      <td> 2.857</td> <th>  Cond. No.          </th> <td>7.38e+05</td>\n",
       "</tr>\n",
       "</table><br/><br/>Warnings:<br/>[1] Standard Errors assume that the covariance matrix of the errors is correctly specified.<br/>[2] The condition number is large, 7.38e+05. This might indicate that there are<br/>strong multicollinearity or other numerical problems."
      ],
      "text/plain": [
       "<class 'statsmodels.iolib.summary.Summary'>\n",
       "\"\"\"\n",
       "                            OLS Regression Results                            \n",
       "==============================================================================\n",
       "Dep. Variable:              Adj Close   R-squared:                       0.787\n",
       "Model:                            OLS   Adj. R-squared:                  0.786\n",
       "Method:                 Least Squares   F-statistic:                     1113.\n",
       "Date:                Mon, 11 Nov 2019   Prob (F-statistic):               0.00\n",
       "Time:                        18:11:57   Log-Likelihood:                -3089.0\n",
       "No. Observations:                1210   AIC:                             6188.\n",
       "Df Residuals:                    1205   BIC:                             6213.\n",
       "Df Model:                           4                                         \n",
       "Covariance Type:            nonrobust                                         \n",
       "=================================================================================\n",
       "                    coef    std err          t      P>|t|      [0.025      0.975]\n",
       "---------------------------------------------------------------------------------\n",
       "const           -49.7938      1.889    -26.366      0.000     -53.499     -46.088\n",
       "Último            0.0004   2.63e-05     16.138      0.000       0.000       0.000\n",
       "Price             0.0205      0.001     15.869      0.000       0.018       0.023\n",
       "Adj Close_RDS     0.4680      0.023     20.759      0.000       0.424       0.512\n",
       "Price_OIL         0.0026      0.018      0.140      0.889      -0.033       0.039\n",
       "==============================================================================\n",
       "Omnibus:                       10.465   Durbin-Watson:                   0.029\n",
       "Prob(Omnibus):                  0.005   Jarque-Bera (JB):               10.599\n",
       "Skew:                          -0.218   Prob(JB):                      0.00499\n",
       "Kurtosis:                       2.857   Cond. No.                     7.38e+05\n",
       "==============================================================================\n",
       "\n",
       "Warnings:\n",
       "[1] Standard Errors assume that the covariance matrix of the errors is correctly specified.\n",
       "[2] The condition number is large, 7.38e+05. This might indicate that there are\n",
       "strong multicollinearity or other numerical problems.\n",
       "\"\"\""
      ]
     },
     "execution_count": 29,
     "metadata": {},
     "output_type": "execute_result"
    }
   ],
   "source": [
    "results = regress(X, Y)\n",
    "results.summary()"
   ]
  },
  {
   "cell_type": "code",
   "execution_count": null,
   "metadata": {},
   "outputs": [],
   "source": []
  }
 ],
 "metadata": {
  "kernelspec": {
   "display_name": "Python 3",
   "language": "python",
   "name": "python3"
  },
  "language_info": {
   "codemirror_mode": {
    "name": "ipython",
    "version": 3
   },
   "file_extension": ".py",
   "mimetype": "text/x-python",
   "name": "python",
   "nbconvert_exporter": "python",
   "pygments_lexer": "ipython3",
   "version": "3.7.1"
  }
 },
 "nbformat": 4,
 "nbformat_minor": 2
}
