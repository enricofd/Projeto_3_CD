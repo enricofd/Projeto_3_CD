{
 "cells": [
  {
   "cell_type": "markdown",
   "metadata": {},
   "source": [
    "# Projeto 3 - Prevendo o Valor da Ação do PETR4"
   ]
  },
  {
   "cell_type": "markdown",
   "metadata": {},
   "source": [
    "**Grupo:** Enrico Damiani, Antonio Saporiti, João Pedro Ribeiro"
   ]
  },
  {
   "cell_type": "markdown",
   "metadata": {},
   "source": [
    "**Sala:** Engenharia 2B"
   ]
  },
  {
   "cell_type": "markdown",
   "metadata": {},
   "source": [
    "# Introdução:\n",
    "\n",
    "Esse trabalho possui como objetivo prever o valor da ação PETR4. Para tanto, serão utilizados dados do valor do barril de oleo, do dolar perante o real, da ação RDSA e do Ouro dos ultimos 5 anos. Os modelos utilizarão de tecnicas de regressão para alcançar o objetivo do trabalho."
   ]
  },
  {
   "cell_type": "markdown",
   "metadata": {},
   "source": [
    "# Desenvolvimento:"
   ]
  },
  {
   "cell_type": "markdown",
   "metadata": {},
   "source": [
    "* Importando as Bibliotecas Necessárias"
   ]
  },
  {
   "cell_type": "code",
   "execution_count": 1,
   "metadata": {},
   "outputs": [],
   "source": [
    "import pandas as pd\n",
    "import numpy as np\n",
    "import re\n",
    "import string\n",
    "import statsmodels.api as sm\n",
    "import matplotlib.pyplot as plt\n",
    "import seaborn as sns\n",
    "from scipy import stats\n",
    "from scipy.stats import norm, probplot\n",
    "from mpl_toolkits.mplot3d import Axes3D\n",
    "from IPython.display import display\n",
    "from sklearn.model_selection import train_test_split\n",
    "from sklearn.preprocessing import StandardScaler\n",
    "from sklearn.ensemble import RandomForestRegressor"
   ]
  },
  {
   "cell_type": "markdown",
   "metadata": {},
   "source": [
    "* Importando os Dados do Excel"
   ]
  },
  {
   "cell_type": "code",
   "execution_count": 2,
   "metadata": {},
   "outputs": [],
   "source": [
    "PETR4_raw = pd.read_excel (r'PETR4.SA .xltx')\n",
    "\n",
    "GOLD_raw = pd.read_excel (r'Gold Futures Historical Data.xltx') \n",
    "RDS_raw = pd.read_excel (r'RDS-A.xltx') \n",
    "OIL_raw = pd.read_excel (r'Crude Oil WTI Futures Historical Data.xltx')\n",
    "CRD_raw = pd.read_excel (r'USD_BRL Dados Históricos.xltx')"
   ]
  },
  {
   "cell_type": "code",
   "execution_count": 3,
   "metadata": {},
   "outputs": [],
   "source": [
    "PETR4 = PETR4_raw[['Date', 'Adj Close']]\n",
    "\n",
    "GOLD = GOLD_raw[['Date', 'Price']]\n",
    "RDS = RDS_raw[['Date', 'Adj Close']]\n",
    "OIL = OIL_raw[['Date', 'Price']]\n",
    "CRD = CRD_raw[['Data', 'Último']]"
   ]
  },
  {
   "cell_type": "markdown",
   "metadata": {},
   "source": [
    "* Juntando o DataFrame"
   ]
  },
  {
   "cell_type": "markdown",
   "metadata": {},
   "source": [
    "Para PTR4:"
   ]
  },
  {
   "cell_type": "code",
   "execution_count": 4,
   "metadata": {},
   "outputs": [],
   "source": [
    "PETR4_RE = PETR4.rename(columns={\"Adj Close\": \"Valor_PETR4\"})\n",
    "PETR4_REDate = PETR4_RE.assign(Date = PETR4_RE.Date.values[::-1])\n",
    "PETR4_F = PETR4_REDate.assign(Valor_PETR4 = PETR4_REDate.Valor_PETR4.values[::-1])"
   ]
  },
  {
   "cell_type": "markdown",
   "metadata": {},
   "source": [
    "Para Gold:"
   ]
  },
  {
   "cell_type": "code",
   "execution_count": 5,
   "metadata": {},
   "outputs": [],
   "source": [
    "GOLD_F = GOLD.rename(columns={\"Price\": \"Valor_GOLD\"})"
   ]
  },
  {
   "cell_type": "markdown",
   "metadata": {},
   "source": [
    "Para RDS:"
   ]
  },
  {
   "cell_type": "code",
   "execution_count": 6,
   "metadata": {},
   "outputs": [],
   "source": [
    "RDS_RE = RDS.rename(columns={\"Adj Close\": \"Valor_RDS\"})\n",
    "RDS_REDate = RDS_RE.assign(Date = RDS_RE.Date.values[::-1])\n",
    "RDS_F = RDS_REDate.assign(Valor_RDS = RDS_REDate.Valor_RDS.values[::-1])"
   ]
  },
  {
   "cell_type": "markdown",
   "metadata": {},
   "source": [
    "Para OIL:"
   ]
  },
  {
   "cell_type": "code",
   "execution_count": 7,
   "metadata": {},
   "outputs": [],
   "source": [
    "OIL_F = OIL.rename(columns={\"Price\": \"Valor_OIL\"})"
   ]
  },
  {
   "cell_type": "markdown",
   "metadata": {},
   "source": [
    "Para CRD:"
   ]
  },
  {
   "cell_type": "code",
   "execution_count": 8,
   "metadata": {},
   "outputs": [],
   "source": [
    "CRD_RE = CRD.rename(columns={\"Data\": \"Date\",\"Último\": \"Valor_CRD\" })\n",
    "\n",
    "NOVO_VALOR = []\n",
    "for e in CRD_RE[\"Valor_CRD\"]:\n",
    "    NOVO_VALOR.append(e/10000)\n",
    "CRD_RE['Valor_CRD'] = NOVO_VALOR\n",
    "\n",
    "NOVA_DATA = []\n",
    "for e in CRD_RE['Date']:\n",
    "    Separado = e.split(\".\")\n",
    "    Correto = Separado[2] + \"-\" + Separado[1] + \"-\" + Separado[0]\n",
    "    NOVA_DATA.append(Correto)\n",
    "CRD_RE['Date'] = NOVA_DATA \n",
    "\n",
    "CRD_F = CRD_RE"
   ]
  },
  {
   "cell_type": "markdown",
   "metadata": {},
   "source": [
    "Selecionando intervalo a ser estudado e alterando o index:"
   ]
  },
  {
   "cell_type": "code",
   "execution_count": 9,
   "metadata": {},
   "outputs": [],
   "source": [
    "PETR4_F[\"Date\"] == \"2014-11-10\" #1240\n",
    "PETR4_F[\"Date\"] == \"2019-10-31\" #2\n",
    "PETR4_DATE = PETR4_F.loc[2: 1240].set_index('Date')\n",
    "\n",
    "GOLD_F[\"Date\"] == \"2014-11-10\" #1321\n",
    "GOLD_F[\"Date\"] == \"2019-10-31\" #5\n",
    "GOLD_DATE = GOLD_F.loc[5: 1321].set_index('Date')\n",
    "\n",
    "RDS_F[\"Date\"] == \"2014-11-10\" #1256\n",
    "RDS_F[\"Date\"] == \"2019-10-31\" #4\n",
    "RDS_DATE = RDS_F.loc[4: 1256].set_index('Date')\n",
    "\n",
    "OIL_F[\"Date\"] == \"2014-11-10\" #1318\n",
    "OIL_F[\"Date\"] == \"2019-10-31\" #5\n",
    "OIL_DATE = OIL_F.loc[5: 1318].set_index('Date')\n",
    "\n",
    "CRD_F[\"Date\"] == \"2014-11-10\" #1302\n",
    "CRD_F[\"Date\"] == \"2019-10-31\" #4\n",
    "CRD_DATE = CRD_F.loc[4: 1302].set_index('Date')"
   ]
  },
  {
   "cell_type": "code",
   "execution_count": 10,
   "metadata": {},
   "outputs": [],
   "source": [
    "U1 = GOLD_DATE.join(PETR4_DATE)\n",
    "U2 = RDS_DATE.join(U1)\n",
    "U3 = OIL_DATE.join(U2)\n",
    "U4 = CRD_DATE.join(U3)\n",
    "U5 = U4.interpolate()\n",
    "DADOS = U5.sort_index(ascending=True, axis=0)"
   ]
  },
  {
   "cell_type": "code",
   "execution_count": 11,
   "metadata": {
    "scrolled": true
   },
   "outputs": [
    {
     "data": {
      "text/html": [
       "<div>\n",
       "<style scoped>\n",
       "    .dataframe tbody tr th:only-of-type {\n",
       "        vertical-align: middle;\n",
       "    }\n",
       "\n",
       "    .dataframe tbody tr th {\n",
       "        vertical-align: top;\n",
       "    }\n",
       "\n",
       "    .dataframe thead th {\n",
       "        text-align: right;\n",
       "    }\n",
       "</style>\n",
       "<table border=\"1\" class=\"dataframe\">\n",
       "  <thead>\n",
       "    <tr style=\"text-align: right;\">\n",
       "      <th></th>\n",
       "      <th>Valor_CRD</th>\n",
       "      <th>Valor_OIL</th>\n",
       "      <th>Valor_RDS</th>\n",
       "      <th>Valor_GOLD</th>\n",
       "      <th>Valor_PETR4</th>\n",
       "    </tr>\n",
       "    <tr>\n",
       "      <th>Date</th>\n",
       "      <th></th>\n",
       "      <th></th>\n",
       "      <th></th>\n",
       "      <th></th>\n",
       "      <th></th>\n",
       "    </tr>\n",
       "  </thead>\n",
       "  <tbody>\n",
       "    <tr>\n",
       "      <th>2014-11-10</th>\n",
       "      <td>2.5528</td>\n",
       "      <td>77.40</td>\n",
       "      <td>51.181202</td>\n",
       "      <td>1251.3</td>\n",
       "      <td>13.237089</td>\n",
       "    </tr>\n",
       "    <tr>\n",
       "      <th>2014-11-11</th>\n",
       "      <td>2.5575</td>\n",
       "      <td>77.94</td>\n",
       "      <td>51.477970</td>\n",
       "      <td>1255.1</td>\n",
       "      <td>13.256026</td>\n",
       "    </tr>\n",
       "    <tr>\n",
       "      <th>2014-11-12</th>\n",
       "      <td>2.5665</td>\n",
       "      <td>77.18</td>\n",
       "      <td>50.531734</td>\n",
       "      <td>1250.4</td>\n",
       "      <td>13.360181</td>\n",
       "    </tr>\n",
       "    <tr>\n",
       "      <th>2014-11-13</th>\n",
       "      <td>2.5889</td>\n",
       "      <td>74.21</td>\n",
       "      <td>50.179653</td>\n",
       "      <td>1251.4</td>\n",
       "      <td>12.877283</td>\n",
       "    </tr>\n",
       "    <tr>\n",
       "      <th>2014-11-14</th>\n",
       "      <td>2.6018</td>\n",
       "      <td>75.82</td>\n",
       "      <td>50.891159</td>\n",
       "      <td>1275.6</td>\n",
       "      <td>12.498541</td>\n",
       "    </tr>\n",
       "  </tbody>\n",
       "</table>\n",
       "</div>"
      ],
      "text/plain": [
       "            Valor_CRD  Valor_OIL  Valor_RDS  Valor_GOLD  Valor_PETR4\n",
       "Date                                                                \n",
       "2014-11-10     2.5528      77.40  51.181202      1251.3    13.237089\n",
       "2014-11-11     2.5575      77.94  51.477970      1255.1    13.256026\n",
       "2014-11-12     2.5665      77.18  50.531734      1250.4    13.360181\n",
       "2014-11-13     2.5889      74.21  50.179653      1251.4    12.877283\n",
       "2014-11-14     2.6018      75.82  50.891159      1275.6    12.498541"
      ]
     },
     "execution_count": 11,
     "metadata": {},
     "output_type": "execute_result"
    }
   ],
   "source": [
    "DADOS.head()"
   ]
  },
  {
   "cell_type": "code",
   "execution_count": 12,
   "metadata": {
    "scrolled": false
   },
   "outputs": [
    {
     "data": {
      "image/png": "[encoded data removed]",
      "text/plain": [
       "<Figure size 432x288 with 1 Axes>"
      ]
     },
     "metadata": {
      "needs_background": "light"
     },
     "output_type": "display_data"
    }
   ],
   "source": [
    "plt.scatter(DADOS[\"Valor_CRD\"], DADOS[\"Valor_PETR4\"], alpha = 0.1)\n",
    "plt.title('Valor do Dolar perante Real VS PETR4')\n",
    "plt.plot()\n",
    "plt.show()"
   ]
  },
  {
   "cell_type": "markdown",
   "metadata": {},
   "source": [
    "Análise:\n",
    "\n"
   ]
  },
  {
   "cell_type": "code",
   "execution_count": 13,
   "metadata": {},
   "outputs": [
    {
     "data": {
      "image/png": "[encoded data removed]",
      "text/plain": [
       "<Figure size 432x288 with 1 Axes>"
      ]
     },
     "metadata": {
      "needs_background": "light"
     },
     "output_type": "display_data"
    }
   ],
   "source": [
    "plt.scatter(DADOS[\"Valor_OIL\"], DADOS[\"Valor_PETR4\"], alpha = 0.1)\n",
    "plt.title('Oil price Real VS PETR4')\n",
    "plt.plot()\n",
    "plt.show()"
   ]
  },
  {
   "cell_type": "markdown",
   "metadata": {},
   "source": [
    "Análise:\n",
    "\n"
   ]
  },
  {
   "cell_type": "code",
   "execution_count": 14,
   "metadata": {},
   "outputs": [
    {
     "data": {
      "image/png": "[encoded data removed]",
      "text/plain": [
       "<Figure size 432x288 with 1 Axes>"
      ]
     },
     "metadata": {
      "needs_background": "light"
     },
     "output_type": "display_data"
    }
   ],
   "source": [
    "plt.scatter(DADOS[\"Valor_RDS\"], DADOS[\"Valor_PETR4\"], alpha = 0.1)\n",
    "plt.title('Sell stock VS PETR4')\n",
    "plt.plot()\n",
    "plt.show()"
   ]
  },
  {
   "cell_type": "markdown",
   "metadata": {},
   "source": [
    "Análise:\n",
    "\n"
   ]
  },
  {
   "cell_type": "code",
   "execution_count": 16,
   "metadata": {
    "scrolled": true
   },
   "outputs": [
    {
     "data": {
      "image/png": "[encoded data removed]",
      "text/plain": [
       "<Figure size 432x288 with 1 Axes>"
      ]
     },
     "metadata": {
      "needs_background": "light"
     },
     "output_type": "display_data"
    }
   ],
   "source": [
    "plt.scatter(DADOS[\"Valor_GOLD\"], DADOS[\"Valor_PETR4\"], alpha = 0.1)\n",
    "plt.title('Ouro VS PETR4')\n",
    "plt.plot()\n",
    "plt.show()"
   ]
  },
  {
   "cell_type": "markdown",
   "metadata": {},
   "source": [
    "Análise:\n",
    "\n"
   ]
  },
  {
   "cell_type": "markdown",
   "metadata": {},
   "source": [
    "* Adicionando no DataFrame a variação percentual de cada coluna:"
   ]
  },
  {
   "cell_type": "code",
   "execution_count": 17,
   "metadata": {
    "scrolled": true
   },
   "outputs": [
    {
     "name": "stderr",
     "output_type": "stream",
     "text": [
      "C:\\Users\\jotah\\Anaconda3\\lib\\site-packages\\ipykernel_launcher.py:41: SettingWithCopyWarning: \n",
      "A value is trying to be set on a copy of a slice from a DataFrame.\n",
      "Try using .loc[row_indexer,col_indexer] = value instead\n",
      "\n",
      "See the caveats in the documentation: http://pandas.pydata.org/pandas-docs/stable/indexing.html#indexing-view-versus-copy\n",
      "C:\\Users\\jotah\\Anaconda3\\lib\\site-packages\\ipykernel_launcher.py:42: SettingWithCopyWarning: \n",
      "A value is trying to be set on a copy of a slice from a DataFrame.\n",
      "Try using .loc[row_indexer,col_indexer] = value instead\n",
      "\n",
      "See the caveats in the documentation: http://pandas.pydata.org/pandas-docs/stable/indexing.html#indexing-view-versus-copy\n",
      "C:\\Users\\jotah\\Anaconda3\\lib\\site-packages\\ipykernel_launcher.py:43: SettingWithCopyWarning: \n",
      "A value is trying to be set on a copy of a slice from a DataFrame.\n",
      "Try using .loc[row_indexer,col_indexer] = value instead\n",
      "\n",
      "See the caveats in the documentation: http://pandas.pydata.org/pandas-docs/stable/indexing.html#indexing-view-versus-copy\n",
      "C:\\Users\\jotah\\Anaconda3\\lib\\site-packages\\ipykernel_launcher.py:44: SettingWithCopyWarning: \n",
      "A value is trying to be set on a copy of a slice from a DataFrame.\n",
      "Try using .loc[row_indexer,col_indexer] = value instead\n",
      "\n",
      "See the caveats in the documentation: http://pandas.pydata.org/pandas-docs/stable/indexing.html#indexing-view-versus-copy\n",
      "C:\\Users\\jotah\\Anaconda3\\lib\\site-packages\\ipykernel_launcher.py:45: SettingWithCopyWarning: \n",
      "A value is trying to be set on a copy of a slice from a DataFrame.\n",
      "Try using .loc[row_indexer,col_indexer] = value instead\n",
      "\n",
      "See the caveats in the documentation: http://pandas.pydata.org/pandas-docs/stable/indexing.html#indexing-view-versus-copy\n"
     ]
    },
    {
     "data": {
      "text/html": [
       "<div>\n",
       "<style scoped>\n",
       "    .dataframe tbody tr th:only-of-type {\n",
       "        vertical-align: middle;\n",
       "    }\n",
       "\n",
       "    .dataframe tbody tr th {\n",
       "        vertical-align: top;\n",
       "    }\n",
       "\n",
       "    .dataframe thead th {\n",
       "        text-align: right;\n",
       "    }\n",
       "</style>\n",
       "<table border=\"1\" class=\"dataframe\">\n",
       "  <thead>\n",
       "    <tr style=\"text-align: right;\">\n",
       "      <th></th>\n",
       "      <th>Valor_CRD</th>\n",
       "      <th>Valor_OIL</th>\n",
       "      <th>Valor_RDS</th>\n",
       "      <th>Valor_GOLD</th>\n",
       "      <th>Valor_PETR4</th>\n",
       "      <th>CALC_GOLD</th>\n",
       "      <th>CALC_RDS</th>\n",
       "      <th>CALC_OIL</th>\n",
       "      <th>CALC_CRD</th>\n",
       "      <th>CALC_PETR4</th>\n",
       "    </tr>\n",
       "    <tr>\n",
       "      <th>Date</th>\n",
       "      <th></th>\n",
       "      <th></th>\n",
       "      <th></th>\n",
       "      <th></th>\n",
       "      <th></th>\n",
       "      <th></th>\n",
       "      <th></th>\n",
       "      <th></th>\n",
       "      <th></th>\n",
       "      <th></th>\n",
       "    </tr>\n",
       "  </thead>\n",
       "  <tbody>\n",
       "    <tr>\n",
       "      <th>2014-11-11</th>\n",
       "      <td>2.5575</td>\n",
       "      <td>77.94</td>\n",
       "      <td>51.477970</td>\n",
       "      <td>1255.1</td>\n",
       "      <td>13.256026</td>\n",
       "      <td>0.003037</td>\n",
       "      <td>0.005798</td>\n",
       "      <td>0.006977</td>\n",
       "      <td>0.001841</td>\n",
       "      <td>0.007857</td>\n",
       "    </tr>\n",
       "    <tr>\n",
       "      <th>2014-11-12</th>\n",
       "      <td>2.5665</td>\n",
       "      <td>77.18</td>\n",
       "      <td>50.531734</td>\n",
       "      <td>1250.4</td>\n",
       "      <td>13.360181</td>\n",
       "      <td>-0.003745</td>\n",
       "      <td>-0.018381</td>\n",
       "      <td>-0.009751</td>\n",
       "      <td>0.003519</td>\n",
       "      <td>-0.036145</td>\n",
       "    </tr>\n",
       "    <tr>\n",
       "      <th>2014-11-13</th>\n",
       "      <td>2.5889</td>\n",
       "      <td>74.21</td>\n",
       "      <td>50.179653</td>\n",
       "      <td>1251.4</td>\n",
       "      <td>12.877283</td>\n",
       "      <td>0.000800</td>\n",
       "      <td>-0.006968</td>\n",
       "      <td>-0.038481</td>\n",
       "      <td>0.008728</td>\n",
       "      <td>-0.029412</td>\n",
       "    </tr>\n",
       "    <tr>\n",
       "      <th>2014-11-14</th>\n",
       "      <td>2.6018</td>\n",
       "      <td>75.82</td>\n",
       "      <td>50.891159</td>\n",
       "      <td>1275.6</td>\n",
       "      <td>12.498541</td>\n",
       "      <td>0.019338</td>\n",
       "      <td>0.014179</td>\n",
       "      <td>0.021695</td>\n",
       "      <td>0.004983</td>\n",
       "      <td>-0.045455</td>\n",
       "    </tr>\n",
       "    <tr>\n",
       "      <th>2014-11-17</th>\n",
       "      <td>2.6081</td>\n",
       "      <td>75.64</td>\n",
       "      <td>50.795807</td>\n",
       "      <td>1273.7</td>\n",
       "      <td>11.930425</td>\n",
       "      <td>-0.001489</td>\n",
       "      <td>-0.001874</td>\n",
       "      <td>-0.002374</td>\n",
       "      <td>0.002421</td>\n",
       "      <td>-0.011905</td>\n",
       "    </tr>\n",
       "  </tbody>\n",
       "</table>\n",
       "</div>"
      ],
      "text/plain": [
       "            Valor_CRD  Valor_OIL  Valor_RDS  Valor_GOLD  Valor_PETR4  \\\n",
       "Date                                                                   \n",
       "2014-11-11     2.5575      77.94  51.477970      1255.1    13.256026   \n",
       "2014-11-12     2.5665      77.18  50.531734      1250.4    13.360181   \n",
       "2014-11-13     2.5889      74.21  50.179653      1251.4    12.877283   \n",
       "2014-11-14     2.6018      75.82  50.891159      1275.6    12.498541   \n",
       "2014-11-17     2.6081      75.64  50.795807      1273.7    11.930425   \n",
       "\n",
       "            CALC_GOLD  CALC_RDS  CALC_OIL  CALC_CRD  CALC_PETR4  \n",
       "Date                                                             \n",
       "2014-11-11   0.003037  0.005798  0.006977  0.001841    0.007857  \n",
       "2014-11-12  -0.003745 -0.018381 -0.009751  0.003519   -0.036145  \n",
       "2014-11-13   0.000800 -0.006968 -0.038481  0.008728   -0.029412  \n",
       "2014-11-14   0.019338  0.014179  0.021695  0.004983   -0.045455  \n",
       "2014-11-17  -0.001489 -0.001874 -0.002374  0.002421   -0.011905  "
      ]
     },
     "execution_count": 17,
     "metadata": {},
     "output_type": "execute_result"
    }
   ],
   "source": [
    "i = 0\n",
    "FAZER1 = []\n",
    "while i < 1298:\n",
    "    FAZER1.append((DADOS[\"Valor_GOLD\"][i] - DADOS[\"Valor_GOLD\"][i-1])/DADOS[\"Valor_GOLD\"][i-1])    \n",
    "    i+=1\n",
    "    \n",
    "i = 0\n",
    "FAZER2 = []\n",
    "while i < 1298:\n",
    "    FAZER2.append((DADOS[\"Valor_RDS\"][i] - DADOS[\"Valor_RDS\"][i-1])/DADOS[\"Valor_RDS\"][i-1])    \n",
    "    i+=1\n",
    "    \n",
    "i = 0\n",
    "FAZER3 = []\n",
    "while i < 1298:\n",
    "    FAZER3.append((DADOS[\"Valor_OIL\"][i] - DADOS[\"Valor_OIL\"][i-1])/DADOS[\"Valor_OIL\"][i-1])    \n",
    "    i+=1    \n",
    "\n",
    "i = 0\n",
    "FAZER4 = []\n",
    "while i < 1298:\n",
    "    FAZER4.append((DADOS[\"Valor_CRD\"][i] - DADOS[\"Valor_CRD\"][i-1])/DADOS[\"Valor_CRD\"][i-1])    \n",
    "    i+=1     \n",
    "    \n",
    "i = 0\n",
    "FAZER5 = []\n",
    "while i < 1298:\n",
    "    FAZER5.append((DADOS[\"Valor_PETR4\"][i+1] - DADOS[\"Valor_PETR4\"][i])/DADOS[\"Valor_PETR4\"][i])\n",
    "    i+=1\n",
    "    \n",
    "\n",
    "DADOS_OPT = DADOS.iloc[1:1298,:]\n",
    "\n",
    "del FAZER1[0]\n",
    "del FAZER2[0]\n",
    "del FAZER3[0]\n",
    "del FAZER4[0]\n",
    "del FAZER5[0]\n",
    "\n",
    "    \n",
    "DADOS_OPT['CALC_GOLD'] = FAZER1;\n",
    "DADOS_OPT['CALC_RDS'] = FAZER2;\n",
    "DADOS_OPT['CALC_OIL'] = FAZER3;\n",
    "DADOS_OPT['CALC_CRD'] = FAZER4;\n",
    "DADOS_OPT['CALC_PETR4'] = FAZER5;\n",
    "\n",
    "DADOS_OPT.head(5)"
   ]
  },
  {
   "cell_type": "code",
   "execution_count": 18,
   "metadata": {
    "scrolled": true
   },
   "outputs": [
    {
     "data": {
      "image/png": "[encoded data removed]",
      "text/plain": [
       "<Figure size 432x288 with 1 Axes>"
      ]
     },
     "metadata": {
      "needs_background": "light"
     },
     "output_type": "display_data"
    }
   ],
   "source": [
    "plt.scatter(DADOS_OPT['CALC_CRD'], DADOS_OPT['CALC_PETR4'], alpha = 0.1)\n",
    "plt.title('DOLAR_REAL VS PETR4')\n",
    "plt.plot()\n",
    "plt.show()"
   ]
  },
  {
   "cell_type": "markdown",
   "metadata": {},
   "source": [
    "Análise:\n",
    "\n"
   ]
  },
  {
   "cell_type": "code",
   "execution_count": 20,
   "metadata": {
    "scrolled": true
   },
   "outputs": [
    {
     "data": {
      "image/png": "[encoded data removed]",
      "text/plain": [
       "<Figure size 432x288 with 1 Axes>"
      ]
     },
     "metadata": {
      "needs_background": "light"
     },
     "output_type": "display_data"
    }
   ],
   "source": [
    "plt.scatter(DADOS_OPT['CALC_OIL'], DADOS_OPT['CALC_PETR4'], alpha = 0.1)\n",
    "plt.title('PETROLEO VS PETR4')\n",
    "plt.plot()\n",
    "plt.show()"
   ]
  },
  {
   "cell_type": "markdown",
   "metadata": {},
   "source": [
    "Análise:\n",
    "\n"
   ]
  },
  {
   "cell_type": "code",
   "execution_count": 22,
   "metadata": {},
   "outputs": [
    {
     "data": {
      "image/png": "[encoded data removed]",
      "text/plain": [
       "<Figure size 432x288 with 1 Axes>"
      ]
     },
     "metadata": {
      "needs_background": "light"
     },
     "output_type": "display_data"
    }
   ],
   "source": [
    "plt.scatter(DADOS_OPT['CALC_RDS'], DADOS_OPT['CALC_PETR4'], alpha = 0.1)\n",
    "plt.title('SHELL VS PETR4')\n",
    "plt.plot()\n",
    "plt.show()"
   ]
  },
  {
   "cell_type": "markdown",
   "metadata": {},
   "source": [
    "Análise:\n",
    "\n"
   ]
  },
  {
   "cell_type": "code",
   "execution_count": 24,
   "metadata": {},
   "outputs": [
    {
     "data": {
      "image/png": "[encoded data removed]",
      "text/plain": [
       "<Figure size 432x288 with 1 Axes>"
      ]
     },
     "metadata": {
      "needs_background": "light"
     },
     "output_type": "display_data"
    }
   ],
   "source": [
    "plt.scatter(DADOS_OPT['CALC_GOLD'], DADOS_OPT['CALC_PETR4'], alpha = 0.1)\n",
    "plt.title('OURO VS PETR4')\n",
    "plt.plot()\n",
    "plt.show()"
   ]
  },
  {
   "cell_type": "markdown",
   "metadata": {},
   "source": [
    "Análise:\n",
    "\n"
   ]
  },
  {
   "cell_type": "code",
   "execution_count": 26,
   "metadata": {
    "scrolled": true
   },
   "outputs": [
    {
     "data": {
      "text/html": [
       "<div>\n",
       "<style scoped>\n",
       "    .dataframe tbody tr th:only-of-type {\n",
       "        vertical-align: middle;\n",
       "    }\n",
       "\n",
       "    .dataframe tbody tr th {\n",
       "        vertical-align: top;\n",
       "    }\n",
       "\n",
       "    .dataframe thead th {\n",
       "        text-align: right;\n",
       "    }\n",
       "</style>\n",
       "<table border=\"1\" class=\"dataframe\">\n",
       "  <thead>\n",
       "    <tr style=\"text-align: right;\">\n",
       "      <th></th>\n",
       "      <th>Valor_CRD</th>\n",
       "      <th>Valor_OIL</th>\n",
       "      <th>Valor_RDS</th>\n",
       "      <th>Valor_GOLD</th>\n",
       "      <th>Valor_PETR4</th>\n",
       "      <th>CALC_GOLD</th>\n",
       "      <th>CALC_RDS</th>\n",
       "      <th>CALC_OIL</th>\n",
       "      <th>CALC_CRD</th>\n",
       "      <th>CALC_PETR4</th>\n",
       "    </tr>\n",
       "    <tr>\n",
       "      <th>Date</th>\n",
       "      <th></th>\n",
       "      <th></th>\n",
       "      <th></th>\n",
       "      <th></th>\n",
       "      <th></th>\n",
       "      <th></th>\n",
       "      <th></th>\n",
       "      <th></th>\n",
       "      <th></th>\n",
       "      <th></th>\n",
       "    </tr>\n",
       "  </thead>\n",
       "  <tbody>\n",
       "    <tr>\n",
       "      <th>2014-11-11</th>\n",
       "      <td>2.5575</td>\n",
       "      <td>77.94</td>\n",
       "      <td>51.477970</td>\n",
       "      <td>1255.10</td>\n",
       "      <td>13.256026</td>\n",
       "      <td>0.003037</td>\n",
       "      <td>0.005798</td>\n",
       "      <td>0.006977</td>\n",
       "      <td>0.001841</td>\n",
       "      <td>0.007857</td>\n",
       "    </tr>\n",
       "    <tr>\n",
       "      <th>2014-11-12</th>\n",
       "      <td>2.5665</td>\n",
       "      <td>77.18</td>\n",
       "      <td>50.531734</td>\n",
       "      <td>1250.40</td>\n",
       "      <td>13.360181</td>\n",
       "      <td>-0.003745</td>\n",
       "      <td>-0.018381</td>\n",
       "      <td>-0.009751</td>\n",
       "      <td>0.003519</td>\n",
       "      <td>-0.036145</td>\n",
       "    </tr>\n",
       "    <tr>\n",
       "      <th>2014-11-13</th>\n",
       "      <td>2.5889</td>\n",
       "      <td>74.21</td>\n",
       "      <td>50.179653</td>\n",
       "      <td>1251.40</td>\n",
       "      <td>12.877283</td>\n",
       "      <td>0.000800</td>\n",
       "      <td>-0.006968</td>\n",
       "      <td>-0.038481</td>\n",
       "      <td>0.008728</td>\n",
       "      <td>-0.029412</td>\n",
       "    </tr>\n",
       "    <tr>\n",
       "      <th>2014-11-14</th>\n",
       "      <td>2.6018</td>\n",
       "      <td>75.82</td>\n",
       "      <td>50.891159</td>\n",
       "      <td>1275.60</td>\n",
       "      <td>12.498541</td>\n",
       "      <td>0.019338</td>\n",
       "      <td>0.014179</td>\n",
       "      <td>0.021695</td>\n",
       "      <td>0.004983</td>\n",
       "      <td>-0.045455</td>\n",
       "    </tr>\n",
       "    <tr>\n",
       "      <th>2014-11-17</th>\n",
       "      <td>2.6081</td>\n",
       "      <td>75.64</td>\n",
       "      <td>50.795807</td>\n",
       "      <td>1273.70</td>\n",
       "      <td>11.930425</td>\n",
       "      <td>-0.001489</td>\n",
       "      <td>-0.001874</td>\n",
       "      <td>-0.002374</td>\n",
       "      <td>0.002421</td>\n",
       "      <td>-0.011905</td>\n",
       "    </tr>\n",
       "    <tr>\n",
       "      <th>2014-11-18</th>\n",
       "      <td>2.5825</td>\n",
       "      <td>74.61</td>\n",
       "      <td>51.367947</td>\n",
       "      <td>1285.50</td>\n",
       "      <td>11.788397</td>\n",
       "      <td>0.009264</td>\n",
       "      <td>0.011264</td>\n",
       "      <td>-0.013617</td>\n",
       "      <td>-0.009816</td>\n",
       "      <td>0.026506</td>\n",
       "    </tr>\n",
       "    <tr>\n",
       "      <th>2014-11-19</th>\n",
       "      <td>2.5720</td>\n",
       "      <td>74.58</td>\n",
       "      <td>51.294594</td>\n",
       "      <td>1283.40</td>\n",
       "      <td>12.100860</td>\n",
       "      <td>-0.001634</td>\n",
       "      <td>-0.001428</td>\n",
       "      <td>-0.000402</td>\n",
       "      <td>-0.004066</td>\n",
       "      <td>0.059468</td>\n",
       "    </tr>\n",
       "    <tr>\n",
       "      <th>2014-11-20</th>\n",
       "      <td>2.5731</td>\n",
       "      <td>75.58</td>\n",
       "      <td>52.079445</td>\n",
       "      <td>1278.90</td>\n",
       "      <td>12.820473</td>\n",
       "      <td>-0.003506</td>\n",
       "      <td>0.015301</td>\n",
       "      <td>0.013408</td>\n",
       "      <td>0.000428</td>\n",
       "      <td>0.056130</td>\n",
       "    </tr>\n",
       "    <tr>\n",
       "      <th>2014-11-21</th>\n",
       "      <td>2.5153</td>\n",
       "      <td>76.51</td>\n",
       "      <td>52.666267</td>\n",
       "      <td>1285.90</td>\n",
       "      <td>13.540086</td>\n",
       "      <td>0.005473</td>\n",
       "      <td>0.011268</td>\n",
       "      <td>0.012305</td>\n",
       "      <td>-0.022463</td>\n",
       "      <td>-0.006294</td>\n",
       "    </tr>\n",
       "    <tr>\n",
       "      <th>2014-11-24</th>\n",
       "      <td>2.5457</td>\n",
       "      <td>75.78</td>\n",
       "      <td>52.123459</td>\n",
       "      <td>1284.20</td>\n",
       "      <td>13.454869</td>\n",
       "      <td>-0.001322</td>\n",
       "      <td>-0.010307</td>\n",
       "      <td>-0.009541</td>\n",
       "      <td>0.012086</td>\n",
       "      <td>-0.004222</td>\n",
       "    </tr>\n",
       "    <tr>\n",
       "      <th>2014-11-25</th>\n",
       "      <td>2.5303</td>\n",
       "      <td>74.09</td>\n",
       "      <td>51.808044</td>\n",
       "      <td>1285.20</td>\n",
       "      <td>13.398057</td>\n",
       "      <td>0.000779</td>\n",
       "      <td>-0.006051</td>\n",
       "      <td>-0.022301</td>\n",
       "      <td>-0.006049</td>\n",
       "      <td>0.001413</td>\n",
       "    </tr>\n",
       "    <tr>\n",
       "      <th>2014-11-26</th>\n",
       "      <td>2.5011</td>\n",
       "      <td>73.69</td>\n",
       "      <td>52.350849</td>\n",
       "      <td>1284.50</td>\n",
       "      <td>13.416993</td>\n",
       "      <td>-0.000545</td>\n",
       "      <td>0.010477</td>\n",
       "      <td>-0.005399</td>\n",
       "      <td>-0.011540</td>\n",
       "      <td>-0.046930</td>\n",
       "    </tr>\n",
       "    <tr>\n",
       "      <th>2014-11-27</th>\n",
       "      <td>2.5304</td>\n",
       "      <td>68.55</td>\n",
       "      <td>50.531738</td>\n",
       "      <td>1272.85</td>\n",
       "      <td>12.787332</td>\n",
       "      <td>-0.009070</td>\n",
       "      <td>-0.034748</td>\n",
       "      <td>-0.069752</td>\n",
       "      <td>0.011715</td>\n",
       "      <td>-0.049241</td>\n",
       "    </tr>\n",
       "    <tr>\n",
       "      <th>2014-11-28</th>\n",
       "      <td>2.5659</td>\n",
       "      <td>66.15</td>\n",
       "      <td>48.712627</td>\n",
       "      <td>1261.20</td>\n",
       "      <td>12.157671</td>\n",
       "      <td>-0.009153</td>\n",
       "      <td>-0.035999</td>\n",
       "      <td>-0.035011</td>\n",
       "      <td>0.014029</td>\n",
       "      <td>-0.040498</td>\n",
       "    </tr>\n",
       "    <tr>\n",
       "      <th>2014-12-01</th>\n",
       "      <td>2.5600</td>\n",
       "      <td>69.00</td>\n",
       "      <td>49.504810</td>\n",
       "      <td>1302.50</td>\n",
       "      <td>11.665304</td>\n",
       "      <td>0.032747</td>\n",
       "      <td>0.016262</td>\n",
       "      <td>0.043084</td>\n",
       "      <td>-0.002299</td>\n",
       "      <td>-0.012175</td>\n",
       "    </tr>\n",
       "    <tr>\n",
       "      <th>2014-12-02</th>\n",
       "      <td>2.5682</td>\n",
       "      <td>66.88</td>\n",
       "      <td>50.869152</td>\n",
       "      <td>1284.70</td>\n",
       "      <td>11.523274</td>\n",
       "      <td>-0.013666</td>\n",
       "      <td>0.027560</td>\n",
       "      <td>-0.030725</td>\n",
       "      <td>0.003203</td>\n",
       "      <td>0.044372</td>\n",
       "    </tr>\n",
       "    <tr>\n",
       "      <th>2014-12-03</th>\n",
       "      <td>2.5525</td>\n",
       "      <td>67.38</td>\n",
       "      <td>50.275002</td>\n",
       "      <td>1295.80</td>\n",
       "      <td>12.034579</td>\n",
       "      <td>0.008640</td>\n",
       "      <td>-0.011680</td>\n",
       "      <td>0.007476</td>\n",
       "      <td>-0.006113</td>\n",
       "      <td>-0.034618</td>\n",
       "    </tr>\n",
       "    <tr>\n",
       "      <th>2014-12-04</th>\n",
       "      <td>2.5915</td>\n",
       "      <td>66.81</td>\n",
       "      <td>49.424122</td>\n",
       "      <td>1294.20</td>\n",
       "      <td>11.617962</td>\n",
       "      <td>-0.001235</td>\n",
       "      <td>-0.016925</td>\n",
       "      <td>-0.008459</td>\n",
       "      <td>0.015279</td>\n",
       "      <td>-0.007335</td>\n",
       "    </tr>\n",
       "    <tr>\n",
       "      <th>2014-12-05</th>\n",
       "      <td>2.5895</td>\n",
       "      <td>65.84</td>\n",
       "      <td>49.240749</td>\n",
       "      <td>1280.80</td>\n",
       "      <td>11.532743</td>\n",
       "      <td>-0.010354</td>\n",
       "      <td>-0.003710</td>\n",
       "      <td>-0.014519</td>\n",
       "      <td>-0.000772</td>\n",
       "      <td>-0.055008</td>\n",
       "    </tr>\n",
       "    <tr>\n",
       "      <th>2014-12-08</th>\n",
       "      <td>2.6004</td>\n",
       "      <td>63.05</td>\n",
       "      <td>48.118477</td>\n",
       "      <td>1284.40</td>\n",
       "      <td>10.898349</td>\n",
       "      <td>0.002811</td>\n",
       "      <td>-0.022792</td>\n",
       "      <td>-0.042375</td>\n",
       "      <td>0.004209</td>\n",
       "      <td>-0.007819</td>\n",
       "    </tr>\n",
       "    <tr>\n",
       "      <th>2014-12-09</th>\n",
       "      <td>2.5930</td>\n",
       "      <td>63.82</td>\n",
       "      <td>48.089130</td>\n",
       "      <td>1320.20</td>\n",
       "      <td>10.813130</td>\n",
       "      <td>0.027873</td>\n",
       "      <td>-0.000610</td>\n",
       "      <td>0.012213</td>\n",
       "      <td>-0.002846</td>\n",
       "      <td>-0.047285</td>\n",
       "    </tr>\n",
       "    <tr>\n",
       "      <th>2014-12-10</th>\n",
       "      <td>2.6162</td>\n",
       "      <td>60.94</td>\n",
       "      <td>46.908180</td>\n",
       "      <td>1315.50</td>\n",
       "      <td>10.301826</td>\n",
       "      <td>-0.003560</td>\n",
       "      <td>-0.024558</td>\n",
       "      <td>-0.045127</td>\n",
       "      <td>0.008947</td>\n",
       "      <td>-0.022978</td>\n",
       "    </tr>\n",
       "    <tr>\n",
       "      <th>2014-12-11</th>\n",
       "      <td>2.6498</td>\n",
       "      <td>59.95</td>\n",
       "      <td>46.805492</td>\n",
       "      <td>1312.30</td>\n",
       "      <td>10.065112</td>\n",
       "      <td>-0.002433</td>\n",
       "      <td>-0.002189</td>\n",
       "      <td>-0.016245</td>\n",
       "      <td>0.012843</td>\n",
       "      <td>-0.041392</td>\n",
       "    </tr>\n",
       "    <tr>\n",
       "      <th>2014-12-12</th>\n",
       "      <td>2.6545</td>\n",
       "      <td>57.81</td>\n",
       "      <td>45.712551</td>\n",
       "      <td>1303.50</td>\n",
       "      <td>9.648495</td>\n",
       "      <td>-0.006706</td>\n",
       "      <td>-0.023351</td>\n",
       "      <td>-0.035696</td>\n",
       "      <td>0.001774</td>\n",
       "      <td>-0.110893</td>\n",
       "    </tr>\n",
       "    <tr>\n",
       "      <th>2014-12-15</th>\n",
       "      <td>2.6955</td>\n",
       "      <td>55.91</td>\n",
       "      <td>44.692970</td>\n",
       "      <td>1287.70</td>\n",
       "      <td>8.578545</td>\n",
       "      <td>-0.012121</td>\n",
       "      <td>-0.022304</td>\n",
       "      <td>-0.032866</td>\n",
       "      <td>0.015445</td>\n",
       "      <td>0.034216</td>\n",
       "    </tr>\n",
       "    <tr>\n",
       "      <th>2014-12-16</th>\n",
       "      <td>2.7384</td>\n",
       "      <td>55.93</td>\n",
       "      <td>46.431396</td>\n",
       "      <td>1272.00</td>\n",
       "      <td>8.872070</td>\n",
       "      <td>-0.012192</td>\n",
       "      <td>0.038897</td>\n",
       "      <td>0.000358</td>\n",
       "      <td>0.015915</td>\n",
       "      <td>0.010672</td>\n",
       "    </tr>\n",
       "    <tr>\n",
       "      <th>2014-12-17</th>\n",
       "      <td>2.7154</td>\n",
       "      <td>56.47</td>\n",
       "      <td>48.169827</td>\n",
       "      <td>1272.30</td>\n",
       "      <td>8.966757</td>\n",
       "      <td>0.000236</td>\n",
       "      <td>0.037441</td>\n",
       "      <td>0.009655</td>\n",
       "      <td>-0.008399</td>\n",
       "      <td>0.010559</td>\n",
       "    </tr>\n",
       "    <tr>\n",
       "      <th>2014-12-18</th>\n",
       "      <td>2.6625</td>\n",
       "      <td>54.11</td>\n",
       "      <td>48.807987</td>\n",
       "      <td>1273.90</td>\n",
       "      <td>9.061440</td>\n",
       "      <td>0.001258</td>\n",
       "      <td>0.013248</td>\n",
       "      <td>-0.041792</td>\n",
       "      <td>-0.019481</td>\n",
       "      <td>0.027168</td>\n",
       "    </tr>\n",
       "    <tr>\n",
       "      <th>2014-12-19</th>\n",
       "      <td>2.6598</td>\n",
       "      <td>56.52</td>\n",
       "      <td>50.385044</td>\n",
       "      <td>1275.60</td>\n",
       "      <td>9.307625</td>\n",
       "      <td>0.001334</td>\n",
       "      <td>0.032311</td>\n",
       "      <td>0.044539</td>\n",
       "      <td>-0.001014</td>\n",
       "      <td>0.054934</td>\n",
       "    </tr>\n",
       "    <tr>\n",
       "      <th>2014-12-22</th>\n",
       "      <td>2.6645</td>\n",
       "      <td>55.26</td>\n",
       "      <td>49.996269</td>\n",
       "      <td>1259.70</td>\n",
       "      <td>9.818929</td>\n",
       "      <td>-0.012465</td>\n",
       "      <td>-0.007716</td>\n",
       "      <td>-0.022293</td>\n",
       "      <td>0.001767</td>\n",
       "      <td>0.052073</td>\n",
       "    </tr>\n",
       "    <tr>\n",
       "      <th>...</th>\n",
       "      <td>...</td>\n",
       "      <td>...</td>\n",
       "      <td>...</td>\n",
       "      <td>...</td>\n",
       "      <td>...</td>\n",
       "      <td>...</td>\n",
       "      <td>...</td>\n",
       "      <td>...</td>\n",
       "      <td>...</td>\n",
       "      <td>...</td>\n",
       "    </tr>\n",
       "    <tr>\n",
       "      <th>2019-09-19</th>\n",
       "      <td>4.1678</td>\n",
       "      <td>58.13</td>\n",
       "      <td>58.310001</td>\n",
       "      <td>1506.20</td>\n",
       "      <td>27.290001</td>\n",
       "      <td>-0.006333</td>\n",
       "      <td>0.001546</td>\n",
       "      <td>0.000344</td>\n",
       "      <td>0.013767</td>\n",
       "      <td>-0.010627</td>\n",
       "    </tr>\n",
       "    <tr>\n",
       "      <th>2019-09-20</th>\n",
       "      <td>4.1480</td>\n",
       "      <td>58.09</td>\n",
       "      <td>58.480000</td>\n",
       "      <td>1515.10</td>\n",
       "      <td>27.000000</td>\n",
       "      <td>0.005909</td>\n",
       "      <td>0.002915</td>\n",
       "      <td>-0.000688</td>\n",
       "      <td>-0.004751</td>\n",
       "      <td>0.017778</td>\n",
       "    </tr>\n",
       "    <tr>\n",
       "      <th>2019-09-23</th>\n",
       "      <td>4.1638</td>\n",
       "      <td>58.64</td>\n",
       "      <td>58.500000</td>\n",
       "      <td>1531.50</td>\n",
       "      <td>27.480000</td>\n",
       "      <td>0.010824</td>\n",
       "      <td>0.000342</td>\n",
       "      <td>0.009468</td>\n",
       "      <td>0.003809</td>\n",
       "      <td>-0.007642</td>\n",
       "    </tr>\n",
       "    <tr>\n",
       "      <th>2019-09-24</th>\n",
       "      <td>4.1650</td>\n",
       "      <td>57.29</td>\n",
       "      <td>57.889999</td>\n",
       "      <td>1540.20</td>\n",
       "      <td>27.270000</td>\n",
       "      <td>0.005681</td>\n",
       "      <td>-0.010427</td>\n",
       "      <td>-0.023022</td>\n",
       "      <td>0.000288</td>\n",
       "      <td>0.002567</td>\n",
       "    </tr>\n",
       "    <tr>\n",
       "      <th>2019-09-25</th>\n",
       "      <td>4.1490</td>\n",
       "      <td>56.49</td>\n",
       "      <td>57.830002</td>\n",
       "      <td>1512.30</td>\n",
       "      <td>27.340000</td>\n",
       "      <td>-0.018115</td>\n",
       "      <td>-0.001036</td>\n",
       "      <td>-0.013964</td>\n",
       "      <td>-0.003842</td>\n",
       "      <td>0.013168</td>\n",
       "    </tr>\n",
       "    <tr>\n",
       "      <th>2019-09-26</th>\n",
       "      <td>4.1711</td>\n",
       "      <td>56.41</td>\n",
       "      <td>58.549999</td>\n",
       "      <td>1515.20</td>\n",
       "      <td>27.700001</td>\n",
       "      <td>0.001918</td>\n",
       "      <td>0.012450</td>\n",
       "      <td>-0.001416</td>\n",
       "      <td>0.005327</td>\n",
       "      <td>-0.001444</td>\n",
       "    </tr>\n",
       "    <tr>\n",
       "      <th>2019-09-27</th>\n",
       "      <td>4.1602</td>\n",
       "      <td>55.91</td>\n",
       "      <td>59.110001</td>\n",
       "      <td>1506.40</td>\n",
       "      <td>27.660000</td>\n",
       "      <td>-0.005808</td>\n",
       "      <td>0.009565</td>\n",
       "      <td>-0.008864</td>\n",
       "      <td>-0.002613</td>\n",
       "      <td>-0.003977</td>\n",
       "    </tr>\n",
       "    <tr>\n",
       "      <th>2019-09-30</th>\n",
       "      <td>4.1556</td>\n",
       "      <td>54.07</td>\n",
       "      <td>58.849998</td>\n",
       "      <td>1472.90</td>\n",
       "      <td>27.549999</td>\n",
       "      <td>-0.022238</td>\n",
       "      <td>-0.004399</td>\n",
       "      <td>-0.032910</td>\n",
       "      <td>-0.001106</td>\n",
       "      <td>-0.001452</td>\n",
       "    </tr>\n",
       "    <tr>\n",
       "      <th>2019-10-01</th>\n",
       "      <td>4.1590</td>\n",
       "      <td>53.62</td>\n",
       "      <td>58.389999</td>\n",
       "      <td>1489.00</td>\n",
       "      <td>27.510000</td>\n",
       "      <td>0.010931</td>\n",
       "      <td>-0.007816</td>\n",
       "      <td>-0.008323</td>\n",
       "      <td>0.000818</td>\n",
       "      <td>-0.028717</td>\n",
       "    </tr>\n",
       "    <tr>\n",
       "      <th>2019-10-02</th>\n",
       "      <td>4.1293</td>\n",
       "      <td>52.64</td>\n",
       "      <td>56.610001</td>\n",
       "      <td>1507.90</td>\n",
       "      <td>26.719999</td>\n",
       "      <td>0.012693</td>\n",
       "      <td>-0.030485</td>\n",
       "      <td>-0.018277</td>\n",
       "      <td>-0.007141</td>\n",
       "      <td>0.000749</td>\n",
       "    </tr>\n",
       "    <tr>\n",
       "      <th>2019-10-03</th>\n",
       "      <td>4.0841</td>\n",
       "      <td>52.45</td>\n",
       "      <td>56.990002</td>\n",
       "      <td>1513.80</td>\n",
       "      <td>26.740000</td>\n",
       "      <td>0.003913</td>\n",
       "      <td>0.006713</td>\n",
       "      <td>-0.003609</td>\n",
       "      <td>-0.010946</td>\n",
       "      <td>-0.008601</td>\n",
       "    </tr>\n",
       "    <tr>\n",
       "      <th>2019-10-04</th>\n",
       "      <td>4.0556</td>\n",
       "      <td>52.81</td>\n",
       "      <td>57.299999</td>\n",
       "      <td>1512.90</td>\n",
       "      <td>26.510000</td>\n",
       "      <td>-0.000595</td>\n",
       "      <td>0.005439</td>\n",
       "      <td>0.006864</td>\n",
       "      <td>-0.006978</td>\n",
       "      <td>-0.012825</td>\n",
       "    </tr>\n",
       "    <tr>\n",
       "      <th>2019-10-07</th>\n",
       "      <td>4.1071</td>\n",
       "      <td>52.75</td>\n",
       "      <td>57.180000</td>\n",
       "      <td>1504.40</td>\n",
       "      <td>26.170000</td>\n",
       "      <td>-0.005618</td>\n",
       "      <td>-0.002094</td>\n",
       "      <td>-0.001136</td>\n",
       "      <td>0.012698</td>\n",
       "      <td>-0.005732</td>\n",
       "    </tr>\n",
       "    <tr>\n",
       "      <th>2019-10-08</th>\n",
       "      <td>4.0954</td>\n",
       "      <td>52.63</td>\n",
       "      <td>56.439999</td>\n",
       "      <td>1503.90</td>\n",
       "      <td>26.020000</td>\n",
       "      <td>-0.000332</td>\n",
       "      <td>-0.012942</td>\n",
       "      <td>-0.002275</td>\n",
       "      <td>-0.002849</td>\n",
       "      <td>0.019216</td>\n",
       "    </tr>\n",
       "    <tr>\n",
       "      <th>2019-10-09</th>\n",
       "      <td>4.1104</td>\n",
       "      <td>52.59</td>\n",
       "      <td>56.549999</td>\n",
       "      <td>1512.80</td>\n",
       "      <td>26.520000</td>\n",
       "      <td>0.005918</td>\n",
       "      <td>0.001949</td>\n",
       "      <td>-0.000760</td>\n",
       "      <td>0.003663</td>\n",
       "      <td>0.008296</td>\n",
       "    </tr>\n",
       "    <tr>\n",
       "      <th>2019-10-10</th>\n",
       "      <td>4.1095</td>\n",
       "      <td>53.55</td>\n",
       "      <td>57.259998</td>\n",
       "      <td>1500.90</td>\n",
       "      <td>26.740000</td>\n",
       "      <td>-0.007866</td>\n",
       "      <td>0.012555</td>\n",
       "      <td>0.018254</td>\n",
       "      <td>-0.000219</td>\n",
       "      <td>0.019447</td>\n",
       "    </tr>\n",
       "    <tr>\n",
       "      <th>2019-10-11</th>\n",
       "      <td>4.1097</td>\n",
       "      <td>54.70</td>\n",
       "      <td>57.849998</td>\n",
       "      <td>1488.70</td>\n",
       "      <td>27.260000</td>\n",
       "      <td>-0.008128</td>\n",
       "      <td>0.010304</td>\n",
       "      <td>0.021475</td>\n",
       "      <td>0.000049</td>\n",
       "      <td>0.001834</td>\n",
       "    </tr>\n",
       "    <tr>\n",
       "      <th>2019-10-14</th>\n",
       "      <td>4.1265</td>\n",
       "      <td>53.59</td>\n",
       "      <td>57.820000</td>\n",
       "      <td>1497.60</td>\n",
       "      <td>27.309999</td>\n",
       "      <td>0.005978</td>\n",
       "      <td>-0.000519</td>\n",
       "      <td>-0.020293</td>\n",
       "      <td>0.004088</td>\n",
       "      <td>0.010619</td>\n",
       "    </tr>\n",
       "    <tr>\n",
       "      <th>2019-10-15</th>\n",
       "      <td>4.1807</td>\n",
       "      <td>52.81</td>\n",
       "      <td>57.540001</td>\n",
       "      <td>1483.50</td>\n",
       "      <td>27.600000</td>\n",
       "      <td>-0.009415</td>\n",
       "      <td>-0.004843</td>\n",
       "      <td>-0.014555</td>\n",
       "      <td>0.013135</td>\n",
       "      <td>0.011957</td>\n",
       "    </tr>\n",
       "    <tr>\n",
       "      <th>2019-10-16</th>\n",
       "      <td>4.1518</td>\n",
       "      <td>53.36</td>\n",
       "      <td>57.389999</td>\n",
       "      <td>1494.00</td>\n",
       "      <td>27.930000</td>\n",
       "      <td>0.007078</td>\n",
       "      <td>-0.002607</td>\n",
       "      <td>0.010415</td>\n",
       "      <td>-0.006913</td>\n",
       "      <td>-0.009667</td>\n",
       "    </tr>\n",
       "    <tr>\n",
       "      <th>2019-10-17</th>\n",
       "      <td>4.1643</td>\n",
       "      <td>53.93</td>\n",
       "      <td>58.160000</td>\n",
       "      <td>1498.30</td>\n",
       "      <td>27.660000</td>\n",
       "      <td>0.002878</td>\n",
       "      <td>0.013417</td>\n",
       "      <td>0.010682</td>\n",
       "      <td>0.003011</td>\n",
       "      <td>-0.002169</td>\n",
       "    </tr>\n",
       "    <tr>\n",
       "      <th>2019-10-18</th>\n",
       "      <td>4.1117</td>\n",
       "      <td>53.78</td>\n",
       "      <td>57.720001</td>\n",
       "      <td>1494.10</td>\n",
       "      <td>27.600000</td>\n",
       "      <td>-0.002803</td>\n",
       "      <td>-0.007565</td>\n",
       "      <td>-0.002781</td>\n",
       "      <td>-0.012631</td>\n",
       "      <td>0.006159</td>\n",
       "    </tr>\n",
       "    <tr>\n",
       "      <th>2019-10-21</th>\n",
       "      <td>4.1293</td>\n",
       "      <td>53.31</td>\n",
       "      <td>58.279999</td>\n",
       "      <td>1488.10</td>\n",
       "      <td>27.770000</td>\n",
       "      <td>-0.004016</td>\n",
       "      <td>0.009702</td>\n",
       "      <td>-0.008739</td>\n",
       "      <td>0.004280</td>\n",
       "      <td>0.028808</td>\n",
       "    </tr>\n",
       "    <tr>\n",
       "      <th>2019-10-22</th>\n",
       "      <td>4.0819</td>\n",
       "      <td>54.16</td>\n",
       "      <td>58.939999</td>\n",
       "      <td>1487.50</td>\n",
       "      <td>28.570000</td>\n",
       "      <td>-0.000403</td>\n",
       "      <td>0.011325</td>\n",
       "      <td>0.015944</td>\n",
       "      <td>-0.011479</td>\n",
       "      <td>0.013301</td>\n",
       "    </tr>\n",
       "    <tr>\n",
       "      <th>2019-10-23</th>\n",
       "      <td>4.0346</td>\n",
       "      <td>55.97</td>\n",
       "      <td>59.610001</td>\n",
       "      <td>1495.70</td>\n",
       "      <td>28.950001</td>\n",
       "      <td>0.005513</td>\n",
       "      <td>0.011368</td>\n",
       "      <td>0.033419</td>\n",
       "      <td>-0.011588</td>\n",
       "      <td>-0.021762</td>\n",
       "    </tr>\n",
       "    <tr>\n",
       "      <th>2019-10-24</th>\n",
       "      <td>4.0415</td>\n",
       "      <td>56.23</td>\n",
       "      <td>59.570000</td>\n",
       "      <td>1504.70</td>\n",
       "      <td>28.320000</td>\n",
       "      <td>0.006017</td>\n",
       "      <td>-0.000671</td>\n",
       "      <td>0.004645</td>\n",
       "      <td>0.001710</td>\n",
       "      <td>0.032839</td>\n",
       "    </tr>\n",
       "    <tr>\n",
       "      <th>2019-10-25</th>\n",
       "      <td>4.0038</td>\n",
       "      <td>56.66</td>\n",
       "      <td>59.730000</td>\n",
       "      <td>1505.30</td>\n",
       "      <td>29.250000</td>\n",
       "      <td>0.000399</td>\n",
       "      <td>0.002686</td>\n",
       "      <td>0.007647</td>\n",
       "      <td>-0.009328</td>\n",
       "      <td>0.011966</td>\n",
       "    </tr>\n",
       "    <tr>\n",
       "      <th>2019-10-28</th>\n",
       "      <td>3.9910</td>\n",
       "      <td>55.81</td>\n",
       "      <td>59.919998</td>\n",
       "      <td>1495.80</td>\n",
       "      <td>29.600000</td>\n",
       "      <td>-0.006311</td>\n",
       "      <td>0.003181</td>\n",
       "      <td>-0.015002</td>\n",
       "      <td>-0.003197</td>\n",
       "      <td>0.007432</td>\n",
       "    </tr>\n",
       "    <tr>\n",
       "      <th>2019-10-29</th>\n",
       "      <td>3.9986</td>\n",
       "      <td>55.54</td>\n",
       "      <td>59.930000</td>\n",
       "      <td>1490.70</td>\n",
       "      <td>29.820000</td>\n",
       "      <td>-0.003410</td>\n",
       "      <td>0.000167</td>\n",
       "      <td>-0.004838</td>\n",
       "      <td>0.001904</td>\n",
       "      <td>0.008719</td>\n",
       "    </tr>\n",
       "    <tr>\n",
       "      <th>2019-10-30</th>\n",
       "      <td>3.9909</td>\n",
       "      <td>55.06</td>\n",
       "      <td>60.049999</td>\n",
       "      <td>1496.70</td>\n",
       "      <td>30.080000</td>\n",
       "      <td>0.004025</td>\n",
       "      <td>0.002002</td>\n",
       "      <td>-0.008642</td>\n",
       "      <td>-0.001926</td>\n",
       "      <td>0.010306</td>\n",
       "    </tr>\n",
       "  </tbody>\n",
       "</table>\n",
       "<p>1297 rows × 10 columns</p>\n",
       "</div>"
      ],
      "text/plain": [
       "            Valor_CRD  Valor_OIL  Valor_RDS  Valor_GOLD  Valor_PETR4  \\\n",
       "Date                                                                   \n",
       "2014-11-11     2.5575      77.94  51.477970     1255.10    13.256026   \n",
       "2014-11-12     2.5665      77.18  50.531734     1250.40    13.360181   \n",
       "2014-11-13     2.5889      74.21  50.179653     1251.40    12.877283   \n",
       "2014-11-14     2.6018      75.82  50.891159     1275.60    12.498541   \n",
       "2014-11-17     2.6081      75.64  50.795807     1273.70    11.930425   \n",
       "2014-11-18     2.5825      74.61  51.367947     1285.50    11.788397   \n",
       "2014-11-19     2.5720      74.58  51.294594     1283.40    12.100860   \n",
       "2014-11-20     2.5731      75.58  52.079445     1278.90    12.820473   \n",
       "2014-11-21     2.5153      76.51  52.666267     1285.90    13.540086   \n",
       "2014-11-24     2.5457      75.78  52.123459     1284.20    13.454869   \n",
       "2014-11-25     2.5303      74.09  51.808044     1285.20    13.398057   \n",
       "2014-11-26     2.5011      73.69  52.350849     1284.50    13.416993   \n",
       "2014-11-27     2.5304      68.55  50.531738     1272.85    12.787332   \n",
       "2014-11-28     2.5659      66.15  48.712627     1261.20    12.157671   \n",
       "2014-12-01     2.5600      69.00  49.504810     1302.50    11.665304   \n",
       "2014-12-02     2.5682      66.88  50.869152     1284.70    11.523274   \n",
       "2014-12-03     2.5525      67.38  50.275002     1295.80    12.034579   \n",
       "2014-12-04     2.5915      66.81  49.424122     1294.20    11.617962   \n",
       "2014-12-05     2.5895      65.84  49.240749     1280.80    11.532743   \n",
       "2014-12-08     2.6004      63.05  48.118477     1284.40    10.898349   \n",
       "2014-12-09     2.5930      63.82  48.089130     1320.20    10.813130   \n",
       "2014-12-10     2.6162      60.94  46.908180     1315.50    10.301826   \n",
       "2014-12-11     2.6498      59.95  46.805492     1312.30    10.065112   \n",
       "2014-12-12     2.6545      57.81  45.712551     1303.50     9.648495   \n",
       "2014-12-15     2.6955      55.91  44.692970     1287.70     8.578545   \n",
       "2014-12-16     2.7384      55.93  46.431396     1272.00     8.872070   \n",
       "2014-12-17     2.7154      56.47  48.169827     1272.30     8.966757   \n",
       "2014-12-18     2.6625      54.11  48.807987     1273.90     9.061440   \n",
       "2014-12-19     2.6598      56.52  50.385044     1275.60     9.307625   \n",
       "2014-12-22     2.6645      55.26  49.996269     1259.70     9.818929   \n",
       "...               ...        ...        ...         ...          ...   \n",
       "2019-09-19     4.1678      58.13  58.310001     1506.20    27.290001   \n",
       "2019-09-20     4.1480      58.09  58.480000     1515.10    27.000000   \n",
       "2019-09-23     4.1638      58.64  58.500000     1531.50    27.480000   \n",
       "2019-09-24     4.1650      57.29  57.889999     1540.20    27.270000   \n",
       "2019-09-25     4.1490      56.49  57.830002     1512.30    27.340000   \n",
       "2019-09-26     4.1711      56.41  58.549999     1515.20    27.700001   \n",
       "2019-09-27     4.1602      55.91  59.110001     1506.40    27.660000   \n",
       "2019-09-30     4.1556      54.07  58.849998     1472.90    27.549999   \n",
       "2019-10-01     4.1590      53.62  58.389999     1489.00    27.510000   \n",
       "2019-10-02     4.1293      52.64  56.610001     1507.90    26.719999   \n",
       "2019-10-03     4.0841      52.45  56.990002     1513.80    26.740000   \n",
       "2019-10-04     4.0556      52.81  57.299999     1512.90    26.510000   \n",
       "2019-10-07     4.1071      52.75  57.180000     1504.40    26.170000   \n",
       "2019-10-08     4.0954      52.63  56.439999     1503.90    26.020000   \n",
       "2019-10-09     4.1104      52.59  56.549999     1512.80    26.520000   \n",
       "2019-10-10     4.1095      53.55  57.259998     1500.90    26.740000   \n",
       "2019-10-11     4.1097      54.70  57.849998     1488.70    27.260000   \n",
       "2019-10-14     4.1265      53.59  57.820000     1497.60    27.309999   \n",
       "2019-10-15     4.1807      52.81  57.540001     1483.50    27.600000   \n",
       "2019-10-16     4.1518      53.36  57.389999     1494.00    27.930000   \n",
       "2019-10-17     4.1643      53.93  58.160000     1498.30    27.660000   \n",
       "2019-10-18     4.1117      53.78  57.720001     1494.10    27.600000   \n",
       "2019-10-21     4.1293      53.31  58.279999     1488.10    27.770000   \n",
       "2019-10-22     4.0819      54.16  58.939999     1487.50    28.570000   \n",
       "2019-10-23     4.0346      55.97  59.610001     1495.70    28.950001   \n",
       "2019-10-24     4.0415      56.23  59.570000     1504.70    28.320000   \n",
       "2019-10-25     4.0038      56.66  59.730000     1505.30    29.250000   \n",
       "2019-10-28     3.9910      55.81  59.919998     1495.80    29.600000   \n",
       "2019-10-29     3.9986      55.54  59.930000     1490.70    29.820000   \n",
       "2019-10-30     3.9909      55.06  60.049999     1496.70    30.080000   \n",
       "\n",
       "            CALC_GOLD  CALC_RDS  CALC_OIL  CALC_CRD  CALC_PETR4  \n",
       "Date                                                             \n",
       "2014-11-11   0.003037  0.005798  0.006977  0.001841    0.007857  \n",
       "2014-11-12  -0.003745 -0.018381 -0.009751  0.003519   -0.036145  \n",
       "2014-11-13   0.000800 -0.006968 -0.038481  0.008728   -0.029412  \n",
       "2014-11-14   0.019338  0.014179  0.021695  0.004983   -0.045455  \n",
       "2014-11-17  -0.001489 -0.001874 -0.002374  0.002421   -0.011905  \n",
       "2014-11-18   0.009264  0.011264 -0.013617 -0.009816    0.026506  \n",
       "2014-11-19  -0.001634 -0.001428 -0.000402 -0.004066    0.059468  \n",
       "2014-11-20  -0.003506  0.015301  0.013408  0.000428    0.056130  \n",
       "2014-11-21   0.005473  0.011268  0.012305 -0.022463   -0.006294  \n",
       "2014-11-24  -0.001322 -0.010307 -0.009541  0.012086   -0.004222  \n",
       "2014-11-25   0.000779 -0.006051 -0.022301 -0.006049    0.001413  \n",
       "2014-11-26  -0.000545  0.010477 -0.005399 -0.011540   -0.046930  \n",
       "2014-11-27  -0.009070 -0.034748 -0.069752  0.011715   -0.049241  \n",
       "2014-11-28  -0.009153 -0.035999 -0.035011  0.014029   -0.040498  \n",
       "2014-12-01   0.032747  0.016262  0.043084 -0.002299   -0.012175  \n",
       "2014-12-02  -0.013666  0.027560 -0.030725  0.003203    0.044372  \n",
       "2014-12-03   0.008640 -0.011680  0.007476 -0.006113   -0.034618  \n",
       "2014-12-04  -0.001235 -0.016925 -0.008459  0.015279   -0.007335  \n",
       "2014-12-05  -0.010354 -0.003710 -0.014519 -0.000772   -0.055008  \n",
       "2014-12-08   0.002811 -0.022792 -0.042375  0.004209   -0.007819  \n",
       "2014-12-09   0.027873 -0.000610  0.012213 -0.002846   -0.047285  \n",
       "2014-12-10  -0.003560 -0.024558 -0.045127  0.008947   -0.022978  \n",
       "2014-12-11  -0.002433 -0.002189 -0.016245  0.012843   -0.041392  \n",
       "2014-12-12  -0.006706 -0.023351 -0.035696  0.001774   -0.110893  \n",
       "2014-12-15  -0.012121 -0.022304 -0.032866  0.015445    0.034216  \n",
       "2014-12-16  -0.012192  0.038897  0.000358  0.015915    0.010672  \n",
       "2014-12-17   0.000236  0.037441  0.009655 -0.008399    0.010559  \n",
       "2014-12-18   0.001258  0.013248 -0.041792 -0.019481    0.027168  \n",
       "2014-12-19   0.001334  0.032311  0.044539 -0.001014    0.054934  \n",
       "2014-12-22  -0.012465 -0.007716 -0.022293  0.001767    0.052073  \n",
       "...               ...       ...       ...       ...         ...  \n",
       "2019-09-19  -0.006333  0.001546  0.000344  0.013767   -0.010627  \n",
       "2019-09-20   0.005909  0.002915 -0.000688 -0.004751    0.017778  \n",
       "2019-09-23   0.010824  0.000342  0.009468  0.003809   -0.007642  \n",
       "2019-09-24   0.005681 -0.010427 -0.023022  0.000288    0.002567  \n",
       "2019-09-25  -0.018115 -0.001036 -0.013964 -0.003842    0.013168  \n",
       "2019-09-26   0.001918  0.012450 -0.001416  0.005327   -0.001444  \n",
       "2019-09-27  -0.005808  0.009565 -0.008864 -0.002613   -0.003977  \n",
       "2019-09-30  -0.022238 -0.004399 -0.032910 -0.001106   -0.001452  \n",
       "2019-10-01   0.010931 -0.007816 -0.008323  0.000818   -0.028717  \n",
       "2019-10-02   0.012693 -0.030485 -0.018277 -0.007141    0.000749  \n",
       "2019-10-03   0.003913  0.006713 -0.003609 -0.010946   -0.008601  \n",
       "2019-10-04  -0.000595  0.005439  0.006864 -0.006978   -0.012825  \n",
       "2019-10-07  -0.005618 -0.002094 -0.001136  0.012698   -0.005732  \n",
       "2019-10-08  -0.000332 -0.012942 -0.002275 -0.002849    0.019216  \n",
       "2019-10-09   0.005918  0.001949 -0.000760  0.003663    0.008296  \n",
       "2019-10-10  -0.007866  0.012555  0.018254 -0.000219    0.019447  \n",
       "2019-10-11  -0.008128  0.010304  0.021475  0.000049    0.001834  \n",
       "2019-10-14   0.005978 -0.000519 -0.020293  0.004088    0.010619  \n",
       "2019-10-15  -0.009415 -0.004843 -0.014555  0.013135    0.011957  \n",
       "2019-10-16   0.007078 -0.002607  0.010415 -0.006913   -0.009667  \n",
       "2019-10-17   0.002878  0.013417  0.010682  0.003011   -0.002169  \n",
       "2019-10-18  -0.002803 -0.007565 -0.002781 -0.012631    0.006159  \n",
       "2019-10-21  -0.004016  0.009702 -0.008739  0.004280    0.028808  \n",
       "2019-10-22  -0.000403  0.011325  0.015944 -0.011479    0.013301  \n",
       "2019-10-23   0.005513  0.011368  0.033419 -0.011588   -0.021762  \n",
       "2019-10-24   0.006017 -0.000671  0.004645  0.001710    0.032839  \n",
       "2019-10-25   0.000399  0.002686  0.007647 -0.009328    0.011966  \n",
       "2019-10-28  -0.006311  0.003181 -0.015002 -0.003197    0.007432  \n",
       "2019-10-29  -0.003410  0.000167 -0.004838  0.001904    0.008719  \n",
       "2019-10-30   0.004025  0.002002 -0.008642 -0.001926    0.010306  \n",
       "\n",
       "[1297 rows x 10 columns]"
      ]
     },
     "execution_count": 26,
     "metadata": {},
     "output_type": "execute_result"
    }
   ],
   "source": [
    "DADOS_OPT"
   ]
  },
  {
   "cell_type": "markdown",
   "metadata": {},
   "source": [
    "# Aplicando o modelo de regressão linear"
   ]
  },
  {
   "cell_type": "markdown",
   "metadata": {},
   "source": [
    "**Ajustando a Tabela para a Regressão**"
   ]
  },
  {
   "cell_type": "code",
   "execution_count": 26,
   "metadata": {},
   "outputs": [
    {
     "data": {
      "text/plain": [
       "Index(['Valor_CRD', 'Valor_OIL', 'Valor_RDS', 'Valor_GOLD', 'Valor_PETR4',\n",
       "       'CALC_GOLD', 'CALC_RDS', 'CALC_OIL', 'CALC_CRD', 'CALC_PETR4'],\n",
       "      dtype='object')"
      ]
     },
     "execution_count": 26,
     "metadata": {},
     "output_type": "execute_result"
    }
   ],
   "source": [
    "DADOS_OPT.columns"
   ]
  },
  {
   "cell_type": "markdown",
   "metadata": {},
   "source": [
    "Definindo nossas variáveis do nosso dataset"
   ]
  },
  {
   "cell_type": "code",
   "execution_count": 27,
   "metadata": {},
   "outputs": [],
   "source": [
    "df = DADOS_OPT[['Valor_CRD', 'Valor_OIL', 'Valor_RDS', 'Valor_GOLD', 'Valor_PETR4', 'CALC_GOLD', 'CALC_RDS', 'CALC_OIL', 'CALC_CRD', 'CALC_PETR4']]"
   ]
  },
  {
   "cell_type": "code",
   "execution_count": 28,
   "metadata": {},
   "outputs": [
    {
     "data": {
      "text/html": [
       "<div>\n",
       "<style scoped>\n",
       "    .dataframe tbody tr th:only-of-type {\n",
       "        vertical-align: middle;\n",
       "    }\n",
       "\n",
       "    .dataframe tbody tr th {\n",
       "        vertical-align: top;\n",
       "    }\n",
       "\n",
       "    .dataframe thead th {\n",
       "        text-align: right;\n",
       "    }\n",
       "</style>\n",
       "<table border=\"1\" class=\"dataframe\">\n",
       "  <thead>\n",
       "    <tr style=\"text-align: right;\">\n",
       "      <th></th>\n",
       "      <th>Valor_CRD</th>\n",
       "      <th>Valor_OIL</th>\n",
       "      <th>Valor_RDS</th>\n",
       "      <th>Valor_GOLD</th>\n",
       "      <th>Valor_PETR4</th>\n",
       "      <th>CALC_GOLD</th>\n",
       "      <th>CALC_RDS</th>\n",
       "      <th>CALC_OIL</th>\n",
       "      <th>CALC_CRD</th>\n",
       "      <th>CALC_PETR4</th>\n",
       "    </tr>\n",
       "  </thead>\n",
       "  <tbody>\n",
       "    <tr>\n",
       "      <th>count</th>\n",
       "      <td>1297.000000</td>\n",
       "      <td>1297.000000</td>\n",
       "      <td>1297.000000</td>\n",
       "      <td>1297.000000</td>\n",
       "      <td>1297.000000</td>\n",
       "      <td>1297.000000</td>\n",
       "      <td>1297.000000</td>\n",
       "      <td>1297.000000</td>\n",
       "      <td>1297.000000</td>\n",
       "      <td>1297.000000</td>\n",
       "    </tr>\n",
       "    <tr>\n",
       "      <th>mean</th>\n",
       "      <td>3.476241</td>\n",
       "      <td>53.151318</td>\n",
       "      <td>50.456716</td>\n",
       "      <td>1302.706052</td>\n",
       "      <td>15.464385</td>\n",
       "      <td>0.000168</td>\n",
       "      <td>0.000225</td>\n",
       "      <td>0.000020</td>\n",
       "      <td>0.000399</td>\n",
       "      <td>0.001091</td>\n",
       "    </tr>\n",
       "    <tr>\n",
       "      <th>std</th>\n",
       "      <td>0.392010</td>\n",
       "      <td>9.631621</td>\n",
       "      <td>9.139196</td>\n",
       "      <td>85.301049</td>\n",
       "      <td>6.710696</td>\n",
       "      <td>0.007697</td>\n",
       "      <td>0.014236</td>\n",
       "      <td>0.023822</td>\n",
       "      <td>0.010436</td>\n",
       "      <td>0.030073</td>\n",
       "    </tr>\n",
       "    <tr>\n",
       "      <th>min</th>\n",
       "      <td>2.501100</td>\n",
       "      <td>26.210000</td>\n",
       "      <td>28.818090</td>\n",
       "      <td>1090.500000</td>\n",
       "      <td>3.976808</td>\n",
       "      <td>-0.033435</td>\n",
       "      <td>-0.065352</td>\n",
       "      <td>-0.086711</td>\n",
       "      <td>-0.057731</td>\n",
       "      <td>-0.157591</td>\n",
       "    </tr>\n",
       "    <tr>\n",
       "      <th>25%</th>\n",
       "      <td>3.179500</td>\n",
       "      <td>46.700000</td>\n",
       "      <td>42.996601</td>\n",
       "      <td>1256.500000</td>\n",
       "      <td>9.809459</td>\n",
       "      <td>-0.003888</td>\n",
       "      <td>-0.007080</td>\n",
       "      <td>-0.013350</td>\n",
       "      <td>-0.005847</td>\n",
       "      <td>-0.015305</td>\n",
       "    </tr>\n",
       "    <tr>\n",
       "      <th>50%</th>\n",
       "      <td>3.392600</td>\n",
       "      <td>52.410000</td>\n",
       "      <td>48.118477</td>\n",
       "      <td>1302.400000</td>\n",
       "      <td>14.155543</td>\n",
       "      <td>0.000000</td>\n",
       "      <td>0.000480</td>\n",
       "      <td>0.000750</td>\n",
       "      <td>0.000032</td>\n",
       "      <td>0.000779</td>\n",
       "    </tr>\n",
       "    <tr>\n",
       "      <th>75%</th>\n",
       "      <td>3.827200</td>\n",
       "      <td>59.520000</td>\n",
       "      <td>58.919838</td>\n",
       "      <td>1350.100000</td>\n",
       "      <td>20.366940</td>\n",
       "      <td>0.004172</td>\n",
       "      <td>0.007564</td>\n",
       "      <td>0.012450</td>\n",
       "      <td>0.006593</td>\n",
       "      <td>0.015326</td>\n",
       "    </tr>\n",
       "    <tr>\n",
       "      <th>max</th>\n",
       "      <td>4.207700</td>\n",
       "      <td>77.940000</td>\n",
       "      <td>68.253716</td>\n",
       "      <td>1560.400000</td>\n",
       "      <td>30.080000</td>\n",
       "      <td>0.045232</td>\n",
       "      <td>0.064506</td>\n",
       "      <td>0.146764</td>\n",
       "      <td>0.074251</td>\n",
       "      <td>0.162832</td>\n",
       "    </tr>\n",
       "  </tbody>\n",
       "</table>\n",
       "</div>"
      ],
      "text/plain": [
       "         Valor_CRD    Valor_OIL    Valor_RDS   Valor_GOLD  Valor_PETR4  \\\n",
       "count  1297.000000  1297.000000  1297.000000  1297.000000  1297.000000   \n",
       "mean      3.476241    53.151318    50.456716  1302.706052    15.464385   \n",
       "std       0.392010     9.631621     9.139196    85.301049     6.710696   \n",
       "min       2.501100    26.210000    28.818090  1090.500000     3.976808   \n",
       "25%       3.179500    46.700000    42.996601  1256.500000     9.809459   \n",
       "50%       3.392600    52.410000    48.118477  1302.400000    14.155543   \n",
       "75%       3.827200    59.520000    58.919838  1350.100000    20.366940   \n",
       "max       4.207700    77.940000    68.253716  1560.400000    30.080000   \n",
       "\n",
       "         CALC_GOLD     CALC_RDS     CALC_OIL     CALC_CRD   CALC_PETR4  \n",
       "count  1297.000000  1297.000000  1297.000000  1297.000000  1297.000000  \n",
       "mean      0.000168     0.000225     0.000020     0.000399     0.001091  \n",
       "std       0.007697     0.014236     0.023822     0.010436     0.030073  \n",
       "min      -0.033435    -0.065352    -0.086711    -0.057731    -0.157591  \n",
       "25%      -0.003888    -0.007080    -0.013350    -0.005847    -0.015305  \n",
       "50%       0.000000     0.000480     0.000750     0.000032     0.000779  \n",
       "75%       0.004172     0.007564     0.012450     0.006593     0.015326  \n",
       "max       0.045232     0.064506     0.146764     0.074251     0.162832  "
      ]
     },
     "execution_count": 28,
     "metadata": {},
     "output_type": "execute_result"
    }
   ],
   "source": [
    "df.describe()"
   ]
  },
  {
   "cell_type": "markdown",
   "metadata": {},
   "source": [
    "Verificando os valores nulos"
   ]
  },
  {
   "cell_type": "code",
   "execution_count": 29,
   "metadata": {},
   "outputs": [],
   "source": [
    "np.sum(df.isnull());"
   ]
  },
  {
   "cell_type": "markdown",
   "metadata": {},
   "source": [
    "Definindo nossa variável de resposta"
   ]
  },
  {
   "cell_type": "code",
   "execution_count": 30,
   "metadata": {},
   "outputs": [],
   "source": [
    "Y = df['CALC_PETR4']"
   ]
  },
  {
   "cell_type": "markdown",
   "metadata": {},
   "source": [
    "Definindo os outros parâmetros. Valores brutos removidos; valores relativos mais relevantes na regressão"
   ]
  },
  {
   "cell_type": "code",
   "execution_count": 31,
   "metadata": {
    "scrolled": true
   },
   "outputs": [
    {
     "data": {
      "text/html": [
       "<div>\n",
       "<style scoped>\n",
       "    .dataframe tbody tr th:only-of-type {\n",
       "        vertical-align: middle;\n",
       "    }\n",
       "\n",
       "    .dataframe tbody tr th {\n",
       "        vertical-align: top;\n",
       "    }\n",
       "\n",
       "    .dataframe thead th {\n",
       "        text-align: right;\n",
       "    }\n",
       "</style>\n",
       "<table border=\"1\" class=\"dataframe\">\n",
       "  <thead>\n",
       "    <tr style=\"text-align: right;\">\n",
       "      <th></th>\n",
       "      <th>CALC_GOLD</th>\n",
       "      <th>CALC_RDS</th>\n",
       "      <th>CALC_OIL</th>\n",
       "      <th>CALC_CRD</th>\n",
       "    </tr>\n",
       "    <tr>\n",
       "      <th>Date</th>\n",
       "      <th></th>\n",
       "      <th></th>\n",
       "      <th></th>\n",
       "      <th></th>\n",
       "    </tr>\n",
       "  </thead>\n",
       "  <tbody>\n",
       "    <tr>\n",
       "      <th>2014-11-11</th>\n",
       "      <td>0.003037</td>\n",
       "      <td>0.005798</td>\n",
       "      <td>0.006977</td>\n",
       "      <td>0.001841</td>\n",
       "    </tr>\n",
       "    <tr>\n",
       "      <th>2014-11-12</th>\n",
       "      <td>-0.003745</td>\n",
       "      <td>-0.018381</td>\n",
       "      <td>-0.009751</td>\n",
       "      <td>0.003519</td>\n",
       "    </tr>\n",
       "    <tr>\n",
       "      <th>2014-11-13</th>\n",
       "      <td>0.000800</td>\n",
       "      <td>-0.006968</td>\n",
       "      <td>-0.038481</td>\n",
       "      <td>0.008728</td>\n",
       "    </tr>\n",
       "    <tr>\n",
       "      <th>2014-11-14</th>\n",
       "      <td>0.019338</td>\n",
       "      <td>0.014179</td>\n",
       "      <td>0.021695</td>\n",
       "      <td>0.004983</td>\n",
       "    </tr>\n",
       "    <tr>\n",
       "      <th>2014-11-17</th>\n",
       "      <td>-0.001489</td>\n",
       "      <td>-0.001874</td>\n",
       "      <td>-0.002374</td>\n",
       "      <td>0.002421</td>\n",
       "    </tr>\n",
       "  </tbody>\n",
       "</table>\n",
       "</div>"
      ],
      "text/plain": [
       "            CALC_GOLD  CALC_RDS  CALC_OIL  CALC_CRD\n",
       "Date                                               \n",
       "2014-11-11   0.003037  0.005798  0.006977  0.001841\n",
       "2014-11-12  -0.003745 -0.018381 -0.009751  0.003519\n",
       "2014-11-13   0.000800 -0.006968 -0.038481  0.008728\n",
       "2014-11-14   0.019338  0.014179  0.021695  0.004983\n",
       "2014-11-17  -0.001489 -0.001874 -0.002374  0.002421"
      ]
     },
     "execution_count": 31,
     "metadata": {},
     "output_type": "execute_result"
    }
   ],
   "source": [
    "X = df[['CALC_GOLD', 'CALC_RDS', 'CALC_OIL', 'CALC_CRD']]\n",
    "X.head()"
   ]
  },
  {
   "cell_type": "markdown",
   "metadata": {},
   "source": [
    "**Separando os dados de treinamento e teste :**"
   ]
  },
  {
   "cell_type": "markdown",
   "metadata": {},
   "source": [
    "Definindo o RANDOM_SEED"
   ]
  },
  {
   "cell_type": "code",
   "execution_count": 35,
   "metadata": {},
   "outputs": [],
   "source": [
    "RANDOM_SEED = 42"
   ]
  },
  {
   "cell_type": "markdown",
   "metadata": {},
   "source": [
    "Criando nossas variáveis de teste e treinamento"
   ]
  },
  {
   "cell_type": "code",
   "execution_count": 36,
   "metadata": {},
   "outputs": [],
   "source": [
    "from sklearn.model_selection import train_test_split\n",
    "\n",
    "X_train, X_test, Y_train, Y_test = train_test_split(X, Y, test_size=0.2, random_state = RANDOM_SEED)"
   ]
  },
  {
   "cell_type": "markdown",
   "metadata": {},
   "source": [
    "**Início da Regressão:**"
   ]
  },
  {
   "cell_type": "markdown",
   "metadata": {},
   "source": [
    "Função utilitária para fazer a regressão com constante adicionada"
   ]
  },
  {
   "cell_type": "code",
   "execution_count": 37,
   "metadata": {},
   "outputs": [],
   "source": [
    "def regress(X,Y):\n",
    "    X_cp = sm.add_constant(X)\n",
    "    model = sm.OLS(Y,X_cp)\n",
    "    results = model.fit()\n",
    "    return results"
   ]
  },
  {
   "cell_type": "markdown",
   "metadata": {},
   "source": [
    "Usando regressão para aplicar o ajuste"
   ]
  },
  {
   "cell_type": "code",
   "execution_count": 38,
   "metadata": {
    "scrolled": true
   },
   "outputs": [
    {
     "data": {
      "text/html": [
       "<table class=\"simpletable\">\n",
       "<caption>OLS Regression Results</caption>\n",
       "<tr>\n",
       "  <th>Dep. Variable:</th>       <td>CALC_PETR4</td>    <th>  R-squared:         </th> <td>   0.009</td>\n",
       "</tr>\n",
       "<tr>\n",
       "  <th>Model:</th>                   <td>OLS</td>       <th>  Adj. R-squared:    </th> <td>   0.006</td>\n",
       "</tr>\n",
       "<tr>\n",
       "  <th>Method:</th>             <td>Least Squares</td>  <th>  F-statistic:       </th> <td>   2.437</td>\n",
       "</tr>\n",
       "<tr>\n",
       "  <th>Date:</th>             <td>Thu, 21 Nov 2019</td> <th>  Prob (F-statistic):</th>  <td>0.0456</td> \n",
       "</tr>\n",
       "<tr>\n",
       "  <th>Time:</th>                 <td>09:22:43</td>     <th>  Log-Likelihood:    </th> <td>  2169.9</td>\n",
       "</tr>\n",
       "<tr>\n",
       "  <th>No. Observations:</th>      <td>  1037</td>      <th>  AIC:               </th> <td>  -4330.</td>\n",
       "</tr>\n",
       "<tr>\n",
       "  <th>Df Residuals:</th>          <td>  1032</td>      <th>  BIC:               </th> <td>  -4305.</td>\n",
       "</tr>\n",
       "<tr>\n",
       "  <th>Df Model:</th>              <td>     4</td>      <th>                     </th>     <td> </td>   \n",
       "</tr>\n",
       "<tr>\n",
       "  <th>Covariance Type:</th>      <td>nonrobust</td>    <th>                     </th>     <td> </td>   \n",
       "</tr>\n",
       "</table>\n",
       "<table class=\"simpletable\">\n",
       "<tr>\n",
       "      <td></td>         <th>coef</th>     <th>std err</th>      <th>t</th>      <th>P>|t|</th>  <th>[0.025</th>    <th>0.975]</th>  \n",
       "</tr>\n",
       "<tr>\n",
       "  <th>const</th>     <td>    0.0005</td> <td>    0.001</td> <td>    0.498</td> <td> 0.618</td> <td>   -0.001</td> <td>    0.002</td>\n",
       "</tr>\n",
       "<tr>\n",
       "  <th>CALC_GOLD</th> <td>   -0.1382</td> <td>    0.120</td> <td>   -1.154</td> <td> 0.249</td> <td>   -0.373</td> <td>    0.097</td>\n",
       "</tr>\n",
       "<tr>\n",
       "  <th>CALC_RDS</th>  <td>    0.2113</td> <td>    0.081</td> <td>    2.598</td> <td> 0.010</td> <td>    0.052</td> <td>    0.371</td>\n",
       "</tr>\n",
       "<tr>\n",
       "  <th>CALC_OIL</th>  <td>   -0.0946</td> <td>    0.049</td> <td>   -1.937</td> <td> 0.053</td> <td>   -0.190</td> <td>    0.001</td>\n",
       "</tr>\n",
       "<tr>\n",
       "  <th>CALC_CRD</th>  <td>   -0.0961</td> <td>    0.093</td> <td>   -1.032</td> <td> 0.302</td> <td>   -0.279</td> <td>    0.087</td>\n",
       "</tr>\n",
       "</table>\n",
       "<table class=\"simpletable\">\n",
       "<tr>\n",
       "  <th>Omnibus:</th>       <td>84.060</td> <th>  Durbin-Watson:     </th> <td>   2.000</td>\n",
       "</tr>\n",
       "<tr>\n",
       "  <th>Prob(Omnibus):</th> <td> 0.000</td> <th>  Jarque-Bera (JB):  </th> <td> 425.466</td>\n",
       "</tr>\n",
       "<tr>\n",
       "  <th>Skew:</th>          <td> 0.124</td> <th>  Prob(JB):          </th> <td>4.08e-93</td>\n",
       "</tr>\n",
       "<tr>\n",
       "  <th>Kurtosis:</th>      <td> 6.128</td> <th>  Cond. No.          </th> <td>    131.</td>\n",
       "</tr>\n",
       "</table><br/><br/>Warnings:<br/>[1] Standard Errors assume that the covariance matrix of the errors is correctly specified."
      ],
      "text/plain": [
       "<class 'statsmodels.iolib.summary.Summary'>\n",
       "\"\"\"\n",
       "                            OLS Regression Results                            \n",
       "==============================================================================\n",
       "Dep. Variable:             CALC_PETR4   R-squared:                       0.009\n",
       "Model:                            OLS   Adj. R-squared:                  0.006\n",
       "Method:                 Least Squares   F-statistic:                     2.437\n",
       "Date:                Thu, 21 Nov 2019   Prob (F-statistic):             0.0456\n",
       "Time:                        09:22:43   Log-Likelihood:                 2169.9\n",
       "No. Observations:                1037   AIC:                            -4330.\n",
       "Df Residuals:                    1032   BIC:                            -4305.\n",
       "Df Model:                           4                                         \n",
       "Covariance Type:            nonrobust                                         \n",
       "==============================================================================\n",
       "                 coef    std err          t      P>|t|      [0.025      0.975]\n",
       "------------------------------------------------------------------------------\n",
       "const          0.0005      0.001      0.498      0.618      -0.001       0.002\n",
       "CALC_GOLD     -0.1382      0.120     -1.154      0.249      -0.373       0.097\n",
       "CALC_RDS       0.2113      0.081      2.598      0.010       0.052       0.371\n",
       "CALC_OIL      -0.0946      0.049     -1.937      0.053      -0.190       0.001\n",
       "CALC_CRD      -0.0961      0.093     -1.032      0.302      -0.279       0.087\n",
       "==============================================================================\n",
       "Omnibus:                       84.060   Durbin-Watson:                   2.000\n",
       "Prob(Omnibus):                  0.000   Jarque-Bera (JB):              425.466\n",
       "Skew:                           0.124   Prob(JB):                     4.08e-93\n",
       "Kurtosis:                       6.128   Cond. No.                         131.\n",
       "==============================================================================\n",
       "\n",
       "Warnings:\n",
       "[1] Standard Errors assume that the covariance matrix of the errors is correctly specified.\n",
       "\"\"\""
      ]
     },
     "execution_count": 38,
     "metadata": {},
     "output_type": "execute_result"
    }
   ],
   "source": [
    "results = regress(X_train,Y_train)\n",
    "results.summary()"
   ]
  },
  {
   "cell_type": "markdown",
   "metadata": {},
   "source": [
    "**Ajustando R-squared Para as Variáveis que Mais Influenciam o CALC_PETR4**"
   ]
  },
  {
   "cell_type": "markdown",
   "metadata": {},
   "source": [
    "* Removendo a variável com maior P>|t|"
   ]
  },
  {
   "cell_type": "markdown",
   "metadata": {},
   "source": [
    "Removendo Calc_CRD"
   ]
  },
  {
   "cell_type": "code",
   "execution_count": 39,
   "metadata": {},
   "outputs": [],
   "source": [
    "X1 = X_train[['CALC_RDS', 'CALC_OIL', 'CALC_CRD']]"
   ]
  },
  {
   "cell_type": "markdown",
   "metadata": {},
   "source": [
    "Usando regressão para aplicar o ajuste"
   ]
  },
  {
   "cell_type": "code",
   "execution_count": 40,
   "metadata": {
    "scrolled": true
   },
   "outputs": [
    {
     "data": {
      "text/html": [
       "<table class=\"simpletable\">\n",
       "<caption>OLS Regression Results</caption>\n",
       "<tr>\n",
       "  <th>Dep. Variable:</th>       <td>CALC_PETR4</td>    <th>  R-squared:         </th> <td>   0.008</td>\n",
       "</tr>\n",
       "<tr>\n",
       "  <th>Model:</th>                   <td>OLS</td>       <th>  Adj. R-squared:    </th> <td>   0.005</td>\n",
       "</tr>\n",
       "<tr>\n",
       "  <th>Method:</th>             <td>Least Squares</td>  <th>  F-statistic:       </th> <td>   2.804</td>\n",
       "</tr>\n",
       "<tr>\n",
       "  <th>Date:</th>             <td>Thu, 21 Nov 2019</td> <th>  Prob (F-statistic):</th>  <td>0.0387</td> \n",
       "</tr>\n",
       "<tr>\n",
       "  <th>Time:</th>                 <td>09:22:45</td>     <th>  Log-Likelihood:    </th> <td>  2169.2</td>\n",
       "</tr>\n",
       "<tr>\n",
       "  <th>No. Observations:</th>      <td>  1037</td>      <th>  AIC:               </th> <td>  -4330.</td>\n",
       "</tr>\n",
       "<tr>\n",
       "  <th>Df Residuals:</th>          <td>  1033</td>      <th>  BIC:               </th> <td>  -4311.</td>\n",
       "</tr>\n",
       "<tr>\n",
       "  <th>Df Model:</th>              <td>     3</td>      <th>                     </th>     <td> </td>   \n",
       "</tr>\n",
       "<tr>\n",
       "  <th>Covariance Type:</th>      <td>nonrobust</td>    <th>                     </th>     <td> </td>   \n",
       "</tr>\n",
       "</table>\n",
       "<table class=\"simpletable\">\n",
       "<tr>\n",
       "      <td></td>        <th>coef</th>     <th>std err</th>      <th>t</th>      <th>P>|t|</th>  <th>[0.025</th>    <th>0.975]</th>  \n",
       "</tr>\n",
       "<tr>\n",
       "  <th>const</th>    <td>    0.0004</td> <td>    0.001</td> <td>    0.465</td> <td> 0.642</td> <td>   -0.001</td> <td>    0.002</td>\n",
       "</tr>\n",
       "<tr>\n",
       "  <th>CALC_RDS</th> <td>    0.2106</td> <td>    0.081</td> <td>    2.589</td> <td> 0.010</td> <td>    0.051</td> <td>    0.370</td>\n",
       "</tr>\n",
       "<tr>\n",
       "  <th>CALC_OIL</th> <td>   -0.0934</td> <td>    0.049</td> <td>   -1.913</td> <td> 0.056</td> <td>   -0.189</td> <td>    0.002</td>\n",
       "</tr>\n",
       "<tr>\n",
       "  <th>CALC_CRD</th> <td>   -0.0815</td> <td>    0.092</td> <td>   -0.884</td> <td> 0.377</td> <td>   -0.263</td> <td>    0.099</td>\n",
       "</tr>\n",
       "</table>\n",
       "<table class=\"simpletable\">\n",
       "<tr>\n",
       "  <th>Omnibus:</th>       <td>84.104</td> <th>  Durbin-Watson:     </th> <td>   1.996</td>\n",
       "</tr>\n",
       "<tr>\n",
       "  <th>Prob(Omnibus):</th> <td> 0.000</td> <th>  Jarque-Bera (JB):  </th> <td> 426.904</td>\n",
       "</tr>\n",
       "<tr>\n",
       "  <th>Skew:</th>          <td> 0.122</td> <th>  Prob(JB):          </th> <td>1.99e-93</td>\n",
       "</tr>\n",
       "<tr>\n",
       "  <th>Kurtosis:</th>      <td> 6.134</td> <th>  Cond. No.          </th> <td>    103.</td>\n",
       "</tr>\n",
       "</table><br/><br/>Warnings:<br/>[1] Standard Errors assume that the covariance matrix of the errors is correctly specified."
      ],
      "text/plain": [
       "<class 'statsmodels.iolib.summary.Summary'>\n",
       "\"\"\"\n",
       "                            OLS Regression Results                            \n",
       "==============================================================================\n",
       "Dep. Variable:             CALC_PETR4   R-squared:                       0.008\n",
       "Model:                            OLS   Adj. R-squared:                  0.005\n",
       "Method:                 Least Squares   F-statistic:                     2.804\n",
       "Date:                Thu, 21 Nov 2019   Prob (F-statistic):             0.0387\n",
       "Time:                        09:22:45   Log-Likelihood:                 2169.2\n",
       "No. Observations:                1037   AIC:                            -4330.\n",
       "Df Residuals:                    1033   BIC:                            -4311.\n",
       "Df Model:                           3                                         \n",
       "Covariance Type:            nonrobust                                         \n",
       "==============================================================================\n",
       "                 coef    std err          t      P>|t|      [0.025      0.975]\n",
       "------------------------------------------------------------------------------\n",
       "const          0.0004      0.001      0.465      0.642      -0.001       0.002\n",
       "CALC_RDS       0.2106      0.081      2.589      0.010       0.051       0.370\n",
       "CALC_OIL      -0.0934      0.049     -1.913      0.056      -0.189       0.002\n",
       "CALC_CRD      -0.0815      0.092     -0.884      0.377      -0.263       0.099\n",
       "==============================================================================\n",
       "Omnibus:                       84.104   Durbin-Watson:                   1.996\n",
       "Prob(Omnibus):                  0.000   Jarque-Bera (JB):              426.904\n",
       "Skew:                           0.122   Prob(JB):                     1.99e-93\n",
       "Kurtosis:                       6.134   Cond. No.                         103.\n",
       "==============================================================================\n",
       "\n",
       "Warnings:\n",
       "[1] Standard Errors assume that the covariance matrix of the errors is correctly specified.\n",
       "\"\"\""
      ]
     },
     "execution_count": 40,
     "metadata": {},
     "output_type": "execute_result"
    }
   ],
   "source": [
    "results1 = regress(X1, Y_train)\n",
    "results1.summary()"
   ]
  },
  {
   "cell_type": "markdown",
   "metadata": {},
   "source": [
    "Análise:\n",
    "\n"
   ]
  },
  {
   "cell_type": "markdown",
   "metadata": {},
   "source": [
    "Plotando o gráfico do resultado da regressão"
   ]
  },
  {
   "cell_type": "code",
   "execution_count": 41,
   "metadata": {},
   "outputs": [
    {
     "data": {
      "image/png": "[encoded data removed]",
      "text/plain": [
       "<Figure size 432x288 with 1 Axes>"
      ]
     },
     "metadata": {
      "needs_background": "light"
     },
     "output_type": "display_data"
    }
   ],
   "source": [
    "stats.probplot(results1.resid, dist=\"norm\", plot=plt);"
   ]
  },
  {
   "cell_type": "markdown",
   "metadata": {},
   "source": [
    "Análise:"
   ]
  },
  {
   "cell_type": "markdown",
   "metadata": {},
   "source": [
    "**Análise da Influência dos Valores**"
   ]
  },
  {
   "cell_type": "markdown",
   "metadata": {},
   "source": [
    "RDS"
   ]
  },
  {
   "cell_type": "code",
   "execution_count": 47,
   "metadata": {},
   "outputs": [
    {
     "data": {
      "text/plain": [
       "<matplotlib.collections.PathCollection at 0x252725eec88>"
      ]
     },
     "execution_count": 47,
     "metadata": {},
     "output_type": "execute_result"
    },
    {
     "data": {
      "image/png": "[encoded data removed]",
      "text/plain": [
       "<Figure size 432x288 with 1 Axes>"
      ]
     },
     "metadata": {
      "needs_background": "light"
     },
     "output_type": "display_data"
    }
   ],
   "source": [
    "k = results1.params['const']\n",
    "PO = results1.params['CALC_RDS']\n",
    "\n",
    "x = DADOS_OPT['CALC_RDS']\n",
    "\n",
    "x_v = np.linspace(x.min(), x.max(), 500)\n",
    "y_v = PO*x_v\n",
    "\n",
    "plt.plot(x_v,y_v, color=\"r\") \n",
    "plt.scatter(x, Y)"
   ]
  },
  {
   "cell_type": "markdown",
   "metadata": {},
   "source": [
    "OIL"
   ]
  },
  {
   "cell_type": "code",
   "execution_count": 48,
   "metadata": {},
   "outputs": [
    {
     "data": {
      "text/plain": [
       "<matplotlib.collections.PathCollection at 0x2527262ccf8>"
      ]
     },
     "execution_count": 48,
     "metadata": {},
     "output_type": "execute_result"
    },
    {
     "data": {
      "image/png": "[encoded data removed]",
      "text/plain": [
       "<Figure size 432x288 with 1 Axes>"
      ]
     },
     "metadata": {
      "needs_background": "light"
     },
     "output_type": "display_data"
    }
   ],
   "source": [
    "k = results1.params['const']\n",
    "PO = results1.params['CALC_OIL']\n",
    "\n",
    "x = DADOS_OPT['CALC_OIL']\n",
    "\n",
    "x_v = np.linspace(x.min(), x.max(), 500)\n",
    "y_v = PO*x_v\n",
    "\n",
    "plt.plot(x_v,y_v, color=\"r\") \n",
    "plt.scatter(x, Y)"
   ]
  },
  {
   "cell_type": "markdown",
   "metadata": {},
   "source": [
    "CRD"
   ]
  },
  {
   "cell_type": "code",
   "execution_count": 49,
   "metadata": {},
   "outputs": [
    {
     "data": {
      "text/plain": [
       "<matplotlib.collections.PathCollection at 0x25274685da0>"
      ]
     },
     "execution_count": 49,
     "metadata": {},
     "output_type": "execute_result"
    },
    {
     "data": {
      "image/png": "[encoded data removed]",
      "text/plain": [
       "<Figure size 432x288 with 1 Axes>"
      ]
     },
     "metadata": {
      "needs_background": "light"
     },
     "output_type": "display_data"
    }
   ],
   "source": [
    "k = results1.params['const']\n",
    "PO = results1.params['CALC_CRD']\n",
    "\n",
    "x = DADOS_OPT['CALC_CRD']\n",
    "\n",
    "x_v = np.linspace(x.min(), x.max(), 500)\n",
    "y_v = PO*x_v\n",
    "\n",
    "plt.plot(x_v,y_v, color=\"r\") \n",
    "plt.scatter(x, Y)"
   ]
  },
  {
   "cell_type": "code",
   "execution_count": null,
   "metadata": {},
   "outputs": [],
   "source": []
  },
  {
   "cell_type": "code",
   "execution_count": null,
   "metadata": {},
   "outputs": [],
   "source": []
  },
  {
   "cell_type": "markdown",
   "metadata": {},
   "source": [
    "**Treinando o Modelo**"
   ]
  },
  {
   "cell_type": "markdown",
   "metadata": {},
   "source": [
    "Criando nossas variáveis preditivas"
   ]
  },
  {
   "cell_type": "code",
   "execution_count": 42,
   "metadata": {},
   "outputs": [
    {
     "data": {
      "text/plain": [
       "Date\n",
       "2017-02-24   -0.004122\n",
       "2016-03-09    0.003165\n",
       "2017-09-19    0.003740\n",
       "2018-10-22   -0.000452\n",
       "2019-04-19    0.000826\n",
       "dtype: float64"
      ]
     },
     "execution_count": 42,
     "metadata": {},
     "output_type": "execute_result"
    }
   ],
   "source": [
    "X_new = sm.add_constant(X_test)\n",
    "y_pred = results.predict(X_new)\n",
    "y_pred.head()"
   ]
  },
  {
   "cell_type": "markdown",
   "metadata": {},
   "source": [
    "* Avaliando o modelo"
   ]
  },
  {
   "cell_type": "markdown",
   "metadata": {},
   "source": [
    "<span style=\"color:red\">Código que faz blablabla (Completa ae tintim) </span>"
   ]
  },
  {
   "cell_type": "code",
   "execution_count": 43,
   "metadata": {},
   "outputs": [
    {
     "name": "stdout",
     "output_type": "stream",
     "text": [
      "0.011198907253312684  -  0.003732969084437561\n",
      "-0.004121532590491916\n",
      "0.06907901456463598  -  0.023026338188211995\n",
      "0.0031648940005789463\n",
      "0.07232506055270287  -  0.024108353517567623\n",
      "0.0037396952266373546\n",
      "-0.01865814990229208  -  -0.006219383300764027\n",
      "-0.00045203859716233286\n",
      "-0.004360430708355202  -  -0.0014534769027850674\n",
      "0.0008262333658086121\n",
      "-0.03269777694685523  -  -0.010899258982285078\n",
      "0.001967366974411146\n",
      "0.04885258183841601  -  0.01628419394613867\n",
      "-0.003628503626346663\n",
      "0.024489886971078834  -  0.008163295657026278\n",
      "-0.0004187705141316781\n",
      "0.028037560289719304  -  0.009345853429906435\n",
      "0.0026373543936065356\n",
      "-0.02712782182973371  -  -0.009042607276577902\n",
      "-0.004334658555699904\n",
      "0.0  -  0.0\n",
      "0.0037682643060230918\n",
      "0.004804337197819379  -  0.0016014457326064596\n",
      "0.0025621468221369396\n",
      "0.05059962706338919  -  0.016866542354463065\n",
      "0.0003121804307283189\n",
      "-0.010481204407019006  -  -0.0034937348023396687\n",
      "-0.002131336327607404\n",
      "0.031152639706565722  -  0.010384213235521907\n",
      "0.0038081442057092806\n",
      "0.04242103625776761  -  0.01414034541925587\n",
      "-0.0025805784135725955\n",
      "0.02861970003250147  -  0.009539900010833824\n",
      "0.002199213727985743\n",
      "0.022304857233696164  -  0.007434952411232055\n",
      "0.001047500679757886\n",
      "0.005836581152185274  -  0.0019455270507284248\n",
      "0.0015200058365407519\n",
      "-0.14712892955946882  -  -0.04904297651982294\n",
      "0.003167088759783688\n",
      "0.04891309962849705  -  0.01630436654283235\n",
      "0.005832101501190562\n",
      "-0.055309765467597284  -  -0.018436588489199095\n",
      "-0.0017764229718449764\n",
      "-0.02433061801069758  -  -0.00811020600356586\n",
      "0.0005629784773583729\n",
      "0.06286544214671827  -  0.020955147382239424\n",
      "-0.004108870674516412\n",
      "-0.10107520930926947  -  -0.033691736436423154\n",
      "0.002027704946258311\n",
      "0.011597826073642495  -  0.0038659420245474984\n",
      "0.003666091395827789\n",
      "-0.024211286928485266  -  -0.008070428976161755\n",
      "0.0025265268697258494\n",
      "0.01174944229512443  -  0.003916480765041477\n",
      "0.0020657268576483633\n",
      "-0.041270362802982186  -  -0.013756787600994063\n",
      "0.007039210359440979\n",
      "0.14840173326406114  -  0.049467244421353716\n",
      "0.0033476736981585134\n",
      "0.007425685453160585  -  0.0024752284843868617\n",
      "5.183327335955286e-05\n",
      "-0.0029269559277114786  -  -0.0009756519759038262\n",
      "0.0015785766841759025\n",
      "0.04090893554549988  -  0.013636311848499961\n",
      "-0.002484944132736549\n",
      "-0.06985478964131712  -  -0.02328492988043904\n",
      "-0.006155302267791399\n",
      "-0.08141951075246837  -  -0.027139836917489456\n",
      "0.0009624926566982895\n",
      "0.04605253634621846  -  0.015350845448739488\n",
      "-0.0025865147142778893\n",
      "0.03248408117958949  -  0.010828027059863162\n",
      "-0.004667255292672078\n",
      "-0.030037360201607296  -  -0.010012453400535765\n",
      "0.0024793071823708537\n",
      "0.05638120070885814  -  0.01879373356961938\n",
      "-0.005476113201147138\n",
      "-0.07037883187262128  -  -0.023459610624207095\n",
      "0.004652898293659067\n",
      "-0.020418735783804806  -  -0.006806245261268269\n",
      "0.0010730060121924105\n",
      "-0.01208094613577464  -  -0.004026982045258213\n",
      "-0.0007153266002836109\n",
      "-0.07782312888626257  -  -0.02594104296208752\n",
      "-0.0033263485460584496\n",
      "0.0011682747460429654  -  0.0003894249153476551\n",
      "0.0012455524342614235\n",
      "0.0066055677759194326  -  0.0022018559253064777\n",
      "0.0010092382178948582\n",
      "-0.006122446449677223  -  -0.0020408154832257407\n",
      "0.00047503219200523687\n",
      "-0.021237837613773087  -  -0.007079279204591029\n",
      "-0.002957581334139725\n",
      "-0.024193740709237917  -  -0.00806458023641264\n",
      "-0.0006409957353938469\n",
      "0.037383084016150384  -  0.01246102800538346\n",
      "-0.006405112316177435\n",
      "0.031440457645932465  -  0.010480152548644156\n",
      "0.00018778285576877835\n",
      "0.02827032636436342  -  0.009423442121454474\n",
      "-0.004921728128976791\n",
      "0.0  -  0.0\n",
      "0.005079001282034323\n",
      "0.018888788483379725  -  0.0062962628277932415\n",
      "-0.005409458489952657\n",
      "0.030423293590279198  -  0.0101410978634264\n",
      "-0.000312171453237038\n",
      "0.10950417190546047  -  0.03650139063515349\n",
      "0.0007306256446139699\n",
      "-0.16633941355620752  -  -0.05544647118540251\n",
      "-0.0003386096713252816\n",
      "-0.038860111671317546  -  -0.012953370557105848\n",
      "0.0017482311326447128\n",
      "-0.005965347071583539  -  -0.0019884490238611797\n",
      "0.004376764259780219\n",
      "-0.01620354921034  -  -0.005401183070113334\n",
      "0.0025190728607242113\n",
      "0.04999975997196473  -  0.016666586657321576\n",
      "0.0013867061939807428\n",
      "0.0  -  0.0\n",
      "0.0006159966426958428\n",
      "-0.10567830105179235  -  -0.03522610035059745\n",
      "-0.0008057194373595265\n",
      "-0.0488800144888944  -  -0.0162933381629648\n",
      "-0.0004315878966487229\n",
      "-0.008386102332303497  -  -0.0027953674441011656\n",
      "0.0016823831604086317\n",
      "0.06102366638251597  -  0.02034122212750532\n",
      "-0.0007408145926070911\n",
      "0.0821054878401272  -  0.027368495946709065\n",
      "-0.0014802579012604732\n",
      "-0.020258683854541288  -  -0.006752894618180429\n",
      "-0.001850533470958742\n",
      "-0.007884391266650692  -  -0.002628130422216897\n",
      "0.0003883722947128383\n",
      "0.10909089038742567  -  0.03636363012914189\n",
      "-0.002954413999585364\n",
      "0.001073662452227808  -  0.00035788748407593595\n",
      "-3.094242881710657e-05\n",
      "0.003550262134218249  -  0.001183420711406083\n",
      "0.0039091981889496545\n",
      "0.06074233853842971  -  0.02024744617947657\n",
      "-0.002538939565949796\n",
      "-0.02720201725038  -  -0.00906733908346\n",
      "-0.0004447092751626989\n",
      "0.015686227543918258  -  0.005228742514639419\n",
      "0.003760613102825692\n",
      "-0.019181610704245778  -  -0.006393870234748592\n",
      "-0.001529757411650299\n",
      "0.04769317508646831  -  0.01589772502882277\n",
      "0.0004160164652870352\n",
      "0.002391417600428481  -  0.000797139200142827\n",
      "-0.0008945630705211674\n",
      "0.020547958615621514  -  0.006849319538540504\n",
      "-0.002329964035389091\n",
      "0.03733527837357611  -  0.012445092791192035\n",
      "0.0006946387780822234\n",
      "-0.013943384354144073  -  -0.004647794784714691\n",
      "0.0008113804300628667\n",
      "0.022058719775360097  -  0.007352906591786699\n",
      "0.0017946600173321253\n",
      "0.07926800996104572  -  0.026422669987015236\n",
      "0.0033560198392650893\n",
      "-0.008258270821144878  -  -0.0027527569403816257\n",
      "-0.00046746385900124843\n",
      "-0.0060211745034140125  -  -0.0020070581678046707\n",
      "0.0007042698805114579\n",
      "-0.028050771450443716  -  -0.009350257150147905\n",
      "-0.0001229672307860119\n",
      "-0.00913940901649492  -  -0.003046469672164973\n",
      "0.000979181650359414\n",
      "-0.04307529989094876  -  -0.014358433296982918\n",
      "-0.001990202071156703\n",
      "0.032270370118788055  -  0.010756790039596018\n",
      "-0.0009383976703082065\n",
      "-0.004854577986496218  -  -0.001618192662165406\n",
      "-0.0037955722807293925\n",
      "0.010476190252672303  -  0.0034920634175574345\n",
      "-0.0028064126996174854\n",
      "-0.052481640725904846  -  -0.017493880241968282\n",
      "0.0016961023520130412\n",
      "0.04766352689022403  -  0.015887842296741343\n",
      "0.0010568743217053065\n",
      "0.0018938211983159697  -  0.0006312737327719899\n",
      "-7.499461058907565e-05\n",
      "0.037951922208239675  -  0.012650640736079893\n",
      "-0.003368268360195969\n",
      "-0.018518666074233206  -  -0.006172888691411069\n",
      "0.0027190550624281344\n",
      "0.00965251909891058  -  0.0032175063663035268\n",
      "0.005211728786209005\n",
      "-0.040204567826752094  -  -0.013401522608917365\n",
      "-0.003336067480007504\n",
      "-0.005611214923734037  -  -0.0018704049745780125\n",
      "0.0022200359020593113\n",
      "0.0636941579003013  -  0.0212313859667671\n",
      "0.00812219000469065\n",
      "0.07134029244117614  -  0.023780097480392046\n",
      "0.006997131609008903\n",
      "-0.0040275491434645545  -  -0.0013425163811548516\n",
      "-0.00022008434429248542\n",
      "0.010663507896188099  -  0.0035545026320626992\n",
      "-0.0008058584487810117\n",
      "0.018867942073960572  -  0.006289314024653524\n",
      "-0.00041825549096663706\n",
      "0.029869633248185163  -  0.009956544416061721\n",
      "0.004490495553837514\n",
      "-0.04557989712715463  -  -0.015193299042384876\n",
      "0.00898013318791923\n",
      "-0.01575345431909599  -  -0.005251151439698663\n",
      "0.0015336166648154135\n",
      "-0.003065527195065418  -  -0.0010218423983551393\n",
      "-0.0012384665181837918\n",
      "-0.06741545433962386  -  -0.02247181811320795\n",
      "0.002545826789241867\n",
      "-0.09429408477013072  -  -0.031431361590043574\n",
      "0.0028097427271271277\n",
      "0.13399081711728544  -  0.04466360570576181\n",
      "0.008416961892113124\n",
      "-0.031365306462851766  -  -0.010455102154283923\n",
      "-0.005652510940602911\n",
      "0.021876820130017568  -  0.007292273376672522\n",
      "0.0008235178038138213\n",
      "0.0632184573152128  -  0.021072819105070938\n",
      "-0.0027876508830682835\n",
      "0.08855403979931095  -  0.029518013266436986\n",
      "-0.015426989478055438\n",
      "0.009468993687337637  -  0.0031563312291125454\n",
      "0.0003560067088192561\n",
      "-0.0022814673962672435  -  -0.0007604891320890811\n",
      "0.0016921598516472472\n",
      "-0.03663224378640051  -  -0.01221074792880017\n",
      "-0.0008497701235787606\n",
      "0.003850385038503866  -  0.0012834616795012886\n",
      "-0.00037541607242206216\n",
      "0.050151853841520246  -  0.016717284613840082\n",
      "0.0020456213505256208\n",
      "0.07484234695473668  -  0.024947448984912225\n",
      "-0.007481082742391639\n",
      "0.0241426906104873  -  0.008047563536829101\n",
      "0.0022712370213897634\n",
      "-0.02886146395031182  -  -0.009620487983437273\n",
      "0.0019160638332179284\n",
      "-0.010400026856512751  -  -0.003466675618837584\n",
      "0.0005283732872313681\n",
      "0.017509620173680893  -  0.005836540057893631\n",
      "0.0010724806311374806\n",
      "0.0023943577209376383  -  0.0007981192403125461\n",
      "-0.00022588919156346459\n",
      "0.13710764136905557  -  0.04570254712301852\n",
      "0.003551336633778877\n",
      "-0.04633868355304108  -  -0.015446227851013692\n",
      "-0.001203188041451081\n",
      "0.02062868064991572  -  0.00687622688330524\n",
      "0.0039039507064750037\n",
      "0.04078217480859777  -  0.01359405826953259\n",
      "0.002356078772884676\n",
      "0.0  -  0.0\n",
      "-0.002266588584269345\n",
      "0.08970490842717091  -  0.029901636142390303\n",
      "-0.0020839634939687026\n",
      "0.01728230900095824  -  0.00576076966698608\n",
      "-0.002243285203169773\n",
      "0.0027512289068231666  -  0.0009170763022743889\n",
      "0.0017290567545688543\n",
      "0.056493268825689086  -  0.01883108960856303\n",
      "0.003459919604662054\n",
      "-0.0059962608594761255  -  -0.0019987536198253753\n",
      "-0.003467175234755273\n",
      "0.0395963854013906  -  0.013198795133796865\n",
      "-0.0014061789948160246\n",
      "0.028867578632913816  -  0.009622526210971273\n",
      "0.008183237800899534\n",
      "0.02106076300872894  -  0.007020254336242981\n",
      "-0.0003308430727742625\n",
      "0.006008058404041267  -  0.0020026861346804222\n",
      "0.001976547128547294\n",
      "0.0  -  0.0\n",
      "-0.0022307947346769433\n",
      "0.010980101932263583  -  0.0036600339774211944\n",
      "0.00022503494509551513\n",
      "0.014106446465517054  -  0.004702148821839018\n",
      "0.0013754636807277864\n",
      "0.01633315068633442  -  0.005444383562111473\n",
      "0.0018942692815458054\n",
      "-0.007972462023211833  -  -0.002657487341070611\n",
      "0.001437039062484382\n",
      "0.1652753653663349  -  0.05509178845544496\n",
      "-0.0019369151784246078\n",
      "-0.01995553875309861  -  -0.00665184625103287\n",
      "-0.001086773018779377\n",
      "-0.023533805356328534  -  -0.007844601785442844\n",
      "-0.0016411384012742602\n",
      "0.07810994457745836  -  0.02603664819248612\n",
      "0.002494291238723641\n",
      "-0.0009374415212929359  -  -0.0003124805070976453\n",
      "0.0003090432540176993\n",
      "0.015894097263507413  -  0.005298032421169137\n",
      "-0.0008314938691987724\n",
      "-0.02753583713434233  -  -0.00917861237811411\n",
      "0.0020474583966855514\n",
      "0.009846559371927906  -  0.0032821864573093023\n",
      "-0.00014831875055647256\n",
      "-0.08646593704154412  -  -0.028821979013848042\n",
      "-0.003252000399919879\n",
      "0.026119349559364183  -  0.008706449853121394\n",
      "-0.0022016896451369783\n",
      "0.09607844138832876  -  0.03202614712944292\n",
      "0.00016471709685998817\n",
      "0.0004982475401111414  -  0.00016608251337038045\n",
      "0.001723492481876776\n",
      "0.008900465737496886  -  0.002966821912498962\n",
      "9.938976729590732e-05\n",
      "-0.05936202907452329  -  -0.019787343024841097\n",
      "0.0035693016020260904\n",
      "0.058153828635945516  -  0.019384609545315172\n",
      "0.000167399572217095\n",
      "0.025594938423313514  -  0.008531646141104505\n",
      "-0.0009097343309098368\n",
      "0.020430104885559908  -  0.006810034961853303\n",
      "-0.005775595514764416\n",
      "-0.05689007037039756  -  -0.01896335679013252\n",
      "-0.00035532718742309414\n",
      "0.027090306602862164  -  0.009030102200954055\n",
      "0.0018592857080684882\n",
      "0.14069575356952893  -  0.04689858452317631\n",
      "0.00013502392979451732\n",
      "-0.001044392855869018  -  -0.0003481309519563393\n",
      "-0.0002557604778947503\n",
      "-0.010328416318448014  -  -0.0034428054394826718\n",
      "0.0013367325127436025\n",
      "0.013899727634300349  -  0.004633242544766783\n",
      "-0.0008162497482086253\n",
      "-0.026905691021230277  -  -0.008968563673743426\n",
      "0.0027827132229207695\n",
      "0.03886640766702796  -  0.012955469222342654\n",
      "0.0015905879263301188\n",
      "0.004892476233261661  -  0.0016308254110872203\n",
      "0.0010992982440768773\n",
      "0.06356532516200135  -  0.021188441720667115\n",
      "-0.0010645557312432279\n",
      "-0.0515971400594724  -  -0.0171990466864908\n",
      "-0.00023512619071379724\n",
      "0.01907911419207127  -  0.006359704730690423\n",
      "0.0008526214638442342\n",
      "-0.014500537056928012  -  -0.004833512352309337\n",
      "-0.001386149370065678\n",
      "0.017634490319262085  -  0.005878163439754029\n",
      "-0.0011879348950106393\n",
      "-0.00812511650818716  -  -0.0027083721693957202\n",
      "0.0007697857980213871\n",
      "0.029792802820123164  -  0.009930934273374388\n",
      "-0.0010093278809070777\n",
      "0.03633418546357941  -  0.01211139515452647\n",
      "0.0011232669716798682\n",
      "-0.007658927515588802  -  -0.0025529758385296007\n",
      "0.004537577787233816\n",
      "-0.05166881156566083  -  -0.01722293718855361\n",
      "0.0037276042504642806\n",
      "0.053313525887125277  -  0.017771175295708427\n",
      "0.0006178219784261692\n",
      "0.009777580156440625  -  0.0032591933854802086\n",
      "-0.0035953377626086317\n",
      "-0.01712077384534412  -  -0.005706924615114707\n",
      "0.0017765251746199818\n",
      "0.0203525846790188  -  0.0067841948930062665\n",
      "-0.0035590329256928823\n",
      "0.008846624730865041  -  0.002948874910288347\n",
      "-0.0017160999761571115\n",
      "-0.03846173843756125  -  -0.012820579479187084\n",
      "0.003884302932924826\n",
      "0.04016286921283772  -  0.013387623070945905\n",
      "-0.004461983965390915\n",
      "0.008724076036275275  -  0.0029080253454250916\n",
      "-0.00036824084310549686\n",
      "-0.019547255166092653  -  -0.006515751722030884\n",
      "-0.0019894081956265902\n",
      "0.059040513829370915  -  0.01968017127645697\n",
      "0.0008512929656558625\n",
      "-0.052808002139158705  -  -0.017602667379719567\n",
      "-0.0006275756564182418\n",
      "0.04576663315697166  -  0.01525554438565722\n",
      "5.280171147714921e-05\n",
      "0.014942811522023619  -  0.004980937174007873\n",
      "-0.0009985984535876352\n",
      "0.005368652458367397  -  0.001789550819455799\n",
      "0.0024528328242221045\n",
      "-0.04047859059366178  -  -0.013492863531220593\n",
      "-0.0021606813453369416\n",
      "0.0009302663219024352  -  0.0003100887739674784\n",
      "-0.001194009084565767\n",
      "-0.03451877668203139  -  -0.011506258894010463\n",
      "0.0006850841776298127\n",
      "0.025445589618350514  -  0.008481863206116838\n",
      "0.0021711412290436193\n",
      "0.01162783542490468  -  0.0038759451416348935\n",
      "0.0019271249583860557\n",
      "0.004673000511676869  -  0.0015576668372256231\n",
      "-0.0005056149784511603\n",
      "0.0037034723900031406  -  0.0012344907966677135\n",
      "0.0004076318814638944\n",
      "-0.022611636818349573  -  -0.007537212272783191\n",
      "-0.00042002444821524917\n",
      "0.04730411893474436  -  0.015768039644914786\n",
      "0.006540839737365262\n",
      "0.023665235372330576  -  0.007888411790776859\n",
      "0.0054540903777604505\n",
      "0.044215225968775244  -  0.014738408656258415\n",
      "0.001953244689782655\n",
      "-0.04332156804343201  -  -0.014440522681144005\n",
      "0.000467258881504789\n",
      "-0.07244767987338585  -  -0.02414922662446195\n",
      "-0.003423896045870497\n",
      "0.006286811055460145  -  0.0020956036851533816\n",
      "0.0044918639502959205\n",
      "-0.04087797193605893  -  -0.013625990645352977\n",
      "0.000136244897068813\n",
      "0.02322735261141319  -  0.007742450870471064\n",
      "-0.0006049459135222109\n",
      "-0.01946565264302049  -  -0.00648855088100683\n",
      "0.0010802739308399536\n",
      "-0.007176965491922902  -  -0.0023923218306409672\n",
      "0.0004656103401123787\n",
      "0.04533248096353638  -  0.015110826987845459\n",
      "0.0011868844100118843\n",
      "-0.009948495888006323  -  -0.0033161652960021076\n",
      "-0.0005140899356995379\n",
      "-0.02310413952842329  -  -0.007701379842807763\n",
      "0.00692799599584054\n",
      "0.0  -  0.0\n",
      "0.0005772190264758495\n",
      "0.0012214221027346582  -  0.00040714070091155276\n",
      "0.0045025833889999764\n",
      "0.08346047196640428  -  0.02782015732213476\n",
      "0.002959328058671398\n",
      "-0.0583619159475777  -  -0.019453971982525898\n",
      "-0.00014102187955027093\n",
      "0.014308403331318163  -  0.004769467777106054\n",
      "0.0012273609025154322\n",
      "-0.05060106434272715  -  -0.01686702144757572\n",
      "-0.0011187145204435954\n",
      "0.010142711539079549  -  0.0033809038463598496\n",
      "0.0007211011627838816\n",
      "0.00916504370436767  -  0.003055014568122557\n",
      "0.0008427647662425425\n",
      "0.03867187500000001  -  0.012890625000000003\n",
      "0.0003292738734976802\n",
      "0.015535791822461446  -  0.005178597274153815\n",
      "0.0027279222079240662\n",
      "-0.019769480240136653  -  -0.006589826746712218\n",
      "-0.004220695528612608\n",
      "0.022889289943712157  -  0.007629763314570719\n",
      "0.0029178284032939307\n",
      "0.018194215532713578  -  0.006064738510904526\n",
      "-0.0034361649315780445\n",
      "0.0038627833361724617  -  0.0012875944453908206\n",
      "0.0040292138122202635\n",
      "0.056673168026369354  -  0.018891056008789785\n",
      "0.0021445341310933194\n",
      "-0.006165902097769273  -  -0.0020553006992564244\n",
      "0.0004781557816084656\n",
      "-0.017340874257707174  -  -0.005780291419235725\n",
      "0.002808637772377469\n",
      "0.08996893555539359  -  0.029989645185131197\n",
      "0.000529460388922197\n",
      "0.040816478285131394  -  0.013605492761710464\n",
      "-0.0009215814611390219\n",
      "-0.022531550588724858  -  -0.0075105168629082866\n",
      "-0.0017420542770606436\n",
      "0.01704553081425105  -  0.005681843604750351\n",
      "0.0043328213361926\n",
      "-0.014778466662163958  -  -0.004926155554054653\n",
      "0.0013482230937562154\n",
      "-0.03950717715198807  -  -0.013169059050662691\n",
      "0.0011120662473657244\n",
      "-0.07886094919769121  -  -0.02628698306589707\n",
      "-0.001188829663569081\n",
      "0.0060461815984130425  -  0.002015393866137681\n",
      "0.002865430744965862\n",
      "-0.0299055273713299  -  -0.009968509123776633\n",
      "0.007466050936101576\n",
      "0.012475534520352605  -  0.0041585115067842016\n",
      "-7.0818738599007645e-06\n",
      "-0.05228769959787945  -  -0.01742923319929315\n",
      "-0.0005763440730560196\n",
      "-0.09793229639398754  -  -0.032644098797995846\n",
      "-0.007391499735944668\n",
      "0.0032928787497448196  -  0.0010976262499149399\n",
      "0.0017416771943384202\n",
      "0.012686563399872269  -  0.00422885446662409\n",
      "-3.5443143177667557e-05\n",
      "0.01815930940624741  -  0.006053103135415803\n",
      "-0.00011973068026160142\n",
      "-0.0040196836101738555  -  -0.0013398945367246186\n",
      "-0.0021365941550298326\n",
      "-0.052160256550079886  -  -0.01738675218335996\n",
      "0.004479097185704565\n",
      "0.0019256287170643916  -  0.0006418762390214639\n",
      "0.0005222670740837862\n",
      "0.011115916507973956  -  0.0037053055026579854\n",
      "0.0010006627406420328\n",
      "-0.008015061874148514  -  -0.0026716872913828383\n",
      "-0.002923813278357917\n",
      "-0.014739029726643562  -  -0.004913009908881188\n",
      "-0.0005834906526611226\n",
      "-0.043062043799308974  -  -0.014354014599769658\n",
      "-0.006216097693454361\n",
      "-0.026229604698191113  -  -0.008743201566063704\n",
      "-1.3328199554098122e-05\n",
      "-0.01890360954607731  -  -0.00630120318202577\n",
      "0.0006940000140852266\n",
      "0.013595562928778893  -  0.004531854309592964\n",
      "0.003494388660207176\n",
      "-0.04026828369317143  -  -0.013422761231057144\n",
      "-0.002479979802396164\n",
      "0.0021200088938269253  -  0.0007066696312756418\n",
      "0.001767407916255148\n",
      "-0.013012679976152325  -  -0.004337559992050775\n",
      "0.0004094846906950649\n"
     ]
    }
   ],
   "source": [
    "lista_pred = []\n",
    "lista_Y_valor = []\n",
    "acertos = 0\n",
    "\n",
    "\n",
    "for e in y_pred:\n",
    "    lista_pred.append(e)\n",
    "    \n",
    "for e in Y_test:\n",
    "    lista_Y_valor.append(e)\n",
    "    \n",
    "i = 0\n",
    "while i < len(lista_pred):\n",
    "    a = lista_Y_valor[i]*1.5\n",
    "    b = lista_Y_valor[i]*0.5\n",
    "    print(a, \" - \",b)\n",
    "    print(lista_pred[i])\n",
    "    if lista_pred[i] < a and lista_pred[i] > b:\n",
    "        acertos += 1\n",
    "    i += 1\n",
    "        \n",
    "acc = acertos/len(lista_Y_valor);"
   ]
  },
  {
   "cell_type": "markdown",
   "metadata": {},
   "source": [
    "Acertos Totais"
   ]
  },
  {
   "cell_type": "code",
   "execution_count": 44,
   "metadata": {},
   "outputs": [
    {
     "name": "stdout",
     "output_type": "stream",
     "text": [
      "Os acertos totais foram 8 de 260\n"
     ]
    }
   ],
   "source": [
    "print(f'Os acertos totais foram {acertos} de {len(lista_Y_valor)}')"
   ]
  },
  {
   "cell_type": "markdown",
   "metadata": {},
   "source": [
    "Acerto em %"
   ]
  },
  {
   "cell_type": "code",
   "execution_count": 45,
   "metadata": {},
   "outputs": [
    {
     "name": "stdout",
     "output_type": "stream",
     "text": [
      "O acerto em % foi de 0.03076923076923077%\n"
     ]
    }
   ],
   "source": [
    "print(f'O acerto em % foi de {acc}%')"
   ]
  },
  {
   "cell_type": "markdown",
   "metadata": {},
   "source": [
    "### Conclusão da regressão linear"
   ]
  },
  {
   "cell_type": "markdown",
   "metadata": {},
   "source": [
    "Como podemos observar pelos resultados acima, o acerto de 0,03% não é satisfatótio, sendo necessários fazer mais iterações no código ou até mudar nosso modelo."
   ]
  },
  {
   "cell_type": "markdown",
   "metadata": {},
   "source": [
    "# Preparando os dados para a utilização de modelos do Scikit Learn:"
   ]
  },
  {
   "cell_type": "code",
   "execution_count": 29,
   "metadata": {},
   "outputs": [],
   "source": [
    "X = DADOS_OPT.iloc[:,5:9]\n",
    "y = DADOS_OPT['CALC_PETR4']"
   ]
  },
  {
   "cell_type": "markdown",
   "metadata": {},
   "source": [
    "Separando os dados em treinamento e teste, de forma aleatória:"
   ]
  },
  {
   "cell_type": "code",
   "execution_count": 32,
   "metadata": {},
   "outputs": [],
   "source": [
    "X_train, X_test, y_train, y_test = train_test_split(X, y, test_size = 0.20, random_state = 42)\n",
    "scaler = StandardScaler()\n",
    "scaler.fit(X_train)\n",
    "X_train = scaler.transform(X_train)\n",
    "X_test = scaler.transform(X_test)"
   ]
  },
  {
   "cell_type": "markdown",
   "metadata": {},
   "source": [
    "Iniciando o Random Forest:"
   ]
  },
  {
   "cell_type": "code",
   "execution_count": 35,
   "metadata": {},
   "outputs": [],
   "source": [
    "rf = RandomForestRegressor(n_estimators = 1000, random_state = 42)\n",
    "rf.fit(X_train, y_train.values.ravel());"
   ]
  },
  {
   "cell_type": "markdown",
   "metadata": {},
   "source": [
    "Aferindo a quantidade de acertos:"
   ]
  },
  {
   "cell_type": "markdown",
   "metadata": {},
   "source": [
    "Explicando e justificando a métrica: "
   ]
  },
  {
   "cell_type": "code",
   "execution_count": 45,
   "metadata": {},
   "outputs": [
    {
     "name": "stdout",
     "output_type": "stream",
     "text": [
      "O Acerto foi de 31.92%.\n"
     ]
    }
   ],
   "source": [
    "predictionsrf = rf.predict(X_test)\n",
    "b = []\n",
    "\n",
    "for e in predictionsrf:\n",
    "    b.append(e)\n",
    "    \n",
    "e =0\n",
    "i = 0\n",
    "while i < len(b):\n",
    "    if b[i] <= (y_test[i] + 0.01) and b[i] >= (y_test[i] -0.01):\n",
    "        e += 1\n",
    "    i += 1\n",
    "    \n",
    "print (f'O Acerto foi de {round((e/len(y_test))*100, 2)}%.')"
   ]
  },
  {
   "cell_type": "code",
   "execution_count": 50,
   "metadata": {},
   "outputs": [
    {
     "data": {
      "image/png": "[encoded data removed]",
      "text/plain": [
       "<Figure size 432x288 with 1 Axes>"
      ]
     },
     "metadata": {
      "needs_background": "light"
     },
     "output_type": "display_data"
    }
   ],
   "source": [
    "plt.scatter(y_test,b, alpha= 0.5)\n",
    "plt.title('Real VS Previsto')\n",
    "plt.plot()\n",
    "plt.show()"
   ]
  },
  {
   "cell_type": "markdown",
   "metadata": {},
   "source": [
    "Iterrando:"
   ]
  },
  {
   "cell_type": "markdown",
   "metadata": {},
   "source": [
    "Utilizou-se os valores brutos, pois havendo uma suposta maior correlação entre os dados, imaginava-se que o resultado seria de um acerto maior. "
   ]
  },
  {
   "cell_type": "code",
   "execution_count": 46,
   "metadata": {},
   "outputs": [],
   "source": [
    "X2 = DADOS.iloc[:,0:4]\n",
    "y2 = DADOS['Valor_PETR4']"
   ]
  },
  {
   "cell_type": "markdown",
   "metadata": {},
   "source": [
    "Separando os dados em treinamento e teste, de forma aleatória:"
   ]
  },
  {
   "cell_type": "code",
   "execution_count": 48,
   "metadata": {},
   "outputs": [],
   "source": [
    "X_train2, X_test2, y_train2, y_test2 = train_test_split(X2, y2, test_size = 0.20)\n",
    "scaler = StandardScaler()\n",
    "scaler.fit(X_train)\n",
    "X_train2 = scaler.transform(X_train2)\n",
    "X_test2 = scaler.transform(X_test2)"
   ]
  },
  {
   "cell_type": "code",
   "execution_count": null,
   "metadata": {},
   "outputs": [],
   "source": []
  }
 ],
 "metadata": {
  "kernelspec": {
   "display_name": "Python 3",
   "language": "python",
   "name": "python3"
  },
  "language_info": {
   "codemirror_mode": {
    "name": "ipython",
    "version": 3
   },
   "file_extension": ".py",
   "mimetype": "text/x-python",
   "name": "python",
   "nbconvert_exporter": "python",
   "pygments_lexer": "ipython3",
   "version": "3.7.1"
  }
 },
 "nbformat": 4,
 "nbformat_minor": 2
}
