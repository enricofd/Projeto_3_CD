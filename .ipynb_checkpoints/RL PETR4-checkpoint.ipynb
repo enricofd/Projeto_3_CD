{
 "cells": [
  {
   "cell_type": "code",
   "execution_count": 31,
   "metadata": {},
   "outputs": [],
   "source": [
    "import pandas as pd\n",
    "import numpy as np\n",
    "import re\n",
    "import string\n",
    "from IPython.display import display\n",
    "from nltk.stem import PorterStemmer\n",
    "stemmer = PorterStemmer()\n",
    "\n",
    "import statsmodels.api as sm\n",
    "import matplotlib.pyplot as plt"
   ]
  },
  {
   "cell_type": "code",
   "execution_count": 32,
   "metadata": {},
   "outputs": [],
   "source": [
    "PETR4_raw = pd.read_excel (r'PETR4.SA .xltx')\n",
    "\n",
    "GOLD_raw = pd.read_excel (r'Gold Futures Historical Data.xltx') \n",
    "RDS_raw = pd.read_excel (r'RDS-A.xltx') \n",
    "OIL_raw = pd.read_excel (r'Crude Oil WTI Futures Historical Data.xltx')\n",
    "CRD_raw = pd.read_excel (r'USD_BRL Dados Históricos.xltx')"
   ]
  },
  {
   "cell_type": "code",
   "execution_count": 33,
   "metadata": {},
   "outputs": [],
   "source": [
    "from datetime import datetime\n",
    "str_date = '06.11.2019'\n",
    "def padronizaDia(str_date):\n",
    "    date = datetime.strptime(str_date, '%d.%m.%Y').date()\n",
    "    if len(str(date.day))==1:\n",
    "        dia = \"0\" + str(date.day)\n",
    "    else:\n",
    "        dia = str(date.day)\n",
    "        \n",
    "    if len(str(date.month))==1:\n",
    "        mes = \"0\" + str(date.month)\n",
    "    else:\n",
    "        mes = str(date.month)\n",
    "    return \"{0}-{1}-{2}\".format(date.year,mes, dia)"
   ]
  },
  {
   "cell_type": "code",
   "execution_count": 83,
   "metadata": {},
   "outputs": [],
   "source": [
    "PETR4_raw2 = PETR4_raw[['Date', 'Adj Close']]\n",
    "\n",
    "GOLD_raw2 = GOLD_raw[['Date', 'Price']]\n",
    "RDS_raw2 = RDS_raw[['Date', 'Adj Close']]\n",
    "OIL_raw2 = OIL_raw[['Date', 'Price']]\n",
    "CRD_raw2 = CRD_raw[['Data', 'Último']]\n"
   ]
  },
  {
   "cell_type": "code",
   "execution_count": 81,
   "metadata": {},
   "outputs": [
    {
     "name": "stderr",
     "output_type": "stream",
     "text": [
      "C:\\Users\\Tonera\\Anaconda3\\lib\\site-packages\\ipykernel_launcher.py:18: SettingWithCopyWarning: \n",
      "A value is trying to be set on a copy of a slice from a DataFrame.\n",
      "Try using .loc[row_indexer,col_indexer] = value instead\n",
      "\n",
      "See the caveats in the documentation: http://pandas.pydata.org/pandas-docs/stable/indexing.html#indexing-view-versus-copy\n",
      "C:\\Users\\Tonera\\Anaconda3\\lib\\site-packages\\ipykernel_launcher.py:19: SettingWithCopyWarning: \n",
      "A value is trying to be set on a copy of a slice from a DataFrame.\n",
      "Try using .loc[row_indexer,col_indexer] = value instead\n",
      "\n",
      "See the caveats in the documentation: http://pandas.pydata.org/pandas-docs/stable/indexing.html#indexing-view-versus-copy\n"
     ]
    },
    {
     "data": {
      "text/html": [
       "<div>\n",
       "<style scoped>\n",
       "    .dataframe tbody tr th:only-of-type {\n",
       "        vertical-align: middle;\n",
       "    }\n",
       "\n",
       "    .dataframe tbody tr th {\n",
       "        vertical-align: top;\n",
       "    }\n",
       "\n",
       "    .dataframe thead th {\n",
       "        text-align: right;\n",
       "    }\n",
       "</style>\n",
       "<table border=\"1\" class=\"dataframe\">\n",
       "  <thead>\n",
       "    <tr style=\"text-align: right;\">\n",
       "      <th></th>\n",
       "      <th>Date</th>\n",
       "      <th>Valor_PETR4</th>\n",
       "      <th>variacao_PETR4</th>\n",
       "      <th>variacao percentual_PETR4</th>\n",
       "    </tr>\n",
       "  </thead>\n",
       "  <tbody>\n",
       "    <tr>\n",
       "      <th>0</th>\n",
       "      <td>2014-11-05</td>\n",
       "      <td>13.634769</td>\n",
       "      <td>-0.321929</td>\n",
       "      <td>-2.361089</td>\n",
       "    </tr>\n",
       "    <tr>\n",
       "      <th>1</th>\n",
       "      <td>2014-11-06</td>\n",
       "      <td>13.312840</td>\n",
       "      <td>0.198840</td>\n",
       "      <td>1.493596</td>\n",
       "    </tr>\n",
       "    <tr>\n",
       "      <th>2</th>\n",
       "      <td>2014-11-07</td>\n",
       "      <td>13.511680</td>\n",
       "      <td>-0.274591</td>\n",
       "      <td>-2.032249</td>\n",
       "    </tr>\n",
       "    <tr>\n",
       "      <th>3</th>\n",
       "      <td>2014-11-10</td>\n",
       "      <td>13.237089</td>\n",
       "      <td>0.018937</td>\n",
       "      <td>0.143060</td>\n",
       "    </tr>\n",
       "    <tr>\n",
       "      <th>4</th>\n",
       "      <td>2014-11-11</td>\n",
       "      <td>13.256026</td>\n",
       "      <td>0.104155</td>\n",
       "      <td>0.785718</td>\n",
       "    </tr>\n",
       "  </tbody>\n",
       "</table>\n",
       "</div>"
      ],
      "text/plain": [
       "        Date  Valor_PETR4  variacao_PETR4  variacao percentual_PETR4\n",
       "0 2014-11-05    13.634769       -0.321929                  -2.361089\n",
       "1 2014-11-06    13.312840        0.198840                   1.493596\n",
       "2 2014-11-07    13.511680       -0.274591                  -2.032249\n",
       "3 2014-11-10    13.237089        0.018937                   0.143060\n",
       "4 2014-11-11    13.256026        0.104155                   0.785718"
      ]
     },
     "execution_count": 81,
     "metadata": {},
     "output_type": "execute_result"
    }
   ],
   "source": [
    "#Tabela da PTR4\n",
    "lista_TX = []\n",
    "for e in PETR4_raw2['Adj Close']:\n",
    "    lista_TX.append(e)\n",
    "    \n",
    "lista_tx = []\n",
    "lista_p = []\n",
    "i = 0\n",
    "while i < len(lista_TX)-1:\n",
    "    var = lista_TX[i+1] - lista_TX[i]\n",
    "    lista_tx.append(var)\n",
    "    p = var*100/lista_TX[i]\n",
    "    lista_p.append(p)\n",
    "    i+=1\n",
    "lista_tx\n",
    "\n",
    "PETR4_r =PETR4_raw2.iloc[0:1243:1] \n",
    "PETR4_r['variacao_PETR4'] = lista_tx\n",
    "PETR4_r['variacao percentual_PETR4'] = lista_p\n",
    "\n",
    "PETR4 = PETR4_r.rename(columns={\"Adj Close\": \"Valor_PETR4\"})\n",
    "\n",
    "PETR4.head()"
   ]
  },
  {
   "cell_type": "code",
   "execution_count": 90,
   "metadata": {},
   "outputs": [
    {
     "name": "stderr",
     "output_type": "stream",
     "text": [
      "C:\\Users\\Tonera\\Anaconda3\\lib\\site-packages\\ipykernel_launcher.py:16: SettingWithCopyWarning: \n",
      "A value is trying to be set on a copy of a slice from a DataFrame.\n",
      "Try using .loc[row_indexer,col_indexer] = value instead\n",
      "\n",
      "See the caveats in the documentation: http://pandas.pydata.org/pandas-docs/stable/indexing.html#indexing-view-versus-copy\n",
      "  app.launch_new_instance()\n",
      "C:\\Users\\Tonera\\Anaconda3\\lib\\site-packages\\ipykernel_launcher.py:17: SettingWithCopyWarning: \n",
      "A value is trying to be set on a copy of a slice from a DataFrame.\n",
      "Try using .loc[row_indexer,col_indexer] = value instead\n",
      "\n",
      "See the caveats in the documentation: http://pandas.pydata.org/pandas-docs/stable/indexing.html#indexing-view-versus-copy\n"
     ]
    },
    {
     "data": {
      "text/html": [
       "<div>\n",
       "<style scoped>\n",
       "    .dataframe tbody tr th:only-of-type {\n",
       "        vertical-align: middle;\n",
       "    }\n",
       "\n",
       "    .dataframe tbody tr th {\n",
       "        vertical-align: top;\n",
       "    }\n",
       "\n",
       "    .dataframe thead th {\n",
       "        text-align: right;\n",
       "    }\n",
       "</style>\n",
       "<table border=\"1\" class=\"dataframe\">\n",
       "  <thead>\n",
       "    <tr style=\"text-align: right;\">\n",
       "      <th></th>\n",
       "      <th>Date</th>\n",
       "      <th>Valor_OURO</th>\n",
       "      <th>variacao_OURO</th>\n",
       "      <th>variacao percentual_OURO</th>\n",
       "    </tr>\n",
       "  </thead>\n",
       "  <tbody>\n",
       "    <tr>\n",
       "      <th>0</th>\n",
       "      <td>2019-11-07</td>\n",
       "      <td>1485.45</td>\n",
       "      <td>7.65</td>\n",
       "      <td>0.514995</td>\n",
       "    </tr>\n",
       "    <tr>\n",
       "      <th>1</th>\n",
       "      <td>2019-11-06</td>\n",
       "      <td>1493.10</td>\n",
       "      <td>-9.40</td>\n",
       "      <td>-0.629563</td>\n",
       "    </tr>\n",
       "    <tr>\n",
       "      <th>2</th>\n",
       "      <td>2019-11-05</td>\n",
       "      <td>1483.70</td>\n",
       "      <td>27.40</td>\n",
       "      <td>1.846735</td>\n",
       "    </tr>\n",
       "    <tr>\n",
       "      <th>3</th>\n",
       "      <td>2019-11-04</td>\n",
       "      <td>1511.10</td>\n",
       "      <td>0.30</td>\n",
       "      <td>0.019853</td>\n",
       "    </tr>\n",
       "    <tr>\n",
       "      <th>4</th>\n",
       "      <td>2019-11-01</td>\n",
       "      <td>1511.40</td>\n",
       "      <td>3.40</td>\n",
       "      <td>0.224957</td>\n",
       "    </tr>\n",
       "  </tbody>\n",
       "</table>\n",
       "</div>"
      ],
      "text/plain": [
       "        Date  Valor_OURO  variacao_OURO  variacao percentual_OURO\n",
       "0 2019-11-07     1485.45           7.65                  0.514995\n",
       "1 2019-11-06     1493.10          -9.40                 -0.629563\n",
       "2 2019-11-05     1483.70          27.40                  1.846735\n",
       "3 2019-11-04     1511.10           0.30                  0.019853\n",
       "4 2019-11-01     1511.40           3.40                  0.224957"
      ]
     },
     "execution_count": 90,
     "metadata": {},
     "output_type": "execute_result"
    }
   ],
   "source": [
    "lista_TX = []\n",
    "for e in GOLD_raw2['Price']:\n",
    "    lista_TX.append(e)\n",
    "    \n",
    "lista_tx = []\n",
    "lista_p = []\n",
    "i = 0\n",
    "while i < len(lista_TX)-1:\n",
    "    var = lista_TX[i+1] - lista_TX[i]\n",
    "    lista_tx.append(var)\n",
    "    p = var*100/lista_TX[i]\n",
    "    lista_p.append(p)\n",
    "    i+=1\n",
    "    \n",
    "GOLD_r =GOLD_raw2.iloc[0:1345:1] \n",
    "GOLD_r['variacao_OURO'] = lista_tx\n",
    "GOLD_r['variacao percentual_OURO'] = lista_p\n",
    "\n",
    "OURO = GOLD_r.rename(columns={\"Price\": \"Valor_OURO\"})\n",
    "\n",
    "OURO.head()"
   ]
  },
  {
   "cell_type": "code",
   "execution_count": 92,
   "metadata": {},
   "outputs": [
    {
     "data": {
      "text/plain": [
       "<matplotlib.collections.PathCollection at 0x22668c4bef0>"
      ]
     },
     "execution_count": 92,
     "metadata": {},
     "output_type": "execute_result"
    },
    {
     "data": {
      "image/png": "[encoded data removed]",
      "text/plain": [
       "<Figure size 432x288 with 1 Axes>"
      ]
     },
     "metadata": {
      "needs_background": "light"
     },
     "output_type": "display_data"
    }
   ],
   "source": [
    "x = OURO['variacao percentual_OURO'].iloc[0:1200:1]\n",
    "y = PETR4['variacao percentual_PETR4'].iloc[0:1200:1]\n",
    "plt.scatter(x,y)"
   ]
  },
  {
   "cell_type": "code",
   "execution_count": 96,
   "metadata": {},
   "outputs": [
    {
     "name": "stderr",
     "output_type": "stream",
     "text": [
      "C:\\Users\\Tonera\\Anaconda3\\lib\\site-packages\\ipykernel_launcher.py:16: SettingWithCopyWarning: \n",
      "A value is trying to be set on a copy of a slice from a DataFrame.\n",
      "Try using .loc[row_indexer,col_indexer] = value instead\n",
      "\n",
      "See the caveats in the documentation: http://pandas.pydata.org/pandas-docs/stable/indexing.html#indexing-view-versus-copy\n",
      "  app.launch_new_instance()\n",
      "C:\\Users\\Tonera\\Anaconda3\\lib\\site-packages\\ipykernel_launcher.py:17: SettingWithCopyWarning: \n",
      "A value is trying to be set on a copy of a slice from a DataFrame.\n",
      "Try using .loc[row_indexer,col_indexer] = value instead\n",
      "\n",
      "See the caveats in the documentation: http://pandas.pydata.org/pandas-docs/stable/indexing.html#indexing-view-versus-copy\n"
     ]
    },
    {
     "data": {
      "text/html": [
       "<div>\n",
       "<style scoped>\n",
       "    .dataframe tbody tr th:only-of-type {\n",
       "        vertical-align: middle;\n",
       "    }\n",
       "\n",
       "    .dataframe tbody tr th {\n",
       "        vertical-align: top;\n",
       "    }\n",
       "\n",
       "    .dataframe thead th {\n",
       "        text-align: right;\n",
       "    }\n",
       "</style>\n",
       "<table border=\"1\" class=\"dataframe\">\n",
       "  <thead>\n",
       "    <tr style=\"text-align: right;\">\n",
       "      <th></th>\n",
       "      <th>Date</th>\n",
       "      <th>Valor_RDS</th>\n",
       "      <th>variacao_RDS</th>\n",
       "      <th>variacao percentual_RDS</th>\n",
       "    </tr>\n",
       "  </thead>\n",
       "  <tbody>\n",
       "    <tr>\n",
       "      <th>0</th>\n",
       "      <td>2014-11-07</td>\n",
       "      <td>51.391106</td>\n",
       "      <td>-0.209904</td>\n",
       "      <td>-0.408444</td>\n",
       "    </tr>\n",
       "    <tr>\n",
       "      <th>1</th>\n",
       "      <td>2014-11-10</td>\n",
       "      <td>51.181202</td>\n",
       "      <td>0.296768</td>\n",
       "      <td>0.579838</td>\n",
       "    </tr>\n",
       "    <tr>\n",
       "      <th>2</th>\n",
       "      <td>2014-11-11</td>\n",
       "      <td>51.477970</td>\n",
       "      <td>-0.946236</td>\n",
       "      <td>-1.838138</td>\n",
       "    </tr>\n",
       "    <tr>\n",
       "      <th>3</th>\n",
       "      <td>2014-11-12</td>\n",
       "      <td>50.531734</td>\n",
       "      <td>-0.352081</td>\n",
       "      <td>-0.696752</td>\n",
       "    </tr>\n",
       "    <tr>\n",
       "      <th>4</th>\n",
       "      <td>2014-11-13</td>\n",
       "      <td>50.179653</td>\n",
       "      <td>0.711506</td>\n",
       "      <td>1.417917</td>\n",
       "    </tr>\n",
       "  </tbody>\n",
       "</table>\n",
       "</div>"
      ],
      "text/plain": [
       "        Date  Valor_RDS  variacao_RDS  variacao percentual_RDS\n",
       "0 2014-11-07  51.391106     -0.209904                -0.408444\n",
       "1 2014-11-10  51.181202      0.296768                 0.579838\n",
       "2 2014-11-11  51.477970     -0.946236                -1.838138\n",
       "3 2014-11-12  50.531734     -0.352081                -0.696752\n",
       "4 2014-11-13  50.179653      0.711506                 1.417917"
      ]
     },
     "execution_count": 96,
     "metadata": {},
     "output_type": "execute_result"
    }
   ],
   "source": [
    "lista_TX = []\n",
    "for e in RDS_raw2['Adj Close']:\n",
    "    lista_TX.append(e)\n",
    "    \n",
    "lista_tx = []\n",
    "lista_p = []\n",
    "i = 0\n",
    "while i < len(lista_TX)-1:\n",
    "    var = lista_TX[i+1] - lista_TX[i]\n",
    "    lista_tx.append(var)\n",
    "    p = var*100/lista_TX[i]\n",
    "    lista_p.append(p)\n",
    "    i+=1\n",
    "\n",
    "RDS_r =RDS_raw2.iloc[0:1257:1] \n",
    "RDS_r['variacao_RDS'] = lista_tx\n",
    "RDS_r['variacao percentual_RDS'] = lista_p\n",
    "\n",
    "RDS = RDS_r.rename(columns={\"Adj Close\": \"Valor_RDS\"})\n",
    "\n",
    "RDS.head()"
   ]
  },
  {
   "cell_type": "code",
   "execution_count": 98,
   "metadata": {},
   "outputs": [
    {
     "name": "stderr",
     "output_type": "stream",
     "text": [
      "C:\\Users\\Tonera\\Anaconda3\\lib\\site-packages\\ipykernel_launcher.py:16: SettingWithCopyWarning: \n",
      "A value is trying to be set on a copy of a slice from a DataFrame.\n",
      "Try using .loc[row_indexer,col_indexer] = value instead\n",
      "\n",
      "See the caveats in the documentation: http://pandas.pydata.org/pandas-docs/stable/indexing.html#indexing-view-versus-copy\n",
      "  app.launch_new_instance()\n",
      "C:\\Users\\Tonera\\Anaconda3\\lib\\site-packages\\ipykernel_launcher.py:17: SettingWithCopyWarning: \n",
      "A value is trying to be set on a copy of a slice from a DataFrame.\n",
      "Try using .loc[row_indexer,col_indexer] = value instead\n",
      "\n",
      "See the caveats in the documentation: http://pandas.pydata.org/pandas-docs/stable/indexing.html#indexing-view-versus-copy\n"
     ]
    },
    {
     "data": {
      "text/html": [
       "<div>\n",
       "<style scoped>\n",
       "    .dataframe tbody tr th:only-of-type {\n",
       "        vertical-align: middle;\n",
       "    }\n",
       "\n",
       "    .dataframe tbody tr th {\n",
       "        vertical-align: top;\n",
       "    }\n",
       "\n",
       "    .dataframe thead th {\n",
       "        text-align: right;\n",
       "    }\n",
       "</style>\n",
       "<table border=\"1\" class=\"dataframe\">\n",
       "  <thead>\n",
       "    <tr style=\"text-align: right;\">\n",
       "      <th></th>\n",
       "      <th>Date</th>\n",
       "      <th>Valor_OIL</th>\n",
       "      <th>variacao_OIL</th>\n",
       "      <th>variacao percentual_OIL</th>\n",
       "    </tr>\n",
       "  </thead>\n",
       "  <tbody>\n",
       "    <tr>\n",
       "      <th>0</th>\n",
       "      <td>2019-11-07</td>\n",
       "      <td>57.11</td>\n",
       "      <td>-0.76</td>\n",
       "      <td>-1.330765</td>\n",
       "    </tr>\n",
       "    <tr>\n",
       "      <th>1</th>\n",
       "      <td>2019-11-06</td>\n",
       "      <td>56.35</td>\n",
       "      <td>0.88</td>\n",
       "      <td>1.561668</td>\n",
       "    </tr>\n",
       "    <tr>\n",
       "      <th>2</th>\n",
       "      <td>2019-11-05</td>\n",
       "      <td>57.23</td>\n",
       "      <td>-0.69</td>\n",
       "      <td>-1.205661</td>\n",
       "    </tr>\n",
       "    <tr>\n",
       "      <th>3</th>\n",
       "      <td>2019-11-04</td>\n",
       "      <td>56.54</td>\n",
       "      <td>-0.34</td>\n",
       "      <td>-0.601344</td>\n",
       "    </tr>\n",
       "    <tr>\n",
       "      <th>4</th>\n",
       "      <td>2019-11-01</td>\n",
       "      <td>56.20</td>\n",
       "      <td>-2.02</td>\n",
       "      <td>-3.594306</td>\n",
       "    </tr>\n",
       "  </tbody>\n",
       "</table>\n",
       "</div>"
      ],
      "text/plain": [
       "        Date  Valor_OIL  variacao_OIL  variacao percentual_OIL\n",
       "0 2019-11-07      57.11         -0.76                -1.330765\n",
       "1 2019-11-06      56.35          0.88                 1.561668\n",
       "2 2019-11-05      57.23         -0.69                -1.205661\n",
       "3 2019-11-04      56.54         -0.34                -0.601344\n",
       "4 2019-11-01      56.20         -2.02                -3.594306"
      ]
     },
     "execution_count": 98,
     "metadata": {},
     "output_type": "execute_result"
    }
   ],
   "source": [
    "lista_TX = []\n",
    "for e in OIL_raw2['Price']:\n",
    "    lista_TX.append(e)\n",
    "    \n",
    "lista_tx = []\n",
    "lista_p = []\n",
    "i = 0\n",
    "while i < len(lista_TX)-1:\n",
    "    var = lista_TX[i+1] - lista_TX[i]\n",
    "    lista_tx.append(var)\n",
    "    p = var*100/lista_TX[i]\n",
    "    lista_p.append(p)\n",
    "    i+=1\n",
    "\n",
    "OIL_r =OIL_raw2.iloc[0:1342:1] \n",
    "OIL_r['variacao_OIL'] = lista_tx\n",
    "OIL_r['variacao percentual_OIL'] = lista_p\n",
    "\n",
    "OIL = OIL_r.rename(columns={\"Price\": \"Valor_OIL\"})\n",
    "\n",
    "OIL.head()"
   ]
  },
  {
   "cell_type": "code",
   "execution_count": 104,
   "metadata": {},
   "outputs": [
    {
     "name": "stderr",
     "output_type": "stream",
     "text": [
      "C:\\Users\\Tonera\\Anaconda3\\lib\\site-packages\\ipykernel_launcher.py:17: SettingWithCopyWarning: \n",
      "A value is trying to be set on a copy of a slice from a DataFrame.\n",
      "Try using .loc[row_indexer,col_indexer] = value instead\n",
      "\n",
      "See the caveats in the documentation: http://pandas.pydata.org/pandas-docs/stable/indexing.html#indexing-view-versus-copy\n",
      "C:\\Users\\Tonera\\Anaconda3\\lib\\site-packages\\ipykernel_launcher.py:18: SettingWithCopyWarning: \n",
      "A value is trying to be set on a copy of a slice from a DataFrame.\n",
      "Try using .loc[row_indexer,col_indexer] = value instead\n",
      "\n",
      "See the caveats in the documentation: http://pandas.pydata.org/pandas-docs/stable/indexing.html#indexing-view-versus-copy\n"
     ]
    },
    {
     "data": {
      "text/html": [
       "<div>\n",
       "<style scoped>\n",
       "    .dataframe tbody tr th:only-of-type {\n",
       "        vertical-align: middle;\n",
       "    }\n",
       "\n",
       "    .dataframe tbody tr th {\n",
       "        vertical-align: top;\n",
       "    }\n",
       "\n",
       "    .dataframe thead th {\n",
       "        text-align: right;\n",
       "    }\n",
       "</style>\n",
       "<table border=\"1\" class=\"dataframe\">\n",
       "  <thead>\n",
       "    <tr style=\"text-align: right;\">\n",
       "      <th></th>\n",
       "      <th>Data</th>\n",
       "      <th>Valor_CRD</th>\n",
       "      <th>variacao_CRD</th>\n",
       "      <th>variacao percentual_CRD</th>\n",
       "    </tr>\n",
       "  </thead>\n",
       "  <tbody>\n",
       "    <tr>\n",
       "      <th>0</th>\n",
       "      <td>06.11.2019</td>\n",
       "      <td>4.0837</td>\n",
       "      <td>-0.0900</td>\n",
       "      <td>-2.203884</td>\n",
       "    </tr>\n",
       "    <tr>\n",
       "      <th>1</th>\n",
       "      <td>05.11.2019</td>\n",
       "      <td>3.9937</td>\n",
       "      <td>0.0219</td>\n",
       "      <td>0.548364</td>\n",
       "    </tr>\n",
       "    <tr>\n",
       "      <th>2</th>\n",
       "      <td>04.11.2019</td>\n",
       "      <td>4.0156</td>\n",
       "      <td>-0.0253</td>\n",
       "      <td>-0.630043</td>\n",
       "    </tr>\n",
       "    <tr>\n",
       "      <th>3</th>\n",
       "      <td>01.11.2019</td>\n",
       "      <td>3.9903</td>\n",
       "      <td>0.0281</td>\n",
       "      <td>0.704208</td>\n",
       "    </tr>\n",
       "    <tr>\n",
       "      <th>4</th>\n",
       "      <td>31.10.2019</td>\n",
       "      <td>4.0184</td>\n",
       "      <td>-0.0275</td>\n",
       "      <td>-0.684352</td>\n",
       "    </tr>\n",
       "  </tbody>\n",
       "</table>\n",
       "</div>"
      ],
      "text/plain": [
       "         Data  Valor_CRD  variacao_CRD  variacao percentual_CRD\n",
       "0  06.11.2019     4.0837       -0.0900                -2.203884\n",
       "1  05.11.2019     3.9937        0.0219                 0.548364\n",
       "2  04.11.2019     4.0156       -0.0253                -0.630043\n",
       "3  01.11.2019     3.9903        0.0281                 0.704208\n",
       "4  31.10.2019     4.0184       -0.0275                -0.684352"
      ]
     },
     "execution_count": 104,
     "metadata": {},
     "output_type": "execute_result"
    }
   ],
   "source": [
    "lista_TX = []\n",
    "for e in CRD_raw2['Último']:\n",
    "    i = e/10000\n",
    "    lista_TX.append(i)\n",
    "    \n",
    "lista_tx = []\n",
    "lista_p = []\n",
    "i = 0\n",
    "while i < len(lista_TX)-1:\n",
    "    var = lista_TX[i+1] - lista_TX[i]\n",
    "    lista_tx.append(var)\n",
    "    p = var*100/lista_TX[i]\n",
    "    lista_p.append(p)\n",
    "    i+=1\n",
    "\n",
    "CRD_r =CRD_raw2.iloc[0:1326:1] \n",
    "CRD_r['variacao_CRD'] = lista_tx\n",
    "CRD_r['variacao percentual_CRD'] = lista_p\n",
    "\n",
    "CRD = CRD_r.rename(columns={\"Último\": \"Valor_CRD\"})\n",
    "\n",
    "CRD['Valor_CRD'] = CRD['Valor_CRD']/10000\n",
    "\n",
    "CRD.head()"
   ]
  },
  {
   "cell_type": "code",
   "execution_count": 36,
   "metadata": {},
   "outputs": [],
   "source": [
    "PETR4.set_index('Date', inplace = True)\n",
    "GOLD.set_index('Date', inplace = True)\n",
    "RDS.set_index('Date', inplace = True)\n",
    "OIL.set_index('Date', inplace = True)\n"
   ]
  },
  {
   "cell_type": "code",
   "execution_count": 37,
   "metadata": {},
   "outputs": [
    {
     "data": {
      "text/html": [
       "<div>\n",
       "<style scoped>\n",
       "    .dataframe tbody tr th:only-of-type {\n",
       "        vertical-align: middle;\n",
       "    }\n",
       "\n",
       "    .dataframe tbody tr th {\n",
       "        vertical-align: top;\n",
       "    }\n",
       "\n",
       "    .dataframe thead th {\n",
       "        text-align: right;\n",
       "    }\n",
       "</style>\n",
       "<table border=\"1\" class=\"dataframe\">\n",
       "  <thead>\n",
       "    <tr style=\"text-align: right;\">\n",
       "      <th></th>\n",
       "      <th>Data</th>\n",
       "      <th>Último</th>\n",
       "    </tr>\n",
       "  </thead>\n",
       "  <tbody>\n",
       "    <tr>\n",
       "      <th>0</th>\n",
       "      <td>06.11.2019</td>\n",
       "      <td>40837</td>\n",
       "    </tr>\n",
       "    <tr>\n",
       "      <th>1</th>\n",
       "      <td>05.11.2019</td>\n",
       "      <td>39937</td>\n",
       "    </tr>\n",
       "    <tr>\n",
       "      <th>2</th>\n",
       "      <td>04.11.2019</td>\n",
       "      <td>40156</td>\n",
       "    </tr>\n",
       "    <tr>\n",
       "      <th>3</th>\n",
       "      <td>01.11.2019</td>\n",
       "      <td>39903</td>\n",
       "    </tr>\n",
       "    <tr>\n",
       "      <th>4</th>\n",
       "      <td>31.10.2019</td>\n",
       "      <td>40184</td>\n",
       "    </tr>\n",
       "  </tbody>\n",
       "</table>\n",
       "</div>"
      ],
      "text/plain": [
       "         Data  Último\n",
       "0  06.11.2019   40837\n",
       "1  05.11.2019   39937\n",
       "2  04.11.2019   40156\n",
       "3  01.11.2019   39903\n",
       "4  31.10.2019   40184"
      ]
     },
     "execution_count": 37,
     "metadata": {},
     "output_type": "execute_result"
    }
   ],
   "source": [
    "CRD.head()"
   ]
  },
  {
   "cell_type": "code",
   "execution_count": 38,
   "metadata": {},
   "outputs": [],
   "source": [
    "from datetime import datetime\n",
    "str_date = '06.11.2019'\n",
    "def padronizaDia(str_date):\n",
    "    date = datetime.strptime(str_date, '%d.%m.%Y').date()\n",
    "    if len(str(date.day))==1:\n",
    "        dia = \"0\" + str(date.day)\n",
    "    else:\n",
    "        dia = str(date.day)\n",
    "    return \"{0}-{1}-{2}\".format(date.year,date.month, dia)\n",
    "    "
   ]
  },
  {
   "cell_type": "code",
   "execution_count": 39,
   "metadata": {},
   "outputs": [
    {
     "data": {
      "text/html": [
       "<div>\n",
       "<style scoped>\n",
       "    .dataframe tbody tr th:only-of-type {\n",
       "        vertical-align: middle;\n",
       "    }\n",
       "\n",
       "    .dataframe tbody tr th {\n",
       "        vertical-align: top;\n",
       "    }\n",
       "\n",
       "    .dataframe thead th {\n",
       "        text-align: right;\n",
       "    }\n",
       "</style>\n",
       "<table border=\"1\" class=\"dataframe\">\n",
       "  <thead>\n",
       "    <tr style=\"text-align: right;\">\n",
       "      <th></th>\n",
       "      <th>Data</th>\n",
       "      <th>Último</th>\n",
       "    </tr>\n",
       "  </thead>\n",
       "  <tbody>\n",
       "    <tr>\n",
       "      <th>0</th>\n",
       "      <td>06.11.2019</td>\n",
       "      <td>40837</td>\n",
       "    </tr>\n",
       "    <tr>\n",
       "      <th>1</th>\n",
       "      <td>05.11.2019</td>\n",
       "      <td>39937</td>\n",
       "    </tr>\n",
       "    <tr>\n",
       "      <th>2</th>\n",
       "      <td>04.11.2019</td>\n",
       "      <td>40156</td>\n",
       "    </tr>\n",
       "    <tr>\n",
       "      <th>3</th>\n",
       "      <td>01.11.2019</td>\n",
       "      <td>39903</td>\n",
       "    </tr>\n",
       "    <tr>\n",
       "      <th>4</th>\n",
       "      <td>31.10.2019</td>\n",
       "      <td>40184</td>\n",
       "    </tr>\n",
       "  </tbody>\n",
       "</table>\n",
       "</div>"
      ],
      "text/plain": [
       "         Data  Último\n",
       "0  06.11.2019   40837\n",
       "1  05.11.2019   39937\n",
       "2  04.11.2019   40156\n",
       "3  01.11.2019   39903\n",
       "4  31.10.2019   40184"
      ]
     },
     "execution_count": 39,
     "metadata": {},
     "output_type": "execute_result"
    }
   ],
   "source": [
    "CRD.head()"
   ]
  },
  {
   "cell_type": "code",
   "execution_count": 40,
   "metadata": {},
   "outputs": [
    {
     "name": "stderr",
     "output_type": "stream",
     "text": [
      "C:\\Users\\Tonera\\Anaconda3\\lib\\site-packages\\ipykernel_launcher.py:1: SettingWithCopyWarning: \n",
      "A value is trying to be set on a copy of a slice from a DataFrame.\n",
      "Try using .loc[row_indexer,col_indexer] = value instead\n",
      "\n",
      "See the caveats in the documentation: http://pandas.pydata.org/pandas-docs/stable/indexing.html#indexing-view-versus-copy\n",
      "  \"\"\"Entry point for launching an IPython kernel.\n"
     ]
    }
   ],
   "source": [
    "CRD['Date'] = CRD.Data.apply(padronizaDia)\n",
    "CRD.set_index('Date', inplace = True)"
   ]
  },
  {
   "cell_type": "code",
   "execution_count": 41,
   "metadata": {},
   "outputs": [
    {
     "data": {
      "text/html": [
       "<div>\n",
       "<style scoped>\n",
       "    .dataframe tbody tr th:only-of-type {\n",
       "        vertical-align: middle;\n",
       "    }\n",
       "\n",
       "    .dataframe tbody tr th {\n",
       "        vertical-align: top;\n",
       "    }\n",
       "\n",
       "    .dataframe thead th {\n",
       "        text-align: right;\n",
       "    }\n",
       "</style>\n",
       "<table border=\"1\" class=\"dataframe\">\n",
       "  <thead>\n",
       "    <tr style=\"text-align: right;\">\n",
       "      <th></th>\n",
       "      <th>Adj Close</th>\n",
       "      <th>Data</th>\n",
       "      <th>Último</th>\n",
       "    </tr>\n",
       "    <tr>\n",
       "      <th>Date</th>\n",
       "      <th></th>\n",
       "      <th></th>\n",
       "      <th></th>\n",
       "    </tr>\n",
       "  </thead>\n",
       "  <tbody>\n",
       "    <tr>\n",
       "      <th>2014-11-05</th>\n",
       "      <td>13.634769</td>\n",
       "      <td>05.11.2014</td>\n",
       "      <td>25049</td>\n",
       "    </tr>\n",
       "    <tr>\n",
       "      <th>2014-11-06</th>\n",
       "      <td>13.312840</td>\n",
       "      <td>06.11.2014</td>\n",
       "      <td>25697</td>\n",
       "    </tr>\n",
       "    <tr>\n",
       "      <th>2014-11-07</th>\n",
       "      <td>13.511680</td>\n",
       "      <td>07.11.2014</td>\n",
       "      <td>25587</td>\n",
       "    </tr>\n",
       "    <tr>\n",
       "      <th>2014-11-10</th>\n",
       "      <td>13.237089</td>\n",
       "      <td>10.11.2014</td>\n",
       "      <td>25528</td>\n",
       "    </tr>\n",
       "    <tr>\n",
       "      <th>2014-11-11</th>\n",
       "      <td>13.256026</td>\n",
       "      <td>11.11.2014</td>\n",
       "      <td>25575</td>\n",
       "    </tr>\n",
       "  </tbody>\n",
       "</table>\n",
       "</div>"
      ],
      "text/plain": [
       "            Adj Close        Data  Último\n",
       "Date                                     \n",
       "2014-11-05  13.634769  05.11.2014   25049\n",
       "2014-11-06  13.312840  06.11.2014   25697\n",
       "2014-11-07  13.511680  07.11.2014   25587\n",
       "2014-11-10  13.237089  10.11.2014   25528\n",
       "2014-11-11  13.256026  11.11.2014   25575"
      ]
     },
     "execution_count": 41,
     "metadata": {},
     "output_type": "execute_result"
    }
   ],
   "source": [
    "df = PETR4.join(CRD, how='inner', lsuffix='_PETR4', rsuffix='_CRD')\n",
    "df.head()"
   ]
  },
  {
   "cell_type": "code",
   "execution_count": 42,
   "metadata": {},
   "outputs": [],
   "source": [
    "df.drop(['Data'], axis=1, inplace = True)"
   ]
  },
  {
   "cell_type": "code",
   "execution_count": 43,
   "metadata": {},
   "outputs": [],
   "source": [
    "df = df.join(GOLD, how = 'inner', rsuffix='_GOLD')"
   ]
  },
  {
   "cell_type": "code",
   "execution_count": 44,
   "metadata": {},
   "outputs": [],
   "source": [
    "df = df.join(RDS, how = 'inner', rsuffix = '_RDS')"
   ]
  },
  {
   "cell_type": "code",
   "execution_count": 45,
   "metadata": {},
   "outputs": [
    {
     "data": {
      "text/html": [
       "<div>\n",
       "<style scoped>\n",
       "    .dataframe tbody tr th:only-of-type {\n",
       "        vertical-align: middle;\n",
       "    }\n",
       "\n",
       "    .dataframe tbody tr th {\n",
       "        vertical-align: top;\n",
       "    }\n",
       "\n",
       "    .dataframe thead th {\n",
       "        text-align: right;\n",
       "    }\n",
       "</style>\n",
       "<table border=\"1\" class=\"dataframe\">\n",
       "  <thead>\n",
       "    <tr style=\"text-align: right;\">\n",
       "      <th></th>\n",
       "      <th>Adj Close</th>\n",
       "      <th>Último</th>\n",
       "      <th>Price</th>\n",
       "      <th>Adj Close_RDS</th>\n",
       "      <th>Price_OIL</th>\n",
       "    </tr>\n",
       "    <tr>\n",
       "      <th>Date</th>\n",
       "      <th></th>\n",
       "      <th></th>\n",
       "      <th></th>\n",
       "      <th></th>\n",
       "      <th></th>\n",
       "    </tr>\n",
       "  </thead>\n",
       "  <tbody>\n",
       "    <tr>\n",
       "      <th>2014-11-07</th>\n",
       "      <td>13.511680</td>\n",
       "      <td>25587</td>\n",
       "      <td>1261.0</td>\n",
       "      <td>51.391106</td>\n",
       "      <td>78.65</td>\n",
       "    </tr>\n",
       "    <tr>\n",
       "      <th>2014-11-10</th>\n",
       "      <td>13.237089</td>\n",
       "      <td>25528</td>\n",
       "      <td>1251.3</td>\n",
       "      <td>51.181202</td>\n",
       "      <td>77.40</td>\n",
       "    </tr>\n",
       "    <tr>\n",
       "      <th>2014-11-11</th>\n",
       "      <td>13.256026</td>\n",
       "      <td>25575</td>\n",
       "      <td>1255.1</td>\n",
       "      <td>51.477970</td>\n",
       "      <td>77.94</td>\n",
       "    </tr>\n",
       "    <tr>\n",
       "      <th>2014-11-12</th>\n",
       "      <td>13.360181</td>\n",
       "      <td>25665</td>\n",
       "      <td>1250.4</td>\n",
       "      <td>50.531734</td>\n",
       "      <td>77.18</td>\n",
       "    </tr>\n",
       "    <tr>\n",
       "      <th>2014-11-13</th>\n",
       "      <td>12.877283</td>\n",
       "      <td>25889</td>\n",
       "      <td>1251.4</td>\n",
       "      <td>50.179653</td>\n",
       "      <td>74.21</td>\n",
       "    </tr>\n",
       "  </tbody>\n",
       "</table>\n",
       "</div>"
      ],
      "text/plain": [
       "            Adj Close  Último   Price  Adj Close_RDS  Price_OIL\n",
       "Date                                                           \n",
       "2014-11-07  13.511680   25587  1261.0      51.391106      78.65\n",
       "2014-11-10  13.237089   25528  1251.3      51.181202      77.40\n",
       "2014-11-11  13.256026   25575  1255.1      51.477970      77.94\n",
       "2014-11-12  13.360181   25665  1250.4      50.531734      77.18\n",
       "2014-11-13  12.877283   25889  1251.4      50.179653      74.21"
      ]
     },
     "execution_count": 45,
     "metadata": {},
     "output_type": "execute_result"
    }
   ],
   "source": [
    "DataFrame = df.join(OIL, how = 'inner', rsuffix = '_OIL')\n",
    "DataFrame.head()"
   ]
  },
  {
   "cell_type": "markdown",
   "metadata": {},
   "source": [
    "## Início da Regressão"
   ]
  },
  {
   "cell_type": "code",
   "execution_count": 46,
   "metadata": {},
   "outputs": [],
   "source": [
    "### Função utilitária para fazer a regressão com constante adicionada\n",
    "def regress(X,Y):\n",
    "    X_cp = sm.add_constant(X)\n",
    "    model = sm.OLS(Y,X_cp)\n",
    "    results = model.fit()\n",
    "    return results"
   ]
  },
  {
   "cell_type": "code",
   "execution_count": 47,
   "metadata": {},
   "outputs": [
    {
     "data": {
      "text/plain": [
       "Adj Close        0\n",
       "Último           0\n",
       "Price            0\n",
       "Adj Close_RDS    0\n",
       "Price_OIL        0\n",
       "dtype: int64"
      ]
     },
     "execution_count": 47,
     "metadata": {},
     "output_type": "execute_result"
    }
   ],
   "source": [
    "np.sum(DataFrame.isnull())"
   ]
  },
  {
   "cell_type": "code",
   "execution_count": 48,
   "metadata": {},
   "outputs": [],
   "source": [
    "Y = DataFrame['Adj Close']\n",
    "X = DataFrame[['Último', 'Price','Adj Close_RDS','Price_OIL']]"
   ]
  },
  {
   "cell_type": "code",
   "execution_count": 49,
   "metadata": {},
   "outputs": [
    {
     "data": {
      "text/html": [
       "<table class=\"simpletable\">\n",
       "<caption>OLS Regression Results</caption>\n",
       "<tr>\n",
       "  <th>Dep. Variable:</th>        <td>Adj Close</td>    <th>  R-squared:         </th> <td>   0.787</td>\n",
       "</tr>\n",
       "<tr>\n",
       "  <th>Model:</th>                   <td>OLS</td>       <th>  Adj. R-squared:    </th> <td>   0.786</td>\n",
       "</tr>\n",
       "<tr>\n",
       "  <th>Method:</th>             <td>Least Squares</td>  <th>  F-statistic:       </th> <td>   1113.</td>\n",
       "</tr>\n",
       "<tr>\n",
       "  <th>Date:</th>             <td>Tue, 12 Nov 2019</td> <th>  Prob (F-statistic):</th>  <td>  0.00</td> \n",
       "</tr>\n",
       "<tr>\n",
       "  <th>Time:</th>                 <td>14:18:05</td>     <th>  Log-Likelihood:    </th> <td> -3089.0</td>\n",
       "</tr>\n",
       "<tr>\n",
       "  <th>No. Observations:</th>      <td>  1210</td>      <th>  AIC:               </th> <td>   6188.</td>\n",
       "</tr>\n",
       "<tr>\n",
       "  <th>Df Residuals:</th>          <td>  1205</td>      <th>  BIC:               </th> <td>   6213.</td>\n",
       "</tr>\n",
       "<tr>\n",
       "  <th>Df Model:</th>              <td>     4</td>      <th>                     </th>     <td> </td>   \n",
       "</tr>\n",
       "<tr>\n",
       "  <th>Covariance Type:</th>      <td>nonrobust</td>    <th>                     </th>     <td> </td>   \n",
       "</tr>\n",
       "</table>\n",
       "<table class=\"simpletable\">\n",
       "<tr>\n",
       "        <td></td>           <th>coef</th>     <th>std err</th>      <th>t</th>      <th>P>|t|</th>  <th>[0.025</th>    <th>0.975]</th>  \n",
       "</tr>\n",
       "<tr>\n",
       "  <th>const</th>         <td>  -49.7938</td> <td>    1.889</td> <td>  -26.366</td> <td> 0.000</td> <td>  -53.499</td> <td>  -46.088</td>\n",
       "</tr>\n",
       "<tr>\n",
       "  <th>Último</th>        <td>    0.0004</td> <td> 2.63e-05</td> <td>   16.138</td> <td> 0.000</td> <td>    0.000</td> <td>    0.000</td>\n",
       "</tr>\n",
       "<tr>\n",
       "  <th>Price</th>         <td>    0.0205</td> <td>    0.001</td> <td>   15.869</td> <td> 0.000</td> <td>    0.018</td> <td>    0.023</td>\n",
       "</tr>\n",
       "<tr>\n",
       "  <th>Adj Close_RDS</th> <td>    0.4680</td> <td>    0.023</td> <td>   20.759</td> <td> 0.000</td> <td>    0.424</td> <td>    0.512</td>\n",
       "</tr>\n",
       "<tr>\n",
       "  <th>Price_OIL</th>     <td>    0.0026</td> <td>    0.018</td> <td>    0.140</td> <td> 0.889</td> <td>   -0.033</td> <td>    0.039</td>\n",
       "</tr>\n",
       "</table>\n",
       "<table class=\"simpletable\">\n",
       "<tr>\n",
       "  <th>Omnibus:</th>       <td>10.465</td> <th>  Durbin-Watson:     </th> <td>   0.029</td>\n",
       "</tr>\n",
       "<tr>\n",
       "  <th>Prob(Omnibus):</th> <td> 0.005</td> <th>  Jarque-Bera (JB):  </th> <td>  10.599</td>\n",
       "</tr>\n",
       "<tr>\n",
       "  <th>Skew:</th>          <td>-0.218</td> <th>  Prob(JB):          </th> <td> 0.00499</td>\n",
       "</tr>\n",
       "<tr>\n",
       "  <th>Kurtosis:</th>      <td> 2.857</td> <th>  Cond. No.          </th> <td>7.38e+05</td>\n",
       "</tr>\n",
       "</table><br/><br/>Warnings:<br/>[1] Standard Errors assume that the covariance matrix of the errors is correctly specified.<br/>[2] The condition number is large, 7.38e+05. This might indicate that there are<br/>strong multicollinearity or other numerical problems."
      ],
      "text/plain": [
       "<class 'statsmodels.iolib.summary.Summary'>\n",
       "\"\"\"\n",
       "                            OLS Regression Results                            \n",
       "==============================================================================\n",
       "Dep. Variable:              Adj Close   R-squared:                       0.787\n",
       "Model:                            OLS   Adj. R-squared:                  0.786\n",
       "Method:                 Least Squares   F-statistic:                     1113.\n",
       "Date:                Tue, 12 Nov 2019   Prob (F-statistic):               0.00\n",
       "Time:                        14:18:05   Log-Likelihood:                -3089.0\n",
       "No. Observations:                1210   AIC:                             6188.\n",
       "Df Residuals:                    1205   BIC:                             6213.\n",
       "Df Model:                           4                                         \n",
       "Covariance Type:            nonrobust                                         \n",
       "=================================================================================\n",
       "                    coef    std err          t      P>|t|      [0.025      0.975]\n",
       "---------------------------------------------------------------------------------\n",
       "const           -49.7938      1.889    -26.366      0.000     -53.499     -46.088\n",
       "Último            0.0004   2.63e-05     16.138      0.000       0.000       0.000\n",
       "Price             0.0205      0.001     15.869      0.000       0.018       0.023\n",
       "Adj Close_RDS     0.4680      0.023     20.759      0.000       0.424       0.512\n",
       "Price_OIL         0.0026      0.018      0.140      0.889      -0.033       0.039\n",
       "==============================================================================\n",
       "Omnibus:                       10.465   Durbin-Watson:                   0.029\n",
       "Prob(Omnibus):                  0.005   Jarque-Bera (JB):               10.599\n",
       "Skew:                          -0.218   Prob(JB):                      0.00499\n",
       "Kurtosis:                       2.857   Cond. No.                     7.38e+05\n",
       "==============================================================================\n",
       "\n",
       "Warnings:\n",
       "[1] Standard Errors assume that the covariance matrix of the errors is correctly specified.\n",
       "[2] The condition number is large, 7.38e+05. This might indicate that there are\n",
       "strong multicollinearity or other numerical problems.\n",
       "\"\"\""
      ]
     },
     "execution_count": 49,
     "metadata": {},
     "output_type": "execute_result"
    }
   ],
   "source": [
    "results = regress(X, Y)\n",
    "results.summary()"
   ]
  },
  {
   "cell_type": "markdown",
   "metadata": {},
   "source": [
    "### Análise da (falta) de influência do preço do óleo\n",
    "\n",
    "de acordo com os resultados obtidos anteriormente P>|t| = 0.899\n",
    "obs: Preço do óleo deveria influenciar"
   ]
  },
  {
   "cell_type": "code",
   "execution_count": 50,
   "metadata": {},
   "outputs": [
    {
     "data": {
      "text/plain": [
       "<matplotlib.collections.PathCollection at 0x22669f41b70>"
      ]
     },
     "execution_count": 50,
     "metadata": {},
     "output_type": "execute_result"
    },
    {
     "data": {
      "image/png": "[encoded data removed]",
      "text/plain": [
       "<Figure size 432x288 with 1 Axes>"
      ]
     },
     "metadata": {
      "needs_background": "light"
     },
     "output_type": "display_data"
    }
   ],
   "source": [
    "k = results.params['const']\n",
    "PO = results.params['Price_OIL']\n",
    "\n",
    "x = DataFrame['Price_OIL']\n",
    "\n",
    "x_v = np.linspace(x.min(), x.max(), 500)\n",
    "y_v = k + PO*x_v\n",
    "\n",
    "plt.plot(x_v,y_v, color=\"r\") \n",
    "plt.scatter(x, Y)"
   ]
  },
  {
   "cell_type": "code",
   "execution_count": 51,
   "metadata": {},
   "outputs": [
    {
     "data": {
      "text/plain": [
       "<matplotlib.collections.PathCollection at 0x22669f4cba8>"
      ]
     },
     "execution_count": 51,
     "metadata": {},
     "output_type": "execute_result"
    },
    {
     "data": {
      "image/png": "[encoded data removed]",
      "text/plain": [
       "<Figure size 432x288 with 1 Axes>"
      ]
     },
     "metadata": {
      "needs_background": "light"
     },
     "output_type": "display_data"
    }
   ],
   "source": [
    "#Influencia do Ouro\n",
    "\n",
    "PG = results.params['Price']\n",
    "x2 = DataFrame['Price']\n",
    "\n",
    "x_v2 = np.linspace(x2.min(), x2.max(), 500)\n",
    "y_v2 = k + PG*x_v2\n",
    "\n",
    "plt.plot(x_v2,y_v2, color=\"r\") \n",
    "plt.scatter(x2, Y)"
   ]
  },
  {
   "cell_type": "code",
   "execution_count": 52,
   "metadata": {},
   "outputs": [
    {
     "data": {
      "text/plain": [
       "<matplotlib.collections.PathCollection at 0x22664c35ba8>"
      ]
     },
     "execution_count": 52,
     "metadata": {},
     "output_type": "execute_result"
    },
    {
     "data": {
      "image/png": "[encoded data removed]",
      "text/plain": [
       "<Figure size 432x288 with 1 Axes>"
      ]
     },
     "metadata": {
      "needs_background": "light"
     },
     "output_type": "display_data"
    }
   ],
   "source": [
    "# Interferencia do dollar\n",
    "\n",
    "PD = results.params['Último']\n",
    "x3 = DataFrame['Último']\n",
    "\n",
    "x_v3 = np.linspace(x3.min(), x3.max(), 500)\n",
    "y_v3 = k + PD*x_v3\n",
    "\n",
    "plt.plot(x_v3,y_v3, color=\"r\") \n",
    "plt.scatter(x3, Y)"
   ]
  },
  {
   "cell_type": "markdown",
   "metadata": {},
   "source": [
    "Análise em 3D"
   ]
  },
  {
   "cell_type": "code",
   "execution_count": 53,
   "metadata": {},
   "outputs": [],
   "source": [
    "def f(dolar, ouro):\n",
    "    return k + PD*dolar + PG*ouro"
   ]
  },
  {
   "cell_type": "code",
   "execution_count": 54,
   "metadata": {},
   "outputs": [
    {
     "ename": "NameError",
     "evalue": "name 'dolar' is not defined",
     "output_type": "error",
     "traceback": [
      "\u001b[1;31m---------------------------------------------------------------------------\u001b[0m",
      "\u001b[1;31mNameError\u001b[0m                                 Traceback (most recent call last)",
      "\u001b[1;32m<ipython-input-54-70420f8d2fe9>\u001b[0m in \u001b[0;36m<module>\u001b[1;34m\u001b[0m\n\u001b[1;32m----> 1\u001b[1;33m \u001b[0mdolar_xx\u001b[0m\u001b[1;33m,\u001b[0m \u001b[0mouro_yy\u001b[0m \u001b[1;33m=\u001b[0m \u001b[0mnp\u001b[0m\u001b[1;33m.\u001b[0m\u001b[0mmeshgrid\u001b[0m\u001b[1;33m(\u001b[0m\u001b[0mdolar\u001b[0m\u001b[1;33m,\u001b[0m \u001b[0mouro\u001b[0m\u001b[1;33m)\u001b[0m\u001b[1;33m\u001b[0m\u001b[1;33m\u001b[0m\u001b[0m\n\u001b[0m",
      "\u001b[1;31mNameError\u001b[0m: name 'dolar' is not defined"
     ]
    }
   ],
   "source": [
    "dolar_xx, ouro_yy = np.meshgrid(dolar, ouro)"
   ]
  },
  {
   "cell_type": "code",
   "execution_count": 55,
   "metadata": {},
   "outputs": [
    {
     "data": {
      "text/plain": [
       "0.4679542950380971"
      ]
     },
     "execution_count": 55,
     "metadata": {},
     "output_type": "execute_result"
    }
   ],
   "source": [
    "#Influencia RDS (companhia externa)\n",
    "PR = results.params['Adj Close_RDS']\n",
    "PR"
   ]
  },
  {
   "cell_type": "code",
   "execution_count": null,
   "metadata": {},
   "outputs": [],
   "source": [
    "d = 4.18*10\n",
    "g\n",
    "y = k + PG*g + PD*d + PR*r"
   ]
  }
 ],
 "metadata": {
  "kernelspec": {
   "display_name": "Python 3",
   "language": "python",
   "name": "python3"
  },
  "language_info": {
   "codemirror_mode": {
    "name": "ipython",
    "version": 3
   },
   "file_extension": ".py",
   "mimetype": "text/x-python",
   "name": "python",
   "nbconvert_exporter": "python",
   "pygments_lexer": "ipython3",
   "version": "3.7.1"
  }
 },
 "nbformat": 4,
 "nbformat_minor": 2
}
