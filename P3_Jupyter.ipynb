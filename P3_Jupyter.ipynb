{
 "cells": [
  {
   "cell_type": "markdown",
   "metadata": {},
   "source": [
    "# Projeto 3"
   ]
  },
  {
   "cell_type": "code",
   "execution_count": null,
   "metadata": {},
   "outputs": [],
   "source": [
    "import pandas as pd\n",
    "import numpy as np\n",
    "import re\n",
    "import string\n",
    "from IPython.display import display\n",
    "from nltk.stem import PorterStemmer\n",
    "stemmer = PorterStemmer()"
   ]
  },
  {
   "cell_type": "code",
   "execution_count": 136,
   "metadata": {},
   "outputs": [],
   "source": [
    "PETR4_raw = pd.read_excel (r'PETR4.SA .xltx')\n",
    "\n",
    "GOLD_raw = pd.read_excel (r'Gold Futures Historical Data.xltx') \n",
    "RDS_raw = pd.read_excel (r'RDS-A.xltx') \n",
    "OIL_raw = pd.read_excel (r'Crude Oil WTI Futures Historical Data.xltx')\n",
    "CRD_raw = pd.read_excel (r'USD_BRL Dados Históricos.xltx')"
   ]
  },
  {
   "cell_type": "code",
   "execution_count": 137,
   "metadata": {},
   "outputs": [],
   "source": [
    "PETR4 = PETR4_raw[['Date', 'Adj Close']]\n",
    "\n",
    "GOLD = GOLD_raw[['Date', 'Price']]\n",
    "RDS = RDS_raw[['Date', 'Adj Close']]\n",
    "OIL = OIL_raw[['Date', 'Price']]\n",
    "CRD = CRD_raw[['Data', 'Último']]"
   ]
  },
  {
   "cell_type": "markdown",
   "metadata": {},
   "source": [
    "Para PETR4:"
   ]
  },
  {
   "cell_type": "code",
   "execution_count": 138,
   "metadata": {},
   "outputs": [],
   "source": [
    "PETR4_RE = PETR4.rename(columns={\"Adj Close\": \"Valor_PETR4\"})\n",
    "PETR4_REDate = PETR4_RE.assign(Date = PETR4_RE.Date.values[::-1])\n",
    "PETR4_F = PETR4_REDate.assign(Valor_PETR4 = PETR4_REDate.Valor_PETR4.values[::-1])"
   ]
  },
  {
   "cell_type": "markdown",
   "metadata": {},
   "source": [
    "Para Gold:"
   ]
  },
  {
   "cell_type": "code",
   "execution_count": 139,
   "metadata": {},
   "outputs": [],
   "source": [
    "GOLD_F = GOLD.rename(columns={\"Price\": \"Valor_GOLD\"})"
   ]
  },
  {
   "cell_type": "markdown",
   "metadata": {},
   "source": [
    "Para RDS:"
   ]
  },
  {
   "cell_type": "code",
   "execution_count": 140,
   "metadata": {},
   "outputs": [],
   "source": [
    "RDS_RE = RDS.rename(columns={\"Adj Close\": \"Valor_RDS\"})\n",
    "RDS_REDate = RDS_RE.assign(Date = RDS_RE.Date.values[::-1])\n",
    "RDS_F = RDS_REDate.assign(Valor_RDS = RDS_REDate.Valor_RDS.values[::-1])"
   ]
  },
  {
   "cell_type": "markdown",
   "metadata": {},
   "source": [
    "Para OIL:"
   ]
  },
  {
   "cell_type": "code",
   "execution_count": 141,
   "metadata": {},
   "outputs": [],
   "source": [
    "OIL_F = OIL.rename(columns={\"Price\": \"Valor_OIL\"})"
   ]
  },
  {
   "cell_type": "markdown",
   "metadata": {},
   "source": [
    "Para CRD:"
   ]
  },
  {
   "cell_type": "code",
   "execution_count": 142,
   "metadata": {},
   "outputs": [],
   "source": [
    "CRD_RE = CRD.rename(columns={\"Data\": \"Date\",\"Último\": \"Valor_CRD\" })\n",
    "\n",
    "NOVO_VALOR = []\n",
    "for e in CRD_RE[\"Valor_CRD\"]:\n",
    "    NOVO_VALOR.append(e/10000)\n",
    "CRD_RE['Valor_CRD'] = NOVO_VALOR\n",
    "\n",
    "NOVA_DATA = []\n",
    "for e in CRD_RE['Date']:\n",
    "    Separado = e.split(\".\")\n",
    "    Correto = Separado[2] + \"-\" + Separado[1] + \"-\" + Separado[0]\n",
    "    NOVA_DATA.append(Correto)\n",
    "CRD_RE['Date'] = NOVA_DATA \n",
    "\n",
    "CRD_F = CRD_RE"
   ]
  },
  {
   "cell_type": "markdown",
   "metadata": {},
   "source": [
    "Selecionando intervalo a ser estudado e alterando o index:"
   ]
  },
  {
   "cell_type": "code",
   "execution_count": 143,
   "metadata": {},
   "outputs": [],
   "source": [
    "PETR4_F[\"Date\"] == \"2014-11-10\" #1240\n",
    "PETR4_F[\"Date\"] == \"2019-10-31\" #2\n",
    "PETR4_DATE = PETR4_F.loc[2: 1240].set_index('Date')\n",
    "\n",
    "GOLD_F[\"Date\"] == \"2014-11-10\" #1321\n",
    "GOLD_F[\"Date\"] == \"2019-10-31\" #5\n",
    "GOLD_DATE = GOLD_F.loc[5: 1321].set_index('Date')\n",
    "\n",
    "RDS_F[\"Date\"] == \"2014-11-10\" #1256\n",
    "RDS_F[\"Date\"] == \"2019-10-31\" #4\n",
    "RDS_DATE = RDS_F.loc[4: 1256].set_index('Date')\n",
    "\n",
    "OIL_F[\"Date\"] == \"2014-11-10\" #1318\n",
    "OIL_F[\"Date\"] == \"2019-10-31\" #5\n",
    "OIL_DATE = OIL_F.loc[5: 1318].set_index('Date')\n",
    "\n",
    "CRD_F[\"Date\"] == \"2014-11-10\" #1302\n",
    "CRD_F[\"Date\"] == \"2019-10-31\" #4\n",
    "CRD_DATE = CRD_F.loc[4: 1302].set_index('Date')\n"
   ]
  },
  {
   "cell_type": "code",
   "execution_count": 144,
   "metadata": {},
   "outputs": [],
   "source": [
    "U1 = GOLD_DATE.join(PETR4_DATE)\n",
    "U2 = RDS_DATE.join(U1)\n",
    "U3 = OIL_DATE.join(U2)\n",
    "U4 = CRD_DATE.join(U3)\n",
    "U5 = U4.interpolate()\n",
    "DADOS = U5.sort_index(ascending=True, axis=0)\n"
   ]
  },
  {
   "cell_type": "code",
   "execution_count": 952,
   "metadata": {
    "scrolled": true
   },
   "outputs": [
    {
     "name": "stderr",
     "output_type": "stream",
     "text": [
      "C:\\Users\\Enrico Damiani\\Anaconda3\\lib\\site-packages\\ipykernel_launcher.py:67: SettingWithCopyWarning: \n",
      "A value is trying to be set on a copy of a slice from a DataFrame.\n",
      "Try using .loc[row_indexer,col_indexer] = value instead\n",
      "\n",
      "See the caveats in the documentation: http://pandas.pydata.org/pandas-docs/stable/indexing.html#indexing-view-versus-copy\n",
      "C:\\Users\\Enrico Damiani\\Anaconda3\\lib\\site-packages\\ipykernel_launcher.py:68: SettingWithCopyWarning: \n",
      "A value is trying to be set on a copy of a slice from a DataFrame.\n",
      "Try using .loc[row_indexer,col_indexer] = value instead\n",
      "\n",
      "See the caveats in the documentation: http://pandas.pydata.org/pandas-docs/stable/indexing.html#indexing-view-versus-copy\n",
      "C:\\Users\\Enrico Damiani\\Anaconda3\\lib\\site-packages\\ipykernel_launcher.py:69: SettingWithCopyWarning: \n",
      "A value is trying to be set on a copy of a slice from a DataFrame.\n",
      "Try using .loc[row_indexer,col_indexer] = value instead\n",
      "\n",
      "See the caveats in the documentation: http://pandas.pydata.org/pandas-docs/stable/indexing.html#indexing-view-versus-copy\n",
      "C:\\Users\\Enrico Damiani\\Anaconda3\\lib\\site-packages\\ipykernel_launcher.py:70: SettingWithCopyWarning: \n",
      "A value is trying to be set on a copy of a slice from a DataFrame.\n",
      "Try using .loc[row_indexer,col_indexer] = value instead\n",
      "\n",
      "See the caveats in the documentation: http://pandas.pydata.org/pandas-docs/stable/indexing.html#indexing-view-versus-copy\n",
      "C:\\Users\\Enrico Damiani\\Anaconda3\\lib\\site-packages\\ipykernel_launcher.py:71: SettingWithCopyWarning: \n",
      "A value is trying to be set on a copy of a slice from a DataFrame.\n",
      "Try using .loc[row_indexer,col_indexer] = value instead\n",
      "\n",
      "See the caveats in the documentation: http://pandas.pydata.org/pandas-docs/stable/indexing.html#indexing-view-versus-copy\n"
     ]
    }
   ],
   "source": [
    "i = 0\n",
    "FAZER1 = []\n",
    "while i < 1298:\n",
    "    FAZER1.append(DADOS[\"Valor_GOLD\"][i] - DADOS[\"Valor_GOLD\"][i-1])    \n",
    "    i+=1\n",
    "    \n",
    "i = 0\n",
    "FAZER2 = []\n",
    "while i < 1298:\n",
    "    FAZER2.append(DADOS[\"Valor_RDS\"][i] - DADOS[\"Valor_RDS\"][i-1])    \n",
    "    i+=1\n",
    "    \n",
    "i = 0\n",
    "FAZER3 = []\n",
    "while i < 1298:\n",
    "    FAZER3.append(DADOS[\"Valor_OIL\"][i] - DADOS[\"Valor_OIL\"][i-1])    \n",
    "    i+=1    \n",
    "\n",
    "i = 0\n",
    "FAZER4 = []\n",
    "while i < 1298:\n",
    "    FAZER4.append(DADOS[\"Valor_CRD\"][i] - DADOS[\"Valor_CRD\"][i-1])    \n",
    "    i+=1     \n",
    "    \n",
    "i = 0\n",
    "FAZER5 = []\n",
    "while i < 1298:\n",
    "    if DADOS[\"Valor_PETR4\"][i+1] - DADOS[\"Valor_PETR4\"][i] >= 0:\n",
    "        FAZER5.append(\"Up\")\n",
    "    \n",
    "    else:\n",
    "        FAZER5.append(\"DOWN\")\n",
    "    \n",
    "    i+=1\n",
    "    \n",
    "\n",
    "DADOS_OPT = DADOS.iloc[1:1298,:]\n",
    "\n",
    "del FAZER1[0]\n",
    "del FAZER2[0]\n",
    "del FAZER3[0]\n",
    "del FAZER4[0]\n",
    "del FAZER5[0]\n",
    "\n",
    "V1 = -min(FAZER1) + max(FAZER1)\n",
    "FAZERV1 = []\n",
    "for e in FAZER1:\n",
    "     FAZERV1.append(abs(e/V1))\n",
    "        \n",
    "V2 = -min(FAZER2) + max(FAZER2)\n",
    "FAZERV2 = []\n",
    "for e in FAZER2:\n",
    "     FAZERV2.append(abs(e/V2))\n",
    "\n",
    "V3 = -min(FAZER3) + max(FAZER3)\n",
    "FAZERV3 = []\n",
    "for e in FAZER3:\n",
    "     FAZERV3.append(abs(e/V3))\n",
    "        \n",
    "V4 = -min(FAZER4) + max(FAZER4)\n",
    "FAZERV4 = []\n",
    "for e in FAZER4:\n",
    "     FAZERV4.append(abs(e/V4))\n",
    "        \n",
    "\n",
    "    \n",
    "DADOS_OPT['CALC_GOLD'] = FAZERV1\n",
    "DADOS_OPT['CALC_RDS'] = FAZERV2\n",
    "DADOS_OPT['CALC_OIL'] = FAZERV3\n",
    "DADOS_OPT['CALC_CRD'] = FAZERV4\n",
    "DADOS_OPT['Position'] = FAZER5\n"
   ]
  },
  {
   "cell_type": "markdown",
   "metadata": {},
   "source": [
    "TESTES"
   ]
  },
  {
   "cell_type": "code",
   "execution_count": 1440,
   "metadata": {},
   "outputs": [
    {
     "name": "stderr",
     "output_type": "stream",
     "text": [
      "C:\\Users\\Enrico Damiani\\Anaconda3\\lib\\site-packages\\sklearn\\neural_network\\multilayer_perceptron.py:921: DataConversionWarning: A column-vector y was passed when a 1d array was expected. Please change the shape of y to (n_samples, ), for example using ravel().\n",
      "  y = column_or_1d(y, warn=True)\n"
     ]
    },
    {
     "data": {
      "text/plain": [
       "GridSearchCV(cv=3, error_score='raise-deprecating',\n",
       "             estimator=MLPClassifier(activation='relu', alpha=0.0001,\n",
       "                                     batch_size='auto', beta_1=0.9,\n",
       "                                     beta_2=0.999, early_stopping=False,\n",
       "                                     epsilon=1e-08, hidden_layer_sizes=(100,),\n",
       "                                     learning_rate='constant',\n",
       "                                     learning_rate_init=0.001, max_iter=1000,\n",
       "                                     momentum=0.9, n_iter_no_change=10,\n",
       "                                     nesterovs_momentum=True, power_t=0.5,\n",
       "                                     random_st...\n",
       "             iid='warn', n_jobs=-1,\n",
       "             param_grid={'activation': ['identity', 'logistic', 'tanh', 'relu'],\n",
       "                         'alpha': [1e-06],\n",
       "                         'hidden_layer_sizes': [(500, 30, 5), (800, 40),\n",
       "                                                (400, 32), (1000, 300, 20)],\n",
       "                         'learning_rate': ['constant', 'adaptive'],\n",
       "                         'n_iter_no_change': [15, 20, 50],\n",
       "                         'solver': ['lbfgs', 'sgd', 'adam']},\n",
       "             pre_dispatch='2*n_jobs', refit=True, return_train_score=False,\n",
       "             scoring=None, verbose=0)"
      ]
     },
     "execution_count": 1440,
     "metadata": {},
     "output_type": "execute_result"
    }
   ],
   "source": [
    "from sklearn.neural_network import MLPClassifier\n",
    "mlp = MLPClassifier(max_iter=1000)\n",
    "\n",
    "parameter_space = {\n",
    "    'hidden_layer_sizes': [(500, 30, 5), (800, 40), (400, 32), (1000, 300, 20)],\n",
    "    'activation': ['identity','logistic','tanh', 'relu'],\n",
    "    'solver': ['lbfgs','sgd', 'adam'],\n",
    "    'alpha': [1e-6],\n",
    "    'learning_rate': ['constant','adaptive'],\n",
    "    'n_iter_no_change' : [15, 20 , 50]\n",
    "}\n",
    "\n",
    "from sklearn.model_selection import GridSearchCV\n",
    "\n",
    "clf = GridSearchCV(mlp, parameter_space, n_jobs=-1, cv=3)\n",
    "clf.fit(X, y)\n"
   ]
  },
  {
   "cell_type": "code",
   "execution_count": 1441,
   "metadata": {},
   "outputs": [
    {
     "name": "stdout",
     "output_type": "stream",
     "text": [
      "Best parameters found:\n",
      " {'activation': 'relu', 'alpha': 1e-06, 'hidden_layer_sizes': (1000, 300, 20), 'learning_rate': 'constant', 'n_iter_no_change': 15, 'solver': 'sgd'}\n",
      "0.549 (+/-0.031) for {'activation': 'identity', 'alpha': 1e-06, 'hidden_layer_sizes': (500, 30, 5), 'learning_rate': 'constant', 'n_iter_no_change': 15, 'solver': 'lbfgs'}\n",
      "0.549 (+/-0.036) for {'activation': 'identity', 'alpha': 1e-06, 'hidden_layer_sizes': (500, 30, 5), 'learning_rate': 'constant', 'n_iter_no_change': 15, 'solver': 'sgd'}\n",
      "0.553 (+/-0.020) for {'activation': 'identity', 'alpha': 1e-06, 'hidden_layer_sizes': (500, 30, 5), 'learning_rate': 'constant', 'n_iter_no_change': 15, 'solver': 'adam'}\n",
      "0.547 (+/-0.034) for {'activation': 'identity', 'alpha': 1e-06, 'hidden_layer_sizes': (500, 30, 5), 'learning_rate': 'constant', 'n_iter_no_change': 20, 'solver': 'lbfgs'}\n",
      "0.549 (+/-0.034) for {'activation': 'identity', 'alpha': 1e-06, 'hidden_layer_sizes': (500, 30, 5), 'learning_rate': 'constant', 'n_iter_no_change': 20, 'solver': 'sgd'}\n",
      "0.543 (+/-0.034) for {'activation': 'identity', 'alpha': 1e-06, 'hidden_layer_sizes': (500, 30, 5), 'learning_rate': 'constant', 'n_iter_no_change': 20, 'solver': 'adam'}\n",
      "0.549 (+/-0.031) for {'activation': 'identity', 'alpha': 1e-06, 'hidden_layer_sizes': (500, 30, 5), 'learning_rate': 'constant', 'n_iter_no_change': 50, 'solver': 'lbfgs'}\n",
      "0.548 (+/-0.029) for {'activation': 'identity', 'alpha': 1e-06, 'hidden_layer_sizes': (500, 30, 5), 'learning_rate': 'constant', 'n_iter_no_change': 50, 'solver': 'sgd'}\n",
      "0.554 (+/-0.012) for {'activation': 'identity', 'alpha': 1e-06, 'hidden_layer_sizes': (500, 30, 5), 'learning_rate': 'constant', 'n_iter_no_change': 50, 'solver': 'adam'}\n",
      "0.549 (+/-0.031) for {'activation': 'identity', 'alpha': 1e-06, 'hidden_layer_sizes': (500, 30, 5), 'learning_rate': 'adaptive', 'n_iter_no_change': 15, 'solver': 'lbfgs'}\n",
      "0.548 (+/-0.027) for {'activation': 'identity', 'alpha': 1e-06, 'hidden_layer_sizes': (500, 30, 5), 'learning_rate': 'adaptive', 'n_iter_no_change': 15, 'solver': 'sgd'}\n",
      "0.539 (+/-0.010) for {'activation': 'identity', 'alpha': 1e-06, 'hidden_layer_sizes': (500, 30, 5), 'learning_rate': 'adaptive', 'n_iter_no_change': 15, 'solver': 'adam'}\n",
      "0.547 (+/-0.033) for {'activation': 'identity', 'alpha': 1e-06, 'hidden_layer_sizes': (500, 30, 5), 'learning_rate': 'adaptive', 'n_iter_no_change': 20, 'solver': 'lbfgs'}\n",
      "0.551 (+/-0.032) for {'activation': 'identity', 'alpha': 1e-06, 'hidden_layer_sizes': (500, 30, 5), 'learning_rate': 'adaptive', 'n_iter_no_change': 20, 'solver': 'sgd'}\n",
      "0.550 (+/-0.027) for {'activation': 'identity', 'alpha': 1e-06, 'hidden_layer_sizes': (500, 30, 5), 'learning_rate': 'adaptive', 'n_iter_no_change': 20, 'solver': 'adam'}\n",
      "0.548 (+/-0.032) for {'activation': 'identity', 'alpha': 1e-06, 'hidden_layer_sizes': (500, 30, 5), 'learning_rate': 'adaptive', 'n_iter_no_change': 50, 'solver': 'lbfgs'}\n",
      "0.551 (+/-0.035) for {'activation': 'identity', 'alpha': 1e-06, 'hidden_layer_sizes': (500, 30, 5), 'learning_rate': 'adaptive', 'n_iter_no_change': 50, 'solver': 'sgd'}\n",
      "0.540 (+/-0.054) for {'activation': 'identity', 'alpha': 1e-06, 'hidden_layer_sizes': (500, 30, 5), 'learning_rate': 'adaptive', 'n_iter_no_change': 50, 'solver': 'adam'}\n",
      "0.548 (+/-0.033) for {'activation': 'identity', 'alpha': 1e-06, 'hidden_layer_sizes': (800, 40), 'learning_rate': 'constant', 'n_iter_no_change': 15, 'solver': 'lbfgs'}\n",
      "0.546 (+/-0.034) for {'activation': 'identity', 'alpha': 1e-06, 'hidden_layer_sizes': (800, 40), 'learning_rate': 'constant', 'n_iter_no_change': 15, 'solver': 'sgd'}\n",
      "0.538 (+/-0.030) for {'activation': 'identity', 'alpha': 1e-06, 'hidden_layer_sizes': (800, 40), 'learning_rate': 'constant', 'n_iter_no_change': 15, 'solver': 'adam'}\n",
      "0.550 (+/-0.034) for {'activation': 'identity', 'alpha': 1e-06, 'hidden_layer_sizes': (800, 40), 'learning_rate': 'constant', 'n_iter_no_change': 20, 'solver': 'lbfgs'}\n",
      "0.548 (+/-0.035) for {'activation': 'identity', 'alpha': 1e-06, 'hidden_layer_sizes': (800, 40), 'learning_rate': 'constant', 'n_iter_no_change': 20, 'solver': 'sgd'}\n",
      "0.554 (+/-0.027) for {'activation': 'identity', 'alpha': 1e-06, 'hidden_layer_sizes': (800, 40), 'learning_rate': 'constant', 'n_iter_no_change': 20, 'solver': 'adam'}\n",
      "0.548 (+/-0.032) for {'activation': 'identity', 'alpha': 1e-06, 'hidden_layer_sizes': (800, 40), 'learning_rate': 'constant', 'n_iter_no_change': 50, 'solver': 'lbfgs'}\n",
      "0.551 (+/-0.039) for {'activation': 'identity', 'alpha': 1e-06, 'hidden_layer_sizes': (800, 40), 'learning_rate': 'constant', 'n_iter_no_change': 50, 'solver': 'sgd'}\n",
      "0.547 (+/-0.011) for {'activation': 'identity', 'alpha': 1e-06, 'hidden_layer_sizes': (800, 40), 'learning_rate': 'constant', 'n_iter_no_change': 50, 'solver': 'adam'}\n",
      "0.549 (+/-0.036) for {'activation': 'identity', 'alpha': 1e-06, 'hidden_layer_sizes': (800, 40), 'learning_rate': 'adaptive', 'n_iter_no_change': 15, 'solver': 'lbfgs'}\n",
      "0.548 (+/-0.031) for {'activation': 'identity', 'alpha': 1e-06, 'hidden_layer_sizes': (800, 40), 'learning_rate': 'adaptive', 'n_iter_no_change': 15, 'solver': 'sgd'}\n",
      "0.549 (+/-0.051) for {'activation': 'identity', 'alpha': 1e-06, 'hidden_layer_sizes': (800, 40), 'learning_rate': 'adaptive', 'n_iter_no_change': 15, 'solver': 'adam'}\n",
      "0.549 (+/-0.034) for {'activation': 'identity', 'alpha': 1e-06, 'hidden_layer_sizes': (800, 40), 'learning_rate': 'adaptive', 'n_iter_no_change': 20, 'solver': 'lbfgs'}\n",
      "0.553 (+/-0.042) for {'activation': 'identity', 'alpha': 1e-06, 'hidden_layer_sizes': (800, 40), 'learning_rate': 'adaptive', 'n_iter_no_change': 20, 'solver': 'sgd'}\n",
      "0.546 (+/-0.021) for {'activation': 'identity', 'alpha': 1e-06, 'hidden_layer_sizes': (800, 40), 'learning_rate': 'adaptive', 'n_iter_no_change': 20, 'solver': 'adam'}\n",
      "0.549 (+/-0.031) for {'activation': 'identity', 'alpha': 1e-06, 'hidden_layer_sizes': (800, 40), 'learning_rate': 'adaptive', 'n_iter_no_change': 50, 'solver': 'lbfgs'}\n",
      "0.548 (+/-0.035) for {'activation': 'identity', 'alpha': 1e-06, 'hidden_layer_sizes': (800, 40), 'learning_rate': 'adaptive', 'n_iter_no_change': 50, 'solver': 'sgd'}\n",
      "0.542 (+/-0.027) for {'activation': 'identity', 'alpha': 1e-06, 'hidden_layer_sizes': (800, 40), 'learning_rate': 'adaptive', 'n_iter_no_change': 50, 'solver': 'adam'}\n",
      "0.548 (+/-0.033) for {'activation': 'identity', 'alpha': 1e-06, 'hidden_layer_sizes': (400, 32), 'learning_rate': 'constant', 'n_iter_no_change': 15, 'solver': 'lbfgs'}\n",
      "0.545 (+/-0.029) for {'activation': 'identity', 'alpha': 1e-06, 'hidden_layer_sizes': (400, 32), 'learning_rate': 'constant', 'n_iter_no_change': 15, 'solver': 'sgd'}\n",
      "0.543 (+/-0.042) for {'activation': 'identity', 'alpha': 1e-06, 'hidden_layer_sizes': (400, 32), 'learning_rate': 'constant', 'n_iter_no_change': 15, 'solver': 'adam'}\n",
      "0.548 (+/-0.033) for {'activation': 'identity', 'alpha': 1e-06, 'hidden_layer_sizes': (400, 32), 'learning_rate': 'constant', 'n_iter_no_change': 20, 'solver': 'lbfgs'}\n",
      "0.545 (+/-0.023) for {'activation': 'identity', 'alpha': 1e-06, 'hidden_layer_sizes': (400, 32), 'learning_rate': 'constant', 'n_iter_no_change': 20, 'solver': 'sgd'}\n",
      "0.537 (+/-0.023) for {'activation': 'identity', 'alpha': 1e-06, 'hidden_layer_sizes': (400, 32), 'learning_rate': 'constant', 'n_iter_no_change': 20, 'solver': 'adam'}\n",
      "0.549 (+/-0.031) for {'activation': 'identity', 'alpha': 1e-06, 'hidden_layer_sizes': (400, 32), 'learning_rate': 'constant', 'n_iter_no_change': 50, 'solver': 'lbfgs'}\n",
      "0.548 (+/-0.027) for {'activation': 'identity', 'alpha': 1e-06, 'hidden_layer_sizes': (400, 32), 'learning_rate': 'constant', 'n_iter_no_change': 50, 'solver': 'sgd'}\n",
      "0.550 (+/-0.014) for {'activation': 'identity', 'alpha': 1e-06, 'hidden_layer_sizes': (400, 32), 'learning_rate': 'constant', 'n_iter_no_change': 50, 'solver': 'adam'}\n",
      "0.549 (+/-0.031) for {'activation': 'identity', 'alpha': 1e-06, 'hidden_layer_sizes': (400, 32), 'learning_rate': 'adaptive', 'n_iter_no_change': 15, 'solver': 'lbfgs'}\n",
      "0.550 (+/-0.026) for {'activation': 'identity', 'alpha': 1e-06, 'hidden_layer_sizes': (400, 32), 'learning_rate': 'adaptive', 'n_iter_no_change': 15, 'solver': 'sgd'}\n",
      "0.541 (+/-0.014) for {'activation': 'identity', 'alpha': 1e-06, 'hidden_layer_sizes': (400, 32), 'learning_rate': 'adaptive', 'n_iter_no_change': 15, 'solver': 'adam'}\n",
      "0.548 (+/-0.033) for {'activation': 'identity', 'alpha': 1e-06, 'hidden_layer_sizes': (400, 32), 'learning_rate': 'adaptive', 'n_iter_no_change': 20, 'solver': 'lbfgs'}\n",
      "0.547 (+/-0.031) for {'activation': 'identity', 'alpha': 1e-06, 'hidden_layer_sizes': (400, 32), 'learning_rate': 'adaptive', 'n_iter_no_change': 20, 'solver': 'sgd'}\n",
      "0.550 (+/-0.031) for {'activation': 'identity', 'alpha': 1e-06, 'hidden_layer_sizes': (400, 32), 'learning_rate': 'adaptive', 'n_iter_no_change': 20, 'solver': 'adam'}\n",
      "0.547 (+/-0.033) for {'activation': 'identity', 'alpha': 1e-06, 'hidden_layer_sizes': (400, 32), 'learning_rate': 'adaptive', 'n_iter_no_change': 50, 'solver': 'lbfgs'}\n",
      "0.552 (+/-0.039) for {'activation': 'identity', 'alpha': 1e-06, 'hidden_layer_sizes': (400, 32), 'learning_rate': 'adaptive', 'n_iter_no_change': 50, 'solver': 'sgd'}\n",
      "0.547 (+/-0.043) for {'activation': 'identity', 'alpha': 1e-06, 'hidden_layer_sizes': (400, 32), 'learning_rate': 'adaptive', 'n_iter_no_change': 50, 'solver': 'adam'}\n",
      "0.548 (+/-0.032) for {'activation': 'identity', 'alpha': 1e-06, 'hidden_layer_sizes': (1000, 300, 20), 'learning_rate': 'constant', 'n_iter_no_change': 15, 'solver': 'lbfgs'}\n",
      "0.549 (+/-0.030) for {'activation': 'identity', 'alpha': 1e-06, 'hidden_layer_sizes': (1000, 300, 20), 'learning_rate': 'constant', 'n_iter_no_change': 15, 'solver': 'sgd'}\n",
      "0.551 (+/-0.055) for {'activation': 'identity', 'alpha': 1e-06, 'hidden_layer_sizes': (1000, 300, 20), 'learning_rate': 'constant', 'n_iter_no_change': 15, 'solver': 'adam'}\n",
      "0.549 (+/-0.031) for {'activation': 'identity', 'alpha': 1e-06, 'hidden_layer_sizes': (1000, 300, 20), 'learning_rate': 'constant', 'n_iter_no_change': 20, 'solver': 'lbfgs'}\n",
      "0.546 (+/-0.034) for {'activation': 'identity', 'alpha': 1e-06, 'hidden_layer_sizes': (1000, 300, 20), 'learning_rate': 'constant', 'n_iter_no_change': 20, 'solver': 'sgd'}\n",
      "0.555 (+/-0.028) for {'activation': 'identity', 'alpha': 1e-06, 'hidden_layer_sizes': (1000, 300, 20), 'learning_rate': 'constant', 'n_iter_no_change': 20, 'solver': 'adam'}\n",
      "0.549 (+/-0.031) for {'activation': 'identity', 'alpha': 1e-06, 'hidden_layer_sizes': (1000, 300, 20), 'learning_rate': 'constant', 'n_iter_no_change': 50, 'solver': 'lbfgs'}\n",
      "0.547 (+/-0.028) for {'activation': 'identity', 'alpha': 1e-06, 'hidden_layer_sizes': (1000, 300, 20), 'learning_rate': 'constant', 'n_iter_no_change': 50, 'solver': 'sgd'}\n",
      "0.542 (+/-0.033) for {'activation': 'identity', 'alpha': 1e-06, 'hidden_layer_sizes': (1000, 300, 20), 'learning_rate': 'constant', 'n_iter_no_change': 50, 'solver': 'adam'}\n",
      "0.549 (+/-0.031) for {'activation': 'identity', 'alpha': 1e-06, 'hidden_layer_sizes': (1000, 300, 20), 'learning_rate': 'adaptive', 'n_iter_no_change': 15, 'solver': 'lbfgs'}\n",
      "0.546 (+/-0.031) for {'activation': 'identity', 'alpha': 1e-06, 'hidden_layer_sizes': (1000, 300, 20), 'learning_rate': 'adaptive', 'n_iter_no_change': 15, 'solver': 'sgd'}\n",
      "0.534 (+/-0.017) for {'activation': 'identity', 'alpha': 1e-06, 'hidden_layer_sizes': (1000, 300, 20), 'learning_rate': 'adaptive', 'n_iter_no_change': 15, 'solver': 'adam'}\n",
      "0.548 (+/-0.032) for {'activation': 'identity', 'alpha': 1e-06, 'hidden_layer_sizes': (1000, 300, 20), 'learning_rate': 'adaptive', 'n_iter_no_change': 20, 'solver': 'lbfgs'}\n",
      "0.549 (+/-0.044) for {'activation': 'identity', 'alpha': 1e-06, 'hidden_layer_sizes': (1000, 300, 20), 'learning_rate': 'adaptive', 'n_iter_no_change': 20, 'solver': 'sgd'}\n",
      "0.552 (+/-0.039) for {'activation': 'identity', 'alpha': 1e-06, 'hidden_layer_sizes': (1000, 300, 20), 'learning_rate': 'adaptive', 'n_iter_no_change': 20, 'solver': 'adam'}\n",
      "0.547 (+/-0.033) for {'activation': 'identity', 'alpha': 1e-06, 'hidden_layer_sizes': (1000, 300, 20), 'learning_rate': 'adaptive', 'n_iter_no_change': 50, 'solver': 'lbfgs'}\n",
      "0.547 (+/-0.028) for {'activation': 'identity', 'alpha': 1e-06, 'hidden_layer_sizes': (1000, 300, 20), 'learning_rate': 'adaptive', 'n_iter_no_change': 50, 'solver': 'sgd'}\n",
      "0.540 (+/-0.056) for {'activation': 'identity', 'alpha': 1e-06, 'hidden_layer_sizes': (1000, 300, 20), 'learning_rate': 'adaptive', 'n_iter_no_change': 50, 'solver': 'adam'}\n",
      "0.541 (+/-0.001) for {'activation': 'logistic', 'alpha': 1e-06, 'hidden_layer_sizes': (500, 30, 5), 'learning_rate': 'constant', 'n_iter_no_change': 15, 'solver': 'lbfgs'}\n",
      "0.541 (+/-0.001) for {'activation': 'logistic', 'alpha': 1e-06, 'hidden_layer_sizes': (500, 30, 5), 'learning_rate': 'constant', 'n_iter_no_change': 15, 'solver': 'sgd'}\n",
      "0.541 (+/-0.001) for {'activation': 'logistic', 'alpha': 1e-06, 'hidden_layer_sizes': (500, 30, 5), 'learning_rate': 'constant', 'n_iter_no_change': 15, 'solver': 'adam'}\n",
      "0.541 (+/-0.001) for {'activation': 'logistic', 'alpha': 1e-06, 'hidden_layer_sizes': (500, 30, 5), 'learning_rate': 'constant', 'n_iter_no_change': 20, 'solver': 'lbfgs'}\n",
      "0.541 (+/-0.001) for {'activation': 'logistic', 'alpha': 1e-06, 'hidden_layer_sizes': (500, 30, 5), 'learning_rate': 'constant', 'n_iter_no_change': 20, 'solver': 'sgd'}\n",
      "0.531 (+/-0.026) for {'activation': 'logistic', 'alpha': 1e-06, 'hidden_layer_sizes': (500, 30, 5), 'learning_rate': 'constant', 'n_iter_no_change': 20, 'solver': 'adam'}\n",
      "0.541 (+/-0.001) for {'activation': 'logistic', 'alpha': 1e-06, 'hidden_layer_sizes': (500, 30, 5), 'learning_rate': 'constant', 'n_iter_no_change': 50, 'solver': 'lbfgs'}\n",
      "0.541 (+/-0.001) for {'activation': 'logistic', 'alpha': 1e-06, 'hidden_layer_sizes': (500, 30, 5), 'learning_rate': 'constant', 'n_iter_no_change': 50, 'solver': 'sgd'}\n",
      "0.535 (+/-0.017) for {'activation': 'logistic', 'alpha': 1e-06, 'hidden_layer_sizes': (500, 30, 5), 'learning_rate': 'constant', 'n_iter_no_change': 50, 'solver': 'adam'}\n",
      "0.541 (+/-0.001) for {'activation': 'logistic', 'alpha': 1e-06, 'hidden_layer_sizes': (500, 30, 5), 'learning_rate': 'adaptive', 'n_iter_no_change': 15, 'solver': 'lbfgs'}\n",
      "0.541 (+/-0.001) for {'activation': 'logistic', 'alpha': 1e-06, 'hidden_layer_sizes': (500, 30, 5), 'learning_rate': 'adaptive', 'n_iter_no_change': 15, 'solver': 'sgd'}\n",
      "0.529 (+/-0.017) for {'activation': 'logistic', 'alpha': 1e-06, 'hidden_layer_sizes': (500, 30, 5), 'learning_rate': 'adaptive', 'n_iter_no_change': 15, 'solver': 'adam'}\n",
      "0.541 (+/-0.001) for {'activation': 'logistic', 'alpha': 1e-06, 'hidden_layer_sizes': (500, 30, 5), 'learning_rate': 'adaptive', 'n_iter_no_change': 20, 'solver': 'lbfgs'}\n",
      "0.541 (+/-0.001) for {'activation': 'logistic', 'alpha': 1e-06, 'hidden_layer_sizes': (500, 30, 5), 'learning_rate': 'adaptive', 'n_iter_no_change': 20, 'solver': 'sgd'}\n",
      "0.532 (+/-0.025) for {'activation': 'logistic', 'alpha': 1e-06, 'hidden_layer_sizes': (500, 30, 5), 'learning_rate': 'adaptive', 'n_iter_no_change': 20, 'solver': 'adam'}\n",
      "0.541 (+/-0.001) for {'activation': 'logistic', 'alpha': 1e-06, 'hidden_layer_sizes': (500, 30, 5), 'learning_rate': 'adaptive', 'n_iter_no_change': 50, 'solver': 'lbfgs'}\n",
      "0.541 (+/-0.001) for {'activation': 'logistic', 'alpha': 1e-06, 'hidden_layer_sizes': (500, 30, 5), 'learning_rate': 'adaptive', 'n_iter_no_change': 50, 'solver': 'sgd'}\n",
      "0.538 (+/-0.023) for {'activation': 'logistic', 'alpha': 1e-06, 'hidden_layer_sizes': (500, 30, 5), 'learning_rate': 'adaptive', 'n_iter_no_change': 50, 'solver': 'adam'}\n",
      "0.544 (+/-0.034) for {'activation': 'logistic', 'alpha': 1e-06, 'hidden_layer_sizes': (800, 40), 'learning_rate': 'constant', 'n_iter_no_change': 15, 'solver': 'lbfgs'}\n",
      "0.541 (+/-0.001) for {'activation': 'logistic', 'alpha': 1e-06, 'hidden_layer_sizes': (800, 40), 'learning_rate': 'constant', 'n_iter_no_change': 15, 'solver': 'sgd'}\n",
      "0.550 (+/-0.037) for {'activation': 'logistic', 'alpha': 1e-06, 'hidden_layer_sizes': (800, 40), 'learning_rate': 'constant', 'n_iter_no_change': 15, 'solver': 'adam'}\n",
      "0.550 (+/-0.029) for {'activation': 'logistic', 'alpha': 1e-06, 'hidden_layer_sizes': (800, 40), 'learning_rate': 'constant', 'n_iter_no_change': 20, 'solver': 'lbfgs'}\n",
      "0.541 (+/-0.001) for {'activation': 'logistic', 'alpha': 1e-06, 'hidden_layer_sizes': (800, 40), 'learning_rate': 'constant', 'n_iter_no_change': 20, 'solver': 'sgd'}\n",
      "0.561 (+/-0.023) for {'activation': 'logistic', 'alpha': 1e-06, 'hidden_layer_sizes': (800, 40), 'learning_rate': 'constant', 'n_iter_no_change': 20, 'solver': 'adam'}\n",
      "0.549 (+/-0.031) for {'activation': 'logistic', 'alpha': 1e-06, 'hidden_layer_sizes': (800, 40), 'learning_rate': 'constant', 'n_iter_no_change': 50, 'solver': 'lbfgs'}\n",
      "0.541 (+/-0.001) for {'activation': 'logistic', 'alpha': 1e-06, 'hidden_layer_sizes': (800, 40), 'learning_rate': 'constant', 'n_iter_no_change': 50, 'solver': 'sgd'}\n",
      "0.556 (+/-0.024) for {'activation': 'logistic', 'alpha': 1e-06, 'hidden_layer_sizes': (800, 40), 'learning_rate': 'constant', 'n_iter_no_change': 50, 'solver': 'adam'}\n",
      "0.545 (+/-0.007) for {'activation': 'logistic', 'alpha': 1e-06, 'hidden_layer_sizes': (800, 40), 'learning_rate': 'adaptive', 'n_iter_no_change': 15, 'solver': 'lbfgs'}\n",
      "0.541 (+/-0.001) for {'activation': 'logistic', 'alpha': 1e-06, 'hidden_layer_sizes': (800, 40), 'learning_rate': 'adaptive', 'n_iter_no_change': 15, 'solver': 'sgd'}\n",
      "0.539 (+/-0.015) for {'activation': 'logistic', 'alpha': 1e-06, 'hidden_layer_sizes': (800, 40), 'learning_rate': 'adaptive', 'n_iter_no_change': 15, 'solver': 'adam'}\n",
      "0.544 (+/-0.045) for {'activation': 'logistic', 'alpha': 1e-06, 'hidden_layer_sizes': (800, 40), 'learning_rate': 'adaptive', 'n_iter_no_change': 20, 'solver': 'lbfgs'}\n",
      "0.541 (+/-0.001) for {'activation': 'logistic', 'alpha': 1e-06, 'hidden_layer_sizes': (800, 40), 'learning_rate': 'adaptive', 'n_iter_no_change': 20, 'solver': 'sgd'}\n",
      "0.547 (+/-0.025) for {'activation': 'logistic', 'alpha': 1e-06, 'hidden_layer_sizes': (800, 40), 'learning_rate': 'adaptive', 'n_iter_no_change': 20, 'solver': 'adam'}\n",
      "0.545 (+/-0.032) for {'activation': 'logistic', 'alpha': 1e-06, 'hidden_layer_sizes': (800, 40), 'learning_rate': 'adaptive', 'n_iter_no_change': 50, 'solver': 'lbfgs'}\n",
      "0.541 (+/-0.001) for {'activation': 'logistic', 'alpha': 1e-06, 'hidden_layer_sizes': (800, 40), 'learning_rate': 'adaptive', 'n_iter_no_change': 50, 'solver': 'sgd'}\n",
      "0.555 (+/-0.036) for {'activation': 'logistic', 'alpha': 1e-06, 'hidden_layer_sizes': (800, 40), 'learning_rate': 'adaptive', 'n_iter_no_change': 50, 'solver': 'adam'}\n",
      "0.539 (+/-0.046) for {'activation': 'logistic', 'alpha': 1e-06, 'hidden_layer_sizes': (400, 32), 'learning_rate': 'constant', 'n_iter_no_change': 15, 'solver': 'lbfgs'}\n",
      "0.541 (+/-0.001) for {'activation': 'logistic', 'alpha': 1e-06, 'hidden_layer_sizes': (400, 32), 'learning_rate': 'constant', 'n_iter_no_change': 15, 'solver': 'sgd'}\n",
      "0.549 (+/-0.028) for {'activation': 'logistic', 'alpha': 1e-06, 'hidden_layer_sizes': (400, 32), 'learning_rate': 'constant', 'n_iter_no_change': 15, 'solver': 'adam'}\n",
      "0.527 (+/-0.068) for {'activation': 'logistic', 'alpha': 1e-06, 'hidden_layer_sizes': (400, 32), 'learning_rate': 'constant', 'n_iter_no_change': 20, 'solver': 'lbfgs'}\n",
      "0.541 (+/-0.001) for {'activation': 'logistic', 'alpha': 1e-06, 'hidden_layer_sizes': (400, 32), 'learning_rate': 'constant', 'n_iter_no_change': 20, 'solver': 'sgd'}\n",
      "0.547 (+/-0.037) for {'activation': 'logistic', 'alpha': 1e-06, 'hidden_layer_sizes': (400, 32), 'learning_rate': 'constant', 'n_iter_no_change': 20, 'solver': 'adam'}\n",
      "0.508 (+/-0.049) for {'activation': 'logistic', 'alpha': 1e-06, 'hidden_layer_sizes': (400, 32), 'learning_rate': 'constant', 'n_iter_no_change': 50, 'solver': 'lbfgs'}\n",
      "0.541 (+/-0.001) for {'activation': 'logistic', 'alpha': 1e-06, 'hidden_layer_sizes': (400, 32), 'learning_rate': 'constant', 'n_iter_no_change': 50, 'solver': 'sgd'}\n",
      "0.550 (+/-0.033) for {'activation': 'logistic', 'alpha': 1e-06, 'hidden_layer_sizes': (400, 32), 'learning_rate': 'constant', 'n_iter_no_change': 50, 'solver': 'adam'}\n",
      "0.552 (+/-0.018) for {'activation': 'logistic', 'alpha': 1e-06, 'hidden_layer_sizes': (400, 32), 'learning_rate': 'adaptive', 'n_iter_no_change': 15, 'solver': 'lbfgs'}\n",
      "0.541 (+/-0.001) for {'activation': 'logistic', 'alpha': 1e-06, 'hidden_layer_sizes': (400, 32), 'learning_rate': 'adaptive', 'n_iter_no_change': 15, 'solver': 'sgd'}\n",
      "0.563 (+/-0.033) for {'activation': 'logistic', 'alpha': 1e-06, 'hidden_layer_sizes': (400, 32), 'learning_rate': 'adaptive', 'n_iter_no_change': 15, 'solver': 'adam'}\n",
      "0.534 (+/-0.060) for {'activation': 'logistic', 'alpha': 1e-06, 'hidden_layer_sizes': (400, 32), 'learning_rate': 'adaptive', 'n_iter_no_change': 20, 'solver': 'lbfgs'}\n",
      "0.541 (+/-0.001) for {'activation': 'logistic', 'alpha': 1e-06, 'hidden_layer_sizes': (400, 32), 'learning_rate': 'adaptive', 'n_iter_no_change': 20, 'solver': 'sgd'}\n",
      "0.540 (+/-0.019) for {'activation': 'logistic', 'alpha': 1e-06, 'hidden_layer_sizes': (400, 32), 'learning_rate': 'adaptive', 'n_iter_no_change': 20, 'solver': 'adam'}\n",
      "0.557 (+/-0.040) for {'activation': 'logistic', 'alpha': 1e-06, 'hidden_layer_sizes': (400, 32), 'learning_rate': 'adaptive', 'n_iter_no_change': 50, 'solver': 'lbfgs'}\n",
      "0.541 (+/-0.001) for {'activation': 'logistic', 'alpha': 1e-06, 'hidden_layer_sizes': (400, 32), 'learning_rate': 'adaptive', 'n_iter_no_change': 50, 'solver': 'sgd'}\n",
      "0.534 (+/-0.046) for {'activation': 'logistic', 'alpha': 1e-06, 'hidden_layer_sizes': (400, 32), 'learning_rate': 'adaptive', 'n_iter_no_change': 50, 'solver': 'adam'}\n",
      "0.541 (+/-0.001) for {'activation': 'logistic', 'alpha': 1e-06, 'hidden_layer_sizes': (1000, 300, 20), 'learning_rate': 'constant', 'n_iter_no_change': 15, 'solver': 'lbfgs'}\n",
      "0.541 (+/-0.001) for {'activation': 'logistic', 'alpha': 1e-06, 'hidden_layer_sizes': (1000, 300, 20), 'learning_rate': 'constant', 'n_iter_no_change': 15, 'solver': 'sgd'}\n",
      "0.546 (+/-0.028) for {'activation': 'logistic', 'alpha': 1e-06, 'hidden_layer_sizes': (1000, 300, 20), 'learning_rate': 'constant', 'n_iter_no_change': 15, 'solver': 'adam'}\n",
      "0.541 (+/-0.001) for {'activation': 'logistic', 'alpha': 1e-06, 'hidden_layer_sizes': (1000, 300, 20), 'learning_rate': 'constant', 'n_iter_no_change': 20, 'solver': 'lbfgs'}\n",
      "0.541 (+/-0.001) for {'activation': 'logistic', 'alpha': 1e-06, 'hidden_layer_sizes': (1000, 300, 20), 'learning_rate': 'constant', 'n_iter_no_change': 20, 'solver': 'sgd'}\n",
      "0.551 (+/-0.029) for {'activation': 'logistic', 'alpha': 1e-06, 'hidden_layer_sizes': (1000, 300, 20), 'learning_rate': 'constant', 'n_iter_no_change': 20, 'solver': 'adam'}\n",
      "0.541 (+/-0.001) for {'activation': 'logistic', 'alpha': 1e-06, 'hidden_layer_sizes': (1000, 300, 20), 'learning_rate': 'constant', 'n_iter_no_change': 50, 'solver': 'lbfgs'}\n",
      "0.541 (+/-0.001) for {'activation': 'logistic', 'alpha': 1e-06, 'hidden_layer_sizes': (1000, 300, 20), 'learning_rate': 'constant', 'n_iter_no_change': 50, 'solver': 'sgd'}\n",
      "0.542 (+/-0.013) for {'activation': 'logistic', 'alpha': 1e-06, 'hidden_layer_sizes': (1000, 300, 20), 'learning_rate': 'constant', 'n_iter_no_change': 50, 'solver': 'adam'}\n",
      "0.541 (+/-0.001) for {'activation': 'logistic', 'alpha': 1e-06, 'hidden_layer_sizes': (1000, 300, 20), 'learning_rate': 'adaptive', 'n_iter_no_change': 15, 'solver': 'lbfgs'}\n",
      "0.541 (+/-0.001) for {'activation': 'logistic', 'alpha': 1e-06, 'hidden_layer_sizes': (1000, 300, 20), 'learning_rate': 'adaptive', 'n_iter_no_change': 15, 'solver': 'sgd'}\n",
      "0.541 (+/-0.001) for {'activation': 'logistic', 'alpha': 1e-06, 'hidden_layer_sizes': (1000, 300, 20), 'learning_rate': 'adaptive', 'n_iter_no_change': 15, 'solver': 'adam'}\n",
      "0.541 (+/-0.001) for {'activation': 'logistic', 'alpha': 1e-06, 'hidden_layer_sizes': (1000, 300, 20), 'learning_rate': 'adaptive', 'n_iter_no_change': 20, 'solver': 'lbfgs'}\n",
      "0.541 (+/-0.001) for {'activation': 'logistic', 'alpha': 1e-06, 'hidden_layer_sizes': (1000, 300, 20), 'learning_rate': 'adaptive', 'n_iter_no_change': 20, 'solver': 'sgd'}\n",
      "0.550 (+/-0.013) for {'activation': 'logistic', 'alpha': 1e-06, 'hidden_layer_sizes': (1000, 300, 20), 'learning_rate': 'adaptive', 'n_iter_no_change': 20, 'solver': 'adam'}\n",
      "0.541 (+/-0.001) for {'activation': 'logistic', 'alpha': 1e-06, 'hidden_layer_sizes': (1000, 300, 20), 'learning_rate': 'adaptive', 'n_iter_no_change': 50, 'solver': 'lbfgs'}\n",
      "0.541 (+/-0.001) for {'activation': 'logistic', 'alpha': 1e-06, 'hidden_layer_sizes': (1000, 300, 20), 'learning_rate': 'adaptive', 'n_iter_no_change': 50, 'solver': 'sgd'}\n",
      "0.549 (+/-0.029) for {'activation': 'logistic', 'alpha': 1e-06, 'hidden_layer_sizes': (1000, 300, 20), 'learning_rate': 'adaptive', 'n_iter_no_change': 50, 'solver': 'adam'}\n",
      "0.538 (+/-0.025) for {'activation': 'tanh', 'alpha': 1e-06, 'hidden_layer_sizes': (500, 30, 5), 'learning_rate': 'constant', 'n_iter_no_change': 15, 'solver': 'lbfgs'}\n",
      "0.543 (+/-0.033) for {'activation': 'tanh', 'alpha': 1e-06, 'hidden_layer_sizes': (500, 30, 5), 'learning_rate': 'constant', 'n_iter_no_change': 15, 'solver': 'sgd'}\n",
      "0.527 (+/-0.014) for {'activation': 'tanh', 'alpha': 1e-06, 'hidden_layer_sizes': (500, 30, 5), 'learning_rate': 'constant', 'n_iter_no_change': 15, 'solver': 'adam'}\n",
      "0.509 (+/-0.082) for {'activation': 'tanh', 'alpha': 1e-06, 'hidden_layer_sizes': (500, 30, 5), 'learning_rate': 'constant', 'n_iter_no_change': 20, 'solver': 'lbfgs'}\n",
      "0.544 (+/-0.004) for {'activation': 'tanh', 'alpha': 1e-06, 'hidden_layer_sizes': (500, 30, 5), 'learning_rate': 'constant', 'n_iter_no_change': 20, 'solver': 'sgd'}\n",
      "0.513 (+/-0.031) for {'activation': 'tanh', 'alpha': 1e-06, 'hidden_layer_sizes': (500, 30, 5), 'learning_rate': 'constant', 'n_iter_no_change': 20, 'solver': 'adam'}\n",
      "0.546 (+/-0.047) for {'activation': 'tanh', 'alpha': 1e-06, 'hidden_layer_sizes': (500, 30, 5), 'learning_rate': 'constant', 'n_iter_no_change': 50, 'solver': 'lbfgs'}\n",
      "0.551 (+/-0.045) for {'activation': 'tanh', 'alpha': 1e-06, 'hidden_layer_sizes': (500, 30, 5), 'learning_rate': 'constant', 'n_iter_no_change': 50, 'solver': 'sgd'}\n",
      "0.525 (+/-0.029) for {'activation': 'tanh', 'alpha': 1e-06, 'hidden_layer_sizes': (500, 30, 5), 'learning_rate': 'constant', 'n_iter_no_change': 50, 'solver': 'adam'}\n",
      "0.509 (+/-0.040) for {'activation': 'tanh', 'alpha': 1e-06, 'hidden_layer_sizes': (500, 30, 5), 'learning_rate': 'adaptive', 'n_iter_no_change': 15, 'solver': 'lbfgs'}\n",
      "0.549 (+/-0.030) for {'activation': 'tanh', 'alpha': 1e-06, 'hidden_layer_sizes': (500, 30, 5), 'learning_rate': 'adaptive', 'n_iter_no_change': 15, 'solver': 'sgd'}\n",
      "0.524 (+/-0.040) for {'activation': 'tanh', 'alpha': 1e-06, 'hidden_layer_sizes': (500, 30, 5), 'learning_rate': 'adaptive', 'n_iter_no_change': 15, 'solver': 'adam'}\n",
      "0.512 (+/-0.050) for {'activation': 'tanh', 'alpha': 1e-06, 'hidden_layer_sizes': (500, 30, 5), 'learning_rate': 'adaptive', 'n_iter_no_change': 20, 'solver': 'lbfgs'}\n",
      "0.547 (+/-0.040) for {'activation': 'tanh', 'alpha': 1e-06, 'hidden_layer_sizes': (500, 30, 5), 'learning_rate': 'adaptive', 'n_iter_no_change': 20, 'solver': 'sgd'}\n",
      "0.504 (+/-0.076) for {'activation': 'tanh', 'alpha': 1e-06, 'hidden_layer_sizes': (500, 30, 5), 'learning_rate': 'adaptive', 'n_iter_no_change': 20, 'solver': 'adam'}\n",
      "0.514 (+/-0.033) for {'activation': 'tanh', 'alpha': 1e-06, 'hidden_layer_sizes': (500, 30, 5), 'learning_rate': 'adaptive', 'n_iter_no_change': 50, 'solver': 'lbfgs'}\n",
      "0.547 (+/-0.041) for {'activation': 'tanh', 'alpha': 1e-06, 'hidden_layer_sizes': (500, 30, 5), 'learning_rate': 'adaptive', 'n_iter_no_change': 50, 'solver': 'sgd'}\n",
      "0.500 (+/-0.025) for {'activation': 'tanh', 'alpha': 1e-06, 'hidden_layer_sizes': (500, 30, 5), 'learning_rate': 'adaptive', 'n_iter_no_change': 50, 'solver': 'adam'}\n",
      "0.530 (+/-0.045) for {'activation': 'tanh', 'alpha': 1e-06, 'hidden_layer_sizes': (800, 40), 'learning_rate': 'constant', 'n_iter_no_change': 15, 'solver': 'lbfgs'}\n",
      "0.550 (+/-0.028) for {'activation': 'tanh', 'alpha': 1e-06, 'hidden_layer_sizes': (800, 40), 'learning_rate': 'constant', 'n_iter_no_change': 15, 'solver': 'sgd'}\n",
      "0.540 (+/-0.025) for {'activation': 'tanh', 'alpha': 1e-06, 'hidden_layer_sizes': (800, 40), 'learning_rate': 'constant', 'n_iter_no_change': 15, 'solver': 'adam'}\n",
      "0.527 (+/-0.013) for {'activation': 'tanh', 'alpha': 1e-06, 'hidden_layer_sizes': (800, 40), 'learning_rate': 'constant', 'n_iter_no_change': 20, 'solver': 'lbfgs'}\n",
      "0.551 (+/-0.027) for {'activation': 'tanh', 'alpha': 1e-06, 'hidden_layer_sizes': (800, 40), 'learning_rate': 'constant', 'n_iter_no_change': 20, 'solver': 'sgd'}\n",
      "0.542 (+/-0.006) for {'activation': 'tanh', 'alpha': 1e-06, 'hidden_layer_sizes': (800, 40), 'learning_rate': 'constant', 'n_iter_no_change': 20, 'solver': 'adam'}\n",
      "0.513 (+/-0.071) for {'activation': 'tanh', 'alpha': 1e-06, 'hidden_layer_sizes': (800, 40), 'learning_rate': 'constant', 'n_iter_no_change': 50, 'solver': 'lbfgs'}\n",
      "0.548 (+/-0.043) for {'activation': 'tanh', 'alpha': 1e-06, 'hidden_layer_sizes': (800, 40), 'learning_rate': 'constant', 'n_iter_no_change': 50, 'solver': 'sgd'}\n",
      "0.527 (+/-0.033) for {'activation': 'tanh', 'alpha': 1e-06, 'hidden_layer_sizes': (800, 40), 'learning_rate': 'constant', 'n_iter_no_change': 50, 'solver': 'adam'}\n",
      "0.526 (+/-0.058) for {'activation': 'tanh', 'alpha': 1e-06, 'hidden_layer_sizes': (800, 40), 'learning_rate': 'adaptive', 'n_iter_no_change': 15, 'solver': 'lbfgs'}\n",
      "0.544 (+/-0.037) for {'activation': 'tanh', 'alpha': 1e-06, 'hidden_layer_sizes': (800, 40), 'learning_rate': 'adaptive', 'n_iter_no_change': 15, 'solver': 'sgd'}\n",
      "0.533 (+/-0.023) for {'activation': 'tanh', 'alpha': 1e-06, 'hidden_layer_sizes': (800, 40), 'learning_rate': 'adaptive', 'n_iter_no_change': 15, 'solver': 'adam'}\n",
      "0.522 (+/-0.017) for {'activation': 'tanh', 'alpha': 1e-06, 'hidden_layer_sizes': (800, 40), 'learning_rate': 'adaptive', 'n_iter_no_change': 20, 'solver': 'lbfgs'}\n",
      "0.552 (+/-0.039) for {'activation': 'tanh', 'alpha': 1e-06, 'hidden_layer_sizes': (800, 40), 'learning_rate': 'adaptive', 'n_iter_no_change': 20, 'solver': 'sgd'}\n",
      "0.523 (+/-0.083) for {'activation': 'tanh', 'alpha': 1e-06, 'hidden_layer_sizes': (800, 40), 'learning_rate': 'adaptive', 'n_iter_no_change': 20, 'solver': 'adam'}\n",
      "0.528 (+/-0.047) for {'activation': 'tanh', 'alpha': 1e-06, 'hidden_layer_sizes': (800, 40), 'learning_rate': 'adaptive', 'n_iter_no_change': 50, 'solver': 'lbfgs'}\n",
      "0.548 (+/-0.035) for {'activation': 'tanh', 'alpha': 1e-06, 'hidden_layer_sizes': (800, 40), 'learning_rate': 'adaptive', 'n_iter_no_change': 50, 'solver': 'sgd'}\n",
      "0.525 (+/-0.015) for {'activation': 'tanh', 'alpha': 1e-06, 'hidden_layer_sizes': (800, 40), 'learning_rate': 'adaptive', 'n_iter_no_change': 50, 'solver': 'adam'}\n",
      "0.505 (+/-0.011) for {'activation': 'tanh', 'alpha': 1e-06, 'hidden_layer_sizes': (400, 32), 'learning_rate': 'constant', 'n_iter_no_change': 15, 'solver': 'lbfgs'}\n",
      "0.546 (+/-0.036) for {'activation': 'tanh', 'alpha': 1e-06, 'hidden_layer_sizes': (400, 32), 'learning_rate': 'constant', 'n_iter_no_change': 15, 'solver': 'sgd'}\n",
      "0.532 (+/-0.057) for {'activation': 'tanh', 'alpha': 1e-06, 'hidden_layer_sizes': (400, 32), 'learning_rate': 'constant', 'n_iter_no_change': 15, 'solver': 'adam'}\n",
      "0.519 (+/-0.027) for {'activation': 'tanh', 'alpha': 1e-06, 'hidden_layer_sizes': (400, 32), 'learning_rate': 'constant', 'n_iter_no_change': 20, 'solver': 'lbfgs'}\n",
      "0.549 (+/-0.028) for {'activation': 'tanh', 'alpha': 1e-06, 'hidden_layer_sizes': (400, 32), 'learning_rate': 'constant', 'n_iter_no_change': 20, 'solver': 'sgd'}\n",
      "0.535 (+/-0.027) for {'activation': 'tanh', 'alpha': 1e-06, 'hidden_layer_sizes': (400, 32), 'learning_rate': 'constant', 'n_iter_no_change': 20, 'solver': 'adam'}\n",
      "0.527 (+/-0.044) for {'activation': 'tanh', 'alpha': 1e-06, 'hidden_layer_sizes': (400, 32), 'learning_rate': 'constant', 'n_iter_no_change': 50, 'solver': 'lbfgs'}\n",
      "0.545 (+/-0.040) for {'activation': 'tanh', 'alpha': 1e-06, 'hidden_layer_sizes': (400, 32), 'learning_rate': 'constant', 'n_iter_no_change': 50, 'solver': 'sgd'}\n",
      "0.537 (+/-0.055) for {'activation': 'tanh', 'alpha': 1e-06, 'hidden_layer_sizes': (400, 32), 'learning_rate': 'constant', 'n_iter_no_change': 50, 'solver': 'adam'}\n",
      "0.534 (+/-0.030) for {'activation': 'tanh', 'alpha': 1e-06, 'hidden_layer_sizes': (400, 32), 'learning_rate': 'adaptive', 'n_iter_no_change': 15, 'solver': 'lbfgs'}\n",
      "0.552 (+/-0.034) for {'activation': 'tanh', 'alpha': 1e-06, 'hidden_layer_sizes': (400, 32), 'learning_rate': 'adaptive', 'n_iter_no_change': 15, 'solver': 'sgd'}\n",
      "0.537 (+/-0.049) for {'activation': 'tanh', 'alpha': 1e-06, 'hidden_layer_sizes': (400, 32), 'learning_rate': 'adaptive', 'n_iter_no_change': 15, 'solver': 'adam'}\n",
      "0.515 (+/-0.037) for {'activation': 'tanh', 'alpha': 1e-06, 'hidden_layer_sizes': (400, 32), 'learning_rate': 'adaptive', 'n_iter_no_change': 20, 'solver': 'lbfgs'}\n",
      "0.542 (+/-0.038) for {'activation': 'tanh', 'alpha': 1e-06, 'hidden_layer_sizes': (400, 32), 'learning_rate': 'adaptive', 'n_iter_no_change': 20, 'solver': 'sgd'}\n",
      "0.532 (+/-0.052) for {'activation': 'tanh', 'alpha': 1e-06, 'hidden_layer_sizes': (400, 32), 'learning_rate': 'adaptive', 'n_iter_no_change': 20, 'solver': 'adam'}\n",
      "0.514 (+/-0.024) for {'activation': 'tanh', 'alpha': 1e-06, 'hidden_layer_sizes': (400, 32), 'learning_rate': 'adaptive', 'n_iter_no_change': 50, 'solver': 'lbfgs'}\n",
      "0.545 (+/-0.040) for {'activation': 'tanh', 'alpha': 1e-06, 'hidden_layer_sizes': (400, 32), 'learning_rate': 'adaptive', 'n_iter_no_change': 50, 'solver': 'sgd'}\n",
      "0.528 (+/-0.043) for {'activation': 'tanh', 'alpha': 1e-06, 'hidden_layer_sizes': (400, 32), 'learning_rate': 'adaptive', 'n_iter_no_change': 50, 'solver': 'adam'}\n",
      "0.523 (+/-0.059) for {'activation': 'tanh', 'alpha': 1e-06, 'hidden_layer_sizes': (1000, 300, 20), 'learning_rate': 'constant', 'n_iter_no_change': 15, 'solver': 'lbfgs'}\n",
      "0.551 (+/-0.035) for {'activation': 'tanh', 'alpha': 1e-06, 'hidden_layer_sizes': (1000, 300, 20), 'learning_rate': 'constant', 'n_iter_no_change': 15, 'solver': 'sgd'}\n",
      "0.528 (+/-0.057) for {'activation': 'tanh', 'alpha': 1e-06, 'hidden_layer_sizes': (1000, 300, 20), 'learning_rate': 'constant', 'n_iter_no_change': 15, 'solver': 'adam'}\n",
      "0.522 (+/-0.036) for {'activation': 'tanh', 'alpha': 1e-06, 'hidden_layer_sizes': (1000, 300, 20), 'learning_rate': 'constant', 'n_iter_no_change': 20, 'solver': 'lbfgs'}\n",
      "0.547 (+/-0.034) for {'activation': 'tanh', 'alpha': 1e-06, 'hidden_layer_sizes': (1000, 300, 20), 'learning_rate': 'constant', 'n_iter_no_change': 20, 'solver': 'sgd'}\n",
      "0.537 (+/-0.039) for {'activation': 'tanh', 'alpha': 1e-06, 'hidden_layer_sizes': (1000, 300, 20), 'learning_rate': 'constant', 'n_iter_no_change': 20, 'solver': 'adam'}\n",
      "0.527 (+/-0.019) for {'activation': 'tanh', 'alpha': 1e-06, 'hidden_layer_sizes': (1000, 300, 20), 'learning_rate': 'constant', 'n_iter_no_change': 50, 'solver': 'lbfgs'}\n",
      "0.552 (+/-0.033) for {'activation': 'tanh', 'alpha': 1e-06, 'hidden_layer_sizes': (1000, 300, 20), 'learning_rate': 'constant', 'n_iter_no_change': 50, 'solver': 'sgd'}\n",
      "0.532 (+/-0.037) for {'activation': 'tanh', 'alpha': 1e-06, 'hidden_layer_sizes': (1000, 300, 20), 'learning_rate': 'constant', 'n_iter_no_change': 50, 'solver': 'adam'}\n",
      "0.512 (+/-0.017) for {'activation': 'tanh', 'alpha': 1e-06, 'hidden_layer_sizes': (1000, 300, 20), 'learning_rate': 'adaptive', 'n_iter_no_change': 15, 'solver': 'lbfgs'}\n",
      "0.546 (+/-0.038) for {'activation': 'tanh', 'alpha': 1e-06, 'hidden_layer_sizes': (1000, 300, 20), 'learning_rate': 'adaptive', 'n_iter_no_change': 15, 'solver': 'sgd'}\n",
      "0.525 (+/-0.027) for {'activation': 'tanh', 'alpha': 1e-06, 'hidden_layer_sizes': (1000, 300, 20), 'learning_rate': 'adaptive', 'n_iter_no_change': 15, 'solver': 'adam'}\n",
      "0.548 (+/-0.052) for {'activation': 'tanh', 'alpha': 1e-06, 'hidden_layer_sizes': (1000, 300, 20), 'learning_rate': 'adaptive', 'n_iter_no_change': 20, 'solver': 'lbfgs'}\n",
      "0.548 (+/-0.033) for {'activation': 'tanh', 'alpha': 1e-06, 'hidden_layer_sizes': (1000, 300, 20), 'learning_rate': 'adaptive', 'n_iter_no_change': 20, 'solver': 'sgd'}\n",
      "0.545 (+/-0.020) for {'activation': 'tanh', 'alpha': 1e-06, 'hidden_layer_sizes': (1000, 300, 20), 'learning_rate': 'adaptive', 'n_iter_no_change': 20, 'solver': 'adam'}\n",
      "0.533 (+/-0.041) for {'activation': 'tanh', 'alpha': 1e-06, 'hidden_layer_sizes': (1000, 300, 20), 'learning_rate': 'adaptive', 'n_iter_no_change': 50, 'solver': 'lbfgs'}\n",
      "0.549 (+/-0.043) for {'activation': 'tanh', 'alpha': 1e-06, 'hidden_layer_sizes': (1000, 300, 20), 'learning_rate': 'adaptive', 'n_iter_no_change': 50, 'solver': 'sgd'}\n",
      "0.536 (+/-0.048) for {'activation': 'tanh', 'alpha': 1e-06, 'hidden_layer_sizes': (1000, 300, 20), 'learning_rate': 'adaptive', 'n_iter_no_change': 50, 'solver': 'adam'}\n",
      "0.520 (+/-0.033) for {'activation': 'relu', 'alpha': 1e-06, 'hidden_layer_sizes': (500, 30, 5), 'learning_rate': 'constant', 'n_iter_no_change': 15, 'solver': 'lbfgs'}\n",
      "0.534 (+/-0.036) for {'activation': 'relu', 'alpha': 1e-06, 'hidden_layer_sizes': (500, 30, 5), 'learning_rate': 'constant', 'n_iter_no_change': 15, 'solver': 'sgd'}\n",
      "0.522 (+/-0.039) for {'activation': 'relu', 'alpha': 1e-06, 'hidden_layer_sizes': (500, 30, 5), 'learning_rate': 'constant', 'n_iter_no_change': 15, 'solver': 'adam'}\n",
      "0.511 (+/-0.027) for {'activation': 'relu', 'alpha': 1e-06, 'hidden_layer_sizes': (500, 30, 5), 'learning_rate': 'constant', 'n_iter_no_change': 20, 'solver': 'lbfgs'}\n",
      "0.551 (+/-0.039) for {'activation': 'relu', 'alpha': 1e-06, 'hidden_layer_sizes': (500, 30, 5), 'learning_rate': 'constant', 'n_iter_no_change': 20, 'solver': 'sgd'}\n",
      "0.528 (+/-0.047) for {'activation': 'relu', 'alpha': 1e-06, 'hidden_layer_sizes': (500, 30, 5), 'learning_rate': 'constant', 'n_iter_no_change': 20, 'solver': 'adam'}\n",
      "0.530 (+/-0.032) for {'activation': 'relu', 'alpha': 1e-06, 'hidden_layer_sizes': (500, 30, 5), 'learning_rate': 'constant', 'n_iter_no_change': 50, 'solver': 'lbfgs'}\n",
      "0.555 (+/-0.018) for {'activation': 'relu', 'alpha': 1e-06, 'hidden_layer_sizes': (500, 30, 5), 'learning_rate': 'constant', 'n_iter_no_change': 50, 'solver': 'sgd'}\n",
      "0.524 (+/-0.038) for {'activation': 'relu', 'alpha': 1e-06, 'hidden_layer_sizes': (500, 30, 5), 'learning_rate': 'constant', 'n_iter_no_change': 50, 'solver': 'adam'}\n",
      "0.528 (+/-0.020) for {'activation': 'relu', 'alpha': 1e-06, 'hidden_layer_sizes': (500, 30, 5), 'learning_rate': 'adaptive', 'n_iter_no_change': 15, 'solver': 'lbfgs'}\n",
      "0.540 (+/-0.013) for {'activation': 'relu', 'alpha': 1e-06, 'hidden_layer_sizes': (500, 30, 5), 'learning_rate': 'adaptive', 'n_iter_no_change': 15, 'solver': 'sgd'}\n",
      "0.503 (+/-0.013) for {'activation': 'relu', 'alpha': 1e-06, 'hidden_layer_sizes': (500, 30, 5), 'learning_rate': 'adaptive', 'n_iter_no_change': 15, 'solver': 'adam'}\n",
      "0.525 (+/-0.018) for {'activation': 'relu', 'alpha': 1e-06, 'hidden_layer_sizes': (500, 30, 5), 'learning_rate': 'adaptive', 'n_iter_no_change': 20, 'solver': 'lbfgs'}\n",
      "0.554 (+/-0.027) for {'activation': 'relu', 'alpha': 1e-06, 'hidden_layer_sizes': (500, 30, 5), 'learning_rate': 'adaptive', 'n_iter_no_change': 20, 'solver': 'sgd'}\n",
      "0.511 (+/-0.037) for {'activation': 'relu', 'alpha': 1e-06, 'hidden_layer_sizes': (500, 30, 5), 'learning_rate': 'adaptive', 'n_iter_no_change': 20, 'solver': 'adam'}\n",
      "0.496 (+/-0.004) for {'activation': 'relu', 'alpha': 1e-06, 'hidden_layer_sizes': (500, 30, 5), 'learning_rate': 'adaptive', 'n_iter_no_change': 50, 'solver': 'lbfgs'}\n",
      "0.545 (+/-0.012) for {'activation': 'relu', 'alpha': 1e-06, 'hidden_layer_sizes': (500, 30, 5), 'learning_rate': 'adaptive', 'n_iter_no_change': 50, 'solver': 'sgd'}\n",
      "0.534 (+/-0.073) for {'activation': 'relu', 'alpha': 1e-06, 'hidden_layer_sizes': (500, 30, 5), 'learning_rate': 'adaptive', 'n_iter_no_change': 50, 'solver': 'adam'}\n",
      "0.528 (+/-0.037) for {'activation': 'relu', 'alpha': 1e-06, 'hidden_layer_sizes': (800, 40), 'learning_rate': 'constant', 'n_iter_no_change': 15, 'solver': 'lbfgs'}\n",
      "0.550 (+/-0.022) for {'activation': 'relu', 'alpha': 1e-06, 'hidden_layer_sizes': (800, 40), 'learning_rate': 'constant', 'n_iter_no_change': 15, 'solver': 'sgd'}\n",
      "0.546 (+/-0.036) for {'activation': 'relu', 'alpha': 1e-06, 'hidden_layer_sizes': (800, 40), 'learning_rate': 'constant', 'n_iter_no_change': 15, 'solver': 'adam'}\n",
      "0.529 (+/-0.016) for {'activation': 'relu', 'alpha': 1e-06, 'hidden_layer_sizes': (800, 40), 'learning_rate': 'constant', 'n_iter_no_change': 20, 'solver': 'lbfgs'}\n",
      "0.557 (+/-0.016) for {'activation': 'relu', 'alpha': 1e-06, 'hidden_layer_sizes': (800, 40), 'learning_rate': 'constant', 'n_iter_no_change': 20, 'solver': 'sgd'}\n",
      "0.535 (+/-0.055) for {'activation': 'relu', 'alpha': 1e-06, 'hidden_layer_sizes': (800, 40), 'learning_rate': 'constant', 'n_iter_no_change': 20, 'solver': 'adam'}\n",
      "0.525 (+/-0.025) for {'activation': 'relu', 'alpha': 1e-06, 'hidden_layer_sizes': (800, 40), 'learning_rate': 'constant', 'n_iter_no_change': 50, 'solver': 'lbfgs'}\n",
      "0.560 (+/-0.031) for {'activation': 'relu', 'alpha': 1e-06, 'hidden_layer_sizes': (800, 40), 'learning_rate': 'constant', 'n_iter_no_change': 50, 'solver': 'sgd'}\n",
      "0.529 (+/-0.021) for {'activation': 'relu', 'alpha': 1e-06, 'hidden_layer_sizes': (800, 40), 'learning_rate': 'constant', 'n_iter_no_change': 50, 'solver': 'adam'}\n",
      "0.521 (+/-0.039) for {'activation': 'relu', 'alpha': 1e-06, 'hidden_layer_sizes': (800, 40), 'learning_rate': 'adaptive', 'n_iter_no_change': 15, 'solver': 'lbfgs'}\n",
      "0.554 (+/-0.024) for {'activation': 'relu', 'alpha': 1e-06, 'hidden_layer_sizes': (800, 40), 'learning_rate': 'adaptive', 'n_iter_no_change': 15, 'solver': 'sgd'}\n",
      "0.538 (+/-0.027) for {'activation': 'relu', 'alpha': 1e-06, 'hidden_layer_sizes': (800, 40), 'learning_rate': 'adaptive', 'n_iter_no_change': 15, 'solver': 'adam'}\n",
      "0.497 (+/-0.034) for {'activation': 'relu', 'alpha': 1e-06, 'hidden_layer_sizes': (800, 40), 'learning_rate': 'adaptive', 'n_iter_no_change': 20, 'solver': 'lbfgs'}\n",
      "0.554 (+/-0.039) for {'activation': 'relu', 'alpha': 1e-06, 'hidden_layer_sizes': (800, 40), 'learning_rate': 'adaptive', 'n_iter_no_change': 20, 'solver': 'sgd'}\n",
      "0.530 (+/-0.014) for {'activation': 'relu', 'alpha': 1e-06, 'hidden_layer_sizes': (800, 40), 'learning_rate': 'adaptive', 'n_iter_no_change': 20, 'solver': 'adam'}\n",
      "0.531 (+/-0.037) for {'activation': 'relu', 'alpha': 1e-06, 'hidden_layer_sizes': (800, 40), 'learning_rate': 'adaptive', 'n_iter_no_change': 50, 'solver': 'lbfgs'}\n",
      "0.560 (+/-0.045) for {'activation': 'relu', 'alpha': 1e-06, 'hidden_layer_sizes': (800, 40), 'learning_rate': 'adaptive', 'n_iter_no_change': 50, 'solver': 'sgd'}\n",
      "0.538 (+/-0.016) for {'activation': 'relu', 'alpha': 1e-06, 'hidden_layer_sizes': (800, 40), 'learning_rate': 'adaptive', 'n_iter_no_change': 50, 'solver': 'adam'}\n",
      "0.521 (+/-0.020) for {'activation': 'relu', 'alpha': 1e-06, 'hidden_layer_sizes': (400, 32), 'learning_rate': 'constant', 'n_iter_no_change': 15, 'solver': 'lbfgs'}\n",
      "0.539 (+/-0.029) for {'activation': 'relu', 'alpha': 1e-06, 'hidden_layer_sizes': (400, 32), 'learning_rate': 'constant', 'n_iter_no_change': 15, 'solver': 'sgd'}\n",
      "0.542 (+/-0.027) for {'activation': 'relu', 'alpha': 1e-06, 'hidden_layer_sizes': (400, 32), 'learning_rate': 'constant', 'n_iter_no_change': 15, 'solver': 'adam'}\n",
      "0.530 (+/-0.043) for {'activation': 'relu', 'alpha': 1e-06, 'hidden_layer_sizes': (400, 32), 'learning_rate': 'constant', 'n_iter_no_change': 20, 'solver': 'lbfgs'}\n",
      "0.556 (+/-0.010) for {'activation': 'relu', 'alpha': 1e-06, 'hidden_layer_sizes': (400, 32), 'learning_rate': 'constant', 'n_iter_no_change': 20, 'solver': 'sgd'}\n",
      "0.527 (+/-0.040) for {'activation': 'relu', 'alpha': 1e-06, 'hidden_layer_sizes': (400, 32), 'learning_rate': 'constant', 'n_iter_no_change': 20, 'solver': 'adam'}\n",
      "0.518 (+/-0.065) for {'activation': 'relu', 'alpha': 1e-06, 'hidden_layer_sizes': (400, 32), 'learning_rate': 'constant', 'n_iter_no_change': 50, 'solver': 'lbfgs'}\n",
      "0.553 (+/-0.025) for {'activation': 'relu', 'alpha': 1e-06, 'hidden_layer_sizes': (400, 32), 'learning_rate': 'constant', 'n_iter_no_change': 50, 'solver': 'sgd'}\n",
      "0.533 (+/-0.039) for {'activation': 'relu', 'alpha': 1e-06, 'hidden_layer_sizes': (400, 32), 'learning_rate': 'constant', 'n_iter_no_change': 50, 'solver': 'adam'}\n",
      "0.537 (+/-0.068) for {'activation': 'relu', 'alpha': 1e-06, 'hidden_layer_sizes': (400, 32), 'learning_rate': 'adaptive', 'n_iter_no_change': 15, 'solver': 'lbfgs'}\n",
      "0.547 (+/-0.030) for {'activation': 'relu', 'alpha': 1e-06, 'hidden_layer_sizes': (400, 32), 'learning_rate': 'adaptive', 'n_iter_no_change': 15, 'solver': 'sgd'}\n",
      "0.529 (+/-0.032) for {'activation': 'relu', 'alpha': 1e-06, 'hidden_layer_sizes': (400, 32), 'learning_rate': 'adaptive', 'n_iter_no_change': 15, 'solver': 'adam'}\n",
      "0.536 (+/-0.047) for {'activation': 'relu', 'alpha': 1e-06, 'hidden_layer_sizes': (400, 32), 'learning_rate': 'adaptive', 'n_iter_no_change': 20, 'solver': 'lbfgs'}\n",
      "0.557 (+/-0.036) for {'activation': 'relu', 'alpha': 1e-06, 'hidden_layer_sizes': (400, 32), 'learning_rate': 'adaptive', 'n_iter_no_change': 20, 'solver': 'sgd'}\n",
      "0.532 (+/-0.045) for {'activation': 'relu', 'alpha': 1e-06, 'hidden_layer_sizes': (400, 32), 'learning_rate': 'adaptive', 'n_iter_no_change': 20, 'solver': 'adam'}\n",
      "0.501 (+/-0.037) for {'activation': 'relu', 'alpha': 1e-06, 'hidden_layer_sizes': (400, 32), 'learning_rate': 'adaptive', 'n_iter_no_change': 50, 'solver': 'lbfgs'}\n",
      "0.552 (+/-0.016) for {'activation': 'relu', 'alpha': 1e-06, 'hidden_layer_sizes': (400, 32), 'learning_rate': 'adaptive', 'n_iter_no_change': 50, 'solver': 'sgd'}\n",
      "0.539 (+/-0.037) for {'activation': 'relu', 'alpha': 1e-06, 'hidden_layer_sizes': (400, 32), 'learning_rate': 'adaptive', 'n_iter_no_change': 50, 'solver': 'adam'}\n",
      "0.528 (+/-0.030) for {'activation': 'relu', 'alpha': 1e-06, 'hidden_layer_sizes': (1000, 300, 20), 'learning_rate': 'constant', 'n_iter_no_change': 15, 'solver': 'lbfgs'}\n",
      "0.565 (+/-0.031) for {'activation': 'relu', 'alpha': 1e-06, 'hidden_layer_sizes': (1000, 300, 20), 'learning_rate': 'constant', 'n_iter_no_change': 15, 'solver': 'sgd'}\n",
      "0.531 (+/-0.034) for {'activation': 'relu', 'alpha': 1e-06, 'hidden_layer_sizes': (1000, 300, 20), 'learning_rate': 'constant', 'n_iter_no_change': 15, 'solver': 'adam'}\n",
      "0.524 (+/-0.012) for {'activation': 'relu', 'alpha': 1e-06, 'hidden_layer_sizes': (1000, 300, 20), 'learning_rate': 'constant', 'n_iter_no_change': 20, 'solver': 'lbfgs'}\n",
      "0.554 (+/-0.004) for {'activation': 'relu', 'alpha': 1e-06, 'hidden_layer_sizes': (1000, 300, 20), 'learning_rate': 'constant', 'n_iter_no_change': 20, 'solver': 'sgd'}\n",
      "0.528 (+/-0.032) for {'activation': 'relu', 'alpha': 1e-06, 'hidden_layer_sizes': (1000, 300, 20), 'learning_rate': 'constant', 'n_iter_no_change': 20, 'solver': 'adam'}\n",
      "0.540 (+/-0.038) for {'activation': 'relu', 'alpha': 1e-06, 'hidden_layer_sizes': (1000, 300, 20), 'learning_rate': 'constant', 'n_iter_no_change': 50, 'solver': 'lbfgs'}\n",
      "0.552 (+/-0.030) for {'activation': 'relu', 'alpha': 1e-06, 'hidden_layer_sizes': (1000, 300, 20), 'learning_rate': 'constant', 'n_iter_no_change': 50, 'solver': 'sgd'}\n",
      "0.521 (+/-0.050) for {'activation': 'relu', 'alpha': 1e-06, 'hidden_layer_sizes': (1000, 300, 20), 'learning_rate': 'constant', 'n_iter_no_change': 50, 'solver': 'adam'}\n",
      "0.522 (+/-0.047) for {'activation': 'relu', 'alpha': 1e-06, 'hidden_layer_sizes': (1000, 300, 20), 'learning_rate': 'adaptive', 'n_iter_no_change': 15, 'solver': 'lbfgs'}\n",
      "0.554 (+/-0.023) for {'activation': 'relu', 'alpha': 1e-06, 'hidden_layer_sizes': (1000, 300, 20), 'learning_rate': 'adaptive', 'n_iter_no_change': 15, 'solver': 'sgd'}\n",
      "0.527 (+/-0.044) for {'activation': 'relu', 'alpha': 1e-06, 'hidden_layer_sizes': (1000, 300, 20), 'learning_rate': 'adaptive', 'n_iter_no_change': 15, 'solver': 'adam'}\n",
      "0.537 (+/-0.059) for {'activation': 'relu', 'alpha': 1e-06, 'hidden_layer_sizes': (1000, 300, 20), 'learning_rate': 'adaptive', 'n_iter_no_change': 20, 'solver': 'lbfgs'}\n",
      "0.550 (+/-0.018) for {'activation': 'relu', 'alpha': 1e-06, 'hidden_layer_sizes': (1000, 300, 20), 'learning_rate': 'adaptive', 'n_iter_no_change': 20, 'solver': 'sgd'}\n",
      "0.525 (+/-0.018) for {'activation': 'relu', 'alpha': 1e-06, 'hidden_layer_sizes': (1000, 300, 20), 'learning_rate': 'adaptive', 'n_iter_no_change': 20, 'solver': 'adam'}\n",
      "0.523 (+/-0.038) for {'activation': 'relu', 'alpha': 1e-06, 'hidden_layer_sizes': (1000, 300, 20), 'learning_rate': 'adaptive', 'n_iter_no_change': 50, 'solver': 'lbfgs'}\n",
      "0.553 (+/-0.026) for {'activation': 'relu', 'alpha': 1e-06, 'hidden_layer_sizes': (1000, 300, 20), 'learning_rate': 'adaptive', 'n_iter_no_change': 50, 'solver': 'sgd'}\n",
      "0.537 (+/-0.022) for {'activation': 'relu', 'alpha': 1e-06, 'hidden_layer_sizes': (1000, 300, 20), 'learning_rate': 'adaptive', 'n_iter_no_change': 50, 'solver': 'adam'}\n"
     ]
    }
   ],
   "source": [
    "# Best paramete set\n",
    "print('Best parameters found:\\n', clf.best_params_)\n",
    "\n",
    "# All results\n",
    "means = clf.cv_results_['mean_test_score']\n",
    "stds = clf.cv_results_['std_test_score']\n",
    "for mean, std, params in zip(means, stds, clf.cv_results_['params']):\n",
    "    print(\"%0.3f (+/-%0.03f) for %r\" % (mean, std * 2, params))"
   ]
  },
  {
   "cell_type": "code",
   "execution_count": 1453,
   "metadata": {},
   "outputs": [
    {
     "name": "stdout",
     "output_type": "stream",
     "text": [
      "Results on the test set:\n",
      "              precision    recall  f1-score   support\n",
      "\n",
      "           0       0.41      0.05      0.09       134\n",
      "           1       0.48      0.92      0.63       126\n",
      "\n",
      "    accuracy                           0.47       260\n",
      "   macro avg       0.44      0.49      0.36       260\n",
      "weighted avg       0.44      0.47      0.35       260\n",
      "\n"
     ]
    }
   ],
   "source": [
    "y_true, y_pred = y_test , clf.predict(X_test)\n",
    "\n",
    "from sklearn.metrics import classification_report\n",
    "print('Results on the test set:')\n",
    "print(classification_report(y_true, y_pred))"
   ]
  },
  {
   "cell_type": "markdown",
   "metadata": {},
   "source": [
    "ALGORITIMO"
   ]
  },
  {
   "cell_type": "code",
   "execution_count": 953,
   "metadata": {},
   "outputs": [],
   "source": [
    "X = DADOS_OPT.iloc[:,5:9]\n",
    "y = DADOS_OPT.select_dtypes(include=[object])"
   ]
  },
  {
   "cell_type": "code",
   "execution_count": 954,
   "metadata": {
    "scrolled": true
   },
   "outputs": [],
   "source": [
    "from sklearn import preprocessing\n",
    "le = preprocessing.LabelEncoder()\n",
    "\n",
    "y = y.apply(le.fit_transform)"
   ]
  },
  {
   "cell_type": "code",
   "execution_count": 955,
   "metadata": {},
   "outputs": [],
   "source": [
    "from sklearn.model_selection import train_test_split\n",
    "X_train, X_test, y_train, y_test = train_test_split(X, y, test_size = 0.20)"
   ]
  },
  {
   "cell_type": "code",
   "execution_count": 956,
   "metadata": {},
   "outputs": [],
   "source": [
    "from sklearn.preprocessing import StandardScaler\n",
    "scaler = StandardScaler()\n",
    "scaler.fit(X_train)\n",
    "\n",
    "X_train = scaler.transform(X_train)\n",
    "X_test = scaler.transform(X_test)"
   ]
  },
  {
   "cell_type": "markdown",
   "metadata": {},
   "source": [
    "Linear"
   ]
  },
  {
   "cell_type": "code",
   "execution_count": 1422,
   "metadata": {},
   "outputs": [
    {
     "name": "stderr",
     "output_type": "stream",
     "text": [
      "C:\\Users\\Enrico Damiani\\Anaconda3\\lib\\site-packages\\sklearn\\utils\\validation.py:724: DataConversionWarning: A column-vector y was passed when a 1d array was expected. Please change the shape of y to (n_samples, ), for example using ravel().\n",
      "  y = column_or_1d(y, warn=True)\n"
     ]
    }
   ],
   "source": [
    "from sklearn.linear_model import Perceptron\n",
    "p = Perceptron(random_state=42,\n",
    "              max_iter=100,\n",
    "              tol=0.001)\n",
    "p.fit(X_train, y_train)\n",
    "\n",
    "\n",
    "pred = p.predict(X_test)\n",
    "a = []\n",
    "for e in pred:\n",
    "    a.append(e)"
   ]
  },
  {
   "cell_type": "code",
   "execution_count": 1423,
   "metadata": {},
   "outputs": [
    {
     "name": "stdout",
     "output_type": "stream",
     "text": [
      "124\n"
     ]
    }
   ],
   "source": [
    "e =0\n",
    "i = 0\n",
    "while i < len(a):\n",
    "    if a[i] == y_test['Position'][i]:\n",
    "        e += 1\n",
    "    i += 1\n",
    "    \n",
    "print (e)"
   ]
  },
  {
   "cell_type": "markdown",
   "metadata": {},
   "source": [
    "Random Forest"
   ]
  },
  {
   "cell_type": "code",
   "execution_count": 1424,
   "metadata": {},
   "outputs": [],
   "source": [
    "\n",
    "from sklearn.ensemble import RandomForestClassifier\n",
    "\n",
    "rf = RandomForestClassifier(n_estimators = 500, n_jobs = 2, random_state = 42)\n",
    "\n",
    "rf.fit(X_train, y_train.values.ravel());"
   ]
  },
  {
   "cell_type": "code",
   "execution_count": 1425,
   "metadata": {},
   "outputs": [
    {
     "name": "stdout",
     "output_type": "stream",
     "text": [
      "118\n"
     ]
    }
   ],
   "source": [
    "predictionsrf = rf.predict(X_test)\n",
    "\n",
    "b = []\n",
    "for e in predictionsrf:\n",
    "    b.append(e)\n",
    "\n",
    "e =0\n",
    "i = 0\n",
    "while i < len(b):\n",
    "    if b[i] == y_test['Position'][i]:\n",
    "        e += 1\n",
    "    i += 1\n",
    "    \n",
    "print (e)"
   ]
  },
  {
   "cell_type": "markdown",
   "metadata": {},
   "source": [
    "MLP"
   ]
  },
  {
   "cell_type": "code",
   "execution_count": 1450,
   "metadata": {},
   "outputs": [
    {
     "data": {
      "text/plain": [
       "MLPClassifier(activation='relu', alpha=1e-06, batch_size='auto', beta_1=0.9,\n",
       "              beta_2=0.999, early_stopping=False, epsilon=1e-08,\n",
       "              hidden_layer_sizes=(1000, 300, 20), learning_rate='constant',\n",
       "              learning_rate_init=0.001, max_iter=1000, momentum=0.9,\n",
       "              n_iter_no_change=10, nesterovs_momentum=True, power_t=0.5,\n",
       "              random_state=None, shuffle=True, solver='sgd', tol=0.0001,\n",
       "              validation_fraction=0.1, verbose=False, warm_start=False)"
      ]
     },
     "execution_count": 1450,
     "metadata": {},
     "output_type": "execute_result"
    }
   ],
   "source": [
    "from sklearn.neural_network import MLPClassifier\n",
    "mlp = MLPClassifier (hidden_layer_sizes = (1000,300,20), activation='relu', solver = 'sgd', alpha = 1e-6, learning_rate = 'constant', max_iter = 1000)\n",
    "mlp.fit(X_train, y_train.values.ravel())\n",
    "\n"
   ]
  },
  {
   "cell_type": "code",
   "execution_count": 1451,
   "metadata": {
    "scrolled": true
   },
   "outputs": [
    {
     "name": "stdout",
     "output_type": "stream",
     "text": [
      "Training set score: 0.569913\n",
      "Test set score: 0.450000\n",
      "0.6799184910317289\n"
     ]
    }
   ],
   "source": [
    "print(\"Training set score: %f\" % mlp.score(X_train, y_train))\n",
    "print(\"Test set score: %f\" % mlp.score(X_test, y_test))\n",
    "print(mlp.loss_)\n"
   ]
  },
  {
   "cell_type": "code",
   "execution_count": 1390,
   "metadata": {},
   "outputs": [
    {
     "name": "stdout",
     "output_type": "stream",
     "text": [
      "[[65 69]\n",
      " [63 63]]\n",
      "              precision    recall  f1-score   support\n",
      "\n",
      "           0       0.51      0.49      0.50       134\n",
      "           1       0.48      0.50      0.49       126\n",
      "\n",
      "    accuracy                           0.49       260\n",
      "   macro avg       0.49      0.49      0.49       260\n",
      "weighted avg       0.49      0.49      0.49       260\n",
      "\n"
     ]
    }
   ],
   "source": [
    "predictions = mlp.predict(X_test)\n",
    "print(confusion_matrix(y_test,predictions))\n",
    "print(classification_report(y_test,predictions))"
   ]
  },
  {
   "cell_type": "code",
   "execution_count": 1199,
   "metadata": {},
   "outputs": [],
   "source": [
    "from sklearn.metrics import classification_report, confusion_matrix"
   ]
  },
  {
   "cell_type": "code",
   "execution_count": 1391,
   "metadata": {},
   "outputs": [
    {
     "name": "stdout",
     "output_type": "stream",
     "text": [
      "128\n"
     ]
    }
   ],
   "source": [
    "i = 0\n",
    "e = 0\n",
    "while i < len(predictions):\n",
    "    if predictions[i] == y_test['Position'][i]:\n",
    "        e += 1\n",
    "    i += 1\n",
    "    \n",
    "print (e)"
   ]
  },
  {
   "cell_type": "code",
   "execution_count": 754,
   "metadata": {},
   "outputs": [
    {
     "data": {
      "text/plain": [
       "260"
      ]
     },
     "execution_count": 754,
     "metadata": {},
     "output_type": "execute_result"
    }
   ],
   "source": [
    "len(predictions)"
   ]
  },
  {
   "cell_type": "code",
   "execution_count": null,
   "metadata": {},
   "outputs": [],
   "source": []
  }
 ],
 "metadata": {
  "kernelspec": {
   "display_name": "Python 3",
   "language": "python",
   "name": "python3"
  },
  "language_info": {
   "codemirror_mode": {
    "name": "ipython",
    "version": 3
   },
   "file_extension": ".py",
   "mimetype": "text/x-python",
   "name": "python",
   "nbconvert_exporter": "python",
   "pygments_lexer": "ipython3",
   "version": "3.7.3"
  }
 },
 "nbformat": 4,
 "nbformat_minor": 2
}
