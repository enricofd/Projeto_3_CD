{
 "cells": [
  {
   "cell_type": "markdown",
   "metadata": {},
   "source": [
    "# Projeto 3"
   ]
  },
  {
   "cell_type": "code",
   "execution_count": null,
   "metadata": {},
   "outputs": [],
   "source": [
    "import pandas as pd\n",
    "import numpy as np\n",
    "import re\n",
    "import string\n",
    "from IPython.display import display\n",
    "from nltk.stem import PorterStemmer\n",
    "stemmer = PorterStemmer()"
   ]
  },
  {
   "cell_type": "code",
   "execution_count": null,
   "metadata": {},
   "outputs": [],
   "source": [
    "PETR4_raw = pd.read_excel (r'PETR4.SA .xltx')\n",
    "\n",
    "GOLD_raw = pd.read_excel (r'Gold Futures Historical Data.xltx') \n",
    "RDS_raw = pd.read_excel (r'RDS-A.xltx') \n",
    "OIL_raw = pd.read_excel (r'Crude Oil WTI Futures Historical Data.xltx')\n",
    "CRD_raw = pd.read_excel (r'USD_BRL Dados Históricos.xltx')"
   ]
  },
  {
   "cell_type": "code",
   "execution_count": null,
   "metadata": {},
   "outputs": [],
   "source": [
    "PETR4 = PETR4_raw[['Date', 'Adj Close']]\n",
    "\n",
    "GOLD = GOLD_raw[['Date', 'Price']]\n",
    "RDS = RDS_raw[['Date', 'Adj Close']]\n",
    "OIL = OIL_raw[['Date', 'Price']]\n",
    "CRD = CRD_raw[['Data', 'Último']]"
   ]
  },
  {
   "cell_type": "markdown",
   "metadata": {},
   "source": [
    "Para PETR4:"
   ]
  },
  {
   "cell_type": "code",
   "execution_count": null,
   "metadata": {},
   "outputs": [],
   "source": [
    "PETR4_RE = PETR4.rename(columns={\"Adj Close\": \"Valor_PETR4\"})\n",
    "PETR4_REDate = PETR4_RE.assign(Date = PETR4_RE.Date.values[::-1])\n",
    "PETR4_F = PETR4_REDate.assign(Valor_PETR4 = PETR4_REDate.Valor_PETR4.values[::-1])"
   ]
  },
  {
   "cell_type": "markdown",
   "metadata": {},
   "source": [
    "Para Gold:"
   ]
  },
  {
   "cell_type": "code",
   "execution_count": null,
   "metadata": {},
   "outputs": [],
   "source": [
    "GOLD_F = GOLD.rename(columns={\"Price\": \"Valor_GOLD\"})"
   ]
  },
  {
   "cell_type": "markdown",
   "metadata": {},
   "source": [
    "Para RDS:"
   ]
  },
  {
   "cell_type": "code",
   "execution_count": null,
   "metadata": {},
   "outputs": [],
   "source": [
    "RDS_RE = RDS.rename(columns={\"Adj Close\": \"Valor_RDS\"})\n",
    "RDS_REDate = RDS_RE.assign(Date = RDS_RE.Date.values[::-1])\n",
    "RDS_F = RDS_REDate.assign(Valor_RDS = RDS_REDate.Valor_RDS.values[::-1])"
   ]
  },
  {
   "cell_type": "markdown",
   "metadata": {},
   "source": [
    "Para OIL:"
   ]
  },
  {
   "cell_type": "code",
   "execution_count": null,
   "metadata": {},
   "outputs": [],
   "source": [
    "OIL_F = OIL.rename(columns={\"Price\": \"Valor_OIL\"})"
   ]
  },
  {
   "cell_type": "markdown",
   "metadata": {},
   "source": [
    "Para CRD:"
   ]
  },
  {
   "cell_type": "code",
   "execution_count": null,
   "metadata": {},
   "outputs": [],
   "source": [
    "CRD_RE = CRD.rename(columns={\"Data\": \"Date\",\"Último\": \"Valor_CRD\" })\n",
    "\n",
    "NOVO_VALOR = []\n",
    "for e in CRD_RE[\"Valor_CRD\"]:\n",
    "    NOVO_VALOR.append(e/10000)\n",
    "CRD_RE['Valor_CRD'] = NOVO_VALOR\n",
    "\n",
    "NOVA_DATA = []\n",
    "for e in CRD_RE['Date']:\n",
    "    Separado = e.split(\".\")\n",
    "    Correto = Separado[2] + \"-\" + Separado[1] + \"-\" + Separado[0]\n",
    "    NOVA_DATA.append(Correto)\n",
    "CRD_RE['Date'] = NOVA_DATA \n",
    "\n",
    "CRD_F = CRD_RE"
   ]
  },
  {
   "cell_type": "markdown",
   "metadata": {},
   "source": [
    "Selecionando intervalo a ser estudado e alterando o index:"
   ]
  },
  {
   "cell_type": "code",
   "execution_count": null,
   "metadata": {},
   "outputs": [],
   "source": [
    "PETR4_F[\"Date\"] == \"2014-11-10\" #1240\n",
    "PETR4_F[\"Date\"] == \"2019-10-31\" #2\n",
    "PETR4_DATE = PETR4_F.loc[2: 1240].set_index('Date')\n",
    "\n",
    "GOLD_F[\"Date\"] == \"2014-11-10\" #1321\n",
    "GOLD_F[\"Date\"] == \"2019-10-31\" #5\n",
    "GOLD_DATE = GOLD_F.loc[5: 1321].set_index('Date')\n",
    "\n",
    "RDS_F[\"Date\"] == \"2014-11-10\" #1256\n",
    "RDS_F[\"Date\"] == \"2019-10-31\" #4\n",
    "RDS_DATE = RDS_F.loc[4: 1256].set_index('Date')\n",
    "\n",
    "OIL_F[\"Date\"] == \"2014-11-10\" #1318\n",
    "OIL_F[\"Date\"] == \"2019-10-31\" #5\n",
    "OIL_DATE = OIL_F.loc[5: 1318].set_index('Date')\n",
    "\n",
    "CRD_F[\"Date\"] == \"2014-11-10\" #1302\n",
    "CRD_F[\"Date\"] == \"2019-10-31\" #4\n",
    "CRD_DATE = CRD_F.loc[4: 1302].set_index('Date')\n"
   ]
  },
  {
   "cell_type": "code",
   "execution_count": null,
   "metadata": {},
   "outputs": [],
   "source": [
    "U1 = GOLD_DATE.join(PETR4_DATE)\n",
    "U2 = RDS_DATE.join(U1)\n",
    "U3 = OIL_DATE.join(U2)\n",
    "U4 = CRD_DATE.join(U3)\n",
    "U5 = U4.interpolate()\n",
    "DADOS = U5.sort_index(ascending=True, axis=0)\n"
   ]
  },
  {
   "cell_type": "code",
   "execution_count": null,
   "metadata": {},
   "outputs": [],
   "source": [
    "DADOS.head(5)"
   ]
  },
  {
   "cell_type": "code",
   "execution_count": null,
   "metadata": {},
   "outputs": [],
   "source": [
    "plt.scatter(DADOS['Valor_GOLD'], DADOS['Valor_PETR4'], alpha = 0.1)\n",
    "plt.title('OURO VS PETR4')\n",
    "plt.plot()\n",
    "plt.show()\n",
    "plt.scatter(DADOS['Valor_RDS'], DADOS['Valor_PETR4'], alpha = 0.1)\n",
    "plt.title('SHELL VS PETR4')\n",
    "plt.plot()\n",
    "plt.show()\n",
    "plt.scatter(DADOS['Valor_OIL'], DADOS['Valor_PETR4'], alpha = 0.1)\n",
    "plt.title('PETROLEO VS PETR4')\n",
    "plt.plot()\n",
    "plt.show()\n",
    "plt.scatter(DADOS['Valor_CRD'], DADOS['Valor_PETR4'], alpha = 0.1)\n",
    "plt.title('DOLAR_REAL VS PETR4')\n",
    "plt.plot()\n",
    "plt.show()"
   ]
  },
  {
   "cell_type": "code",
   "execution_count": 1741,
   "metadata": {
    "scrolled": false
   },
   "outputs": [
    {
     "name": "stderr",
     "output_type": "stream",
     "text": [
      "C:\\Users\\Enrico Damiani\\Anaconda3\\lib\\site-packages\\ipykernel_launcher.py:41: SettingWithCopyWarning: \n",
      "A value is trying to be set on a copy of a slice from a DataFrame.\n",
      "Try using .loc[row_indexer,col_indexer] = value instead\n",
      "\n",
      "See the caveats in the documentation: http://pandas.pydata.org/pandas-docs/stable/indexing.html#indexing-view-versus-copy\n",
      "C:\\Users\\Enrico Damiani\\Anaconda3\\lib\\site-packages\\ipykernel_launcher.py:42: SettingWithCopyWarning: \n",
      "A value is trying to be set on a copy of a slice from a DataFrame.\n",
      "Try using .loc[row_indexer,col_indexer] = value instead\n",
      "\n",
      "See the caveats in the documentation: http://pandas.pydata.org/pandas-docs/stable/indexing.html#indexing-view-versus-copy\n",
      "C:\\Users\\Enrico Damiani\\Anaconda3\\lib\\site-packages\\ipykernel_launcher.py:43: SettingWithCopyWarning: \n",
      "A value is trying to be set on a copy of a slice from a DataFrame.\n",
      "Try using .loc[row_indexer,col_indexer] = value instead\n",
      "\n",
      "See the caveats in the documentation: http://pandas.pydata.org/pandas-docs/stable/indexing.html#indexing-view-versus-copy\n",
      "C:\\Users\\Enrico Damiani\\Anaconda3\\lib\\site-packages\\ipykernel_launcher.py:44: SettingWithCopyWarning: \n",
      "A value is trying to be set on a copy of a slice from a DataFrame.\n",
      "Try using .loc[row_indexer,col_indexer] = value instead\n",
      "\n",
      "See the caveats in the documentation: http://pandas.pydata.org/pandas-docs/stable/indexing.html#indexing-view-versus-copy\n",
      "C:\\Users\\Enrico Damiani\\Anaconda3\\lib\\site-packages\\ipykernel_launcher.py:45: SettingWithCopyWarning: \n",
      "A value is trying to be set on a copy of a slice from a DataFrame.\n",
      "Try using .loc[row_indexer,col_indexer] = value instead\n",
      "\n",
      "See the caveats in the documentation: http://pandas.pydata.org/pandas-docs/stable/indexing.html#indexing-view-versus-copy\n"
     ]
    },
    {
     "data": {
      "text/html": [
       "<div>\n",
       "<style scoped>\n",
       "    .dataframe tbody tr th:only-of-type {\n",
       "        vertical-align: middle;\n",
       "    }\n",
       "\n",
       "    .dataframe tbody tr th {\n",
       "        vertical-align: top;\n",
       "    }\n",
       "\n",
       "    .dataframe thead th {\n",
       "        text-align: right;\n",
       "    }\n",
       "</style>\n",
       "<table border=\"1\" class=\"dataframe\">\n",
       "  <thead>\n",
       "    <tr style=\"text-align: right;\">\n",
       "      <th></th>\n",
       "      <th>Valor_CRD</th>\n",
       "      <th>Valor_OIL</th>\n",
       "      <th>Valor_RDS</th>\n",
       "      <th>Valor_GOLD</th>\n",
       "      <th>Valor_PETR4</th>\n",
       "      <th>CALC_GOLD</th>\n",
       "      <th>CALC_RDS</th>\n",
       "      <th>CALC_OIL</th>\n",
       "      <th>CALC_CRD</th>\n",
       "      <th>CALC_PETR4</th>\n",
       "    </tr>\n",
       "    <tr>\n",
       "      <th>Date</th>\n",
       "      <th></th>\n",
       "      <th></th>\n",
       "      <th></th>\n",
       "      <th></th>\n",
       "      <th></th>\n",
       "      <th></th>\n",
       "      <th></th>\n",
       "      <th></th>\n",
       "      <th></th>\n",
       "      <th></th>\n",
       "    </tr>\n",
       "  </thead>\n",
       "  <tbody>\n",
       "    <tr>\n",
       "      <th>2014-11-11</th>\n",
       "      <td>2.5575</td>\n",
       "      <td>77.94</td>\n",
       "      <td>51.477970</td>\n",
       "      <td>1255.1</td>\n",
       "      <td>13.256026</td>\n",
       "      <td>0.003037</td>\n",
       "      <td>0.005798</td>\n",
       "      <td>0.006977</td>\n",
       "      <td>0.001841</td>\n",
       "      <td>0.007857</td>\n",
       "    </tr>\n",
       "    <tr>\n",
       "      <th>2014-11-12</th>\n",
       "      <td>2.5665</td>\n",
       "      <td>77.18</td>\n",
       "      <td>50.531734</td>\n",
       "      <td>1250.4</td>\n",
       "      <td>13.360181</td>\n",
       "      <td>-0.003745</td>\n",
       "      <td>-0.018381</td>\n",
       "      <td>-0.009751</td>\n",
       "      <td>0.003519</td>\n",
       "      <td>-0.036145</td>\n",
       "    </tr>\n",
       "    <tr>\n",
       "      <th>2014-11-13</th>\n",
       "      <td>2.5889</td>\n",
       "      <td>74.21</td>\n",
       "      <td>50.179653</td>\n",
       "      <td>1251.4</td>\n",
       "      <td>12.877283</td>\n",
       "      <td>0.000800</td>\n",
       "      <td>-0.006968</td>\n",
       "      <td>-0.038481</td>\n",
       "      <td>0.008728</td>\n",
       "      <td>-0.029412</td>\n",
       "    </tr>\n",
       "    <tr>\n",
       "      <th>2014-11-14</th>\n",
       "      <td>2.6018</td>\n",
       "      <td>75.82</td>\n",
       "      <td>50.891159</td>\n",
       "      <td>1275.6</td>\n",
       "      <td>12.498541</td>\n",
       "      <td>0.019338</td>\n",
       "      <td>0.014179</td>\n",
       "      <td>0.021695</td>\n",
       "      <td>0.004983</td>\n",
       "      <td>-0.045455</td>\n",
       "    </tr>\n",
       "    <tr>\n",
       "      <th>2014-11-17</th>\n",
       "      <td>2.6081</td>\n",
       "      <td>75.64</td>\n",
       "      <td>50.795807</td>\n",
       "      <td>1273.7</td>\n",
       "      <td>11.930425</td>\n",
       "      <td>-0.001489</td>\n",
       "      <td>-0.001874</td>\n",
       "      <td>-0.002374</td>\n",
       "      <td>0.002421</td>\n",
       "      <td>-0.011905</td>\n",
       "    </tr>\n",
       "  </tbody>\n",
       "</table>\n",
       "</div>"
      ],
      "text/plain": [
       "            Valor_CRD  Valor_OIL  Valor_RDS  Valor_GOLD  Valor_PETR4  \\\n",
       "Date                                                                   \n",
       "2014-11-11     2.5575      77.94  51.477970      1255.1    13.256026   \n",
       "2014-11-12     2.5665      77.18  50.531734      1250.4    13.360181   \n",
       "2014-11-13     2.5889      74.21  50.179653      1251.4    12.877283   \n",
       "2014-11-14     2.6018      75.82  50.891159      1275.6    12.498541   \n",
       "2014-11-17     2.6081      75.64  50.795807      1273.7    11.930425   \n",
       "\n",
       "            CALC_GOLD  CALC_RDS  CALC_OIL  CALC_CRD  CALC_PETR4  \n",
       "Date                                                             \n",
       "2014-11-11   0.003037  0.005798  0.006977  0.001841    0.007857  \n",
       "2014-11-12  -0.003745 -0.018381 -0.009751  0.003519   -0.036145  \n",
       "2014-11-13   0.000800 -0.006968 -0.038481  0.008728   -0.029412  \n",
       "2014-11-14   0.019338  0.014179  0.021695  0.004983   -0.045455  \n",
       "2014-11-17  -0.001489 -0.001874 -0.002374  0.002421   -0.011905  "
      ]
     },
     "execution_count": 1741,
     "metadata": {},
     "output_type": "execute_result"
    }
   ],
   "source": [
    "i = 0\n",
    "FAZER1 = []\n",
    "while i < 1298:\n",
    "    FAZER1.append((DADOS[\"Valor_GOLD\"][i] - DADOS[\"Valor_GOLD\"][i-1])/DADOS[\"Valor_GOLD\"][i-1])    \n",
    "    i+=1\n",
    "    \n",
    "i = 0\n",
    "FAZER2 = []\n",
    "while i < 1298:\n",
    "    FAZER2.append((DADOS[\"Valor_RDS\"][i] - DADOS[\"Valor_RDS\"][i-1])/DADOS[\"Valor_RDS\"][i-1])    \n",
    "    i+=1\n",
    "    \n",
    "i = 0\n",
    "FAZER3 = []\n",
    "while i < 1298:\n",
    "    FAZER3.append((DADOS[\"Valor_OIL\"][i] - DADOS[\"Valor_OIL\"][i-1])/DADOS[\"Valor_OIL\"][i-1])    \n",
    "    i+=1    \n",
    "\n",
    "i = 0\n",
    "FAZER4 = []\n",
    "while i < 1298:\n",
    "    FAZER4.append((DADOS[\"Valor_CRD\"][i] - DADOS[\"Valor_CRD\"][i-1])/DADOS[\"Valor_CRD\"][i-1])    \n",
    "    i+=1     \n",
    "    \n",
    "i = 0\n",
    "FAZER5 = []\n",
    "while i < 1298:\n",
    "    FAZER5.append((DADOS[\"Valor_PETR4\"][i+1] - DADOS[\"Valor_PETR4\"][i])/DADOS[\"Valor_PETR4\"][i])\n",
    "    i+=1\n",
    "    \n",
    "\n",
    "DADOS_OPT = DADOS.iloc[1:1298,:]\n",
    "\n",
    "del FAZER1[0]\n",
    "del FAZER2[0]\n",
    "del FAZER3[0]\n",
    "del FAZER4[0]\n",
    "del FAZER5[0]\n",
    "\n",
    "    \n",
    "DADOS_OPT['CALC_GOLD'] = FAZER1;\n",
    "DADOS_OPT['CALC_RDS'] = FAZER2;\n",
    "DADOS_OPT['CALC_OIL'] = FAZER3;\n",
    "DADOS_OPT['CALC_CRD'] = FAZER4;\n",
    "DADOS_OPT['CALC_PETR4'] = FAZER5;\n",
    "\n",
    "DADOS_OPT.head(5)"
   ]
  },
  {
   "cell_type": "code",
   "execution_count": 1742,
   "metadata": {},
   "outputs": [
    {
     "data": {
      "image/png": "[encoded data removed]",
      "text/plain": [
       "<Figure size 432x288 with 1 Axes>"
      ]
     },
     "metadata": {
      "needs_background": "light"
     },
     "output_type": "display_data"
    },
    {
     "data": {
      "image/png": "[encoded data removed]",
      "text/plain": [
       "<Figure size 432x288 with 1 Axes>"
      ]
     },
     "metadata": {
      "needs_background": "light"
     },
     "output_type": "display_data"
    },
    {
     "data": {
      "image/png": "[encoded data removed]",
      "text/plain": [
       "<Figure size 432x288 with 1 Axes>"
      ]
     },
     "metadata": {
      "needs_background": "light"
     },
     "output_type": "display_data"
    },
    {
     "data": {
      "image/png": "[encoded data removed]",
      "text/plain": [
       "<Figure size 432x288 with 1 Axes>"
      ]
     },
     "metadata": {
      "needs_background": "light"
     },
     "output_type": "display_data"
    }
   ],
   "source": [
    "plt.scatter(DADOS_OPT['CALC_GOLD'], DADOS_OPT['CALC_PETR4'], alpha = 0.1)\n",
    "plt.title('OURO VS PETR4')\n",
    "plt.plot()\n",
    "plt.show()\n",
    "plt.scatter(DADOS_OPT['CALC_RDS'], DADOS_OPT['CALC_PETR4'], alpha = 0.1)\n",
    "plt.title('SHELL VS PETR4')\n",
    "plt.plot()\n",
    "plt.show()\n",
    "plt.scatter(DADOS_OPT['CALC_OIL'], DADOS_OPT['CALC_PETR4'], alpha = 0.1)\n",
    "plt.title('PETROLEO VS PETR4')\n",
    "plt.plot()\n",
    "plt.show()\n",
    "plt.scatter(DADOS_OPT['CALC_CRD'], DADOS_OPT['CALC_PETR4'], alpha = 0.1)\n",
    "plt.title('DOLAR_REAL VS PETR4')\n",
    "plt.plot()\n",
    "plt.show()"
   ]
  },
  {
   "cell_type": "markdown",
   "metadata": {},
   "source": [
    "TESTES"
   ]
  },
  {
   "cell_type": "code",
   "execution_count": 1740,
   "metadata": {},
   "outputs": [
    {
     "ename": "KeyboardInterrupt",
     "evalue": "",
     "output_type": "error",
     "traceback": [
      "\u001b[1;31m---------------------------------------------------------------------------\u001b[0m",
      "\u001b[1;31mKeyboardInterrupt\u001b[0m                         Traceback (most recent call last)",
      "\u001b[1;32m<ipython-input-1740-5e4405200ad7>\u001b[0m in \u001b[0;36m<module>\u001b[1;34m\u001b[0m\n\u001b[0;32m     14\u001b[0m \u001b[1;33m\u001b[0m\u001b[0m\n\u001b[0;32m     15\u001b[0m \u001b[0mclf\u001b[0m \u001b[1;33m=\u001b[0m \u001b[0mGridSearchCV\u001b[0m\u001b[1;33m(\u001b[0m\u001b[0mmlp\u001b[0m\u001b[1;33m,\u001b[0m \u001b[0mparameter_space\u001b[0m\u001b[1;33m,\u001b[0m \u001b[0mn_jobs\u001b[0m\u001b[1;33m=\u001b[0m\u001b[1;33m-\u001b[0m\u001b[1;36m1\u001b[0m\u001b[1;33m,\u001b[0m \u001b[0mcv\u001b[0m\u001b[1;33m=\u001b[0m\u001b[1;36m12\u001b[0m\u001b[1;33m)\u001b[0m\u001b[1;33m\u001b[0m\u001b[1;33m\u001b[0m\u001b[0m\n\u001b[1;32m---> 16\u001b[1;33m \u001b[0mclf\u001b[0m\u001b[1;33m.\u001b[0m\u001b[0mfit\u001b[0m\u001b[1;33m(\u001b[0m\u001b[0mX\u001b[0m\u001b[1;33m,\u001b[0m \u001b[0my\u001b[0m\u001b[1;33m)\u001b[0m\u001b[1;33m\u001b[0m\u001b[1;33m\u001b[0m\u001b[0m\n\u001b[0m",
      "\u001b[1;32m~\\Anaconda3\\lib\\site-packages\\sklearn\\model_selection\\_search.py\u001b[0m in \u001b[0;36mfit\u001b[1;34m(self, X, y, groups, **fit_params)\u001b[0m\n\u001b[0;32m    685\u001b[0m                 \u001b[1;32mreturn\u001b[0m \u001b[0mresults\u001b[0m\u001b[1;33m\u001b[0m\u001b[1;33m\u001b[0m\u001b[0m\n\u001b[0;32m    686\u001b[0m \u001b[1;33m\u001b[0m\u001b[0m\n\u001b[1;32m--> 687\u001b[1;33m             \u001b[0mself\u001b[0m\u001b[1;33m.\u001b[0m\u001b[0m_run_search\u001b[0m\u001b[1;33m(\u001b[0m\u001b[0mevaluate_candidates\u001b[0m\u001b[1;33m)\u001b[0m\u001b[1;33m\u001b[0m\u001b[1;33m\u001b[0m\u001b[0m\n\u001b[0m\u001b[0;32m    688\u001b[0m \u001b[1;33m\u001b[0m\u001b[0m\n\u001b[0;32m    689\u001b[0m         \u001b[1;31m# For multi-metric evaluation, store the best_index_, best_params_ and\u001b[0m\u001b[1;33m\u001b[0m\u001b[1;33m\u001b[0m\u001b[1;33m\u001b[0m\u001b[0m\n",
      "\u001b[1;32m~\\Anaconda3\\lib\\site-packages\\sklearn\\model_selection\\_search.py\u001b[0m in \u001b[0;36m_run_search\u001b[1;34m(self, evaluate_candidates)\u001b[0m\n\u001b[0;32m   1146\u001b[0m     \u001b[1;32mdef\u001b[0m \u001b[0m_run_search\u001b[0m\u001b[1;33m(\u001b[0m\u001b[0mself\u001b[0m\u001b[1;33m,\u001b[0m \u001b[0mevaluate_candidates\u001b[0m\u001b[1;33m)\u001b[0m\u001b[1;33m:\u001b[0m\u001b[1;33m\u001b[0m\u001b[1;33m\u001b[0m\u001b[0m\n\u001b[0;32m   1147\u001b[0m         \u001b[1;34m\"\"\"Search all candidates in param_grid\"\"\"\u001b[0m\u001b[1;33m\u001b[0m\u001b[1;33m\u001b[0m\u001b[0m\n\u001b[1;32m-> 1148\u001b[1;33m         \u001b[0mevaluate_candidates\u001b[0m\u001b[1;33m(\u001b[0m\u001b[0mParameterGrid\u001b[0m\u001b[1;33m(\u001b[0m\u001b[0mself\u001b[0m\u001b[1;33m.\u001b[0m\u001b[0mparam_grid\u001b[0m\u001b[1;33m)\u001b[0m\u001b[1;33m)\u001b[0m\u001b[1;33m\u001b[0m\u001b[1;33m\u001b[0m\u001b[0m\n\u001b[0m\u001b[0;32m   1149\u001b[0m \u001b[1;33m\u001b[0m\u001b[0m\n\u001b[0;32m   1150\u001b[0m \u001b[1;33m\u001b[0m\u001b[0m\n",
      "\u001b[1;32m~\\Anaconda3\\lib\\site-packages\\sklearn\\model_selection\\_search.py\u001b[0m in \u001b[0;36mevaluate_candidates\u001b[1;34m(candidate_params)\u001b[0m\n\u001b[0;32m    664\u001b[0m                                \u001b[1;32mfor\u001b[0m \u001b[0mparameters\u001b[0m\u001b[1;33m,\u001b[0m \u001b[1;33m(\u001b[0m\u001b[0mtrain\u001b[0m\u001b[1;33m,\u001b[0m \u001b[0mtest\u001b[0m\u001b[1;33m)\u001b[0m\u001b[1;33m\u001b[0m\u001b[1;33m\u001b[0m\u001b[0m\n\u001b[0;32m    665\u001b[0m                                in product(candidate_params,\n\u001b[1;32m--> 666\u001b[1;33m                                           cv.split(X, y, groups)))\n\u001b[0m\u001b[0;32m    667\u001b[0m \u001b[1;33m\u001b[0m\u001b[0m\n\u001b[0;32m    668\u001b[0m                 \u001b[1;32mif\u001b[0m \u001b[0mlen\u001b[0m\u001b[1;33m(\u001b[0m\u001b[0mout\u001b[0m\u001b[1;33m)\u001b[0m \u001b[1;33m<\u001b[0m \u001b[1;36m1\u001b[0m\u001b[1;33m:\u001b[0m\u001b[1;33m\u001b[0m\u001b[1;33m\u001b[0m\u001b[0m\n",
      "\u001b[1;32m~\\Anaconda3\\lib\\site-packages\\joblib\\parallel.py\u001b[0m in \u001b[0;36m__call__\u001b[1;34m(self, iterable)\u001b[0m\n\u001b[0;32m    932\u001b[0m \u001b[1;33m\u001b[0m\u001b[0m\n\u001b[0;32m    933\u001b[0m             \u001b[1;32mwith\u001b[0m \u001b[0mself\u001b[0m\u001b[1;33m.\u001b[0m\u001b[0m_backend\u001b[0m\u001b[1;33m.\u001b[0m\u001b[0mretrieval_context\u001b[0m\u001b[1;33m(\u001b[0m\u001b[1;33m)\u001b[0m\u001b[1;33m:\u001b[0m\u001b[1;33m\u001b[0m\u001b[1;33m\u001b[0m\u001b[0m\n\u001b[1;32m--> 934\u001b[1;33m                 \u001b[0mself\u001b[0m\u001b[1;33m.\u001b[0m\u001b[0mretrieve\u001b[0m\u001b[1;33m(\u001b[0m\u001b[1;33m)\u001b[0m\u001b[1;33m\u001b[0m\u001b[1;33m\u001b[0m\u001b[0m\n\u001b[0m\u001b[0;32m    935\u001b[0m             \u001b[1;31m# Make sure that we get a last message telling us we are done\u001b[0m\u001b[1;33m\u001b[0m\u001b[1;33m\u001b[0m\u001b[1;33m\u001b[0m\u001b[0m\n\u001b[0;32m    936\u001b[0m             \u001b[0melapsed_time\u001b[0m \u001b[1;33m=\u001b[0m \u001b[0mtime\u001b[0m\u001b[1;33m.\u001b[0m\u001b[0mtime\u001b[0m\u001b[1;33m(\u001b[0m\u001b[1;33m)\u001b[0m \u001b[1;33m-\u001b[0m \u001b[0mself\u001b[0m\u001b[1;33m.\u001b[0m\u001b[0m_start_time\u001b[0m\u001b[1;33m\u001b[0m\u001b[1;33m\u001b[0m\u001b[0m\n",
      "\u001b[1;32m~\\Anaconda3\\lib\\site-packages\\joblib\\parallel.py\u001b[0m in \u001b[0;36mretrieve\u001b[1;34m(self)\u001b[0m\n\u001b[0;32m    831\u001b[0m             \u001b[1;32mtry\u001b[0m\u001b[1;33m:\u001b[0m\u001b[1;33m\u001b[0m\u001b[1;33m\u001b[0m\u001b[0m\n\u001b[0;32m    832\u001b[0m                 \u001b[1;32mif\u001b[0m \u001b[0mgetattr\u001b[0m\u001b[1;33m(\u001b[0m\u001b[0mself\u001b[0m\u001b[1;33m.\u001b[0m\u001b[0m_backend\u001b[0m\u001b[1;33m,\u001b[0m \u001b[1;34m'supports_timeout'\u001b[0m\u001b[1;33m,\u001b[0m \u001b[1;32mFalse\u001b[0m\u001b[1;33m)\u001b[0m\u001b[1;33m:\u001b[0m\u001b[1;33m\u001b[0m\u001b[1;33m\u001b[0m\u001b[0m\n\u001b[1;32m--> 833\u001b[1;33m                     \u001b[0mself\u001b[0m\u001b[1;33m.\u001b[0m\u001b[0m_output\u001b[0m\u001b[1;33m.\u001b[0m\u001b[0mextend\u001b[0m\u001b[1;33m(\u001b[0m\u001b[0mjob\u001b[0m\u001b[1;33m.\u001b[0m\u001b[0mget\u001b[0m\u001b[1;33m(\u001b[0m\u001b[0mtimeout\u001b[0m\u001b[1;33m=\u001b[0m\u001b[0mself\u001b[0m\u001b[1;33m.\u001b[0m\u001b[0mtimeout\u001b[0m\u001b[1;33m)\u001b[0m\u001b[1;33m)\u001b[0m\u001b[1;33m\u001b[0m\u001b[1;33m\u001b[0m\u001b[0m\n\u001b[0m\u001b[0;32m    834\u001b[0m                 \u001b[1;32melse\u001b[0m\u001b[1;33m:\u001b[0m\u001b[1;33m\u001b[0m\u001b[1;33m\u001b[0m\u001b[0m\n\u001b[0;32m    835\u001b[0m                     \u001b[0mself\u001b[0m\u001b[1;33m.\u001b[0m\u001b[0m_output\u001b[0m\u001b[1;33m.\u001b[0m\u001b[0mextend\u001b[0m\u001b[1;33m(\u001b[0m\u001b[0mjob\u001b[0m\u001b[1;33m.\u001b[0m\u001b[0mget\u001b[0m\u001b[1;33m(\u001b[0m\u001b[1;33m)\u001b[0m\u001b[1;33m)\u001b[0m\u001b[1;33m\u001b[0m\u001b[1;33m\u001b[0m\u001b[0m\n",
      "\u001b[1;32m~\\Anaconda3\\lib\\site-packages\\joblib\\_parallel_backends.py\u001b[0m in \u001b[0;36mwrap_future_result\u001b[1;34m(future, timeout)\u001b[0m\n\u001b[0;32m    519\u001b[0m         AsyncResults.get from multiprocessing.\"\"\"\n\u001b[0;32m    520\u001b[0m         \u001b[1;32mtry\u001b[0m\u001b[1;33m:\u001b[0m\u001b[1;33m\u001b[0m\u001b[1;33m\u001b[0m\u001b[0m\n\u001b[1;32m--> 521\u001b[1;33m             \u001b[1;32mreturn\u001b[0m \u001b[0mfuture\u001b[0m\u001b[1;33m.\u001b[0m\u001b[0mresult\u001b[0m\u001b[1;33m(\u001b[0m\u001b[0mtimeout\u001b[0m\u001b[1;33m=\u001b[0m\u001b[0mtimeout\u001b[0m\u001b[1;33m)\u001b[0m\u001b[1;33m\u001b[0m\u001b[1;33m\u001b[0m\u001b[0m\n\u001b[0m\u001b[0;32m    522\u001b[0m         \u001b[1;32mexcept\u001b[0m \u001b[0mLokyTimeoutError\u001b[0m\u001b[1;33m:\u001b[0m\u001b[1;33m\u001b[0m\u001b[1;33m\u001b[0m\u001b[0m\n\u001b[0;32m    523\u001b[0m             \u001b[1;32mraise\u001b[0m \u001b[0mTimeoutError\u001b[0m\u001b[1;33m(\u001b[0m\u001b[1;33m)\u001b[0m\u001b[1;33m\u001b[0m\u001b[1;33m\u001b[0m\u001b[0m\n",
      "\u001b[1;32m~\\Anaconda3\\lib\\concurrent\\futures\\_base.py\u001b[0m in \u001b[0;36mresult\u001b[1;34m(self, timeout)\u001b[0m\n\u001b[0;32m    425\u001b[0m                 \u001b[1;32mreturn\u001b[0m \u001b[0mself\u001b[0m\u001b[1;33m.\u001b[0m\u001b[0m__get_result\u001b[0m\u001b[1;33m(\u001b[0m\u001b[1;33m)\u001b[0m\u001b[1;33m\u001b[0m\u001b[1;33m\u001b[0m\u001b[0m\n\u001b[0;32m    426\u001b[0m \u001b[1;33m\u001b[0m\u001b[0m\n\u001b[1;32m--> 427\u001b[1;33m             \u001b[0mself\u001b[0m\u001b[1;33m.\u001b[0m\u001b[0m_condition\u001b[0m\u001b[1;33m.\u001b[0m\u001b[0mwait\u001b[0m\u001b[1;33m(\u001b[0m\u001b[0mtimeout\u001b[0m\u001b[1;33m)\u001b[0m\u001b[1;33m\u001b[0m\u001b[1;33m\u001b[0m\u001b[0m\n\u001b[0m\u001b[0;32m    428\u001b[0m \u001b[1;33m\u001b[0m\u001b[0m\n\u001b[0;32m    429\u001b[0m             \u001b[1;32mif\u001b[0m \u001b[0mself\u001b[0m\u001b[1;33m.\u001b[0m\u001b[0m_state\u001b[0m \u001b[1;32min\u001b[0m \u001b[1;33m[\u001b[0m\u001b[0mCANCELLED\u001b[0m\u001b[1;33m,\u001b[0m \u001b[0mCANCELLED_AND_NOTIFIED\u001b[0m\u001b[1;33m]\u001b[0m\u001b[1;33m:\u001b[0m\u001b[1;33m\u001b[0m\u001b[1;33m\u001b[0m\u001b[0m\n",
      "\u001b[1;32m~\\Anaconda3\\lib\\threading.py\u001b[0m in \u001b[0;36mwait\u001b[1;34m(self, timeout)\u001b[0m\n\u001b[0;32m    294\u001b[0m         \u001b[1;32mtry\u001b[0m\u001b[1;33m:\u001b[0m    \u001b[1;31m# restore state no matter what (e.g., KeyboardInterrupt)\u001b[0m\u001b[1;33m\u001b[0m\u001b[1;33m\u001b[0m\u001b[0m\n\u001b[0;32m    295\u001b[0m             \u001b[1;32mif\u001b[0m \u001b[0mtimeout\u001b[0m \u001b[1;32mis\u001b[0m \u001b[1;32mNone\u001b[0m\u001b[1;33m:\u001b[0m\u001b[1;33m\u001b[0m\u001b[1;33m\u001b[0m\u001b[0m\n\u001b[1;32m--> 296\u001b[1;33m                 \u001b[0mwaiter\u001b[0m\u001b[1;33m.\u001b[0m\u001b[0macquire\u001b[0m\u001b[1;33m(\u001b[0m\u001b[1;33m)\u001b[0m\u001b[1;33m\u001b[0m\u001b[1;33m\u001b[0m\u001b[0m\n\u001b[0m\u001b[0;32m    297\u001b[0m                 \u001b[0mgotit\u001b[0m \u001b[1;33m=\u001b[0m \u001b[1;32mTrue\u001b[0m\u001b[1;33m\u001b[0m\u001b[1;33m\u001b[0m\u001b[0m\n\u001b[0;32m    298\u001b[0m             \u001b[1;32melse\u001b[0m\u001b[1;33m:\u001b[0m\u001b[1;33m\u001b[0m\u001b[1;33m\u001b[0m\u001b[0m\n",
      "\u001b[1;31mKeyboardInterrupt\u001b[0m: "
     ]
    }
   ],
   "source": [
    "from sklearn.neural_network import MLPClassifier\n",
    "mlp = MLPClassifier(max_iter=1000)\n",
    "\n",
    "parameter_space = {\n",
    "    'hidden_layer_sizes': [(500, 30, 5), (800, 40), (400, 32), (1000, 300, 20), (1300, 800, 150, 6)],\n",
    "    'activation': ['identity','logistic','tanh', 'relu'],\n",
    "    'solver': ['lbfgs','sgd', 'adam'],\n",
    "    'alpha': [1e-6],\n",
    "    'learning_rate': ['constant','adaptive'],\n",
    "    'n_iter_no_change' : [15, 20 , 50]\n",
    "}\n",
    "\n",
    "from sklearn.model_selection import GridSearchCV\n",
    "\n",
    "clf = GridSearchCV(mlp, parameter_space, n_jobs=-1, cv=12)\n",
    "clf.fit(X, y)\n"
   ]
  },
  {
   "cell_type": "code",
   "execution_count": 1456,
   "metadata": {
    "collapsed": true
   },
   "outputs": [
    {
     "ename": "AttributeError",
     "evalue": "'GridSearchCV' object has no attribute 'best_params_'",
     "output_type": "error",
     "traceback": [
      "\u001b[1;31m---------------------------------------------------------------------------\u001b[0m",
      "\u001b[1;31mAttributeError\u001b[0m                            Traceback (most recent call last)",
      "\u001b[1;32m<ipython-input-1456-a70ccf42dd36>\u001b[0m in \u001b[0;36m<module>\u001b[1;34m\u001b[0m\n\u001b[0;32m      1\u001b[0m \u001b[1;31m# Best paramete set\u001b[0m\u001b[1;33m\u001b[0m\u001b[1;33m\u001b[0m\u001b[1;33m\u001b[0m\u001b[0m\n\u001b[1;32m----> 2\u001b[1;33m \u001b[0mprint\u001b[0m\u001b[1;33m(\u001b[0m\u001b[1;34m'Best parameters found:\\n'\u001b[0m\u001b[1;33m,\u001b[0m \u001b[0mclf\u001b[0m\u001b[1;33m.\u001b[0m\u001b[0mbest_params_\u001b[0m\u001b[1;33m)\u001b[0m\u001b[1;33m\u001b[0m\u001b[1;33m\u001b[0m\u001b[0m\n\u001b[0m\u001b[0;32m      3\u001b[0m \u001b[1;33m\u001b[0m\u001b[0m\n\u001b[0;32m      4\u001b[0m \u001b[1;31m# All results\u001b[0m\u001b[1;33m\u001b[0m\u001b[1;33m\u001b[0m\u001b[1;33m\u001b[0m\u001b[0m\n\u001b[0;32m      5\u001b[0m \u001b[0mmeans\u001b[0m \u001b[1;33m=\u001b[0m \u001b[0mclf\u001b[0m\u001b[1;33m.\u001b[0m\u001b[0mcv_results_\u001b[0m\u001b[1;33m[\u001b[0m\u001b[1;34m'mean_test_score'\u001b[0m\u001b[1;33m]\u001b[0m\u001b[1;33m\u001b[0m\u001b[1;33m\u001b[0m\u001b[0m\n",
      "\u001b[1;31mAttributeError\u001b[0m: 'GridSearchCV' object has no attribute 'best_params_'"
     ]
    }
   ],
   "source": [
    "# Best paramete set\n",
    "print('Best parameters found:\\n', clf.best_params_)\n",
    "\n",
    "# All results\n",
    "means = clf.cv_results_['mean_test_score']\n",
    "stds = clf.cv_results_['std_test_score']\n",
    "for mean, std, params in zip(means, stds, clf.cv_results_['params']):\n",
    "    print(\"%0.3f (+/-%0.03f) for %r\" % (mean, std * 2, params))"
   ]
  },
  {
   "cell_type": "code",
   "execution_count": 1743,
   "metadata": {},
   "outputs": [
    {
     "ename": "NotFittedError",
     "evalue": "This GridSearchCV instance is not fitted yet. Call 'fit' with appropriate arguments before using this method.",
     "output_type": "error",
     "traceback": [
      "\u001b[1;31m---------------------------------------------------------------------------\u001b[0m",
      "\u001b[1;31mNotFittedError\u001b[0m                            Traceback (most recent call last)",
      "\u001b[1;32m<ipython-input-1743-3666f5e47fc7>\u001b[0m in \u001b[0;36m<module>\u001b[1;34m\u001b[0m\n\u001b[1;32m----> 1\u001b[1;33m \u001b[0my_true\u001b[0m\u001b[1;33m,\u001b[0m \u001b[0my_pred\u001b[0m \u001b[1;33m=\u001b[0m \u001b[0my_test\u001b[0m \u001b[1;33m,\u001b[0m \u001b[0mclf\u001b[0m\u001b[1;33m.\u001b[0m\u001b[0mpredict\u001b[0m\u001b[1;33m(\u001b[0m\u001b[0mX_test\u001b[0m\u001b[1;33m)\u001b[0m\u001b[1;33m\u001b[0m\u001b[1;33m\u001b[0m\u001b[0m\n\u001b[0m\u001b[0;32m      2\u001b[0m \u001b[1;33m\u001b[0m\u001b[0m\n\u001b[0;32m      3\u001b[0m \u001b[1;32mfrom\u001b[0m \u001b[0msklearn\u001b[0m\u001b[1;33m.\u001b[0m\u001b[0mmetrics\u001b[0m \u001b[1;32mimport\u001b[0m \u001b[0mclassification_report\u001b[0m\u001b[1;33m\u001b[0m\u001b[1;33m\u001b[0m\u001b[0m\n\u001b[0;32m      4\u001b[0m \u001b[0mprint\u001b[0m\u001b[1;33m(\u001b[0m\u001b[1;34m'Results on the test set:'\u001b[0m\u001b[1;33m)\u001b[0m\u001b[1;33m\u001b[0m\u001b[1;33m\u001b[0m\u001b[0m\n\u001b[0;32m      5\u001b[0m \u001b[0mprint\u001b[0m\u001b[1;33m(\u001b[0m\u001b[0mclassification_report\u001b[0m\u001b[1;33m(\u001b[0m\u001b[0my_true\u001b[0m\u001b[1;33m,\u001b[0m \u001b[0my_pred\u001b[0m\u001b[1;33m)\u001b[0m\u001b[1;33m)\u001b[0m\u001b[1;33m\u001b[0m\u001b[1;33m\u001b[0m\u001b[0m\n",
      "\u001b[1;32m~\\Anaconda3\\lib\\site-packages\\sklearn\\utils\\metaestimators.py\u001b[0m in \u001b[0;36m<lambda>\u001b[1;34m(*args, **kwargs)\u001b[0m\n\u001b[0;32m    114\u001b[0m \u001b[1;33m\u001b[0m\u001b[0m\n\u001b[0;32m    115\u001b[0m         \u001b[1;31m# lambda, but not partial, allows help() to work with update_wrapper\u001b[0m\u001b[1;33m\u001b[0m\u001b[1;33m\u001b[0m\u001b[1;33m\u001b[0m\u001b[0m\n\u001b[1;32m--> 116\u001b[1;33m         \u001b[0mout\u001b[0m \u001b[1;33m=\u001b[0m \u001b[1;32mlambda\u001b[0m \u001b[1;33m*\u001b[0m\u001b[0margs\u001b[0m\u001b[1;33m,\u001b[0m \u001b[1;33m**\u001b[0m\u001b[0mkwargs\u001b[0m\u001b[1;33m:\u001b[0m \u001b[0mself\u001b[0m\u001b[1;33m.\u001b[0m\u001b[0mfn\u001b[0m\u001b[1;33m(\u001b[0m\u001b[0mobj\u001b[0m\u001b[1;33m,\u001b[0m \u001b[1;33m*\u001b[0m\u001b[0margs\u001b[0m\u001b[1;33m,\u001b[0m \u001b[1;33m**\u001b[0m\u001b[0mkwargs\u001b[0m\u001b[1;33m)\u001b[0m\u001b[1;33m\u001b[0m\u001b[1;33m\u001b[0m\u001b[0m\n\u001b[0m\u001b[0;32m    117\u001b[0m         \u001b[1;31m# update the docstring of the returned function\u001b[0m\u001b[1;33m\u001b[0m\u001b[1;33m\u001b[0m\u001b[1;33m\u001b[0m\u001b[0m\n\u001b[0;32m    118\u001b[0m         \u001b[0mupdate_wrapper\u001b[0m\u001b[1;33m(\u001b[0m\u001b[0mout\u001b[0m\u001b[1;33m,\u001b[0m \u001b[0mself\u001b[0m\u001b[1;33m.\u001b[0m\u001b[0mfn\u001b[0m\u001b[1;33m)\u001b[0m\u001b[1;33m\u001b[0m\u001b[1;33m\u001b[0m\u001b[0m\n",
      "\u001b[1;32m~\\Anaconda3\\lib\\site-packages\\sklearn\\model_selection\\_search.py\u001b[0m in \u001b[0;36mpredict\u001b[1;34m(self, X)\u001b[0m\n\u001b[0;32m    454\u001b[0m \u001b[1;33m\u001b[0m\u001b[0m\n\u001b[0;32m    455\u001b[0m         \"\"\"\n\u001b[1;32m--> 456\u001b[1;33m         \u001b[0mself\u001b[0m\u001b[1;33m.\u001b[0m\u001b[0m_check_is_fitted\u001b[0m\u001b[1;33m(\u001b[0m\u001b[1;34m'predict'\u001b[0m\u001b[1;33m)\u001b[0m\u001b[1;33m\u001b[0m\u001b[1;33m\u001b[0m\u001b[0m\n\u001b[0m\u001b[0;32m    457\u001b[0m         \u001b[1;32mreturn\u001b[0m \u001b[0mself\u001b[0m\u001b[1;33m.\u001b[0m\u001b[0mbest_estimator_\u001b[0m\u001b[1;33m.\u001b[0m\u001b[0mpredict\u001b[0m\u001b[1;33m(\u001b[0m\u001b[0mX\u001b[0m\u001b[1;33m)\u001b[0m\u001b[1;33m\u001b[0m\u001b[1;33m\u001b[0m\u001b[0m\n\u001b[0;32m    458\u001b[0m \u001b[1;33m\u001b[0m\u001b[0m\n",
      "\u001b[1;32m~\\Anaconda3\\lib\\site-packages\\sklearn\\model_selection\\_search.py\u001b[0m in \u001b[0;36m_check_is_fitted\u001b[1;34m(self, method_name)\u001b[0m\n\u001b[0;32m    438\u001b[0m                                  % (type(self).__name__, method_name))\n\u001b[0;32m    439\u001b[0m         \u001b[1;32melse\u001b[0m\u001b[1;33m:\u001b[0m\u001b[1;33m\u001b[0m\u001b[1;33m\u001b[0m\u001b[0m\n\u001b[1;32m--> 440\u001b[1;33m             \u001b[0mcheck_is_fitted\u001b[0m\u001b[1;33m(\u001b[0m\u001b[0mself\u001b[0m\u001b[1;33m,\u001b[0m \u001b[1;34m'best_estimator_'\u001b[0m\u001b[1;33m)\u001b[0m\u001b[1;33m\u001b[0m\u001b[1;33m\u001b[0m\u001b[0m\n\u001b[0m\u001b[0;32m    441\u001b[0m \u001b[1;33m\u001b[0m\u001b[0m\n\u001b[0;32m    442\u001b[0m     \u001b[1;33m@\u001b[0m\u001b[0mif_delegate_has_method\u001b[0m\u001b[1;33m(\u001b[0m\u001b[0mdelegate\u001b[0m\u001b[1;33m=\u001b[0m\u001b[1;33m(\u001b[0m\u001b[1;34m'best_estimator_'\u001b[0m\u001b[1;33m,\u001b[0m \u001b[1;34m'estimator'\u001b[0m\u001b[1;33m)\u001b[0m\u001b[1;33m)\u001b[0m\u001b[1;33m\u001b[0m\u001b[1;33m\u001b[0m\u001b[0m\n",
      "\u001b[1;32m~\\Anaconda3\\lib\\site-packages\\sklearn\\utils\\validation.py\u001b[0m in \u001b[0;36mcheck_is_fitted\u001b[1;34m(estimator, attributes, msg, all_or_any)\u001b[0m\n\u001b[0;32m    912\u001b[0m \u001b[1;33m\u001b[0m\u001b[0m\n\u001b[0;32m    913\u001b[0m     \u001b[1;32mif\u001b[0m \u001b[1;32mnot\u001b[0m \u001b[0mall_or_any\u001b[0m\u001b[1;33m(\u001b[0m\u001b[1;33m[\u001b[0m\u001b[0mhasattr\u001b[0m\u001b[1;33m(\u001b[0m\u001b[0mestimator\u001b[0m\u001b[1;33m,\u001b[0m \u001b[0mattr\u001b[0m\u001b[1;33m)\u001b[0m \u001b[1;32mfor\u001b[0m \u001b[0mattr\u001b[0m \u001b[1;32min\u001b[0m \u001b[0mattributes\u001b[0m\u001b[1;33m]\u001b[0m\u001b[1;33m)\u001b[0m\u001b[1;33m:\u001b[0m\u001b[1;33m\u001b[0m\u001b[1;33m\u001b[0m\u001b[0m\n\u001b[1;32m--> 914\u001b[1;33m         \u001b[1;32mraise\u001b[0m \u001b[0mNotFittedError\u001b[0m\u001b[1;33m(\u001b[0m\u001b[0mmsg\u001b[0m \u001b[1;33m%\u001b[0m \u001b[1;33m{\u001b[0m\u001b[1;34m'name'\u001b[0m\u001b[1;33m:\u001b[0m \u001b[0mtype\u001b[0m\u001b[1;33m(\u001b[0m\u001b[0mestimator\u001b[0m\u001b[1;33m)\u001b[0m\u001b[1;33m.\u001b[0m\u001b[0m__name__\u001b[0m\u001b[1;33m}\u001b[0m\u001b[1;33m)\u001b[0m\u001b[1;33m\u001b[0m\u001b[1;33m\u001b[0m\u001b[0m\n\u001b[0m\u001b[0;32m    915\u001b[0m \u001b[1;33m\u001b[0m\u001b[0m\n\u001b[0;32m    916\u001b[0m \u001b[1;33m\u001b[0m\u001b[0m\n",
      "\u001b[1;31mNotFittedError\u001b[0m: This GridSearchCV instance is not fitted yet. Call 'fit' with appropriate arguments before using this method."
     ]
    }
   ],
   "source": [
    "y_true, y_pred = y_test , clf.predict(X_test)\n",
    "\n",
    "from sklearn.metrics import classification_report\n",
    "print('Results on the test set:')\n",
    "print(classification_report(y_true, y_pred))"
   ]
  },
  {
   "cell_type": "markdown",
   "metadata": {},
   "source": [
    "ALGORITIMO"
   ]
  },
  {
   "cell_type": "code",
   "execution_count": 1744,
   "metadata": {},
   "outputs": [],
   "source": [
    "X = DADOS_OPT.iloc[:,5:9]\n",
    "y = DADOS_OPT['CALC_PETR4']"
   ]
  },
  {
   "cell_type": "code",
   "execution_count": 1745,
   "metadata": {},
   "outputs": [],
   "source": [
    "from sklearn.model_selection import train_test_split\n",
    "X_train, X_test, y_train, y_test = train_test_split(X, y, test_size = 0.20)"
   ]
  },
  {
   "cell_type": "code",
   "execution_count": 1746,
   "metadata": {},
   "outputs": [],
   "source": [
    "from sklearn.preprocessing import StandardScaler\n",
    "scaler = StandardScaler()\n",
    "scaler.fit(X_train)\n",
    "\n",
    "X_train = scaler.transform(X_train)\n",
    "X_test = scaler.transform(X_test)"
   ]
  },
  {
   "cell_type": "code",
   "execution_count": 1756,
   "metadata": {},
   "outputs": [],
   "source": [
    "X2 = DADOS.iloc[:,0:4]\n",
    "y2 = DADOS['Valor_PETR4']\n",
    "X_train2, X_test2, y_train2, y_test2 = train_test_split(X2, y2, test_size = 0.20)\n",
    "scaler = StandardScaler()\n",
    "scaler.fit(X_train)\n",
    "\n",
    "X_train2 = scaler.transform(X_train2)\n",
    "X_test2 = scaler.transform(X_test2)"
   ]
  },
  {
   "cell_type": "markdown",
   "metadata": {},
   "source": [
    "Random Forest - DADOS_OPT"
   ]
  },
  {
   "cell_type": "code",
   "execution_count": 1747,
   "metadata": {},
   "outputs": [],
   "source": [
    "from sklearn.ensemble import RandomForestRegressor\n",
    "\n",
    "rf = RandomForestRegressor(n_estimators = 1000, random_state = 42)\n",
    "\n",
    "rf.fit(X_train, y_train.values.ravel());"
   ]
  },
  {
   "cell_type": "code",
   "execution_count": 1748,
   "metadata": {},
   "outputs": [
    {
     "name": "stdout",
     "output_type": "stream",
     "text": [
      "16\n"
     ]
    }
   ],
   "source": [
    "predictionsrf = rf.predict(X_test)\n",
    "\n",
    "b = []\n",
    "for e in predictionsrf:\n",
    "    b.append(e)\n",
    "\n",
    "e =0\n",
    "i = 0\n",
    "while i < len(b):\n",
    "    if b[i] <= (y_test[i] + y_test[i]*0.5) and b[i] >= (y_test[i] - y_test[i]*0.5) :\n",
    "        e += 1\n",
    "    i += 1\n",
    "    \n",
    "print (e)"
   ]
  },
  {
   "cell_type": "code",
   "execution_count": 1762,
   "metadata": {
    "scrolled": true
   },
   "outputs": [
    {
     "data": {
      "text/plain": [
       "<matplotlib.collections.PathCollection at 0x259e5dbf518>"
      ]
     },
     "execution_count": 1762,
     "metadata": {},
     "output_type": "execute_result"
    },
    {
     "data": {
      "image/png": "[encoded data removed]",
      "text/plain": [
       "<Figure size 432x288 with 1 Axes>"
      ]
     },
     "metadata": {
      "needs_background": "light"
     },
     "output_type": "display_data"
    }
   ],
   "source": [
    "plt.scatter(y_test,b)"
   ]
  },
  {
   "cell_type": "code",
   "execution_count": 1820,
   "metadata": {},
   "outputs": [
    {
     "name": "stdout",
     "output_type": "stream",
     "text": [
      "190\n"
     ]
    }
   ],
   "source": [
    "from sklearn.ensemble import RandomForestRegressor\n",
    "\n",
    "rf2 = RandomForestRegressor(n_estimators = 1000, random_state = 42)\n",
    "\n",
    "rf2.fit(X_train2, y_train2.values.ravel());\n",
    "predictionsrf2 = rf2.predict(X_test2)\n",
    "\n",
    "b2 = []\n",
    "for e in predictionsrf2:\n",
    "    b2.append(e)\n",
    "\n",
    "e =0\n",
    "i2 = 0\n",
    "while i2 < len(b2):\n",
    "    if b2[i2] <= (y_test2[i2] + y_test2[i2]*0.05) and b2[i2] >= (y_test2[i2] - y_test2[i2]*0.05) :\n",
    "        e += 1\n",
    "    i2 += 1\n",
    "    \n",
    "print (e)"
   ]
  },
  {
   "cell_type": "code",
   "execution_count": 1764,
   "metadata": {},
   "outputs": [
    {
     "data": {
      "text/plain": [
       "<matplotlib.collections.PathCollection at 0x259df309358>"
      ]
     },
     "execution_count": 1764,
     "metadata": {},
     "output_type": "execute_result"
    },
    {
     "data": {
      "image/png": "[encoded data removed]",
      "text/plain": [
       "<Figure size 432x288 with 1 Axes>"
      ]
     },
     "metadata": {
      "needs_background": "light"
     },
     "output_type": "display_data"
    }
   ],
   "source": [
    "plt.scatter(y_test2,b2)"
   ]
  },
  {
   "cell_type": "markdown",
   "metadata": {},
   "source": [
    "MLP"
   ]
  },
  {
   "cell_type": "code",
   "execution_count": 1755,
   "metadata": {
    "scrolled": true
   },
   "outputs": [
    {
     "name": "stdout",
     "output_type": "stream",
     "text": [
      "Iteration 1, loss = 0.01283961\n",
      "Iteration 2, loss = 0.00246600\n",
      "Iteration 3, loss = 0.00112990\n",
      "Iteration 4, loss = 0.00080342\n",
      "Iteration 5, loss = 0.00071117\n",
      "Iteration 6, loss = 0.00057632\n",
      "Iteration 7, loss = 0.00050570\n",
      "Iteration 8, loss = 0.00046492\n",
      "Iteration 9, loss = 0.00044287\n",
      "Iteration 10, loss = 0.00045183\n",
      "Iteration 11, loss = 0.00044593\n",
      "Iteration 12, loss = 0.00043563\n",
      "Iteration 13, loss = 0.00043151\n",
      "Iteration 14, loss = 0.00043405\n",
      "Iteration 15, loss = 0.00043632\n",
      "Iteration 16, loss = 0.00043454\n",
      "Iteration 17, loss = 0.00042952\n",
      "Iteration 18, loss = 0.00042688\n",
      "Iteration 19, loss = 0.00041988\n",
      "Iteration 20, loss = 0.00041911\n",
      "Iteration 21, loss = 0.00042004\n",
      "Iteration 22, loss = 0.00041441\n",
      "Iteration 23, loss = 0.00041586\n",
      "Iteration 24, loss = 0.00041201\n",
      "Iteration 25, loss = 0.00040964\n",
      "Iteration 26, loss = 0.00041218\n",
      "Iteration 27, loss = 0.00040926\n",
      "Iteration 28, loss = 0.00040615\n",
      "Iteration 29, loss = 0.00040875\n",
      "Iteration 30, loss = 0.00040386\n",
      "Iteration 31, loss = 0.00040841\n",
      "Iteration 32, loss = 0.00040538\n",
      "Iteration 33, loss = 0.00041433\n",
      "Iteration 34, loss = 0.00043437\n",
      "Iteration 35, loss = 0.00040857\n",
      "Iteration 36, loss = 0.00040026\n",
      "Iteration 37, loss = 0.00040134\n",
      "Iteration 38, loss = 0.00039071\n",
      "Iteration 39, loss = 0.00039580\n",
      "Iteration 40, loss = 0.00039104\n",
      "Iteration 41, loss = 0.00038778\n",
      "Iteration 42, loss = 0.00039173\n",
      "Iteration 43, loss = 0.00038748\n",
      "Iteration 44, loss = 0.00037949\n",
      "Iteration 45, loss = 0.00038110\n",
      "Iteration 46, loss = 0.00036929\n",
      "Iteration 47, loss = 0.00037156\n",
      "Iteration 48, loss = 0.00036357\n",
      "Iteration 49, loss = 0.00037024\n",
      "Iteration 50, loss = 0.00037413\n",
      "Iteration 51, loss = 0.00037756\n",
      "Iteration 52, loss = 0.00037455\n",
      "Iteration 53, loss = 0.00037290\n",
      "Iteration 54, loss = 0.00036350\n",
      "Iteration 55, loss = 0.00035836\n",
      "Iteration 56, loss = 0.00036161\n",
      "Iteration 57, loss = 0.00035483\n",
      "Iteration 58, loss = 0.00035757\n",
      "Iteration 59, loss = 0.00034784\n",
      "Iteration 60, loss = 0.00034834\n",
      "Iteration 61, loss = 0.00034883\n",
      "Iteration 62, loss = 0.00033860\n",
      "Iteration 63, loss = 0.00033966\n",
      "Iteration 64, loss = 0.00039518\n",
      "Iteration 65, loss = 0.00036255\n",
      "Iteration 66, loss = 0.00034779\n",
      "Iteration 67, loss = 0.00036039\n",
      "Iteration 68, loss = 0.00033865\n",
      "Iteration 69, loss = 0.00032605\n",
      "Iteration 70, loss = 0.00033956\n",
      "Iteration 71, loss = 0.00032434\n",
      "Iteration 72, loss = 0.00033233\n",
      "Iteration 73, loss = 0.00032686\n",
      "Iteration 74, loss = 0.00031783\n",
      "Iteration 75, loss = 0.00030420\n",
      "Iteration 76, loss = 0.00030146\n",
      "Iteration 77, loss = 0.00030567\n",
      "Iteration 78, loss = 0.00032878\n",
      "Iteration 79, loss = 0.00032800\n",
      "Iteration 80, loss = 0.00035662\n",
      "Iteration 81, loss = 0.00034300\n",
      "Iteration 82, loss = 0.00032897\n",
      "Iteration 83, loss = 0.00032284\n",
      "Iteration 84, loss = 0.00031216\n",
      "Iteration 85, loss = 0.00029372\n",
      "Iteration 86, loss = 0.00028628\n",
      "Iteration 87, loss = 0.00028708\n",
      "Iteration 88, loss = 0.00027971\n",
      "Iteration 89, loss = 0.00026774\n",
      "Iteration 90, loss = 0.00026614\n",
      "Iteration 91, loss = 0.00026839\n",
      "Iteration 92, loss = 0.00026931\n",
      "Iteration 93, loss = 0.00026974\n",
      "Iteration 94, loss = 0.00026819\n",
      "Iteration 95, loss = 0.00026312\n",
      "Iteration 96, loss = 0.00030463\n",
      "Iteration 97, loss = 0.00031445\n",
      "Iteration 98, loss = 0.00032895\n",
      "Iteration 99, loss = 0.00029637\n",
      "Iteration 100, loss = 0.00028626\n",
      "Iteration 101, loss = 0.00027461\n",
      "Iteration 102, loss = 0.00027137\n",
      "Iteration 103, loss = 0.00027623\n",
      "Iteration 104, loss = 0.00028758\n",
      "Iteration 105, loss = 0.00028744\n",
      "Iteration 106, loss = 0.00028229\n",
      "Iteration 107, loss = 0.00029275\n",
      "Iteration 108, loss = 0.00027918\n",
      "Iteration 109, loss = 0.00027531\n",
      "Iteration 110, loss = 0.00026104\n",
      "Iteration 111, loss = 0.00026974\n",
      "Iteration 112, loss = 0.00026648\n",
      "Iteration 113, loss = 0.00025145\n",
      "Iteration 114, loss = 0.00024968\n",
      "Iteration 115, loss = 0.00026328\n",
      "Iteration 116, loss = 0.00024521\n",
      "Iteration 117, loss = 0.00023330\n",
      "Iteration 118, loss = 0.00023439\n",
      "Iteration 119, loss = 0.00022118\n",
      "Iteration 120, loss = 0.00022215\n",
      "Iteration 121, loss = 0.00021259\n",
      "Iteration 122, loss = 0.00022977\n",
      "Iteration 123, loss = 0.00022952\n",
      "Iteration 124, loss = 0.00023264\n",
      "Iteration 125, loss = 0.00024174\n",
      "Iteration 126, loss = 0.00023818\n",
      "Iteration 127, loss = 0.00024105\n",
      "Iteration 128, loss = 0.00022912\n",
      "Iteration 129, loss = 0.00023425\n",
      "Iteration 130, loss = 0.00026633\n",
      "Iteration 131, loss = 0.00022306\n",
      "Iteration 132, loss = 0.00022604\n",
      "Iteration 133, loss = 0.00022062\n",
      "Iteration 134, loss = 0.00019958\n",
      "Iteration 135, loss = 0.00020866\n",
      "Iteration 136, loss = 0.00020631\n",
      "Iteration 137, loss = 0.00019975\n",
      "Iteration 138, loss = 0.00021615\n",
      "Iteration 139, loss = 0.00021807\n",
      "Iteration 140, loss = 0.00019734\n",
      "Iteration 141, loss = 0.00020593\n",
      "Iteration 142, loss = 0.00021074\n",
      "Iteration 143, loss = 0.00020870\n",
      "Iteration 144, loss = 0.00019892\n",
      "Iteration 145, loss = 0.00019932\n",
      "Iteration 146, loss = 0.00019131\n",
      "Iteration 147, loss = 0.00019091\n",
      "Iteration 148, loss = 0.00018013\n",
      "Iteration 149, loss = 0.00019138\n",
      "Iteration 150, loss = 0.00018914\n",
      "Iteration 151, loss = 0.00022478\n",
      "Iteration 152, loss = 0.00026387\n",
      "Iteration 153, loss = 0.00022979\n",
      "Iteration 154, loss = 0.00022534\n",
      "Iteration 155, loss = 0.00019422\n",
      "Iteration 156, loss = 0.00020099\n",
      "Iteration 157, loss = 0.00018525\n",
      "Iteration 158, loss = 0.00018738\n",
      "Iteration 159, loss = 0.00017969\n",
      "Iteration 160, loss = 0.00017322\n",
      "Iteration 161, loss = 0.00016618\n",
      "Iteration 162, loss = 0.00016203\n",
      "Iteration 163, loss = 0.00016505\n",
      "Iteration 164, loss = 0.00016481\n",
      "Iteration 165, loss = 0.00017380\n",
      "Iteration 166, loss = 0.00019372\n",
      "Iteration 167, loss = 0.00017709\n",
      "Iteration 168, loss = 0.00017619\n",
      "Iteration 169, loss = 0.00019388\n",
      "Iteration 170, loss = 0.00017909\n",
      "Iteration 171, loss = 0.00022216\n",
      "Iteration 172, loss = 0.00019950\n",
      "Iteration 173, loss = 0.00020656\n",
      "Iteration 174, loss = 0.00021160\n",
      "Iteration 175, loss = 0.00019917\n",
      "Iteration 176, loss = 0.00018230\n",
      "Iteration 177, loss = 0.00016337\n",
      "Iteration 178, loss = 0.00015677\n",
      "Iteration 179, loss = 0.00016497\n",
      "Iteration 180, loss = 0.00015941\n",
      "Iteration 181, loss = 0.00017189\n",
      "Iteration 182, loss = 0.00016507\n",
      "Iteration 183, loss = 0.00014339\n",
      "Iteration 184, loss = 0.00015248\n",
      "Iteration 185, loss = 0.00015527\n",
      "Iteration 186, loss = 0.00016223\n",
      "Iteration 187, loss = 0.00015627\n",
      "Iteration 188, loss = 0.00016435\n",
      "Iteration 189, loss = 0.00015590\n",
      "Iteration 190, loss = 0.00015850\n",
      "Iteration 191, loss = 0.00018383\n",
      "Iteration 192, loss = 0.00014886\n",
      "Iteration 193, loss = 0.00016069\n",
      "Iteration 194, loss = 0.00015477\n",
      "Iteration 195, loss = 0.00014071\n",
      "Iteration 196, loss = 0.00015098\n",
      "Iteration 197, loss = 0.00015996\n",
      "Iteration 198, loss = 0.00013584\n",
      "Iteration 199, loss = 0.00015033\n",
      "Iteration 200, loss = 0.00017516\n",
      "Iteration 201, loss = 0.00019437\n",
      "Iteration 202, loss = 0.00018748\n",
      "Iteration 203, loss = 0.00016738\n",
      "Iteration 204, loss = 0.00014980\n",
      "Iteration 205, loss = 0.00014267\n",
      "Iteration 206, loss = 0.00015967\n",
      "Iteration 207, loss = 0.00013616\n",
      "Iteration 208, loss = 0.00015198\n",
      "Iteration 209, loss = 0.00017862\n",
      "Iteration 210, loss = 0.00015801\n",
      "Iteration 211, loss = 0.00015194\n",
      "Iteration 212, loss = 0.00014649\n",
      "Iteration 213, loss = 0.00013086\n",
      "Iteration 214, loss = 0.00014810\n",
      "Iteration 215, loss = 0.00015051\n",
      "Iteration 216, loss = 0.00015300\n",
      "Iteration 217, loss = 0.00013487\n",
      "Iteration 218, loss = 0.00012588\n",
      "Iteration 219, loss = 0.00012863\n",
      "Iteration 220, loss = 0.00012708\n",
      "Iteration 221, loss = 0.00011738\n",
      "Iteration 222, loss = 0.00010970\n",
      "Iteration 223, loss = 0.00012034\n",
      "Iteration 224, loss = 0.00011120\n",
      "Iteration 225, loss = 0.00010952\n",
      "Iteration 226, loss = 0.00011598\n",
      "Iteration 227, loss = 0.00011557\n",
      "Iteration 228, loss = 0.00011638\n",
      "Iteration 229, loss = 0.00012148\n",
      "Iteration 230, loss = 0.00011591\n",
      "Iteration 231, loss = 0.00010982\n",
      "Iteration 232, loss = 0.00011146\n",
      "Iteration 233, loss = 0.00011793\n",
      "Iteration 234, loss = 0.00013515\n",
      "Iteration 235, loss = 0.00012910\n",
      "Iteration 236, loss = 0.00012608\n",
      "Iteration 237, loss = 0.00012504\n",
      "Iteration 238, loss = 0.00013363\n",
      "Iteration 239, loss = 0.00012068\n",
      "Iteration 240, loss = 0.00012162\n",
      "Iteration 241, loss = 0.00012022\n",
      "Iteration 242, loss = 0.00011575\n",
      "Iteration 243, loss = 0.00010910\n",
      "Iteration 244, loss = 0.00011209\n",
      "Iteration 245, loss = 0.00012573\n",
      "Iteration 246, loss = 0.00011332\n",
      "Iteration 247, loss = 0.00011877\n",
      "Iteration 248, loss = 0.00013264\n",
      "Iteration 249, loss = 0.00016795\n",
      "Iteration 250, loss = 0.00017077\n",
      "Iteration 251, loss = 0.00014901\n",
      "Iteration 252, loss = 0.00013521\n"
     ]
    },
    {
     "name": "stdout",
     "output_type": "stream",
     "text": [
      "Iteration 253, loss = 0.00016976\n",
      "Iteration 254, loss = 0.00016610\n",
      "Iteration 255, loss = 0.00016330\n",
      "Iteration 256, loss = 0.00016827\n",
      "Iteration 257, loss = 0.00015979\n",
      "Iteration 258, loss = 0.00013090\n",
      "Iteration 259, loss = 0.00015755\n",
      "Iteration 260, loss = 0.00017556\n",
      "Iteration 261, loss = 0.00017466\n",
      "Iteration 262, loss = 0.00016071\n",
      "Iteration 263, loss = 0.00014846\n",
      "Iteration 264, loss = 0.00015756\n",
      "Iteration 265, loss = 0.00014734\n",
      "Iteration 266, loss = 0.00015204\n",
      "Iteration 267, loss = 0.00015671\n",
      "Iteration 268, loss = 0.00013573\n",
      "Iteration 269, loss = 0.00012506\n",
      "Iteration 270, loss = 0.00012207\n",
      "Iteration 271, loss = 0.00011404\n",
      "Iteration 272, loss = 0.00011507\n",
      "Iteration 273, loss = 0.00010897\n",
      "Training loss did not improve more than tol=0.000001 for 50 consecutive epochs. Stopping.\n"
     ]
    },
    {
     "data": {
      "text/plain": [
       "MLPRegressor(activation='relu', alpha=1e-06, batch_size='auto', beta_1=0.9,\n",
       "             beta_2=0.999, early_stopping=False, epsilon=1e-08,\n",
       "             hidden_layer_sizes=(866, 100, 800, 400), learning_rate='constant',\n",
       "             learning_rate_init=0.001, max_iter=500, momentum=0.9,\n",
       "             n_iter_no_change=50, nesterovs_momentum=True, power_t=0.5,\n",
       "             random_state=42, shuffle=True, solver='adam', tol=1e-06,\n",
       "             validation_fraction=0.1, verbose=True, warm_start=False)"
      ]
     },
     "execution_count": 1755,
     "metadata": {},
     "output_type": "execute_result"
    }
   ],
   "source": [
    "from sklearn.neural_network import MLPRegressor\n",
    "mlp = MLPRegressor ( hidden_layer_sizes = (866, 100, 800, 400),verbose = True, alpha = 1e-6, max_iter = 500,tol = 1e-6, random_state = 42, n_iter_no_change=50)\n",
    "mlp.fit(X_train, y_train.values.ravel())\n",
    "\n"
   ]
  },
  {
   "cell_type": "code",
   "execution_count": 1753,
   "metadata": {},
   "outputs": [
    {
     "name": "stdout",
     "output_type": "stream",
     "text": [
      "1\n"
     ]
    }
   ],
   "source": [
    "predictionsmlp = mlp.predict(X_test)\n",
    "\n",
    "a = []\n",
    "for e in predictionsmlp:\n",
    "    a.append(e)\n",
    "\n",
    "e =0\n",
    "i = 0\n",
    "while i < len(a):\n",
    "    if a[i] <= (y_test[i] + y_test[i]*0.25) and a[i] >= (y_test[i] - y_test[i]*0.25) :\n",
    "        e += 1\n",
    "    i += 1\n",
    "    \n",
    "print (e)"
   ]
  },
  {
   "cell_type": "code",
   "execution_count": 1714,
   "metadata": {
    "scrolled": true
   },
   "outputs": [
    {
     "name": "stdout",
     "output_type": "stream",
     "text": [
      "Training set score: 0.009702\n",
      "Test set score: -0.051106\n",
      "0.00126701489497436\n"
     ]
    }
   ],
   "source": [
    "print(\"Training set score: %f\" % mlp.score(X_train, y_train))\n",
    "print(\"Test set score: %f\" % mlp.score(X_test, y_test))\n",
    "print(mlp.loss_)\n"
   ]
  },
  {
   "cell_type": "code",
   "execution_count": 1754,
   "metadata": {},
   "outputs": [
    {
     "data": {
      "text/plain": [
       "[]"
      ]
     },
     "execution_count": 1754,
     "metadata": {},
     "output_type": "execute_result"
    },
    {
     "data": {
      "image/png": "[encoded data removed]",
      "text/plain": [
       "<Figure size 432x288 with 1 Axes>"
      ]
     },
     "metadata": {
      "needs_background": "light"
     },
     "output_type": "display_data"
    }
   ],
   "source": [
    "plt.scatter(y_test, a, alpha = 0.35)\n",
    "plt.axis('equal')\n",
    "plt.plot()"
   ]
  },
  {
   "cell_type": "code",
   "execution_count": null,
   "metadata": {},
   "outputs": [],
   "source": []
  },
  {
   "cell_type": "code",
   "execution_count": 1805,
   "metadata": {},
   "outputs": [
    {
     "name": "stdout",
     "output_type": "stream",
     "text": [
      "Iteration 1, loss = 565.67374743\n",
      "Iteration 2, loss = 70.52640078\n",
      "Iteration 3, loss = 50.01057721\n",
      "Iteration 4, loss = 31.54710647\n",
      "Iteration 5, loss = 20.03041779\n",
      "Iteration 6, loss = 20.95684648\n",
      "Iteration 7, loss = 19.80925344\n",
      "Iteration 8, loss = 18.95947828\n",
      "Iteration 9, loss = 18.83852125\n",
      "Iteration 10, loss = 18.83855320\n",
      "Iteration 11, loss = 18.82595071\n",
      "Iteration 12, loss = 18.81015275\n",
      "Iteration 13, loss = 18.80467894\n",
      "Iteration 14, loss = 18.80986448\n",
      "Iteration 15, loss = 18.81841613\n",
      "Iteration 16, loss = 18.80262766\n",
      "Iteration 17, loss = 18.79642140\n",
      "Iteration 18, loss = 18.78463656\n",
      "Iteration 19, loss = 18.79622724\n",
      "Iteration 20, loss = 18.79705778\n",
      "Iteration 21, loss = 18.78148057\n",
      "Iteration 22, loss = 18.77070109\n",
      "Iteration 23, loss = 18.77004641\n",
      "Iteration 24, loss = 18.77729002\n",
      "Iteration 25, loss = 18.76630477\n",
      "Iteration 26, loss = 18.76591377\n",
      "Iteration 27, loss = 18.75652991\n",
      "Iteration 28, loss = 18.75326485\n",
      "Iteration 29, loss = 18.75130002\n",
      "Iteration 30, loss = 18.74590243\n",
      "Iteration 31, loss = 18.75122391\n",
      "Iteration 32, loss = 18.73977800\n",
      "Iteration 33, loss = 18.73669453\n",
      "Iteration 34, loss = 18.73097650\n",
      "Iteration 35, loss = 18.72693118\n",
      "Iteration 36, loss = 18.72615250\n",
      "Iteration 37, loss = 18.72706414\n",
      "Iteration 38, loss = 18.72111304\n",
      "Iteration 39, loss = 18.71030776\n",
      "Iteration 40, loss = 18.70654078\n",
      "Iteration 41, loss = 18.70127958\n",
      "Iteration 42, loss = 18.71256592\n",
      "Iteration 43, loss = 18.69294516\n",
      "Iteration 44, loss = 18.69458563\n",
      "Iteration 45, loss = 18.68342208\n",
      "Iteration 46, loss = 18.68771754\n",
      "Iteration 47, loss = 18.70124341\n",
      "Iteration 48, loss = 18.68477498\n",
      "Iteration 49, loss = 18.71108559\n",
      "Iteration 50, loss = 18.68155999\n",
      "Iteration 51, loss = 18.67716992\n",
      "Iteration 52, loss = 18.68059603\n",
      "Iteration 53, loss = 18.63740118\n",
      "Iteration 54, loss = 18.76186311\n",
      "Iteration 55, loss = 18.66818975\n",
      "Iteration 56, loss = 18.68078840\n",
      "Iteration 57, loss = 18.66266101\n",
      "Iteration 58, loss = 18.65074360\n",
      "Iteration 59, loss = 18.62341571\n",
      "Iteration 60, loss = 18.60929110\n",
      "Iteration 61, loss = 18.64751460\n",
      "Iteration 62, loss = 18.60442320\n",
      "Iteration 63, loss = 18.59997083\n",
      "Iteration 64, loss = 18.59971051\n",
      "Iteration 65, loss = 18.57538586\n",
      "Iteration 66, loss = 18.60222422\n",
      "Iteration 67, loss = 18.58809636\n",
      "Iteration 68, loss = 18.55263826\n",
      "Iteration 69, loss = 18.59467739\n",
      "Iteration 70, loss = 18.59214173\n",
      "Iteration 71, loss = 18.53093054\n",
      "Iteration 72, loss = 18.56020135\n",
      "Iteration 73, loss = 18.53798154\n",
      "Iteration 74, loss = 18.52424894\n",
      "Iteration 75, loss = 18.50373721\n",
      "Iteration 76, loss = 18.50109472\n",
      "Iteration 77, loss = 18.50497709\n",
      "Iteration 78, loss = 18.50983959\n",
      "Iteration 79, loss = 18.62335307\n",
      "Iteration 80, loss = 18.46800147\n",
      "Iteration 81, loss = 18.62769506\n",
      "Iteration 82, loss = 18.48877649\n",
      "Iteration 83, loss = 18.48571283\n",
      "Iteration 84, loss = 18.45227588\n",
      "Iteration 85, loss = 18.43826314\n",
      "Iteration 86, loss = 18.42029766\n",
      "Iteration 87, loss = 18.45226933\n",
      "Iteration 88, loss = 18.39808914\n",
      "Iteration 89, loss = 18.45701692\n",
      "Iteration 90, loss = 18.38088501\n",
      "Iteration 91, loss = 18.43978112\n",
      "Iteration 92, loss = 18.32920986\n",
      "Iteration 93, loss = 18.43126844\n",
      "Iteration 94, loss = 18.35424761\n",
      "Iteration 95, loss = 18.35547106\n",
      "Iteration 96, loss = 18.31869320\n",
      "Iteration 97, loss = 18.33067378\n",
      "Iteration 98, loss = 18.28910252\n",
      "Iteration 99, loss = 18.26640797\n",
      "Iteration 100, loss = 18.28205694\n",
      "Iteration 101, loss = 18.26848851\n",
      "Iteration 102, loss = 18.24744350\n",
      "Iteration 103, loss = 18.21493290\n",
      "Iteration 104, loss = 18.21697840\n",
      "Iteration 105, loss = 18.22243098\n",
      "Iteration 106, loss = 18.23833387\n",
      "Iteration 107, loss = 18.16107338\n",
      "Iteration 108, loss = 18.13259851\n",
      "Iteration 109, loss = 18.14576326\n",
      "Iteration 110, loss = 18.12474368\n",
      "Iteration 111, loss = 18.12073181\n",
      "Iteration 112, loss = 18.07649003\n",
      "Iteration 113, loss = 18.04895168\n",
      "Iteration 114, loss = 18.03491962\n",
      "Iteration 115, loss = 18.03259622\n",
      "Iteration 116, loss = 17.95580108\n",
      "Iteration 117, loss = 18.04937123\n",
      "Iteration 118, loss = 17.88607002\n",
      "Iteration 119, loss = 18.09511420\n",
      "Iteration 120, loss = 17.84156747\n",
      "Iteration 121, loss = 17.99656878\n",
      "Iteration 122, loss = 17.82570811\n",
      "Iteration 123, loss = 17.80399314\n",
      "Iteration 124, loss = 17.76824864\n",
      "Iteration 125, loss = 17.74966134\n",
      "Iteration 126, loss = 17.70390649\n",
      "Iteration 127, loss = 17.65559820\n",
      "Iteration 128, loss = 17.64283619\n",
      "Iteration 129, loss = 17.58027017\n",
      "Iteration 130, loss = 17.55549640\n",
      "Iteration 131, loss = 17.51174585\n",
      "Iteration 132, loss = 17.50416456\n",
      "Iteration 133, loss = 17.46980211\n",
      "Iteration 134, loss = 17.38107895\n",
      "Iteration 135, loss = 17.35257602\n",
      "Iteration 136, loss = 17.27228941\n",
      "Iteration 137, loss = 17.25410887\n",
      "Iteration 138, loss = 17.17758750\n",
      "Iteration 139, loss = 17.35348215\n",
      "Iteration 140, loss = 17.12006263\n",
      "Iteration 141, loss = 17.03111581\n",
      "Iteration 142, loss = 16.99170702\n",
      "Iteration 143, loss = 16.86189478\n",
      "Iteration 144, loss = 16.78162550\n",
      "Iteration 145, loss = 16.66623944\n",
      "Iteration 146, loss = 16.63299932\n",
      "Iteration 147, loss = 16.51120872\n",
      "Iteration 148, loss = 16.49265299\n",
      "Iteration 149, loss = 16.36270470\n",
      "Iteration 150, loss = 16.26060958\n",
      "Iteration 151, loss = 16.06648170\n",
      "Iteration 152, loss = 16.01939861\n",
      "Iteration 153, loss = 15.90385654\n",
      "Iteration 154, loss = 15.84643851\n",
      "Iteration 155, loss = 15.95340081\n",
      "Iteration 156, loss = 15.86839027\n",
      "Iteration 157, loss = 15.35583553\n",
      "Iteration 158, loss = 15.23122270\n",
      "Iteration 159, loss = 15.21515349\n",
      "Iteration 160, loss = 14.87589786\n",
      "Iteration 161, loss = 14.85323577\n",
      "Iteration 162, loss = 14.60559044\n",
      "Iteration 163, loss = 14.36430277\n",
      "Iteration 164, loss = 14.21089253\n",
      "Iteration 165, loss = 13.95089342\n",
      "Iteration 166, loss = 13.78638987\n",
      "Iteration 167, loss = 13.86631304\n",
      "Iteration 168, loss = 13.45373762\n",
      "Iteration 169, loss = 13.64072622\n",
      "Iteration 170, loss = 13.33330593\n",
      "Iteration 171, loss = 13.24682065\n",
      "Iteration 172, loss = 12.90396356\n",
      "Iteration 173, loss = 12.88366126\n",
      "Iteration 174, loss = 12.90911171\n",
      "Iteration 175, loss = 12.47236665\n",
      "Iteration 176, loss = 12.30729538\n",
      "Iteration 177, loss = 12.23951386\n",
      "Iteration 178, loss = 11.93264899\n",
      "Iteration 179, loss = 12.35675344\n",
      "Iteration 180, loss = 11.89499372\n",
      "Iteration 181, loss = 11.43146242\n",
      "Iteration 182, loss = 11.33066379\n",
      "Iteration 183, loss = 11.19611532\n",
      "Iteration 184, loss = 11.24629667\n",
      "Iteration 185, loss = 11.00459633\n",
      "Iteration 186, loss = 11.52088422\n",
      "Iteration 187, loss = 11.12244162\n",
      "Iteration 188, loss = 11.21859477\n",
      "Iteration 189, loss = 11.33385686\n",
      "Iteration 190, loss = 10.93332996\n",
      "Iteration 191, loss = 11.11800304\n",
      "Iteration 192, loss = 10.66571163\n",
      "Iteration 193, loss = 10.48822139\n",
      "Iteration 194, loss = 10.63614306\n",
      "Iteration 195, loss = 10.48992873\n",
      "Iteration 196, loss = 10.54510391\n",
      "Iteration 197, loss = 10.32541136\n",
      "Iteration 198, loss = 10.25705142\n",
      "Iteration 199, loss = 10.51449576\n",
      "Iteration 200, loss = 10.34274302\n",
      "Iteration 201, loss = 10.53943630\n",
      "Iteration 202, loss = 10.00472118\n",
      "Iteration 203, loss = 10.11929438\n",
      "Iteration 204, loss = 10.28729548\n",
      "Iteration 205, loss = 10.13511884\n",
      "Iteration 206, loss = 9.98598789\n",
      "Iteration 207, loss = 9.99374299\n",
      "Iteration 208, loss = 10.15620432\n",
      "Iteration 209, loss = 10.08052120\n",
      "Iteration 210, loss = 9.91074660\n",
      "Iteration 211, loss = 10.56747042\n",
      "Iteration 212, loss = 9.95424781\n",
      "Iteration 213, loss = 10.45483615\n",
      "Iteration 214, loss = 9.73029498\n",
      "Iteration 215, loss = 9.70948229\n",
      "Iteration 216, loss = 10.60813151\n",
      "Iteration 217, loss = 9.69009947\n",
      "Iteration 218, loss = 9.63040714\n",
      "Iteration 219, loss = 9.78558878\n",
      "Iteration 220, loss = 9.55511124\n",
      "Iteration 221, loss = 10.69194775\n",
      "Iteration 222, loss = 10.93775966\n",
      "Iteration 223, loss = 10.40502471\n",
      "Iteration 224, loss = 10.51387077\n",
      "Iteration 225, loss = 9.74141617\n",
      "Iteration 226, loss = 10.25158394\n",
      "Iteration 227, loss = 10.77790047\n",
      "Iteration 228, loss = 9.90630930\n",
      "Iteration 229, loss = 10.21086081\n",
      "Iteration 230, loss = 10.05220246\n",
      "Iteration 231, loss = 9.81775390\n",
      "Training loss did not improve more than tol=0.000100 for 10 consecutive epochs. Stopping.\n"
     ]
    },
    {
     "data": {
      "text/plain": [
       "MLPRegressor(activation='relu', alpha=1e-06, batch_size='auto', beta_1=0.9,\n",
       "             beta_2=0.999, early_stopping=False, epsilon=1e-08,\n",
       "             hidden_layer_sizes=(866, 250, 20, 6), learning_rate='constant',\n",
       "             learning_rate_init=0.001, max_iter=500, momentum=0.9,\n",
       "             n_iter_no_change=10, nesterovs_momentum=True, power_t=0.5,\n",
       "             random_state=42, shuffle=True, solver='adam', tol=0.0001,\n",
       "             validation_fraction=0.1, verbose=True, warm_start=False)"
      ]
     },
     "execution_count": 1805,
     "metadata": {},
     "output_type": "execute_result"
    }
   ],
   "source": [
    "from sklearn.neural_network import MLPRegressor\n",
    "mlp2 = MLPRegressor(hidden_layer_sizes = (866, 250, 20, 6),verbose = True, alpha = 1e-6, max_iter = 500, random_state = 42)\n",
    "mlp2.fit(X_train2, y_train2.values.ravel())"
   ]
  },
  {
   "cell_type": "code",
   "execution_count": 1806,
   "metadata": {},
   "outputs": [
    {
     "name": "stdout",
     "output_type": "stream",
     "text": [
      "14\n"
     ]
    }
   ],
   "source": [
    "predictionsmlp2 = mlp2.predict(X_test2)\n",
    "\n",
    "b2 = []\n",
    "for e in predictionsmlp2:\n",
    "    b2.append(e)\n",
    "\n",
    "e =0\n",
    "i2 = 0\n",
    "while i2 < len(b2):\n",
    "    if b2[i2] <= (y_test2[i2] + y_test2[i2]*0.05) and b2[i2] >= (y_test2[i2] - y_test2[i2]*0.05) :\n",
    "        e += 1\n",
    "    i2 += 1\n",
    "    \n",
    "print (e)"
   ]
  },
  {
   "cell_type": "code",
   "execution_count": 1804,
   "metadata": {},
   "outputs": [
    {
     "data": {
      "text/plain": [
       "[]"
      ]
     },
     "execution_count": 1804,
     "metadata": {},
     "output_type": "execute_result"
    },
    {
     "data": {
      "image/png": "[encoded data removed]",
      "text/plain": [
       "<Figure size 432x288 with 1 Axes>"
      ]
     },
     "metadata": {
      "needs_background": "light"
     },
     "output_type": "display_data"
    }
   ],
   "source": [
    "plt.scatter(y_test2, b, alpha = 0.35)\n",
    "plt.axis('equal')\n",
    "plt.plot()"
   ]
  },
  {
   "cell_type": "markdown",
   "metadata": {},
   "source": [
    "# predictions = mlp.predict(X_test)\n",
    "print(confusion_matrix(y_test,predictions))\n",
    "print(classification_report(y_test,predictions))"
   ]
  },
  {
   "cell_type": "code",
   "execution_count": 1199,
   "metadata": {},
   "outputs": [],
   "source": [
    "from sklearn.metrics import classification_report, confusion_matrix"
   ]
  },
  {
   "cell_type": "code",
   "execution_count": 754,
   "metadata": {},
   "outputs": [
    {
     "data": {
      "text/plain": [
       "260"
      ]
     },
     "execution_count": 754,
     "metadata": {},
     "output_type": "execute_result"
    }
   ],
   "source": [
    "len(predictions)"
   ]
  },
  {
   "cell_type": "code",
   "execution_count": null,
   "metadata": {},
   "outputs": [],
   "source": []
  }
 ],
 "metadata": {
  "kernelspec": {
   "display_name": "Python 3",
   "language": "python",
   "name": "python3"
  },
  "language_info": {
   "codemirror_mode": {
    "name": "ipython",
    "version": 3
   },
   "file_extension": ".py",
   "mimetype": "text/x-python",
   "name": "python",
   "nbconvert_exporter": "python",
   "pygments_lexer": "ipython3",
   "version": "3.7.3"
  }
 },
 "nbformat": 4,
 "nbformat_minor": 2
}
